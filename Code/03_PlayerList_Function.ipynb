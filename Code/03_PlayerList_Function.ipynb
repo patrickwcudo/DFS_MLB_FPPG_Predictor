{
 "cells": [
  {
   "cell_type": "markdown",
   "metadata": {},
   "source": [
    "The purpose of this notebook is to create a function that takes the imported player list:\n",
    "- clean to only needed information\n",
    "- seperate by pither and batter\n",
    "- merge each on player name to get projections from model\n",
    "- merge back pitcher and batter data \n",
    "- output df for now\n",
    "\n",
    "Next steps:\n",
    "- build line up based on salary"
   ]
  },
  {
   "cell_type": "code",
   "execution_count": 4,
   "metadata": {},
   "outputs": [],
   "source": [
    "# imports\n",
    "import pandas as pd\n",
    "import numpy as np"
   ]
  },
  {
   "cell_type": "code",
   "execution_count": 5,
   "metadata": {},
   "outputs": [],
   "source": [
    "# will need fanduel import\n",
    "fd = pd.read_csv('../CapStone_Data/FanDuel-MLB-2021 ET-05 ET-04 ET-58318-players-list.csv')"
   ]
  },
  {
   "cell_type": "code",
   "execution_count": 6,
   "metadata": {},
   "outputs": [],
   "source": [
    "    # function\n",
    "def build_lineup(df):\n",
    "        # clean up fd to match column list above\n",
    "        df.drop(columns=['First Name', 'Last Name', 'FPPG', 'Played', 'Injury Details', 'Tier', 'Batting Order', 'Roster Position'], inplace=True)\n",
    "\n",
    "        # filling nulls for probable pitcher\n",
    "        df['Probable Pitcher'].fillna('No', inplace=True)\n",
    "\n",
    "        # fill nulls for injury indicator\n",
    "        df['Injury Indicator'].fillna('Healthy', inplace=True)\n",
    "\n",
    "        # renaming nickname column\n",
    "        df.rename(columns={'Nickname': 'Name'}, inplace=True)\n",
    "\n",
    "        # fitler to only healthy players\n",
    "        df = df.loc[df['Injury Indicator'] == 'Healthy']\n",
    "\n",
    "        # split using .loc by position and make new dataframe for pitchers\n",
    "        pitchers = df.loc[df['Position']=='P']\n",
    "\n",
    "        # split using .loc by position and make new dataframe for batters\n",
    "        batters = df.loc[df['Position']!='P']\n",
    "\n",
    "        # pitcher dataframe steps\n",
    "        # save pitchers df to only starting pitchers\n",
    "        pitchers = pitchers.loc[pitchers['Probable Pitcher']=='Yes']\n",
    "\n",
    "        # read in pitcher projections\n",
    "        pitcher_proj = pd.read_csv('../Projections/pitcher_projections_2021.csv')\n",
    "\n",
    "        # merge attempt\n",
    "        pitcher_projections = pitchers.merge(pitcher_proj, how='left', on='Name')\n",
    "\n",
    "        # drop nulls if any\n",
    "        pitcher_projections.dropna(inplace=True)\n",
    "\n",
    "        # overwrite df with only the columns needed\n",
    "        pitcher_projections = pitcher_projections[['Id', 'Position', 'Name', 'Salary', 'Team_x', 'Opponent', 'Proj_FPPG']]\n",
    "\n",
    "        # rename team column\n",
    "        pitcher_projections.rename(columns={'Team_x' : 'Team'}, inplace=True)\n",
    "\n",
    "        # batter dataframe steps\n",
    "        # read in projections file\n",
    "        batter_21 = pd.read_csv('../Projections/batter_projections_2021.csv')\n",
    "\n",
    "        # merge projections with batter df, creating new df\n",
    "        batters_projections = batters.merge(batter_21, how='left', on='Name')\n",
    "\n",
    "        # dropping batters with no projections\n",
    "        batters_projections.dropna(inplace=True)\n",
    "\n",
    "        # drop unneeded columns for merge with pitcher, overwrite current df\n",
    "        batters_projections = batters_projections[['Id', 'Position', 'Name', 'Salary', 'Team', 'Opponent','Proj_FPPG']]\n",
    "\n",
    "        # following are steps for creating a line up\n",
    "        # set cap for fanduel\n",
    "        salary_cap = 35_000\n",
    "\n",
    "        # sort pitcher by fppg projections\n",
    "        pitcher_projections.sort_values(by='Proj_FPPG', ascending=False, inplace=True, ignore_index=True)\n",
    "\n",
    "        # create a player list to \n",
    "        lineup = []\n",
    "        lineup.append(pitcher_projections.values[0])\n",
    "\n",
    "        # need to update remaining salary\n",
    "        salary_cap -= pitcher_projections['Salary'][0]\n",
    "\n",
    "        # with updated salary fill remaining roster based on position and highest fppg\n",
    "        # create position list for remaining roster spots\n",
    "        position_list = ['C', '1B', '2B', '3B', 'SS', 'OF', 'OF', 'OF']\n",
    "        # sort batters by FPPG\n",
    "        batters_projections.sort_values(by='Proj_FPPG', ascending=False, inplace=True, ignore_index=True)\n",
    "\n",
    "        # create count based on remaining positions\n",
    "        sal_count = 8\n",
    "\n",
    "        # create average salary variable for remaining players\n",
    "        avg_sal = salary_cap/sal_count\n",
    "\n",
    "        # create for loop for each position in list to take highest fppg\n",
    "        for pos in position_list:\n",
    "            # setting counter to increase if player is already in list\n",
    "            # this is inside the for loop beacuse it needs to be per position\n",
    "            counter = 0\n",
    "            # if salary greater than average move to next player\n",
    "            for salary in batters_projections.loc[batters_projections['Position'] == pos]['Salary']:\n",
    "                # test if salary is greater than average if it is increase counter\n",
    "                if batters_projections.loc[batters_projections['Position'] == pos]['Salary'].values[counter] > avg_sal:\n",
    "                    counter += 1\n",
    "                else:\n",
    "                    # if less than average add player to list\n",
    "                    lineup.append(batters_projections.loc[batters_projections['Position'] == pos].values[counter])\n",
    "                    # drop player so no duplicates are added\n",
    "                    batters_projections.drop(batters_projections.loc[batters_projections['Position'] == pos].index.values[counter], inplace=True)\n",
    "                    # decrease sal_count\n",
    "                    sal_count -= 1\n",
    "                    # decrease salary cap\n",
    "                    salary_cap -= batters_projections.loc[batters_projections['Position'] == pos]['Salary'].values[counter]\n",
    "                    # create new average salary\n",
    "                    avg_sal = salary_cap/sal_count\n",
    "                    break\n",
    "        # create dataframe of lineup\n",
    "        df_lineup = pd.DataFrame(lineup, columns=['Id', 'Position', 'Name', 'Salary', 'Team', 'Opponent','Proj_FPPG'])\n",
    "\n",
    "        # return dataframe\n",
    "        return df_lineup"
   ]
  },
  {
   "cell_type": "markdown",
   "metadata": {},
   "source": [
    "---"
   ]
  },
  {
   "cell_type": "code",
   "execution_count": 12,
   "metadata": {},
   "outputs": [],
   "source": [
    "# test on today slate\n",
    "fd2 = pd.read_csv('../../../Downloads/FanDuel-MLB-2021 ET-05 ET-06 ET-58417-players-list.csv')"
   ]
  },
  {
   "cell_type": "code",
   "execution_count": 13,
   "metadata": {},
   "outputs": [
    {
     "name": "stderr",
     "output_type": "stream",
     "text": [
      "<ipython-input-6-67c55016c02f>:102: RuntimeWarning: divide by zero encountered in longlong_scalars\n",
      "  avg_sal = salary_cap/sal_count\n"
     ]
    }
   ],
   "source": [
    "fd2 = build_lineup(fd2)"
   ]
  },
  {
   "cell_type": "code",
   "execution_count": 58,
   "metadata": {},
   "outputs": [],
   "source": [
    "# create function to create template for upload\n",
    "def make_template(df):\n",
    "    template = df[['Position', 'Id']]\n",
    "    template = template.set_index('Position').T\n",
    "    template.rename(columns={'C':'C/1B', '1B':'UTIL'}, inplace=True)\n",
    "    return template"
   ]
  },
  {
   "cell_type": "code",
   "execution_count": 60,
   "metadata": {},
   "outputs": [],
   "source": [
    "temp = make_template(fd2)"
   ]
  },
  {
   "cell_type": "code",
   "execution_count": 61,
   "metadata": {},
   "outputs": [
    {
     "data": {
      "text/html": [
       "<div>\n",
       "<style scoped>\n",
       "    .dataframe tbody tr th:only-of-type {\n",
       "        vertical-align: middle;\n",
       "    }\n",
       "\n",
       "    .dataframe tbody tr th {\n",
       "        vertical-align: top;\n",
       "    }\n",
       "\n",
       "    .dataframe thead th {\n",
       "        text-align: right;\n",
       "    }\n",
       "</style>\n",
       "<table border=\"1\" class=\"dataframe\">\n",
       "  <thead>\n",
       "    <tr style=\"text-align: right;\">\n",
       "      <th>Position</th>\n",
       "      <th>P</th>\n",
       "      <th>C/1B</th>\n",
       "      <th>UTIL</th>\n",
       "      <th>2B</th>\n",
       "      <th>3B</th>\n",
       "      <th>SS</th>\n",
       "      <th>OF</th>\n",
       "      <th>OF</th>\n",
       "      <th>OF</th>\n",
       "    </tr>\n",
       "  </thead>\n",
       "  <tbody>\n",
       "    <tr>\n",
       "      <th>Id</th>\n",
       "      <td>58417-68654</td>\n",
       "      <td>58417-79174</td>\n",
       "      <td>58417-52175</td>\n",
       "      <td>58417-68587</td>\n",
       "      <td>58417-5104</td>\n",
       "      <td>58417-37982</td>\n",
       "      <td>58417-5763</td>\n",
       "      <td>58417-60643</td>\n",
       "      <td>58417-39086</td>\n",
       "    </tr>\n",
       "  </tbody>\n",
       "</table>\n",
       "</div>"
      ],
      "text/plain": [
       "Position            P         C/1B         UTIL           2B          3B  \\\n",
       "Id        58417-68654  58417-79174  58417-52175  58417-68587  58417-5104   \n",
       "\n",
       "Position           SS          OF           OF           OF  \n",
       "Id        58417-37982  58417-5763  58417-60643  58417-39086  "
      ]
     },
     "execution_count": 61,
     "metadata": {},
     "output_type": "execute_result"
    }
   ],
   "source": [
    "temp"
   ]
  },
  {
   "cell_type": "code",
   "execution_count": null,
   "metadata": {},
   "outputs": [],
   "source": []
  }
 ],
 "metadata": {
  "kernelspec": {
   "display_name": "Python 3",
   "language": "python",
   "name": "python3"
  },
  "language_info": {
   "codemirror_mode": {
    "name": "ipython",
    "version": 3
   },
   "file_extension": ".py",
   "mimetype": "text/x-python",
   "name": "python",
   "nbconvert_exporter": "python",
   "pygments_lexer": "ipython3",
   "version": "3.8.5"
  }
 },
 "nbformat": 4,
 "nbformat_minor": 4
}
