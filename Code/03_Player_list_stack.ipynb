{
 "cells": [
  {
   "cell_type": "markdown",
   "metadata": {},
   "source": [
    "The purpose of this notebook is to create a function that takes the imported player list:\n",
    "- clean to only needed information\n",
    "- seperate by pither and batter\n",
    "- merge each on player name to get projections from model\n",
    "- merge back pitcher and batter data \n",
    "- output df for now\n",
    "\n",
    "Next steps:\n",
    "- build line up based on salary"
   ]
  },
  {
   "cell_type": "code",
   "execution_count": 3,
   "metadata": {},
   "outputs": [],
   "source": [
    "# imports\n",
    "import pandas as pd\n",
    "import numpy as np"
   ]
  },
  {
   "cell_type": "code",
   "execution_count": 4,
   "metadata": {},
   "outputs": [],
   "source": [
    "# will need fanduel import\n",
    "fd = pd.read_csv('../../../Downloads/FanDuel-MLB-2021 ET-05 ET-11 ET-58668-players-list.csv')"
   ]
  },
  {
   "cell_type": "code",
   "execution_count": 5,
   "metadata": {},
   "outputs": [
    {
     "data": {
      "text/html": [
       "<div>\n",
       "<style scoped>\n",
       "    .dataframe tbody tr th:only-of-type {\n",
       "        vertical-align: middle;\n",
       "    }\n",
       "\n",
       "    .dataframe tbody tr th {\n",
       "        vertical-align: top;\n",
       "    }\n",
       "\n",
       "    .dataframe thead th {\n",
       "        text-align: right;\n",
       "    }\n",
       "</style>\n",
       "<table border=\"1\" class=\"dataframe\">\n",
       "  <thead>\n",
       "    <tr style=\"text-align: right;\">\n",
       "      <th></th>\n",
       "      <th>Id</th>\n",
       "      <th>Position</th>\n",
       "      <th>First Name</th>\n",
       "      <th>Nickname</th>\n",
       "      <th>Last Name</th>\n",
       "      <th>FPPG</th>\n",
       "      <th>Played</th>\n",
       "      <th>Salary</th>\n",
       "      <th>Game</th>\n",
       "      <th>Team</th>\n",
       "      <th>Opponent</th>\n",
       "      <th>Injury Indicator</th>\n",
       "      <th>Injury Details</th>\n",
       "      <th>Tier</th>\n",
       "      <th>Probable Pitcher</th>\n",
       "      <th>Batting Order</th>\n",
       "      <th>Roster Position</th>\n",
       "    </tr>\n",
       "  </thead>\n",
       "  <tbody>\n",
       "    <tr>\n",
       "      <th>0</th>\n",
       "      <td>58668-52859</td>\n",
       "      <td>P</td>\n",
       "      <td>Jacob</td>\n",
       "      <td>Jacob deGrom</td>\n",
       "      <td>deGrom</td>\n",
       "      <td>57.333333</td>\n",
       "      <td>6.0</td>\n",
       "      <td>12500</td>\n",
       "      <td>BAL@NYM</td>\n",
       "      <td>NYM</td>\n",
       "      <td>BAL</td>\n",
       "      <td>O</td>\n",
       "      <td>Side</td>\n",
       "      <td>NaN</td>\n",
       "      <td>NaN</td>\n",
       "      <td>0.0</td>\n",
       "      <td>P</td>\n",
       "    </tr>\n",
       "    <tr>\n",
       "      <th>1</th>\n",
       "      <td>58668-16956</td>\n",
       "      <td>P</td>\n",
       "      <td>Gerrit</td>\n",
       "      <td>Gerrit Cole</td>\n",
       "      <td>Cole</td>\n",
       "      <td>50.857143</td>\n",
       "      <td>7.0</td>\n",
       "      <td>12300</td>\n",
       "      <td>NYY@TB</td>\n",
       "      <td>NYY</td>\n",
       "      <td>TB</td>\n",
       "      <td>NaN</td>\n",
       "      <td>NaN</td>\n",
       "      <td>NaN</td>\n",
       "      <td>NaN</td>\n",
       "      <td>NaN</td>\n",
       "      <td>P</td>\n",
       "    </tr>\n",
       "    <tr>\n",
       "      <th>2</th>\n",
       "      <td>58668-5481</td>\n",
       "      <td>P</td>\n",
       "      <td>Max</td>\n",
       "      <td>Max Scherzer</td>\n",
       "      <td>Scherzer</td>\n",
       "      <td>45.428571</td>\n",
       "      <td>7.0</td>\n",
       "      <td>12000</td>\n",
       "      <td>PHI@WSH</td>\n",
       "      <td>WSH</td>\n",
       "      <td>PHI</td>\n",
       "      <td>NaN</td>\n",
       "      <td>NaN</td>\n",
       "      <td>NaN</td>\n",
       "      <td>NaN</td>\n",
       "      <td>0.0</td>\n",
       "      <td>P</td>\n",
       "    </tr>\n",
       "    <tr>\n",
       "      <th>3</th>\n",
       "      <td>58668-52183</td>\n",
       "      <td>P</td>\n",
       "      <td>Tyler</td>\n",
       "      <td>Tyler Glasnow</td>\n",
       "      <td>Glasnow</td>\n",
       "      <td>47.250000</td>\n",
       "      <td>8.0</td>\n",
       "      <td>11500</td>\n",
       "      <td>NYY@TB</td>\n",
       "      <td>TB</td>\n",
       "      <td>NYY</td>\n",
       "      <td>NaN</td>\n",
       "      <td>NaN</td>\n",
       "      <td>NaN</td>\n",
       "      <td>NaN</td>\n",
       "      <td>0.0</td>\n",
       "      <td>P</td>\n",
       "    </tr>\n",
       "    <tr>\n",
       "      <th>4</th>\n",
       "      <td>58668-60633</td>\n",
       "      <td>P</td>\n",
       "      <td>Carlos</td>\n",
       "      <td>Carlos Rodon</td>\n",
       "      <td>Rodon</td>\n",
       "      <td>52.200000</td>\n",
       "      <td>5.0</td>\n",
       "      <td>11200</td>\n",
       "      <td>MIN@CWS</td>\n",
       "      <td>CWS</td>\n",
       "      <td>MIN</td>\n",
       "      <td>NaN</td>\n",
       "      <td>NaN</td>\n",
       "      <td>NaN</td>\n",
       "      <td>NaN</td>\n",
       "      <td>0.0</td>\n",
       "      <td>P</td>\n",
       "    </tr>\n",
       "  </tbody>\n",
       "</table>\n",
       "</div>"
      ],
      "text/plain": [
       "            Id Position First Name       Nickname Last Name       FPPG  \\\n",
       "0  58668-52859        P      Jacob   Jacob deGrom    deGrom  57.333333   \n",
       "1  58668-16956        P     Gerrit    Gerrit Cole      Cole  50.857143   \n",
       "2   58668-5481        P        Max   Max Scherzer  Scherzer  45.428571   \n",
       "3  58668-52183        P      Tyler  Tyler Glasnow   Glasnow  47.250000   \n",
       "4  58668-60633        P     Carlos   Carlos Rodon     Rodon  52.200000   \n",
       "\n",
       "   Played  Salary     Game Team Opponent Injury Indicator Injury Details  \\\n",
       "0     6.0   12500  BAL@NYM  NYM      BAL                O           Side   \n",
       "1     7.0   12300   NYY@TB  NYY       TB              NaN            NaN   \n",
       "2     7.0   12000  PHI@WSH  WSH      PHI              NaN            NaN   \n",
       "3     8.0   11500   NYY@TB   TB      NYY              NaN            NaN   \n",
       "4     5.0   11200  MIN@CWS  CWS      MIN              NaN            NaN   \n",
       "\n",
       "   Tier Probable Pitcher  Batting Order Roster Position  \n",
       "0   NaN              NaN            0.0               P  \n",
       "1   NaN              NaN            NaN               P  \n",
       "2   NaN              NaN            0.0               P  \n",
       "3   NaN              NaN            0.0               P  \n",
       "4   NaN              NaN            0.0               P  "
      ]
     },
     "execution_count": 5,
     "metadata": {},
     "output_type": "execute_result"
    }
   ],
   "source": [
    "# print first 5 rows of fd\n",
    "fd.head()"
   ]
  },
  {
   "cell_type": "markdown",
   "metadata": {},
   "source": [
    "only columns needed:\n",
    "- id - will need this later for template\n",
    "- Position\n",
    "- nickname - renamed to Name\n",
    "- salary\n",
    "- game\n",
    "- team\n",
    "- opponent\n",
    "- injury indicator\n",
    "- probable pitcher"
   ]
  },
  {
   "cell_type": "code",
   "execution_count": 6,
   "metadata": {},
   "outputs": [
    {
     "data": {
      "text/plain": [
       "Index(['Id', 'Position', 'First Name', 'Nickname', 'Last Name', 'FPPG',\n",
       "       'Played', 'Salary', 'Game', 'Team', 'Opponent', 'Injury Indicator',\n",
       "       'Injury Details', 'Tier', 'Probable Pitcher', 'Batting Order',\n",
       "       'Roster Position'],\n",
       "      dtype='object')"
      ]
     },
     "execution_count": 6,
     "metadata": {},
     "output_type": "execute_result"
    }
   ],
   "source": [
    "fd.columns"
   ]
  },
  {
   "cell_type": "code",
   "execution_count": 7,
   "metadata": {},
   "outputs": [],
   "source": [
    "# clean up fd to match column list above\n",
    "fd.drop(columns=['First Name', 'Last Name', 'FPPG', 'Played',\n",
    "                 'Injury Details', 'Tier', 'Batting Order', 'Roster Position'], inplace=True)"
   ]
  },
  {
   "cell_type": "markdown",
   "metadata": {},
   "source": [
    "Next step is fill nulls in probable pitcher and injury indicator"
   ]
  },
  {
   "cell_type": "code",
   "execution_count": 8,
   "metadata": {},
   "outputs": [],
   "source": [
    "# filling nulls for probable pitcher\n",
    "fd['Probable Pitcher'].fillna('No', inplace=True)"
   ]
  },
  {
   "cell_type": "code",
   "execution_count": 9,
   "metadata": {},
   "outputs": [],
   "source": [
    "# fill nulls for injury indicator\n",
    "fd['Injury Indicator'].fillna('Healthy', inplace=True)"
   ]
  },
  {
   "cell_type": "code",
   "execution_count": 10,
   "metadata": {},
   "outputs": [
    {
     "data": {
      "text/html": [
       "<div>\n",
       "<style scoped>\n",
       "    .dataframe tbody tr th:only-of-type {\n",
       "        vertical-align: middle;\n",
       "    }\n",
       "\n",
       "    .dataframe tbody tr th {\n",
       "        vertical-align: top;\n",
       "    }\n",
       "\n",
       "    .dataframe thead th {\n",
       "        text-align: right;\n",
       "    }\n",
       "</style>\n",
       "<table border=\"1\" class=\"dataframe\">\n",
       "  <thead>\n",
       "    <tr style=\"text-align: right;\">\n",
       "      <th></th>\n",
       "      <th>Id</th>\n",
       "      <th>Position</th>\n",
       "      <th>Nickname</th>\n",
       "      <th>Salary</th>\n",
       "      <th>Game</th>\n",
       "      <th>Team</th>\n",
       "      <th>Opponent</th>\n",
       "      <th>Injury Indicator</th>\n",
       "      <th>Probable Pitcher</th>\n",
       "    </tr>\n",
       "  </thead>\n",
       "  <tbody>\n",
       "    <tr>\n",
       "      <th>0</th>\n",
       "      <td>58668-52859</td>\n",
       "      <td>P</td>\n",
       "      <td>Jacob deGrom</td>\n",
       "      <td>12500</td>\n",
       "      <td>BAL@NYM</td>\n",
       "      <td>NYM</td>\n",
       "      <td>BAL</td>\n",
       "      <td>O</td>\n",
       "      <td>No</td>\n",
       "    </tr>\n",
       "    <tr>\n",
       "      <th>1</th>\n",
       "      <td>58668-16956</td>\n",
       "      <td>P</td>\n",
       "      <td>Gerrit Cole</td>\n",
       "      <td>12300</td>\n",
       "      <td>NYY@TB</td>\n",
       "      <td>NYY</td>\n",
       "      <td>TB</td>\n",
       "      <td>Healthy</td>\n",
       "      <td>No</td>\n",
       "    </tr>\n",
       "    <tr>\n",
       "      <th>2</th>\n",
       "      <td>58668-5481</td>\n",
       "      <td>P</td>\n",
       "      <td>Max Scherzer</td>\n",
       "      <td>12000</td>\n",
       "      <td>PHI@WSH</td>\n",
       "      <td>WSH</td>\n",
       "      <td>PHI</td>\n",
       "      <td>Healthy</td>\n",
       "      <td>No</td>\n",
       "    </tr>\n",
       "    <tr>\n",
       "      <th>3</th>\n",
       "      <td>58668-52183</td>\n",
       "      <td>P</td>\n",
       "      <td>Tyler Glasnow</td>\n",
       "      <td>11500</td>\n",
       "      <td>NYY@TB</td>\n",
       "      <td>TB</td>\n",
       "      <td>NYY</td>\n",
       "      <td>Healthy</td>\n",
       "      <td>No</td>\n",
       "    </tr>\n",
       "    <tr>\n",
       "      <th>4</th>\n",
       "      <td>58668-60633</td>\n",
       "      <td>P</td>\n",
       "      <td>Carlos Rodon</td>\n",
       "      <td>11200</td>\n",
       "      <td>MIN@CWS</td>\n",
       "      <td>CWS</td>\n",
       "      <td>MIN</td>\n",
       "      <td>Healthy</td>\n",
       "      <td>No</td>\n",
       "    </tr>\n",
       "  </tbody>\n",
       "</table>\n",
       "</div>"
      ],
      "text/plain": [
       "            Id Position       Nickname  Salary     Game Team Opponent  \\\n",
       "0  58668-52859        P   Jacob deGrom   12500  BAL@NYM  NYM      BAL   \n",
       "1  58668-16956        P    Gerrit Cole   12300   NYY@TB  NYY       TB   \n",
       "2   58668-5481        P   Max Scherzer   12000  PHI@WSH  WSH      PHI   \n",
       "3  58668-52183        P  Tyler Glasnow   11500   NYY@TB   TB      NYY   \n",
       "4  58668-60633        P   Carlos Rodon   11200  MIN@CWS  CWS      MIN   \n",
       "\n",
       "  Injury Indicator Probable Pitcher  \n",
       "0                O               No  \n",
       "1          Healthy               No  \n",
       "2          Healthy               No  \n",
       "3          Healthy               No  \n",
       "4          Healthy               No  "
      ]
     },
     "execution_count": 10,
     "metadata": {},
     "output_type": "execute_result"
    }
   ],
   "source": [
    "# review new cleaned df\n",
    "fd.head()"
   ]
  },
  {
   "cell_type": "code",
   "execution_count": 11,
   "metadata": {},
   "outputs": [
    {
     "name": "stdout",
     "output_type": "stream",
     "text": [
      "<class 'pandas.core.frame.DataFrame'>\n",
      "RangeIndex: 939 entries, 0 to 938\n",
      "Data columns (total 9 columns):\n",
      " #   Column            Non-Null Count  Dtype \n",
      "---  ------            --------------  ----- \n",
      " 0   Id                939 non-null    object\n",
      " 1   Position          939 non-null    object\n",
      " 2   Nickname          939 non-null    object\n",
      " 3   Salary            939 non-null    int64 \n",
      " 4   Game              939 non-null    object\n",
      " 5   Team              939 non-null    object\n",
      " 6   Opponent          939 non-null    object\n",
      " 7   Injury Indicator  939 non-null    object\n",
      " 8   Probable Pitcher  939 non-null    object\n",
      "dtypes: int64(1), object(8)\n",
      "memory usage: 66.1+ KB\n"
     ]
    }
   ],
   "source": [
    "fd.info()"
   ]
  },
  {
   "cell_type": "markdown",
   "metadata": {},
   "source": [
    "Next step rename Nickname to name"
   ]
  },
  {
   "cell_type": "code",
   "execution_count": 12,
   "metadata": {},
   "outputs": [],
   "source": [
    "# renaming nickname column\n",
    "fd.rename(columns={'Nickname': 'Name'}, inplace=True)"
   ]
  },
  {
   "cell_type": "markdown",
   "metadata": {},
   "source": [
    "Next step filter to only healthy players"
   ]
  },
  {
   "cell_type": "code",
   "execution_count": 13,
   "metadata": {},
   "outputs": [],
   "source": [
    "# fitler to only healthy players\n",
    "fd = fd.loc[fd['Injury Indicator'] == 'Healthy']"
   ]
  },
  {
   "cell_type": "code",
   "execution_count": 14,
   "metadata": {},
   "outputs": [
    {
     "data": {
      "text/html": [
       "<div>\n",
       "<style scoped>\n",
       "    .dataframe tbody tr th:only-of-type {\n",
       "        vertical-align: middle;\n",
       "    }\n",
       "\n",
       "    .dataframe tbody tr th {\n",
       "        vertical-align: top;\n",
       "    }\n",
       "\n",
       "    .dataframe thead th {\n",
       "        text-align: right;\n",
       "    }\n",
       "</style>\n",
       "<table border=\"1\" class=\"dataframe\">\n",
       "  <thead>\n",
       "    <tr style=\"text-align: right;\">\n",
       "      <th></th>\n",
       "      <th>Id</th>\n",
       "      <th>Position</th>\n",
       "      <th>Name</th>\n",
       "      <th>Salary</th>\n",
       "      <th>Game</th>\n",
       "      <th>Team</th>\n",
       "      <th>Opponent</th>\n",
       "      <th>Injury Indicator</th>\n",
       "      <th>Probable Pitcher</th>\n",
       "    </tr>\n",
       "  </thead>\n",
       "  <tbody>\n",
       "    <tr>\n",
       "      <th>1</th>\n",
       "      <td>58668-16956</td>\n",
       "      <td>P</td>\n",
       "      <td>Gerrit Cole</td>\n",
       "      <td>12300</td>\n",
       "      <td>NYY@TB</td>\n",
       "      <td>NYY</td>\n",
       "      <td>TB</td>\n",
       "      <td>Healthy</td>\n",
       "      <td>No</td>\n",
       "    </tr>\n",
       "    <tr>\n",
       "      <th>2</th>\n",
       "      <td>58668-5481</td>\n",
       "      <td>P</td>\n",
       "      <td>Max Scherzer</td>\n",
       "      <td>12000</td>\n",
       "      <td>PHI@WSH</td>\n",
       "      <td>WSH</td>\n",
       "      <td>PHI</td>\n",
       "      <td>Healthy</td>\n",
       "      <td>No</td>\n",
       "    </tr>\n",
       "    <tr>\n",
       "      <th>3</th>\n",
       "      <td>58668-52183</td>\n",
       "      <td>P</td>\n",
       "      <td>Tyler Glasnow</td>\n",
       "      <td>11500</td>\n",
       "      <td>NYY@TB</td>\n",
       "      <td>TB</td>\n",
       "      <td>NYY</td>\n",
       "      <td>Healthy</td>\n",
       "      <td>No</td>\n",
       "    </tr>\n",
       "    <tr>\n",
       "      <th>4</th>\n",
       "      <td>58668-60633</td>\n",
       "      <td>P</td>\n",
       "      <td>Carlos Rodon</td>\n",
       "      <td>11200</td>\n",
       "      <td>MIN@CWS</td>\n",
       "      <td>CWS</td>\n",
       "      <td>MIN</td>\n",
       "      <td>Healthy</td>\n",
       "      <td>No</td>\n",
       "    </tr>\n",
       "    <tr>\n",
       "      <th>6</th>\n",
       "      <td>58668-16959</td>\n",
       "      <td>P</td>\n",
       "      <td>Trevor Bauer</td>\n",
       "      <td>11000</td>\n",
       "      <td>SEA@LAD</td>\n",
       "      <td>LAD</td>\n",
       "      <td>SEA</td>\n",
       "      <td>Healthy</td>\n",
       "      <td>No</td>\n",
       "    </tr>\n",
       "  </tbody>\n",
       "</table>\n",
       "</div>"
      ],
      "text/plain": [
       "            Id Position           Name  Salary     Game Team Opponent  \\\n",
       "1  58668-16956        P    Gerrit Cole   12300   NYY@TB  NYY       TB   \n",
       "2   58668-5481        P   Max Scherzer   12000  PHI@WSH  WSH      PHI   \n",
       "3  58668-52183        P  Tyler Glasnow   11500   NYY@TB   TB      NYY   \n",
       "4  58668-60633        P   Carlos Rodon   11200  MIN@CWS  CWS      MIN   \n",
       "6  58668-16959        P   Trevor Bauer   11000  SEA@LAD  LAD      SEA   \n",
       "\n",
       "  Injury Indicator Probable Pitcher  \n",
       "1          Healthy               No  \n",
       "2          Healthy               No  \n",
       "3          Healthy               No  \n",
       "4          Healthy               No  \n",
       "6          Healthy               No  "
      ]
     },
     "execution_count": 14,
     "metadata": {},
     "output_type": "execute_result"
    }
   ],
   "source": [
    "# review dataframe\n",
    "fd.head()"
   ]
  },
  {
   "cell_type": "code",
   "execution_count": 15,
   "metadata": {},
   "outputs": [
    {
     "name": "stdout",
     "output_type": "stream",
     "text": [
      "<class 'pandas.core.frame.DataFrame'>\n",
      "Int64Index: 755 entries, 1 to 938\n",
      "Data columns (total 9 columns):\n",
      " #   Column            Non-Null Count  Dtype \n",
      "---  ------            --------------  ----- \n",
      " 0   Id                755 non-null    object\n",
      " 1   Position          755 non-null    object\n",
      " 2   Name              755 non-null    object\n",
      " 3   Salary            755 non-null    int64 \n",
      " 4   Game              755 non-null    object\n",
      " 5   Team              755 non-null    object\n",
      " 6   Opponent          755 non-null    object\n",
      " 7   Injury Indicator  755 non-null    object\n",
      " 8   Probable Pitcher  755 non-null    object\n",
      "dtypes: int64(1), object(8)\n",
      "memory usage: 59.0+ KB\n"
     ]
    }
   ],
   "source": [
    "fd.info()"
   ]
  },
  {
   "cell_type": "markdown",
   "metadata": {},
   "source": [
    "next step is to split into pithcers and batters"
   ]
  },
  {
   "cell_type": "code",
   "execution_count": 16,
   "metadata": {},
   "outputs": [],
   "source": [
    "# split using .loc by position and make new dataframe for pitchers\n",
    "pitchers = fd.loc[fd['Position']=='P']"
   ]
  },
  {
   "cell_type": "code",
   "execution_count": 17,
   "metadata": {},
   "outputs": [],
   "source": [
    "# split using .loc by position and make new dataframe for batters\n",
    "batters = fd.loc[fd['Position']!='P']"
   ]
  },
  {
   "cell_type": "markdown",
   "metadata": {},
   "source": [
    "Now we have cleaned dataframes for each group. Now lets focus on pitchers to get projections added to dataframe."
   ]
  },
  {
   "cell_type": "markdown",
   "metadata": {},
   "source": [
    "First step for pitchers is to get the probable pitchers first, we only care about the ones that will start."
   ]
  },
  {
   "cell_type": "code",
   "execution_count": 18,
   "metadata": {},
   "outputs": [],
   "source": [
    "# save pitchers df to only starting pitchers\n",
    "pitchers = pitchers.loc[pitchers['Probable Pitcher']=='Yes']"
   ]
  },
  {
   "cell_type": "code",
   "execution_count": 19,
   "metadata": {},
   "outputs": [
    {
     "name": "stdout",
     "output_type": "stream",
     "text": [
      "<class 'pandas.core.frame.DataFrame'>\n",
      "Int64Index: 22 entries, 7 to 179\n",
      "Data columns (total 9 columns):\n",
      " #   Column            Non-Null Count  Dtype \n",
      "---  ------            --------------  ----- \n",
      " 0   Id                22 non-null     object\n",
      " 1   Position          22 non-null     object\n",
      " 2   Name              22 non-null     object\n",
      " 3   Salary            22 non-null     int64 \n",
      " 4   Game              22 non-null     object\n",
      " 5   Team              22 non-null     object\n",
      " 6   Opponent          22 non-null     object\n",
      " 7   Injury Indicator  22 non-null     object\n",
      " 8   Probable Pitcher  22 non-null     object\n",
      "dtypes: int64(1), object(8)\n",
      "memory usage: 1.7+ KB\n"
     ]
    }
   ],
   "source": [
    "# review changes\n",
    "pitchers.info()"
   ]
  },
  {
   "cell_type": "markdown",
   "metadata": {},
   "source": [
    "Next step is to combine projections with 2021 stats.\n",
    "- import testing data with projections from model\n",
    "- merge the two data frames"
   ]
  },
  {
   "cell_type": "code",
   "execution_count": 20,
   "metadata": {},
   "outputs": [],
   "source": [
    "# read in pitcher projections\n",
    "pitcher_proj = pd.read_csv('../Projections/pitcher_projections_2021.csv')"
   ]
  },
  {
   "cell_type": "markdown",
   "metadata": {},
   "source": [
    "Next step merge."
   ]
  },
  {
   "cell_type": "code",
   "execution_count": 21,
   "metadata": {},
   "outputs": [],
   "source": [
    "# merge attempt\n",
    "pitcher_projections = pitchers.merge(pitcher_proj, how='left', on='Name')"
   ]
  },
  {
   "cell_type": "markdown",
   "metadata": {},
   "source": [
    "Next step is to drop nulls from this list.  Will need to handle this in previous processes for final product."
   ]
  },
  {
   "cell_type": "code",
   "execution_count": 22,
   "metadata": {},
   "outputs": [],
   "source": [
    "pitcher_projections.dropna(inplace=True)"
   ]
  },
  {
   "cell_type": "markdown",
   "metadata": {},
   "source": [
    "Next step is to clean up and only take what is needed from pitchers so that it can be merged with batters.\n",
    "Columns needed:\n",
    "- ID\n",
    "- Position\n",
    "- Name\n",
    "- Salary\n",
    "- Team\n",
    "- Opponent\n",
    "- Proj_FPPG"
   ]
  },
  {
   "cell_type": "code",
   "execution_count": 23,
   "metadata": {},
   "outputs": [],
   "source": [
    "# overwrite df with only the columns needed\n",
    "pitcher_projections = pitcher_projections[['Id', 'Position', 'Name', 'Salary', 'Team_x', 'Opponent', 'AVG', 'Projected_FPPG']]"
   ]
  },
  {
   "cell_type": "code",
   "execution_count": 24,
   "metadata": {},
   "outputs": [],
   "source": [
    "# rename team column\n",
    "pitcher_projections.rename(columns={'Team_x' : 'Team'}, inplace=True)"
   ]
  },
  {
   "cell_type": "markdown",
   "metadata": {},
   "source": [
    "Now we have a cleaned and organized df of our pitchers that are starting. Next is the batters."
   ]
  },
  {
   "cell_type": "markdown",
   "metadata": {},
   "source": [
    "---"
   ]
  },
  {
   "cell_type": "markdown",
   "metadata": {},
   "source": [
    "First step is to merge on projections."
   ]
  },
  {
   "cell_type": "code",
   "execution_count": 25,
   "metadata": {},
   "outputs": [],
   "source": [
    "# read in projections file\n",
    "batter_21 = pd.read_csv('../Projections/batter_projections_2021.csv')"
   ]
  },
  {
   "cell_type": "code",
   "execution_count": 26,
   "metadata": {},
   "outputs": [],
   "source": [
    "# merge projections with batter df, creating new df\n",
    "batters_projections = batters.merge(batter_21, how='left', on='Name')"
   ]
  },
  {
   "cell_type": "markdown",
   "metadata": {},
   "source": [
    "Will have to drop nulls for now, but need to figure out why there is no data for those batters."
   ]
  },
  {
   "cell_type": "code",
   "execution_count": 27,
   "metadata": {},
   "outputs": [],
   "source": [
    "# dropping batters with no projections\n",
    "batters_projections.dropna(inplace=True)"
   ]
  },
  {
   "cell_type": "code",
   "execution_count": 28,
   "metadata": {},
   "outputs": [
    {
     "data": {
      "text/html": [
       "<div>\n",
       "<style scoped>\n",
       "    .dataframe tbody tr th:only-of-type {\n",
       "        vertical-align: middle;\n",
       "    }\n",
       "\n",
       "    .dataframe tbody tr th {\n",
       "        vertical-align: top;\n",
       "    }\n",
       "\n",
       "    .dataframe thead th {\n",
       "        text-align: right;\n",
       "    }\n",
       "</style>\n",
       "<table border=\"1\" class=\"dataframe\">\n",
       "  <thead>\n",
       "    <tr style=\"text-align: right;\">\n",
       "      <th></th>\n",
       "      <th>Id</th>\n",
       "      <th>Position</th>\n",
       "      <th>Name</th>\n",
       "      <th>Salary</th>\n",
       "      <th>Game</th>\n",
       "      <th>Team_x</th>\n",
       "      <th>Opponent</th>\n",
       "      <th>Injury Indicator</th>\n",
       "      <th>Probable Pitcher</th>\n",
       "      <th>Team_y</th>\n",
       "      <th>...</th>\n",
       "      <th>CS</th>\n",
       "      <th>TB</th>\n",
       "      <th>AVG</th>\n",
       "      <th>OBP</th>\n",
       "      <th>SLG</th>\n",
       "      <th>OPS</th>\n",
       "      <th>ISO</th>\n",
       "      <th>PTS</th>\n",
       "      <th>FPPG</th>\n",
       "      <th>Projected_FPPG</th>\n",
       "    </tr>\n",
       "  </thead>\n",
       "  <tbody>\n",
       "    <tr>\n",
       "      <th>0</th>\n",
       "      <td>58668-79393</td>\n",
       "      <td>SS</td>\n",
       "      <td>Fernando Tatis Jr.</td>\n",
       "      <td>4700</td>\n",
       "      <td>SD@COL</td>\n",
       "      <td>SD</td>\n",
       "      <td>COL</td>\n",
       "      <td>Healthy</td>\n",
       "      <td>No</td>\n",
       "      <td>SD</td>\n",
       "      <td>...</td>\n",
       "      <td>1.0</td>\n",
       "      <td>53.0</td>\n",
       "      <td>0.240</td>\n",
       "      <td>0.315</td>\n",
       "      <td>0.552</td>\n",
       "      <td>0.867</td>\n",
       "      <td>0.312</td>\n",
       "      <td>356.6</td>\n",
       "      <td>13.715385</td>\n",
       "      <td>9.161655</td>\n",
       "    </tr>\n",
       "    <tr>\n",
       "      <th>2</th>\n",
       "      <td>58668-12933</td>\n",
       "      <td>OF</td>\n",
       "      <td>Mike Trout</td>\n",
       "      <td>4400</td>\n",
       "      <td>LAA@HOU</td>\n",
       "      <td>LAA</td>\n",
       "      <td>HOU</td>\n",
       "      <td>Healthy</td>\n",
       "      <td>No</td>\n",
       "      <td>LAA</td>\n",
       "      <td>...</td>\n",
       "      <td>0.0</td>\n",
       "      <td>72.0</td>\n",
       "      <td>0.365</td>\n",
       "      <td>0.484</td>\n",
       "      <td>0.692</td>\n",
       "      <td>1.176</td>\n",
       "      <td>0.327</td>\n",
       "      <td>433.4</td>\n",
       "      <td>13.980645</td>\n",
       "      <td>11.217342</td>\n",
       "    </tr>\n",
       "    <tr>\n",
       "      <th>3</th>\n",
       "      <td>58668-82575</td>\n",
       "      <td>OF</td>\n",
       "      <td>Yordan Alvarez</td>\n",
       "      <td>4300</td>\n",
       "      <td>LAA@HOU</td>\n",
       "      <td>HOU</td>\n",
       "      <td>LAA</td>\n",
       "      <td>Healthy</td>\n",
       "      <td>No</td>\n",
       "      <td>HOU</td>\n",
       "      <td>...</td>\n",
       "      <td>0.0</td>\n",
       "      <td>67.0</td>\n",
       "      <td>0.345</td>\n",
       "      <td>0.378</td>\n",
       "      <td>0.609</td>\n",
       "      <td>0.987</td>\n",
       "      <td>0.264</td>\n",
       "      <td>362.7</td>\n",
       "      <td>12.953571</td>\n",
       "      <td>9.453620</td>\n",
       "    </tr>\n",
       "    <tr>\n",
       "      <th>4</th>\n",
       "      <td>58668-13540</td>\n",
       "      <td>OF</td>\n",
       "      <td>J.D. Martinez</td>\n",
       "      <td>4200</td>\n",
       "      <td>OAK@BOS</td>\n",
       "      <td>BOS</td>\n",
       "      <td>OAK</td>\n",
       "      <td>Healthy</td>\n",
       "      <td>No</td>\n",
       "      <td>BOS</td>\n",
       "      <td>...</td>\n",
       "      <td>0.0</td>\n",
       "      <td>84.0</td>\n",
       "      <td>0.338</td>\n",
       "      <td>0.427</td>\n",
       "      <td>0.646</td>\n",
       "      <td>1.073</td>\n",
       "      <td>0.308</td>\n",
       "      <td>519.7</td>\n",
       "      <td>15.285294</td>\n",
       "      <td>10.858018</td>\n",
       "    </tr>\n",
       "    <tr>\n",
       "      <th>5</th>\n",
       "      <td>58668-39151</td>\n",
       "      <td>OF</td>\n",
       "      <td>Mookie Betts</td>\n",
       "      <td>4100</td>\n",
       "      <td>SEA@LAD</td>\n",
       "      <td>LAD</td>\n",
       "      <td>SEA</td>\n",
       "      <td>Healthy</td>\n",
       "      <td>No</td>\n",
       "      <td>LAD</td>\n",
       "      <td>...</td>\n",
       "      <td>2.0</td>\n",
       "      <td>51.0</td>\n",
       "      <td>0.261</td>\n",
       "      <td>0.380</td>\n",
       "      <td>0.443</td>\n",
       "      <td>0.823</td>\n",
       "      <td>0.182</td>\n",
       "      <td>342.3</td>\n",
       "      <td>12.225000</td>\n",
       "      <td>8.155783</td>\n",
       "    </tr>\n",
       "    <tr>\n",
       "      <th>...</th>\n",
       "      <td>...</td>\n",
       "      <td>...</td>\n",
       "      <td>...</td>\n",
       "      <td>...</td>\n",
       "      <td>...</td>\n",
       "      <td>...</td>\n",
       "      <td>...</td>\n",
       "      <td>...</td>\n",
       "      <td>...</td>\n",
       "      <td>...</td>\n",
       "      <td>...</td>\n",
       "      <td>...</td>\n",
       "      <td>...</td>\n",
       "      <td>...</td>\n",
       "      <td>...</td>\n",
       "      <td>...</td>\n",
       "      <td>...</td>\n",
       "      <td>...</td>\n",
       "      <td>...</td>\n",
       "      <td>...</td>\n",
       "      <td>...</td>\n",
       "    </tr>\n",
       "    <tr>\n",
       "      <th>348</th>\n",
       "      <td>58668-81869</td>\n",
       "      <td>C</td>\n",
       "      <td>Chad Wallach</td>\n",
       "      <td>2000</td>\n",
       "      <td>MIA@ARI</td>\n",
       "      <td>MIA</td>\n",
       "      <td>ARI</td>\n",
       "      <td>Healthy</td>\n",
       "      <td>No</td>\n",
       "      <td>MIA</td>\n",
       "      <td>...</td>\n",
       "      <td>0.0</td>\n",
       "      <td>16.0</td>\n",
       "      <td>0.255</td>\n",
       "      <td>0.275</td>\n",
       "      <td>0.340</td>\n",
       "      <td>0.615</td>\n",
       "      <td>0.085</td>\n",
       "      <td>77.9</td>\n",
       "      <td>4.582353</td>\n",
       "      <td>5.035409</td>\n",
       "    </tr>\n",
       "    <tr>\n",
       "      <th>349</th>\n",
       "      <td>58668-12237</td>\n",
       "      <td>C</td>\n",
       "      <td>Jonathan Lucroy</td>\n",
       "      <td>2000</td>\n",
       "      <td>PHI@WSH</td>\n",
       "      <td>WSH</td>\n",
       "      <td>PHI</td>\n",
       "      <td>Healthy</td>\n",
       "      <td>No</td>\n",
       "      <td>WSH</td>\n",
       "      <td>...</td>\n",
       "      <td>0.0</td>\n",
       "      <td>6.0</td>\n",
       "      <td>0.357</td>\n",
       "      <td>0.357</td>\n",
       "      <td>0.429</td>\n",
       "      <td>0.786</td>\n",
       "      <td>0.072</td>\n",
       "      <td>25.0</td>\n",
       "      <td>5.000000</td>\n",
       "      <td>6.212545</td>\n",
       "    </tr>\n",
       "    <tr>\n",
       "      <th>350</th>\n",
       "      <td>58668-102358</td>\n",
       "      <td>SS</td>\n",
       "      <td>Jose Devers</td>\n",
       "      <td>2000</td>\n",
       "      <td>MIA@ARI</td>\n",
       "      <td>MIA</td>\n",
       "      <td>ARI</td>\n",
       "      <td>Healthy</td>\n",
       "      <td>No</td>\n",
       "      <td>MIA</td>\n",
       "      <td>...</td>\n",
       "      <td>0.0</td>\n",
       "      <td>2.0</td>\n",
       "      <td>0.167</td>\n",
       "      <td>0.154</td>\n",
       "      <td>0.167</td>\n",
       "      <td>0.321</td>\n",
       "      <td>0.000</td>\n",
       "      <td>15.9</td>\n",
       "      <td>1.987500</td>\n",
       "      <td>2.197133</td>\n",
       "    </tr>\n",
       "    <tr>\n",
       "      <th>351</th>\n",
       "      <td>58668-102363</td>\n",
       "      <td>OF</td>\n",
       "      <td>Luke Raley</td>\n",
       "      <td>2000</td>\n",
       "      <td>SEA@LAD</td>\n",
       "      <td>LAD</td>\n",
       "      <td>SEA</td>\n",
       "      <td>Healthy</td>\n",
       "      <td>No</td>\n",
       "      <td>LAD</td>\n",
       "      <td>...</td>\n",
       "      <td>0.0</td>\n",
       "      <td>11.0</td>\n",
       "      <td>0.206</td>\n",
       "      <td>0.308</td>\n",
       "      <td>0.324</td>\n",
       "      <td>0.632</td>\n",
       "      <td>0.118</td>\n",
       "      <td>61.4</td>\n",
       "      <td>4.385714</td>\n",
       "      <td>5.508057</td>\n",
       "    </tr>\n",
       "    <tr>\n",
       "      <th>352</th>\n",
       "      <td>58668-102362</td>\n",
       "      <td>OF</td>\n",
       "      <td>Trevor Larnach</td>\n",
       "      <td>2000</td>\n",
       "      <td>MIN@CWS</td>\n",
       "      <td>MIN</td>\n",
       "      <td>CWS</td>\n",
       "      <td>Healthy</td>\n",
       "      <td>No</td>\n",
       "      <td>MIN</td>\n",
       "      <td>...</td>\n",
       "      <td>0.0</td>\n",
       "      <td>0.0</td>\n",
       "      <td>0.000</td>\n",
       "      <td>0.200</td>\n",
       "      <td>0.000</td>\n",
       "      <td>0.200</td>\n",
       "      <td>0.000</td>\n",
       "      <td>3.0</td>\n",
       "      <td>3.000000</td>\n",
       "      <td>2.113994</td>\n",
       "    </tr>\n",
       "  </tbody>\n",
       "</table>\n",
       "<p>306 rows × 32 columns</p>\n",
       "</div>"
      ],
      "text/plain": [
       "               Id Position                Name  Salary     Game Team_x  \\\n",
       "0     58668-79393       SS  Fernando Tatis Jr.    4700   SD@COL     SD   \n",
       "2     58668-12933       OF          Mike Trout    4400  LAA@HOU    LAA   \n",
       "3     58668-82575       OF      Yordan Alvarez    4300  LAA@HOU    HOU   \n",
       "4     58668-13540       OF       J.D. Martinez    4200  OAK@BOS    BOS   \n",
       "5     58668-39151       OF        Mookie Betts    4100  SEA@LAD    LAD   \n",
       "..            ...      ...                 ...     ...      ...    ...   \n",
       "348   58668-81869        C        Chad Wallach    2000  MIA@ARI    MIA   \n",
       "349   58668-12237        C     Jonathan Lucroy    2000  PHI@WSH    WSH   \n",
       "350  58668-102358       SS         Jose Devers    2000  MIA@ARI    MIA   \n",
       "351  58668-102363       OF          Luke Raley    2000  SEA@LAD    LAD   \n",
       "352  58668-102362       OF      Trevor Larnach    2000  MIN@CWS    MIN   \n",
       "\n",
       "    Opponent Injury Indicator Probable Pitcher Team_y  ...   CS    TB    AVG  \\\n",
       "0        COL          Healthy               No     SD  ...  1.0  53.0  0.240   \n",
       "2        HOU          Healthy               No    LAA  ...  0.0  72.0  0.365   \n",
       "3        LAA          Healthy               No    HOU  ...  0.0  67.0  0.345   \n",
       "4        OAK          Healthy               No    BOS  ...  0.0  84.0  0.338   \n",
       "5        SEA          Healthy               No    LAD  ...  2.0  51.0  0.261   \n",
       "..       ...              ...              ...    ...  ...  ...   ...    ...   \n",
       "348      ARI          Healthy               No    MIA  ...  0.0  16.0  0.255   \n",
       "349      PHI          Healthy               No    WSH  ...  0.0   6.0  0.357   \n",
       "350      ARI          Healthy               No    MIA  ...  0.0   2.0  0.167   \n",
       "351      SEA          Healthy               No    LAD  ...  0.0  11.0  0.206   \n",
       "352      CWS          Healthy               No    MIN  ...  0.0   0.0  0.000   \n",
       "\n",
       "       OBP    SLG    OPS    ISO    PTS       FPPG  Projected_FPPG  \n",
       "0    0.315  0.552  0.867  0.312  356.6  13.715385        9.161655  \n",
       "2    0.484  0.692  1.176  0.327  433.4  13.980645       11.217342  \n",
       "3    0.378  0.609  0.987  0.264  362.7  12.953571        9.453620  \n",
       "4    0.427  0.646  1.073  0.308  519.7  15.285294       10.858018  \n",
       "5    0.380  0.443  0.823  0.182  342.3  12.225000        8.155783  \n",
       "..     ...    ...    ...    ...    ...        ...             ...  \n",
       "348  0.275  0.340  0.615  0.085   77.9   4.582353        5.035409  \n",
       "349  0.357  0.429  0.786  0.072   25.0   5.000000        6.212545  \n",
       "350  0.154  0.167  0.321  0.000   15.9   1.987500        2.197133  \n",
       "351  0.308  0.324  0.632  0.118   61.4   4.385714        5.508057  \n",
       "352  0.200  0.000  0.200  0.000    3.0   3.000000        2.113994  \n",
       "\n",
       "[306 rows x 32 columns]"
      ]
     },
     "execution_count": 28,
     "metadata": {},
     "output_type": "execute_result"
    }
   ],
   "source": [
    "batters_projections"
   ]
  },
  {
   "cell_type": "code",
   "execution_count": 29,
   "metadata": {},
   "outputs": [],
   "source": [
    "# drop unneeded columns for merge with pitcher, overwrite current df\n",
    "batters_projections = batters_projections[['Id', 'Position', 'Name', 'Salary', 'Team_x', 'Opponent','Projected_FPPG']]"
   ]
  },
  {
   "cell_type": "code",
   "execution_count": 30,
   "metadata": {},
   "outputs": [
    {
     "name": "stderr",
     "output_type": "stream",
     "text": [
      "C:\\Users\\phill\\anaconda3\\lib\\site-packages\\pandas\\core\\frame.py:4296: SettingWithCopyWarning: \n",
      "A value is trying to be set on a copy of a slice from a DataFrame\n",
      "\n",
      "See the caveats in the documentation: https://pandas.pydata.org/pandas-docs/stable/user_guide/indexing.html#returning-a-view-versus-a-copy\n",
      "  return super().rename(\n"
     ]
    }
   ],
   "source": [
    "# rename team column\n",
    "batters_projections.rename(columns={'Team_x' : 'Team'}, inplace=True)"
   ]
  },
  {
   "cell_type": "markdown",
   "metadata": {},
   "source": [
    "Now there are two clean dataframes with the same columns, now we will determine optimal line up."
   ]
  },
  {
   "cell_type": "markdown",
   "metadata": {},
   "source": [
    "Steps to get optimal line up:\n",
    "1. set salary cap\n",
    "2. sort by fppg\n",
    "\n",
    "    a. choose pitcher - based on projected fppg; in final product need to incoporate stats with strong coefficient values\n",
    "    b. choose batters based on remaining salary and highest fppg; in final product need to incoporate stats with strong coefficient values\n",
    "    \n",
    "3. create list to append choices to\n",
    "4. save to one df for output\n",
    "5. take df and save to templet for export"
   ]
  },
  {
   "cell_type": "code",
   "execution_count": 31,
   "metadata": {},
   "outputs": [],
   "source": [
    "# set cap for fanduel\n",
    "salary_cap = 35_000"
   ]
  },
  {
   "cell_type": "code",
   "execution_count": 32,
   "metadata": {},
   "outputs": [],
   "source": [
    "# sort by avg\n",
    "pitcher_projections.sort_values(by='AVG', ascending=False, inplace=True, ignore_index=True)"
   ]
  },
  {
   "cell_type": "code",
   "execution_count": 33,
   "metadata": {},
   "outputs": [],
   "source": [
    "# create list of teams to filter batters\n",
    "team_list = []\n",
    "for x in range(0,4):\n",
    "    team_list.append(pitcher_projections['Opponent'][x])"
   ]
  },
  {
   "cell_type": "code",
   "execution_count": 34,
   "metadata": {},
   "outputs": [],
   "source": [
    "# drop avg\n",
    "pitcher_projections.drop(columns='AVG', inplace=True)"
   ]
  },
  {
   "cell_type": "code",
   "execution_count": 35,
   "metadata": {},
   "outputs": [],
   "source": [
    "# create team filter \n",
    "team_filter = (batters_projections['Team'] == team_list[0]) | (batters_projections['Team'] == team_list[1]) |(batters_projections['Team'] == team_list[2]) |(batters_projections['Team'] == team_list[3])\n",
    "# new batter dataframe with team filter\n",
    "batters_projections = batters_projections[team_filter]\n",
    "# reset index\n",
    "batters_projections.reset_index(drop=True, inplace=True)"
   ]
  },
  {
   "cell_type": "code",
   "execution_count": 36,
   "metadata": {},
   "outputs": [],
   "source": [
    "# clean position\n",
    "pos_list = [pos[:2] for pos in batters_projections['Position']]\n",
    "batters_projections['Position'] = pos_list"
   ]
  },
  {
   "cell_type": "code",
   "execution_count": 37,
   "metadata": {},
   "outputs": [],
   "source": [
    "# sort pitcher by fppg projections\n",
    "pitcher_projections.sort_values(by='Projected_FPPG', ascending=False, inplace=True, ignore_index=True)"
   ]
  },
  {
   "cell_type": "code",
   "execution_count": 38,
   "metadata": {},
   "outputs": [],
   "source": [
    "# create a player list to \n",
    "lineup = []\n",
    "lineup.append(pitcher_projections.values[0])"
   ]
  },
  {
   "cell_type": "code",
   "execution_count": 39,
   "metadata": {},
   "outputs": [],
   "source": [
    "# need to update remaining salary\n",
    "salary_cap -= pitcher_projections['Salary'][0]"
   ]
  },
  {
   "cell_type": "code",
   "execution_count": 40,
   "metadata": {},
   "outputs": [],
   "source": [
    "# with updated salary fill remaining roster based on position and highest fppg\n",
    "# create position list for remaining roster spots\n",
    "position_list = ['C', '1B', '2B', '3B', 'SS', 'OF', 'OF', 'OF']\n",
    "# sort batters by FPPG\n",
    "batters_projections.sort_values(by='Projected_FPPG', ascending=False, inplace=True, ignore_index=True)"
   ]
  },
  {
   "cell_type": "code",
   "execution_count": 41,
   "metadata": {},
   "outputs": [],
   "source": [
    "# redo \n",
    "# create count based on remaining positions\n",
    "sal_count = 8\n",
    "\n",
    "# create average salary variable for remaining players\n",
    "avg_sal = salary_cap/sal_count\n",
    "\n",
    "# create for loop for each position in list to take highest fppg\n",
    "for pos in position_list:\n",
    "    # setting counter to increase if player is already in list\n",
    "    # this is inside the for loop beacuse it needs to be per position\n",
    "    counter = 0\n",
    "    # if salary greater than average move to next player\n",
    "    for salary in batters_projections.loc[batters_projections['Position'] == pos]['Salary']:\n",
    "        # test if salary is greater than average if it is increase counter\n",
    "        if batters_projections.loc[batters_projections['Position'] == pos]['Salary'].values[counter] > avg_sal:\n",
    "            counter += 1\n",
    "        else:\n",
    "            # if less than average add player to list\n",
    "            lineup.append(batters_projections.loc[batters_projections['Position'] == pos].values[counter])\n",
    "            # drop player so no duplicates are added\n",
    "            batters_projections.drop(batters_projections.loc[batters_projections['Position'] == pos].index.values[counter], inplace=True)\n",
    "            # decrease sal_count\n",
    "            sal_count -= 1\n",
    "            # decrease salary cap\n",
    "            salary_cap -= batters_projections.loc[batters_projections['Position'] == pos]['Salary'].values[counter]\n",
    "            # create new average salary\n",
    "            avg_sal = salary_cap/sal_count\n",
    "            break\n"
   ]
  },
  {
   "cell_type": "code",
   "execution_count": 42,
   "metadata": {},
   "outputs": [
    {
     "data": {
      "text/html": [
       "<div>\n",
       "<style scoped>\n",
       "    .dataframe tbody tr th:only-of-type {\n",
       "        vertical-align: middle;\n",
       "    }\n",
       "\n",
       "    .dataframe tbody tr th {\n",
       "        vertical-align: top;\n",
       "    }\n",
       "\n",
       "    .dataframe thead th {\n",
       "        text-align: right;\n",
       "    }\n",
       "</style>\n",
       "<table border=\"1\" class=\"dataframe\">\n",
       "  <thead>\n",
       "    <tr style=\"text-align: right;\">\n",
       "      <th></th>\n",
       "      <th>Id</th>\n",
       "      <th>Position</th>\n",
       "      <th>Name</th>\n",
       "      <th>Salary</th>\n",
       "      <th>Team</th>\n",
       "      <th>Opponent</th>\n",
       "      <th>Proj_FPPG</th>\n",
       "    </tr>\n",
       "  </thead>\n",
       "  <tbody>\n",
       "    <tr>\n",
       "      <th>0</th>\n",
       "      <td>58668-52159</td>\n",
       "      <td>P</td>\n",
       "      <td>Lance McCullers Jr.</td>\n",
       "      <td>8500</td>\n",
       "      <td>HOU</td>\n",
       "      <td>LAA</td>\n",
       "      <td>40.138767</td>\n",
       "    </tr>\n",
       "    <tr>\n",
       "      <th>1</th>\n",
       "      <td>58668-102513</td>\n",
       "      <td>C</td>\n",
       "      <td>Mario Feliciano</td>\n",
       "      <td>2000</td>\n",
       "      <td>MIL</td>\n",
       "      <td>STL</td>\n",
       "      <td>10.944532</td>\n",
       "    </tr>\n",
       "    <tr>\n",
       "      <th>2</th>\n",
       "      <td>58668-38571</td>\n",
       "      <td>1B</td>\n",
       "      <td>Travis Shaw</td>\n",
       "      <td>2500</td>\n",
       "      <td>MIL</td>\n",
       "      <td>STL</td>\n",
       "      <td>6.809981</td>\n",
       "    </tr>\n",
       "    <tr>\n",
       "      <th>3</th>\n",
       "      <td>58668-21705</td>\n",
       "      <td>2B</td>\n",
       "      <td>Marcus Semien</td>\n",
       "      <td>3400</td>\n",
       "      <td>TOR</td>\n",
       "      <td>ATL</td>\n",
       "      <td>8.272751</td>\n",
       "    </tr>\n",
       "    <tr>\n",
       "      <th>4</th>\n",
       "      <td>58668-52158</td>\n",
       "      <td>SS</td>\n",
       "      <td>Trevor Story</td>\n",
       "      <td>3700</td>\n",
       "      <td>COL</td>\n",
       "      <td>SD</td>\n",
       "      <td>8.355613</td>\n",
       "    </tr>\n",
       "    <tr>\n",
       "      <th>5</th>\n",
       "      <td>58668-13909</td>\n",
       "      <td>OF</td>\n",
       "      <td>Randal Grichuk</td>\n",
       "      <td>2800</td>\n",
       "      <td>TOR</td>\n",
       "      <td>ATL</td>\n",
       "      <td>8.013935</td>\n",
       "    </tr>\n",
       "    <tr>\n",
       "      <th>6</th>\n",
       "      <td>58668-38973</td>\n",
       "      <td>OF</td>\n",
       "      <td>Tyrone Taylor</td>\n",
       "      <td>2400</td>\n",
       "      <td>MIL</td>\n",
       "      <td>STL</td>\n",
       "      <td>7.468444</td>\n",
       "    </tr>\n",
       "    <tr>\n",
       "      <th>7</th>\n",
       "      <td>58668-60635</td>\n",
       "      <td>OF</td>\n",
       "      <td>Raimel Tapia</td>\n",
       "      <td>3300</td>\n",
       "      <td>COL</td>\n",
       "      <td>SD</td>\n",
       "      <td>7.334853</td>\n",
       "    </tr>\n",
       "  </tbody>\n",
       "</table>\n",
       "</div>"
      ],
      "text/plain": [
       "             Id Position                 Name  Salary Team Opponent  Proj_FPPG\n",
       "0   58668-52159        P  Lance McCullers Jr.    8500  HOU      LAA  40.138767\n",
       "1  58668-102513        C      Mario Feliciano    2000  MIL      STL  10.944532\n",
       "2   58668-38571       1B          Travis Shaw    2500  MIL      STL   6.809981\n",
       "3   58668-21705       2B        Marcus Semien    3400  TOR      ATL   8.272751\n",
       "4   58668-52158       SS         Trevor Story    3700  COL       SD   8.355613\n",
       "5   58668-13909       OF       Randal Grichuk    2800  TOR      ATL   8.013935\n",
       "6   58668-38973       OF        Tyrone Taylor    2400  MIL      STL   7.468444\n",
       "7   58668-60635       OF         Raimel Tapia    3300  COL       SD   7.334853"
      ]
     },
     "execution_count": 42,
     "metadata": {},
     "output_type": "execute_result"
    }
   ],
   "source": [
    "df = pd.DataFrame(lineup, columns=['Id', 'Position', 'Name', 'Salary', 'Team', 'Opponent','Proj_FPPG'])\n",
    "df"
   ]
  },
  {
   "cell_type": "code",
   "execution_count": 43,
   "metadata": {},
   "outputs": [
    {
     "data": {
      "text/plain": [
       "28600"
      ]
     },
     "execution_count": 43,
     "metadata": {},
     "output_type": "execute_result"
    }
   ],
   "source": [
    "df['Salary'].sum()"
   ]
  },
  {
   "cell_type": "code",
   "execution_count": 44,
   "metadata": {},
   "outputs": [
    {
     "data": {
      "text/html": [
       "<div>\n",
       "<style scoped>\n",
       "    .dataframe tbody tr th:only-of-type {\n",
       "        vertical-align: middle;\n",
       "    }\n",
       "\n",
       "    .dataframe tbody tr th {\n",
       "        vertical-align: top;\n",
       "    }\n",
       "\n",
       "    .dataframe thead th {\n",
       "        text-align: right;\n",
       "    }\n",
       "</style>\n",
       "<table border=\"1\" class=\"dataframe\">\n",
       "  <thead>\n",
       "    <tr style=\"text-align: right;\">\n",
       "      <th></th>\n",
       "      <th>0</th>\n",
       "    </tr>\n",
       "  </thead>\n",
       "  <tbody>\n",
       "    <tr>\n",
       "      <th>0</th>\n",
       "      <td>TOR</td>\n",
       "    </tr>\n",
       "    <tr>\n",
       "      <th>1</th>\n",
       "      <td>COL</td>\n",
       "    </tr>\n",
       "    <tr>\n",
       "      <th>2</th>\n",
       "      <td>CWS</td>\n",
       "    </tr>\n",
       "    <tr>\n",
       "      <th>3</th>\n",
       "      <td>MIL</td>\n",
       "    </tr>\n",
       "  </tbody>\n",
       "</table>\n",
       "</div>"
      ],
      "text/plain": [
       "     0\n",
       "0  TOR\n",
       "1  COL\n",
       "2  CWS\n",
       "3  MIL"
      ]
     },
     "execution_count": 44,
     "metadata": {},
     "output_type": "execute_result"
    }
   ],
   "source": [
    "pd.DataFrame(team_list)"
   ]
  },
  {
   "cell_type": "code",
   "execution_count": null,
   "metadata": {},
   "outputs": [],
   "source": []
  }
 ],
 "metadata": {
  "kernelspec": {
   "display_name": "Python 3",
   "language": "python",
   "name": "python3"
  },
  "language_info": {
   "codemirror_mode": {
    "name": "ipython",
    "version": 3
   },
   "file_extension": ".py",
   "mimetype": "text/x-python",
   "name": "python",
   "nbconvert_exporter": "python",
   "pygments_lexer": "ipython3",
   "version": "3.8.5"
  }
 },
 "nbformat": 4,
 "nbformat_minor": 4
}
