{
 "cells": [
  {
   "cell_type": "code",
   "execution_count": 1,
   "metadata": {},
   "outputs": [],
   "source": [
    "import pandas as pd\n",
    "from LineupBuilder import build_lineup"
   ]
  },
  {
   "cell_type": "code",
   "execution_count": 2,
   "metadata": {},
   "outputs": [],
   "source": [
    "# test function\n",
    "fd2 = pd.read_csv('../../../Downloads/FanDuel-MLB-2021 ET-05 ET-06 ET-58417-players-list.csv')"
   ]
  },
  {
   "cell_type": "code",
   "execution_count": 3,
   "metadata": {},
   "outputs": [
    {
     "name": "stderr",
     "output_type": "stream",
     "text": [
      "C:\\Users\\phill\\GitHub_Projects\\DFS_MLB_FPPG\\Code\\LineupBuilder.py:107: RuntimeWarning: divide by zero encountered in longlong_scalars\n",
      "  avg_sal = salary_cap/sal_count\n"
     ]
    }
   ],
   "source": [
    "df = build_lineup(fd2)"
   ]
  },
  {
   "cell_type": "code",
   "execution_count": 4,
   "metadata": {},
   "outputs": [
    {
     "data": {
      "text/html": [
       "<div>\n",
       "<style scoped>\n",
       "    .dataframe tbody tr th:only-of-type {\n",
       "        vertical-align: middle;\n",
       "    }\n",
       "\n",
       "    .dataframe tbody tr th {\n",
       "        vertical-align: top;\n",
       "    }\n",
       "\n",
       "    .dataframe thead th {\n",
       "        text-align: right;\n",
       "    }\n",
       "</style>\n",
       "<table border=\"1\" class=\"dataframe\">\n",
       "  <thead>\n",
       "    <tr style=\"text-align: right;\">\n",
       "      <th></th>\n",
       "      <th>Id</th>\n",
       "      <th>Position</th>\n",
       "      <th>Name</th>\n",
       "      <th>Salary</th>\n",
       "      <th>Team</th>\n",
       "      <th>Opponent</th>\n",
       "      <th>Projected_FPPG</th>\n",
       "    </tr>\n",
       "  </thead>\n",
       "  <tbody>\n",
       "    <tr>\n",
       "      <th>0</th>\n",
       "      <td>58417-68654</td>\n",
       "      <td>P</td>\n",
       "      <td>John Gant</td>\n",
       "      <td>7300</td>\n",
       "      <td>STL</td>\n",
       "      <td>NYM</td>\n",
       "      <td>38.872440</td>\n",
       "    </tr>\n",
       "    <tr>\n",
       "      <th>1</th>\n",
       "      <td>58417-79174</td>\n",
       "      <td>C</td>\n",
       "      <td>Jacob Nottingham</td>\n",
       "      <td>2800</td>\n",
       "      <td>MIL</td>\n",
       "      <td>PHI</td>\n",
       "      <td>26.105398</td>\n",
       "    </tr>\n",
       "    <tr>\n",
       "      <th>2</th>\n",
       "      <td>58417-52175</td>\n",
       "      <td>1B</td>\n",
       "      <td>Matt Olson</td>\n",
       "      <td>3500</td>\n",
       "      <td>OAK</td>\n",
       "      <td>TOR</td>\n",
       "      <td>9.676589</td>\n",
       "    </tr>\n",
       "    <tr>\n",
       "      <th>3</th>\n",
       "      <td>58417-68587</td>\n",
       "      <td>2B</td>\n",
       "      <td>Ozzie Albies</td>\n",
       "      <td>3200</td>\n",
       "      <td>ATL</td>\n",
       "      <td>WSH</td>\n",
       "      <td>7.963934</td>\n",
       "    </tr>\n",
       "    <tr>\n",
       "      <th>4</th>\n",
       "      <td>58417-5104</td>\n",
       "      <td>3B</td>\n",
       "      <td>Pablo Sandoval</td>\n",
       "      <td>2000</td>\n",
       "      <td>ATL</td>\n",
       "      <td>WSH</td>\n",
       "      <td>9.393400</td>\n",
       "    </tr>\n",
       "    <tr>\n",
       "      <th>5</th>\n",
       "      <td>58417-37982</td>\n",
       "      <td>SS</td>\n",
       "      <td>Xander Bogaerts</td>\n",
       "      <td>3700</td>\n",
       "      <td>BOS</td>\n",
       "      <td>DET</td>\n",
       "      <td>8.898410</td>\n",
       "    </tr>\n",
       "    <tr>\n",
       "      <th>6</th>\n",
       "      <td>58417-5763</td>\n",
       "      <td>OF</td>\n",
       "      <td>Nelson Cruz</td>\n",
       "      <td>3900</td>\n",
       "      <td>MIN</td>\n",
       "      <td>TEX</td>\n",
       "      <td>10.047945</td>\n",
       "    </tr>\n",
       "    <tr>\n",
       "      <th>7</th>\n",
       "      <td>58417-60643</td>\n",
       "      <td>OF</td>\n",
       "      <td>Aaron Judge</td>\n",
       "      <td>3900</td>\n",
       "      <td>NYY</td>\n",
       "      <td>HOU</td>\n",
       "      <td>9.199638</td>\n",
       "    </tr>\n",
       "    <tr>\n",
       "      <th>8</th>\n",
       "      <td>58417-39086</td>\n",
       "      <td>OF</td>\n",
       "      <td>Byron Buxton</td>\n",
       "      <td>4400</td>\n",
       "      <td>MIN</td>\n",
       "      <td>TEX</td>\n",
       "      <td>12.219521</td>\n",
       "    </tr>\n",
       "  </tbody>\n",
       "</table>\n",
       "</div>"
      ],
      "text/plain": [
       "            Id Position              Name  Salary Team Opponent  \\\n",
       "0  58417-68654        P         John Gant    7300  STL      NYM   \n",
       "1  58417-79174        C  Jacob Nottingham    2800  MIL      PHI   \n",
       "2  58417-52175       1B        Matt Olson    3500  OAK      TOR   \n",
       "3  58417-68587       2B      Ozzie Albies    3200  ATL      WSH   \n",
       "4   58417-5104       3B    Pablo Sandoval    2000  ATL      WSH   \n",
       "5  58417-37982       SS   Xander Bogaerts    3700  BOS      DET   \n",
       "6   58417-5763       OF       Nelson Cruz    3900  MIN      TEX   \n",
       "7  58417-60643       OF       Aaron Judge    3900  NYY      HOU   \n",
       "8  58417-39086       OF      Byron Buxton    4400  MIN      TEX   \n",
       "\n",
       "   Projected_FPPG  \n",
       "0       38.872440  \n",
       "1       26.105398  \n",
       "2        9.676589  \n",
       "3        7.963934  \n",
       "4        9.393400  \n",
       "5        8.898410  \n",
       "6       10.047945  \n",
       "7        9.199638  \n",
       "8       12.219521  "
      ]
     },
     "execution_count": 4,
     "metadata": {},
     "output_type": "execute_result"
    }
   ],
   "source": [
    "df"
   ]
  },
  {
   "cell_type": "code",
   "execution_count": 5,
   "metadata": {},
   "outputs": [],
   "source": [
    "        template = df[['Position', 'Id']]\n",
    "        template = template.set_index('Position').T\n",
    "        template.rename(columns={'C':'C/1B', '1B':'UTIL'}, inplace=True)"
   ]
  },
  {
   "cell_type": "code",
   "execution_count": 9,
   "metadata": {},
   "outputs": [],
   "source": [
    "template = template[['P', 'C/1B', '2B', '3B', 'SS', 'OF', 'UTIL']]"
   ]
  },
  {
   "cell_type": "code",
   "execution_count": null,
   "metadata": {},
   "outputs": [],
   "source": []
  }
 ],
 "metadata": {
  "kernelspec": {
   "display_name": "Python 3",
   "language": "python",
   "name": "python3"
  },
  "language_info": {
   "codemirror_mode": {
    "name": "ipython",
    "version": 3
   },
   "file_extension": ".py",
   "mimetype": "text/x-python",
   "name": "python",
   "nbconvert_exporter": "python",
   "pygments_lexer": "ipython3",
   "version": "3.8.5"
  }
 },
 "nbformat": 4,
 "nbformat_minor": 4
}
