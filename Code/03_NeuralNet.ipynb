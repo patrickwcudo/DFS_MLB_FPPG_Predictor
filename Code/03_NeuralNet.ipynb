{
 "cells": [
  {
   "cell_type": "code",
   "execution_count": 16,
   "metadata": {},
   "outputs": [],
   "source": [
    "import numpy as np\n",
    "import pandas as pd\n",
    "from sklearn.datasets import make_classification, make_regression\n",
    "from sklearn.preprocessing import StandardScaler\n",
    "from sklearn.model_selection import train_test_split\n",
    "import matplotlib.pyplot as plt\n",
    "\n",
    "import tensorflow as tf\n",
    "import tensorflow.keras as keras\n",
    "\n",
    "from tensorflow.keras.models import Sequential\n",
    "from tensorflow.keras.layers import Dense, Input\n",
    "from tensorflow.keras.utils import to_categorical\n",
    "\n",
    "%matplotlib inline"
   ]
  },
  {
   "cell_type": "code",
   "execution_count": 136,
   "metadata": {},
   "outputs": [],
   "source": [
    "# read in batter data\n",
    "batter_train = pd.read_csv('../Modeling_Data/batter_data_modeling.csv')\n",
    "# read in test data\n",
    "batter_test = pd.read_csv('../Modeling_Data/batter_test_data.csv')"
   ]
  },
  {
   "cell_type": "code",
   "execution_count": 137,
   "metadata": {},
   "outputs": [],
   "source": [
    "# split data in TTS\n",
    "X_train = batter_train.drop(columns=['Name', 'Team', 'POS', 'PTS', 'FPPG'])\n",
    "y_train = batter_train['FPPG']\n",
    "# testing \n",
    "X_test = batter_test.drop(columns=['Name', 'Team', 'Pos', 'PTS', 'FPPG'])\n",
    "y_test = batter_test['FPPG']"
   ]
  },
  {
   "cell_type": "code",
   "execution_count": 138,
   "metadata": {},
   "outputs": [],
   "source": [
    "# scale data\n",
    "sc = StandardScaler()\n",
    "X_train_sc = sc.fit_transform(X_train)\n",
    "X_test_sc = sc.transform(X_test)"
   ]
  },
  {
   "cell_type": "code",
   "execution_count": 139,
   "metadata": {},
   "outputs": [],
   "source": [
    "# network topology \n",
    "model = Sequential()\n",
    "# input layer\n",
    "model.add(Input(shape=(X_train.shape[1],)))\n",
    "# 1st hidden layer\n",
    "model.add(Dense(32, activation='relu'))\n",
    "# 2nd hidden layer\n",
    "model.add(Dense(64, activation='relu'))\n",
    "# dropout\n",
    "# 64 dense\n",
    "# 3rd hidden layer\n",
    "model.add(Dense(32, activation='relu'))\n",
    "# dropout\n",
    "# ouput layer\n",
    "model.add(Dense(1, activation=None))"
   ]
  },
  {
   "cell_type": "code",
   "execution_count": 140,
   "metadata": {},
   "outputs": [
    {
     "name": "stdout",
     "output_type": "stream",
     "text": [
      "Model: \"sequential_15\"\n",
      "_________________________________________________________________\n",
      "Layer (type)                 Output Shape              Param #   \n",
      "=================================================================\n",
      "dense_60 (Dense)             (None, 32)                608       \n",
      "_________________________________________________________________\n",
      "dense_61 (Dense)             (None, 64)                2112      \n",
      "_________________________________________________________________\n",
      "dense_62 (Dense)             (None, 32)                2080      \n",
      "_________________________________________________________________\n",
      "dense_63 (Dense)             (None, 1)                 33        \n",
      "=================================================================\n",
      "Total params: 4,833\n",
      "Trainable params: 4,833\n",
      "Non-trainable params: 0\n",
      "_________________________________________________________________\n"
     ]
    }
   ],
   "source": [
    "model.summary()"
   ]
  },
  {
   "cell_type": "code",
   "execution_count": 141,
   "metadata": {},
   "outputs": [],
   "source": [
    "#complie\n",
    "model.compile(loss='mse', optimizer='adam', metrics=['mse', tf.keras.metrics.RootMeanSquaredError()])"
   ]
  },
  {
   "cell_type": "code",
   "execution_count": 142,
   "metadata": {},
   "outputs": [],
   "source": [
    "#fit\n",
    "results = model.fit(X_train_sc, y_train, epochs=200, batch_size=50, validation_data=(X_test_sc, y_test), verbose=0)"
   ]
  },
  {
   "cell_type": "code",
   "execution_count": 143,
   "metadata": {},
   "outputs": [
    {
     "data": {
      "text/plain": [
       "2.5210235118865967"
      ]
     },
     "execution_count": 143,
     "metadata": {},
     "output_type": "execute_result"
    }
   ],
   "source": [
    "# results\n",
    "results.history['val_root_mean_squared_error'][-1]"
   ]
  },
  {
   "cell_type": "code",
   "execution_count": 144,
   "metadata": {},
   "outputs": [
    {
     "data": {
      "image/png": "[encoded data removed]",
      "text/plain": [
       "<Figure size 432x288 with 1 Axes>"
      ]
     },
     "metadata": {
      "needs_background": "light"
     },
     "output_type": "display_data"
    }
   ],
   "source": [
    "plt.plot(results.history['root_mean_squared_error'], label='Training RMSE')\n",
    "plt.plot(results.history['val_root_mean_squared_error'], label='Validation RMSE')\n",
    "plt.legend();"
   ]
  },
  {
   "cell_type": "markdown",
   "metadata": {},
   "source": [
    "---"
   ]
  },
  {
   "cell_type": "code",
   "execution_count": 145,
   "metadata": {},
   "outputs": [],
   "source": [
    "# read in batter data\n",
    "pitcher_train = pd.read_csv('../Modeling_Data/pitcher_data_modeling.csv')\n",
    "# read in test data\n",
    "pitcher_test = pd.read_csv('../Modeling_Data/pitcher_test_data.csv')"
   ]
  },
  {
   "cell_type": "code",
   "execution_count": 146,
   "metadata": {},
   "outputs": [],
   "source": [
    "# split data in TTS\n",
    "X_train = pitcher_train.drop(columns=['Name', 'Team', 'POS', 'PTS', 'AVG', 'FPPG'])\n",
    "y_train = pitcher_train['FPPG']\n",
    "# testing \n",
    "X_test = pitcher_test.drop(columns=['Name', 'Team', 'Pos', 'PTS', 'AVG', 'FPPG'])\n",
    "y_test = pitcher_test['FPPG']"
   ]
  },
  {
   "cell_type": "code",
   "execution_count": 147,
   "metadata": {},
   "outputs": [],
   "source": [
    "# scale data\n",
    "sc = StandardScaler()\n",
    "X_train_sc = sc.fit_transform(X_train)\n",
    "X_test_sc = sc.transform(X_test)"
   ]
  },
  {
   "cell_type": "code",
   "execution_count": 148,
   "metadata": {},
   "outputs": [],
   "source": [
    "# network topology \n",
    "model = Sequential()\n",
    "# input layer\n",
    "model.add(Input(shape=(X_train.shape[1],)))\n",
    "# 1st hidden layer\n",
    "model.add(Dense(32, activation='relu'))\n",
    "# 2nd hidden layer\n",
    "model.add(Dense(64, activation='relu'))\n",
    "# 3rd hidden layer\n",
    "model.add(Dense(32, activation='relu'))\n",
    "# ouput layer\n",
    "model.add(Dense(1, activation=None))"
   ]
  },
  {
   "cell_type": "code",
   "execution_count": 149,
   "metadata": {},
   "outputs": [
    {
     "name": "stdout",
     "output_type": "stream",
     "text": [
      "Model: \"sequential_16\"\n",
      "_________________________________________________________________\n",
      "Layer (type)                 Output Shape              Param #   \n",
      "=================================================================\n",
      "dense_64 (Dense)             (None, 32)                480       \n",
      "_________________________________________________________________\n",
      "dense_65 (Dense)             (None, 64)                2112      \n",
      "_________________________________________________________________\n",
      "dense_66 (Dense)             (None, 32)                2080      \n",
      "_________________________________________________________________\n",
      "dense_67 (Dense)             (None, 1)                 33        \n",
      "=================================================================\n",
      "Total params: 4,705\n",
      "Trainable params: 4,705\n",
      "Non-trainable params: 0\n",
      "_________________________________________________________________\n"
     ]
    }
   ],
   "source": [
    "model.summary()"
   ]
  },
  {
   "cell_type": "code",
   "execution_count": 150,
   "metadata": {},
   "outputs": [],
   "source": [
    "#complie\n",
    "model.compile(loss='mse', optimizer='adam', metrics=['mse', tf.keras.metrics.RootMeanSquaredError()])"
   ]
  },
  {
   "cell_type": "code",
   "execution_count": 151,
   "metadata": {},
   "outputs": [],
   "source": [
    "#fit\n",
    "results = model.fit(X_train_sc, y_train, epochs=200, batch_size=50, validation_data=(X_test_sc, y_test), verbose=0)"
   ]
  },
  {
   "cell_type": "code",
   "execution_count": 152,
   "metadata": {},
   "outputs": [
    {
     "data": {
      "text/plain": [
       "4.180414199829102"
      ]
     },
     "execution_count": 152,
     "metadata": {},
     "output_type": "execute_result"
    }
   ],
   "source": [
    "# results\n",
    "results.history['val_root_mean_squared_error'][-1]"
   ]
  },
  {
   "cell_type": "code",
   "execution_count": 153,
   "metadata": {},
   "outputs": [
    {
     "data": {
      "image/png": "[encoded data removed]",
      "text/plain": [
       "<Figure size 432x288 with 1 Axes>"
      ]
     },
     "metadata": {
      "needs_background": "light"
     },
     "output_type": "display_data"
    }
   ],
   "source": [
    "plt.plot(results.history['root_mean_squared_error'], label='Training RMSE')\n",
    "plt.plot(results.history['val_root_mean_squared_error'], label='Validation RMSE')\n",
    "plt.legend();"
   ]
  },
  {
   "cell_type": "code",
   "execution_count": null,
   "metadata": {},
   "outputs": [],
   "source": []
  }
 ],
 "metadata": {
  "kernelspec": {
   "display_name": "Python (nnet)",
   "language": "python",
   "name": "nnet"
  },
  "language_info": {
   "codemirror_mode": {
    "name": "ipython",
    "version": 3
   },
   "file_extension": ".py",
   "mimetype": "text/x-python",
   "name": "python",
   "nbconvert_exporter": "python",
   "pygments_lexer": "ipython3",
   "version": "3.8.8"
  }
 },
 "nbformat": 4,
 "nbformat_minor": 4
}
