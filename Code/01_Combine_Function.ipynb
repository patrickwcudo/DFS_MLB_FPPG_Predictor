{
 "cells": [
  {
   "cell_type": "markdown",
   "metadata": {},
   "source": [
    "### The purpose of this note book is to combine 2019 and 2020 MLB stats for both pitchers and batters.  Also clean testing data to match training data for predictions."
   ]
  },
  {
   "cell_type": "code",
   "execution_count": 1,
   "metadata": {},
   "outputs": [],
   "source": [
    "#imports\n",
    "import pandas as pd"
   ]
  },
  {
   "cell_type": "markdown",
   "metadata": {},
   "source": [
    "# Batter Functions"
   ]
  },
  {
   "cell_type": "code",
   "execution_count": 4,
   "metadata": {},
   "outputs": [],
   "source": [
    "    # Create function for batters\n",
    "def batter_combine(bat_19, bat_20):\n",
    "        # step 1 merge\n",
    "        batters = bat_19.merge(bat_20, how='left', on='Name')\n",
    "\n",
    "        # step 2 handle nulls\n",
    "        batters.fillna(0, inplace=True)\n",
    "\n",
    "        # step 3 create list for integer stats\n",
    "        # create a list of integer stats\n",
    "        col_list = ['GMS_', 'AB_', 'R_', 'H_', '2B_', '3B_', 'HR_', 'RBI_', 'BB_', 'SO_', 'SB_', 'CS_', 'PTS_']\n",
    "\n",
    "        # for each column in the list of int stats\n",
    "        for col in col_list:\n",
    "            # create name for col\n",
    "            col_name = str(col).replace('_','')\n",
    "            # create list for data\n",
    "            col_data = []\n",
    "            # set counter for y column\n",
    "            counter = 0\n",
    "\n",
    "            # for each row in the specific column\n",
    "            for row in batters[f'{col}x']:\n",
    "                # sum similar cols somehow; possibly use x,y f string\n",
    "                col_data.append(row + batters[f'{col}y'][counter])\n",
    "                # increase counter\n",
    "                counter += 1\n",
    "\n",
    "            # add col to df\n",
    "            batters[col_name] = col_data\n",
    "            # drop x, y cols for col\n",
    "            batters.drop(columns=[f'{col}x', f'{col}y'], inplace=True)\n",
    "\n",
    "        # step 4 drop and rename columns\n",
    "        # create drop list\n",
    "        drop_list = ['Rank_', 'AVG_', 'OBP_', 'SLG_', 'OPS_']\n",
    "        # loop through list and drop \n",
    "        for col in drop_list:\n",
    "            batters.drop(columns=[f'{col}x', f'{col}y'], inplace=True)\n",
    "        # drop duplicate cols\n",
    "        batters.drop(columns=['Team_y', 'POS_y'], inplace=True)\n",
    "        # rename remaining team, pos columns\n",
    "        batters.rename(columns={'Team_x':'Team', 'POS_x': 'POS'}, inplace=True)\n",
    "\n",
    "        # step 5 total bases column\n",
    "        # total bases\n",
    "        total_bases = []\n",
    "        counter2 = 0\n",
    "        for row in batters['H']:\n",
    "            # define singles\n",
    "            single = row - (batters['2B'][counter2] + batters['3B'][counter2] + batters['HR'][counter2])\n",
    "            # create total bases for each player and add to total bases list \n",
    "            total_bases.append(single + ((batters['2B'][counter2])*2) + ((batters['3B'][counter2])*3) + ((batters['HR'][counter2])*4))\n",
    "            # increase counter\n",
    "            counter2 += 1\n",
    "\n",
    "        # add list as column to dataframe\n",
    "        batters['TB'] = total_bases\n",
    "\n",
    "        # step 6 create percentage stat categories\n",
    "        # create batting avg list\n",
    "        bat_avg = []\n",
    "        # create slugging percentage list \n",
    "        slg_list = []\n",
    "        # create on base percentage list\n",
    "        obp = []\n",
    "        # create ops list\n",
    "        ops = []\n",
    "        # fantasy points per game\n",
    "        fppg = []\n",
    "        # for each row calculate stats\n",
    "        for i in batters.index:\n",
    "            #calculate batting average and add to list \n",
    "            bat_avg.append(round((batters['H'][i]/batters['AB'][i]), 4))\n",
    "            #calculate slugging percentage and add to list\n",
    "            slg_list.append(round((batters['TB'][i]/batters['AB'][i]), 4))\n",
    "            #calculate on base percentage and add to list \n",
    "            obp.append(round(((batters['H'][i]+batters['BB'][i])/(batters['AB'][i]+batters['BB'][i])),4))\n",
    "            #calculate fppg and add to list\n",
    "            fppg.append(batters['PTS'][i]/batters['GMS'][i])\n",
    "\n",
    "        # create seperate loop for ops\n",
    "        for x,y in zip(obp, slg_list):\n",
    "            ops.append(round((x+y), 4))\n",
    "\n",
    "        # add stats to dataframe\n",
    "        batters['AVG'] = bat_avg\n",
    "        batters['SLG'] = slg_list\n",
    "        batters['OBP'] = obp\n",
    "        batters['OPS'] = ops\n",
    "        batters['FPPG'] = fppg\n",
    "\n",
    "        # step 7 drop nulls if any \n",
    "        batters.dropna(inplace=True)\n",
    "\n",
    "        # RETURN\n",
    "        return batters"
   ]
  },
  {
   "cell_type": "code",
   "execution_count": 8,
   "metadata": {},
   "outputs": [],
   "source": [
    "# seperate function for test data \n",
    "def testing_data_clean(batters):\n",
    "        # total bases\n",
    "        total_bases = []\n",
    "        counter2 = 0\n",
    "        for row in batters['H']:\n",
    "            # define singles\n",
    "            single = row - (batters['2B'][counter2] + batters['3B'][counter2] + batters['HR'][counter2])\n",
    "            # create total bases for each player and add to total bases list \n",
    "            total_bases.append(single + ((batters['2B'][counter2])*2) + ((batters['3B'][counter2])*3) + ((batters['HR'][counter2])*4))\n",
    "            # increase counter\n",
    "            counter2 += 1\n",
    "\n",
    "        # add list as column to dataframe\n",
    "        batters['TB'] = total_bases\n",
    "        \n",
    "        # fantasy points per game\n",
    "        fppg = []\n",
    "        \n",
    "        for i in batters.index:\n",
    "            #calculate fppg and add to list\n",
    "            fppg.append(batters['PTS'][i]/batters['GMS'][i])\n",
    "        # add to df\n",
    "        batters['FPPG'] = fppg\n",
    "        \n",
    "        # drop rank\n",
    "        batters.drop(columns='Rank', inplace=True)\n",
    "        \n",
    "        # match same column order as train data\n",
    "        batters = batters[['Name', 'TEAM', 'POS', 'GMS', 'AB', 'R', 'H', '2B', '3B', 'HR', 'RBI',\n",
    "                           'BB', 'SO', 'SB', 'CS', 'TB', 'AVG', 'OBP', 'SLG', 'OPS', 'PTS',\n",
    "                           'FPPG']]\n",
    "        return batters"
   ]
  },
  {
   "cell_type": "markdown",
   "metadata": {},
   "source": [
    "---"
   ]
  },
  {
   "cell_type": "markdown",
   "metadata": {},
   "source": [
    "### Importing, cleaning and saving batter testing data."
   ]
  },
  {
   "cell_type": "code",
   "execution_count": 10,
   "metadata": {},
   "outputs": [],
   "source": [
    "# read in test data\n",
    "batters = pd.read_csv('../CapStone_Data/fanduel_2021 - batters.csv')"
   ]
  },
  {
   "cell_type": "code",
   "execution_count": 11,
   "metadata": {},
   "outputs": [],
   "source": [
    "batters = testing_data_clean(batters)"
   ]
  },
  {
   "cell_type": "code",
   "execution_count": 13,
   "metadata": {},
   "outputs": [],
   "source": [
    "# export to folder \n",
    "batters.to_csv('../Modeling_Data/batter_test_data.csv', index=False)"
   ]
  },
  {
   "cell_type": "markdown",
   "metadata": {},
   "source": [
    "### Importing, cleaning and saving batter training data."
   ]
  },
  {
   "cell_type": "code",
   "execution_count": 3,
   "metadata": {},
   "outputs": [],
   "source": [
    "# read in 2019 and 2020 batter data\n",
    "bat_19 = pd.read_csv('../CapStone_Data/fanduel_2019 - batters.csv')\n",
    "bat_20 = pd.read_csv('../CapStone_Data/fanduel_2020 - batters.csv')"
   ]
  },
  {
   "cell_type": "code",
   "execution_count": 6,
   "metadata": {
    "collapsed": true,
    "jupyter": {
     "outputs_hidden": true
    }
   },
   "outputs": [
    {
     "name": "stderr",
     "output_type": "stream",
     "text": [
      "<ipython-input-4-7863ab0e1d79>:74: RuntimeWarning: invalid value encountered in double_scalars\n",
      "  bat_avg.append(round((batters['H'][i]/batters['AB'][i]), 4))\n",
      "<ipython-input-4-7863ab0e1d79>:76: RuntimeWarning: invalid value encountered in double_scalars\n",
      "  slg_list.append(round((batters['TB'][i]/batters['AB'][i]), 4))\n",
      "<ipython-input-4-7863ab0e1d79>:78: RuntimeWarning: invalid value encountered in double_scalars\n",
      "  obp.append(round(((batters['H'][i]+batters['BB'][i])/(batters['AB'][i]+batters['BB'][i])),4))\n"
     ]
    }
   ],
   "source": [
    "# test function on past data\n",
    "batter = batter_combine(bat_19, bat_20)"
   ]
  },
  {
   "cell_type": "code",
   "execution_count": null,
   "metadata": {},
   "outputs": [],
   "source": [
    "# save file as modeling batter data\n",
    "batter.to_csv('../Modeling_Data/batter_data_modeling.csv', index=False)"
   ]
  },
  {
   "cell_type": "markdown",
   "metadata": {},
   "source": [
    "---"
   ]
  },
  {
   "cell_type": "markdown",
   "metadata": {},
   "source": [
    "# Pitcher Functions"
   ]
  },
  {
   "cell_type": "code",
   "execution_count": 38,
   "metadata": {},
   "outputs": [],
   "source": [
    "def combine_pitchers(df1, df2):\n",
    "    # Step 1 merge dataframes\n",
    "    pitchers = df1.merge(df2, how='left', on='Name')\n",
    "\n",
    "    # Step 2 fill nulls with zero\n",
    "    pitchers.fillna(0, inplace=True)\n",
    "\n",
    "    # step 3 create column list for integer stats to be summed and add to dataframe, also delete old columns\n",
    "    col_list = ['W_', 'L_', 'GMS_', 'GS_', 'SV_', 'IP_', 'H_', 'R_', 'ER_', 'HR_', 'BB_', 'SO_', 'PTS_']\n",
    "\n",
    "    # for each column in the list of int stats\n",
    "    for col in col_list:\n",
    "        # create name for col\n",
    "        col_name = str(col).replace('_','')\n",
    "        # create list for data\n",
    "        col_data = []\n",
    "        # set counter for y column\n",
    "        counter = 0\n",
    "\n",
    "        # for each row in the specific column\n",
    "        for row in pitchers[f'{col}x']:\n",
    "            # sum similar cols somehow; possibly use x,y f string\n",
    "            col_data.append(row + pitchers[f'{col}y'][counter])\n",
    "            # increase counter\n",
    "            counter += 1\n",
    "\n",
    "        # add col to df\n",
    "        pitchers[col_name] = col_data\n",
    "        # drop x, y cols for col\n",
    "        pitchers.drop(columns=[f'{col}x', f'{col}y'], inplace=True)\n",
    "\n",
    "    # step 4 drop and rename columns\n",
    "    pitchers.drop(columns=['Team_y', 'POS_y'], inplace=True)\n",
    "    # rename remaining team, pos columns\n",
    "    pitchers.rename(columns={'Team_x':'Team', 'POS_x': 'POS'}, inplace=True)\n",
    "    # create drop list\n",
    "    drop_list = ['Rank_', 'ERA_', 'AVG_', 'WHIP_']\n",
    "    # loop through list and drop \n",
    "    for col in drop_list:\n",
    "        pitchers.drop(columns=[f'{col}x', f'{col}y'], inplace=True)\n",
    "\n",
    "    # step 5 Add percentage stats to pitchers. ERA and WHIP.\n",
    "    # create era list\n",
    "    era_list = []\n",
    "    # create whip list \n",
    "    whip_list = []\n",
    "    # fantasy points per game\n",
    "    fppg = []\n",
    "    # for each row calculate stats\n",
    "    for i in pitchers.index:\n",
    "        #calculate batting average and add to list \n",
    "        era_list.append(round(((9*pitchers['ER'][i])/pitchers['IP'][i]), 4))\n",
    "        #calculate slugging percentage and add to list\n",
    "        whip_list.append(round((pitchers['BB'][i] + pitchers['H'][i]/pitchers['IP'][i]), 4))\n",
    "        #calculate fppg and add to list\n",
    "        fppg.append(pitchers['PTS'][i]/pitchers['GMS'][i])\n",
    "\n",
    "    # add stats to dataframe\n",
    "    pitchers['ERA'] = era_list\n",
    "    pitchers['WHIP'] = whip_list\n",
    "    pitchers['FPPG'] = fppg\n",
    "\n",
    "    # step 6 drop nulls and any pitcher with less than 0 fantasy point per game\n",
    "    pitchers.dropna(inplace=True)\n",
    "    pitchers = pitchers.loc[pitchers['PTS']>0]\n",
    "\n",
    "    # return\n",
    "    return pitchers"
   ]
  },
  {
   "cell_type": "code",
   "execution_count": 46,
   "metadata": {},
   "outputs": [],
   "source": [
    "# testing data function\n",
    "def testing_pitcher_data_clean(pitchers):\n",
    "    \n",
    "    # step 1 drop columns\n",
    "    pitchers.drop(columns='Rank')\n",
    "    \n",
    "    # step 2 add FPPG\n",
    "    fppg = []\n",
    "    # for each row calculate stats\n",
    "    for i in pitchers.index:\n",
    "        #calculate fppg and add to list\n",
    "        fppg.append(pitchers['PTS'][i]/pitchers['GMS'][i])\n",
    "    # add stats to dataframe\n",
    "    pitchers['FPPG'] = fppg\n",
    "    \n",
    "    # step 3 reorder columns to match train\n",
    "    pitchers = pitchers[['Name', 'Team', 'Pos', 'W', 'L', 'GMS', 'GS', 'SV', 'IP', 'H', 'R',\n",
    "       'ER', 'HR', 'BB', 'SO', 'PTS', 'ERA', 'WHIP', 'FPPG']]\n",
    "    \n",
    "    # step 4 drop any pitcher with less than 0 fantasy points per game\n",
    "    pitchers = pitchers.loc[pitchers['PTS']>0]\n",
    "    \n",
    "    # return\n",
    "    return pitchers"
   ]
  },
  {
   "cell_type": "markdown",
   "metadata": {},
   "source": [
    "### Importing, cleaning and saving pitcher training data."
   ]
  },
  {
   "cell_type": "code",
   "execution_count": 21,
   "metadata": {},
   "outputs": [],
   "source": [
    "# test pitcher function\n",
    "pitch_19 = pd.read_csv('../CapStone_Data/fanduel_2019 - pitchers.csv')\n",
    "pitch_20 = pd.read_csv('../CapStone_Data/fanduel_2020 - pitchers.csv')"
   ]
  },
  {
   "cell_type": "code",
   "execution_count": 23,
   "metadata": {
    "collapsed": true,
    "jupyter": {
     "outputs_hidden": true
    }
   },
   "outputs": [
    {
     "name": "stderr",
     "output_type": "stream",
     "text": [
      "<ipython-input-20-2d94bbfb0162>:52: RuntimeWarning: invalid value encountered in double_scalars\n",
      "  era_list.append(round(((9*pitchers['ER'][i])/pitchers['IP'][i]), 4))\n",
      "<ipython-input-20-2d94bbfb0162>:54: RuntimeWarning: invalid value encountered in double_scalars\n",
      "  whip_list.append(round((pitchers['BB'][i] + pitchers['H'][i]/pitchers['IP'][i]), 4))\n",
      "<ipython-input-20-2d94bbfb0162>:52: RuntimeWarning: divide by zero encountered in double_scalars\n",
      "  era_list.append(round(((9*pitchers['ER'][i])/pitchers['IP'][i]), 4))\n"
     ]
    }
   ],
   "source": [
    "# call function\n",
    "pitchers = combine_pitchers(pitch_19, pitch_20)"
   ]
  },
  {
   "cell_type": "code",
   "execution_count": 25,
   "metadata": {},
   "outputs": [],
   "source": [
    "# export to csv\n",
    "pitchers.to_csv('../Modeling_Data/pitcher_data_modeling.csv', index=False)"
   ]
  },
  {
   "cell_type": "markdown",
   "metadata": {},
   "source": [
    "### Importing, cleaning and saving pitcher training data."
   ]
  },
  {
   "cell_type": "code",
   "execution_count": 47,
   "metadata": {},
   "outputs": [],
   "source": [
    "# read in test data for pitchers\n",
    "pitchers_test = pd.read_csv('../CapStone_Data/fanduel_2021 - pitchers.csv')"
   ]
  },
  {
   "cell_type": "code",
   "execution_count": 48,
   "metadata": {},
   "outputs": [],
   "source": [
    "# clean pitcher test data with function\n",
    "pitchers_test = testing_pitcher_data_clean(pitchers_test)"
   ]
  },
  {
   "cell_type": "code",
   "execution_count": 49,
   "metadata": {},
   "outputs": [],
   "source": [
    "# export to csv\n",
    "pitchers_test.to_csv('../Modeling_Data/pitcher_test_data.csv', index=False)"
   ]
  }
 ],
 "metadata": {
  "kernelspec": {
   "display_name": "Python 3",
   "language": "python",
   "name": "python3"
  },
  "language_info": {
   "codemirror_mode": {
    "name": "ipython",
    "version": 3
   },
   "file_extension": ".py",
   "mimetype": "text/x-python",
   "name": "python",
   "nbconvert_exporter": "python",
   "pygments_lexer": "ipython3",
   "version": "3.8.5"
  }
 },
 "nbformat": 4,
 "nbformat_minor": 4
}
