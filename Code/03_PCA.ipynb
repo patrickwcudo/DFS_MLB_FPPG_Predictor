{
 "cells": [
  {
   "cell_type": "code",
   "execution_count": 1,
   "metadata": {},
   "outputs": [],
   "source": [
    "# IMPORTS\n",
    "import pandas as pd\n",
    "import numpy as np\n",
    "import matplotlib.pyplot as plt\n",
    "import seaborn as sns\n",
    "\n",
    "# import standardscaler\n",
    "from sklearn.preprocessing import StandardScaler, PolynomialFeatures\n",
    "\n",
    "# modeling function import\n",
    "from model import modeling_reg2\n",
    "\n",
    "# import metrics\n",
    "from sklearn.metrics import mean_squared_error\n",
    "\n",
    "# imports for classifier\n",
    "from sklearn.linear_model import LinearRegression\n",
    "from sklearn.neighbors import KNeighborsRegressor\n",
    "from sklearn.svm import SVR\n",
    "from sklearn.ensemble import RandomForestRegressor, AdaBoostRegressor, BaggingRegressor\n",
    "from sklearn.tree import DecisionTreeRegressor\n",
    "\n",
    "# import PCA\n",
    "from sklearn.decomposition import PCA"
   ]
  },
  {
   "cell_type": "code",
   "execution_count": 2,
   "metadata": {},
   "outputs": [],
   "source": [
    "# read in batter training data\n",
    "batter_train = pd.read_csv('../Modeling_Data/batter_data_modeling.csv')\n",
    "# read in batter testing data\n",
    "batter_test = pd.read_csv('../Modeling_Data/batter_test_data.csv')"
   ]
  },
  {
   "cell_type": "code",
   "execution_count": 3,
   "metadata": {},
   "outputs": [],
   "source": [
    "# split data in TTS\n",
    "X_train = batter_train.drop(columns=['Name', 'Team', 'POS', 'PTS', 'FPPG'])\n",
    "y_train = batter_train['FPPG']\n",
    "# testing \n",
    "X_test = batter_test.drop(columns=['Name', 'Team', 'Pos', 'PTS', 'FPPG'])\n",
    "y_test = batter_test['FPPG']"
   ]
  },
  {
   "cell_type": "code",
   "execution_count": 45,
   "metadata": {},
   "outputs": [],
   "source": [
    "# polynomnial features\n",
    "pf = PolynomialFeatures(degree=3)\n",
    "# fit and transform\n",
    "X_train_pf = pf.fit_transform(X_train)\n",
    "X_test_pf = pf.transform(X_test)"
   ]
  },
  {
   "cell_type": "code",
   "execution_count": 46,
   "metadata": {},
   "outputs": [],
   "source": [
    "# scale data\n",
    "sc = StandardScaler()\n",
    "# fit and transform X\n",
    "X_train_sc = sc.fit_transform(X_train_pf)\n",
    "X_test_sc = sc.transform(X_test_pf)"
   ]
  },
  {
   "cell_type": "code",
   "execution_count": 47,
   "metadata": {},
   "outputs": [
    {
     "data": {
      "text/plain": [
       "PCA(n_components=20)"
      ]
     },
     "execution_count": 47,
     "metadata": {},
     "output_type": "execute_result"
    }
   ],
   "source": [
    "# PCA\n",
    "pca = PCA(n_components=20)\n",
    "# fit \n",
    "pca.fit(X_train_sc)"
   ]
  },
  {
   "cell_type": "code",
   "execution_count": 48,
   "metadata": {},
   "outputs": [],
   "source": [
    "# fit transform \n",
    "Z_train = pca.transform(X_train_sc)\n",
    "Z_test = pca.transform(X_test_sc)"
   ]
  },
  {
   "cell_type": "code",
   "execution_count": 53,
   "metadata": {
    "collapsed": true,
    "jupyter": {
     "outputs_hidden": true,
     "source_hidden": true
    }
   },
   "outputs": [
    {
     "data": {
      "image/png": "[encoded data removed]",
      "text/plain": [
       "<Figure size 576x360 with 2 Axes>"
      ]
     },
     "metadata": {
      "needs_background": "light"
     },
     "output_type": "display_data"
    }
   ],
   "source": [
    "plt.figure(figsize=(8,5))\n",
    "sns.heatmap(data=pd.DataFrame(Z_train).corr(), cmap='Blues')\n",
    "plt.title('Preference Columns Heatmap');"
   ]
  },
  {
   "cell_type": "code",
   "execution_count": 49,
   "metadata": {},
   "outputs": [],
   "source": [
    "# instaniate all models\n",
    "linreg = LinearRegression()\n",
    "knn = KNeighborsRegressor()\n",
    "svc = SVR()\n",
    "forest = RandomForestRegressor()\n",
    "tree = DecisionTreeRegressor()\n",
    "abc = AdaBoostRegressor()\n",
    "bag = BaggingRegressor()"
   ]
  },
  {
   "cell_type": "code",
   "execution_count": 50,
   "metadata": {},
   "outputs": [],
   "source": [
    "# create list of classifiers\n",
    "class_list = [linreg, knn, svc, forest, tree, abc, bag]"
   ]
  },
  {
   "cell_type": "code",
   "execution_count": 51,
   "metadata": {},
   "outputs": [],
   "source": [
    "results = modeling_reg2(batter_train, Z_train, y_train, batter_test, Z_test, y_test, class_list)"
   ]
  },
  {
   "cell_type": "code",
   "execution_count": 52,
   "metadata": {},
   "outputs": [
    {
     "data": {
      "text/html": [
       "<div>\n",
       "<style scoped>\n",
       "    .dataframe tbody tr th:only-of-type {\n",
       "        vertical-align: middle;\n",
       "    }\n",
       "\n",
       "    .dataframe tbody tr th {\n",
       "        vertical-align: top;\n",
       "    }\n",
       "\n",
       "    .dataframe thead th {\n",
       "        text-align: right;\n",
       "    }\n",
       "</style>\n",
       "<table border=\"1\" class=\"dataframe\">\n",
       "  <thead>\n",
       "    <tr style=\"text-align: right;\">\n",
       "      <th></th>\n",
       "      <th>Baseline - RMSE</th>\n",
       "      <th>Model - RMSE</th>\n",
       "      <th>R2 Score - Train</th>\n",
       "      <th>R2 Score - Test</th>\n",
       "    </tr>\n",
       "  </thead>\n",
       "  <tbody>\n",
       "    <tr>\n",
       "      <th>LinearRegression()</th>\n",
       "      <td>3.078159</td>\n",
       "      <td>3.249809</td>\n",
       "      <td>0.874127</td>\n",
       "      <td>0.325476</td>\n",
       "    </tr>\n",
       "    <tr>\n",
       "      <th>KNeighborsRegressor()</th>\n",
       "      <td>3.078159</td>\n",
       "      <td>3.612163</td>\n",
       "      <td>0.916028</td>\n",
       "      <td>0.166671</td>\n",
       "    </tr>\n",
       "    <tr>\n",
       "      <th>SVR()</th>\n",
       "      <td>3.078159</td>\n",
       "      <td>3.074152</td>\n",
       "      <td>0.882136</td>\n",
       "      <td>0.396423</td>\n",
       "    </tr>\n",
       "    <tr>\n",
       "      <th>RandomForestRegressor()</th>\n",
       "      <td>3.078159</td>\n",
       "      <td>3.248816</td>\n",
       "      <td>0.988074</td>\n",
       "      <td>0.325888</td>\n",
       "    </tr>\n",
       "    <tr>\n",
       "      <th>DecisionTreeRegressor()</th>\n",
       "      <td>3.078159</td>\n",
       "      <td>3.524496</td>\n",
       "      <td>1.000000</td>\n",
       "      <td>0.206630</td>\n",
       "    </tr>\n",
       "    <tr>\n",
       "      <th>AdaBoostRegressor()</th>\n",
       "      <td>3.078159</td>\n",
       "      <td>3.324000</td>\n",
       "      <td>0.915941</td>\n",
       "      <td>0.294326</td>\n",
       "    </tr>\n",
       "    <tr>\n",
       "      <th>BaggingRegressor()</th>\n",
       "      <td>3.078159</td>\n",
       "      <td>3.228537</td>\n",
       "      <td>0.983870</td>\n",
       "      <td>0.334277</td>\n",
       "    </tr>\n",
       "  </tbody>\n",
       "</table>\n",
       "</div>"
      ],
      "text/plain": [
       "                         Baseline - RMSE  Model - RMSE  R2 Score - Train  \\\n",
       "LinearRegression()              3.078159      3.249809          0.874127   \n",
       "KNeighborsRegressor()           3.078159      3.612163          0.916028   \n",
       "SVR()                           3.078159      3.074152          0.882136   \n",
       "RandomForestRegressor()         3.078159      3.248816          0.988074   \n",
       "DecisionTreeRegressor()         3.078159      3.524496          1.000000   \n",
       "AdaBoostRegressor()             3.078159      3.324000          0.915941   \n",
       "BaggingRegressor()              3.078159      3.228537          0.983870   \n",
       "\n",
       "                         R2 Score - Test  \n",
       "LinearRegression()              0.325476  \n",
       "KNeighborsRegressor()           0.166671  \n",
       "SVR()                           0.396423  \n",
       "RandomForestRegressor()         0.325888  \n",
       "DecisionTreeRegressor()         0.206630  \n",
       "AdaBoostRegressor()             0.294326  \n",
       "BaggingRegressor()              0.334277  "
      ]
     },
     "execution_count": 52,
     "metadata": {},
     "output_type": "execute_result"
    }
   ],
   "source": [
    "results"
   ]
  },
  {
   "cell_type": "markdown",
   "metadata": {},
   "source": [
    "---"
   ]
  },
  {
   "cell_type": "code",
   "execution_count": 54,
   "metadata": {},
   "outputs": [],
   "source": [
    "# read in pitcher training data\n",
    "pitcher_train = pd.read_csv('../Modeling_Data/pitcher_data_modeling.csv')\n",
    "# read in batter testing data\n",
    "pitcher_test = pd.read_csv('../Modeling_Data/pitcher_test_data.csv')"
   ]
  },
  {
   "cell_type": "code",
   "execution_count": 55,
   "metadata": {},
   "outputs": [],
   "source": [
    "# split data in TTS\n",
    "X_train = pitcher_train.drop(columns=['Name', 'Team', 'POS', 'PTS', 'AVG', 'FPPG'])\n",
    "y_train = pitcher_train['FPPG']\n",
    "# testing \n",
    "X_test = pitcher_test.drop(columns=['Name', 'Team', 'Pos', 'PTS', 'AVG', 'FPPG'])\n",
    "y_test = pitcher_test['FPPG']"
   ]
  },
  {
   "cell_type": "code",
   "execution_count": 56,
   "metadata": {},
   "outputs": [],
   "source": [
    "# polynomnial features\n",
    "pf = PolynomialFeatures(degree=3)\n",
    "# fit and transform\n",
    "X_train_pf = pf.fit_transform(X_train)\n",
    "X_test_pf = pf.transform(X_test)"
   ]
  },
  {
   "cell_type": "code",
   "execution_count": 57,
   "metadata": {},
   "outputs": [],
   "source": [
    "# scale data\n",
    "sc = StandardScaler()\n",
    "# fit and transform X\n",
    "X_train_sc = sc.fit_transform(X_train_pf)\n",
    "X_test_sc = sc.transform(X_test_pf)"
   ]
  },
  {
   "cell_type": "code",
   "execution_count": 58,
   "metadata": {},
   "outputs": [
    {
     "data": {
      "text/plain": [
       "PCA(n_components=20)"
      ]
     },
     "execution_count": 58,
     "metadata": {},
     "output_type": "execute_result"
    }
   ],
   "source": [
    "# PCA\n",
    "pca = PCA(n_components=20)\n",
    "# fit \n",
    "pca.fit(X_train_sc)"
   ]
  },
  {
   "cell_type": "code",
   "execution_count": 59,
   "metadata": {},
   "outputs": [],
   "source": [
    "# fit transform \n",
    "Z_train = pca.transform(X_train_sc)\n",
    "Z_test = pca.transform(X_test_sc)"
   ]
  },
  {
   "cell_type": "code",
   "execution_count": 60,
   "metadata": {
    "collapsed": true,
    "jupyter": {
     "outputs_hidden": true,
     "source_hidden": true
    }
   },
   "outputs": [
    {
     "data": {
      "image/png": "[encoded data removed]",
      "text/plain": [
       "<Figure size 576x360 with 2 Axes>"
      ]
     },
     "metadata": {
      "needs_background": "light"
     },
     "output_type": "display_data"
    }
   ],
   "source": [
    "plt.figure(figsize=(8,5))\n",
    "sns.heatmap(data=pd.DataFrame(Z_train).corr(), cmap='Blues')\n",
    "plt.title('Preference Columns Heatmap');"
   ]
  },
  {
   "cell_type": "code",
   "execution_count": 61,
   "metadata": {},
   "outputs": [],
   "source": [
    "# instaniate all models\n",
    "linreg = LinearRegression()\n",
    "knn = KNeighborsRegressor()\n",
    "svc = SVR()\n",
    "forest = RandomForestRegressor()\n",
    "tree = DecisionTreeRegressor()\n",
    "abc = AdaBoostRegressor()\n",
    "bag = BaggingRegressor()"
   ]
  },
  {
   "cell_type": "code",
   "execution_count": 62,
   "metadata": {},
   "outputs": [],
   "source": [
    "# create list of classifiers\n",
    "class_list = [linreg, knn, svc, forest, tree, abc, bag]"
   ]
  },
  {
   "cell_type": "code",
   "execution_count": 64,
   "metadata": {},
   "outputs": [],
   "source": [
    "results = modeling_reg2(pitcher_train, Z_train, y_train, pitcher_test, Z_test, y_test, class_list)"
   ]
  },
  {
   "cell_type": "code",
   "execution_count": 65,
   "metadata": {},
   "outputs": [
    {
     "data": {
      "text/html": [
       "<div>\n",
       "<style scoped>\n",
       "    .dataframe tbody tr th:only-of-type {\n",
       "        vertical-align: middle;\n",
       "    }\n",
       "\n",
       "    .dataframe tbody tr th {\n",
       "        vertical-align: top;\n",
       "    }\n",
       "\n",
       "    .dataframe thead th {\n",
       "        text-align: right;\n",
       "    }\n",
       "</style>\n",
       "<table border=\"1\" class=\"dataframe\">\n",
       "  <thead>\n",
       "    <tr style=\"text-align: right;\">\n",
       "      <th></th>\n",
       "      <th>Baseline - RMSE</th>\n",
       "      <th>Model - RMSE</th>\n",
       "      <th>R2 Score - Train</th>\n",
       "      <th>R2 Score - Test</th>\n",
       "    </tr>\n",
       "  </thead>\n",
       "  <tbody>\n",
       "    <tr>\n",
       "      <th>LinearRegression()</th>\n",
       "      <td>9.344332</td>\n",
       "      <td>11.641235</td>\n",
       "      <td>0.866456</td>\n",
       "      <td>-0.078672</td>\n",
       "    </tr>\n",
       "    <tr>\n",
       "      <th>KNeighborsRegressor()</th>\n",
       "      <td>9.344332</td>\n",
       "      <td>10.639370</td>\n",
       "      <td>0.932051</td>\n",
       "      <td>0.099004</td>\n",
       "    </tr>\n",
       "    <tr>\n",
       "      <th>SVR()</th>\n",
       "      <td>9.344332</td>\n",
       "      <td>12.760960</td>\n",
       "      <td>0.744418</td>\n",
       "      <td>-0.296158</td>\n",
       "    </tr>\n",
       "    <tr>\n",
       "      <th>RandomForestRegressor()</th>\n",
       "      <td>9.344332</td>\n",
       "      <td>7.186851</td>\n",
       "      <td>0.989198</td>\n",
       "      <td>0.588880</td>\n",
       "    </tr>\n",
       "    <tr>\n",
       "      <th>DecisionTreeRegressor()</th>\n",
       "      <td>9.344332</td>\n",
       "      <td>7.303649</td>\n",
       "      <td>1.000000</td>\n",
       "      <td>0.575409</td>\n",
       "    </tr>\n",
       "    <tr>\n",
       "      <th>AdaBoostRegressor()</th>\n",
       "      <td>9.344332</td>\n",
       "      <td>7.391134</td>\n",
       "      <td>0.890370</td>\n",
       "      <td>0.565176</td>\n",
       "    </tr>\n",
       "    <tr>\n",
       "      <th>BaggingRegressor()</th>\n",
       "      <td>9.344332</td>\n",
       "      <td>6.897984</td>\n",
       "      <td>0.980790</td>\n",
       "      <td>0.621265</td>\n",
       "    </tr>\n",
       "  </tbody>\n",
       "</table>\n",
       "</div>"
      ],
      "text/plain": [
       "                         Baseline - RMSE  Model - RMSE  R2 Score - Train  \\\n",
       "LinearRegression()              9.344332     11.641235          0.866456   \n",
       "KNeighborsRegressor()           9.344332     10.639370          0.932051   \n",
       "SVR()                           9.344332     12.760960          0.744418   \n",
       "RandomForestRegressor()         9.344332      7.186851          0.989198   \n",
       "DecisionTreeRegressor()         9.344332      7.303649          1.000000   \n",
       "AdaBoostRegressor()             9.344332      7.391134          0.890370   \n",
       "BaggingRegressor()              9.344332      6.897984          0.980790   \n",
       "\n",
       "                         R2 Score - Test  \n",
       "LinearRegression()             -0.078672  \n",
       "KNeighborsRegressor()           0.099004  \n",
       "SVR()                          -0.296158  \n",
       "RandomForestRegressor()         0.588880  \n",
       "DecisionTreeRegressor()         0.575409  \n",
       "AdaBoostRegressor()             0.565176  \n",
       "BaggingRegressor()              0.621265  "
      ]
     },
     "execution_count": 65,
     "metadata": {},
     "output_type": "execute_result"
    }
   ],
   "source": [
    "results"
   ]
  },
  {
   "cell_type": "markdown",
   "metadata": {},
   "source": [
    "# Note:\n",
    "Overall these scores are not improving upon the baseline RMSE."
   ]
  },
  {
   "cell_type": "code",
   "execution_count": null,
   "metadata": {},
   "outputs": [],
   "source": []
  }
 ],
 "metadata": {
  "kernelspec": {
   "display_name": "Python 3",
   "language": "python",
   "name": "python3"
  },
  "language_info": {
   "codemirror_mode": {
    "name": "ipython",
    "version": 3
   },
   "file_extension": ".py",
   "mimetype": "text/x-python",
   "name": "python",
   "nbconvert_exporter": "python",
   "pygments_lexer": "ipython3",
   "version": "3.8.5"
  }
 },
 "nbformat": 4,
 "nbformat_minor": 4
}
