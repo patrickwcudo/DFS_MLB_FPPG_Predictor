{
 "cells": [
  {
   "cell_type": "markdown",
   "metadata": {},
   "source": [
    "The purpose of this notebook is to create a function that takes the imported player list:\n",
    "- clean to only needed information\n",
    "- seperate by pither and batter\n",
    "- merge each on player name to get projections from model\n",
    "- merge back pitcher and batter data \n",
    "- output df for now\n",
    "\n",
    "Next steps:\n",
    "- build line up based on salary"
   ]
  },
  {
   "cell_type": "code",
   "execution_count": 1,
   "metadata": {},
   "outputs": [],
   "source": [
    "# imports\n",
    "import pandas as pd\n",
    "import numpy as np"
   ]
  },
  {
   "cell_type": "code",
   "execution_count": 2,
   "metadata": {},
   "outputs": [],
   "source": [
    "# will need fanduel import\n",
    "fd = pd.read_csv('../CapStone_Data/FanDuel-MLB-2021 ET-05 ET-06 ET-58417-players-list (2).csv')"
   ]
  },
  {
   "cell_type": "code",
   "execution_count": 3,
   "metadata": {},
   "outputs": [
    {
     "data": {
      "text/html": [
       "<div>\n",
       "<style scoped>\n",
       "    .dataframe tbody tr th:only-of-type {\n",
       "        vertical-align: middle;\n",
       "    }\n",
       "\n",
       "    .dataframe tbody tr th {\n",
       "        vertical-align: top;\n",
       "    }\n",
       "\n",
       "    .dataframe thead th {\n",
       "        text-align: right;\n",
       "    }\n",
       "</style>\n",
       "<table border=\"1\" class=\"dataframe\">\n",
       "  <thead>\n",
       "    <tr style=\"text-align: right;\">\n",
       "      <th></th>\n",
       "      <th>Id</th>\n",
       "      <th>Position</th>\n",
       "      <th>First Name</th>\n",
       "      <th>Nickname</th>\n",
       "      <th>Last Name</th>\n",
       "      <th>FPPG</th>\n",
       "      <th>Played</th>\n",
       "      <th>Salary</th>\n",
       "      <th>Game</th>\n",
       "      <th>Team</th>\n",
       "      <th>Opponent</th>\n",
       "      <th>Injury Indicator</th>\n",
       "      <th>Injury Details</th>\n",
       "      <th>Tier</th>\n",
       "      <th>Probable Pitcher</th>\n",
       "      <th>Batting Order</th>\n",
       "      <th>Roster Position</th>\n",
       "    </tr>\n",
       "  </thead>\n",
       "  <tbody>\n",
       "    <tr>\n",
       "      <th>0</th>\n",
       "      <td>58417-52859</td>\n",
       "      <td>P</td>\n",
       "      <td>Jacob</td>\n",
       "      <td>Jacob deGrom</td>\n",
       "      <td>deGrom</td>\n",
       "      <td>61.600000</td>\n",
       "      <td>5.0</td>\n",
       "      <td>12500</td>\n",
       "      <td>NYM@STL</td>\n",
       "      <td>NYM</td>\n",
       "      <td>STL</td>\n",
       "      <td>DTD</td>\n",
       "      <td>Lat</td>\n",
       "      <td>NaN</td>\n",
       "      <td>NaN</td>\n",
       "      <td>0.0</td>\n",
       "      <td>P</td>\n",
       "    </tr>\n",
       "    <tr>\n",
       "      <th>1</th>\n",
       "      <td>58417-16956</td>\n",
       "      <td>P</td>\n",
       "      <td>Gerrit</td>\n",
       "      <td>Gerrit Cole</td>\n",
       "      <td>Cole</td>\n",
       "      <td>54.166667</td>\n",
       "      <td>6.0</td>\n",
       "      <td>12300</td>\n",
       "      <td>HOU@NYY</td>\n",
       "      <td>NYY</td>\n",
       "      <td>HOU</td>\n",
       "      <td>NaN</td>\n",
       "      <td>NaN</td>\n",
       "      <td>NaN</td>\n",
       "      <td>Yes</td>\n",
       "      <td>NaN</td>\n",
       "      <td>P</td>\n",
       "    </tr>\n",
       "    <tr>\n",
       "      <th>2</th>\n",
       "      <td>58417-82554</td>\n",
       "      <td>P</td>\n",
       "      <td>Shane</td>\n",
       "      <td>Shane Bieber</td>\n",
       "      <td>Bieber</td>\n",
       "      <td>53.428571</td>\n",
       "      <td>7.0</td>\n",
       "      <td>12200</td>\n",
       "      <td>CLE@KC</td>\n",
       "      <td>CLE</td>\n",
       "      <td>KC</td>\n",
       "      <td>NaN</td>\n",
       "      <td>NaN</td>\n",
       "      <td>NaN</td>\n",
       "      <td>NaN</td>\n",
       "      <td>NaN</td>\n",
       "      <td>P</td>\n",
       "    </tr>\n",
       "    <tr>\n",
       "      <th>3</th>\n",
       "      <td>58417-5481</td>\n",
       "      <td>P</td>\n",
       "      <td>Max</td>\n",
       "      <td>Max Scherzer</td>\n",
       "      <td>Scherzer</td>\n",
       "      <td>42.166667</td>\n",
       "      <td>6.0</td>\n",
       "      <td>12000</td>\n",
       "      <td>ATL@WSH</td>\n",
       "      <td>WSH</td>\n",
       "      <td>ATL</td>\n",
       "      <td>NaN</td>\n",
       "      <td>NaN</td>\n",
       "      <td>NaN</td>\n",
       "      <td>NaN</td>\n",
       "      <td>NaN</td>\n",
       "      <td>P</td>\n",
       "    </tr>\n",
       "    <tr>\n",
       "      <th>4</th>\n",
       "      <td>58417-82604</td>\n",
       "      <td>P</td>\n",
       "      <td>Corbin</td>\n",
       "      <td>Corbin Burnes</td>\n",
       "      <td>Burnes</td>\n",
       "      <td>49.600000</td>\n",
       "      <td>5.0</td>\n",
       "      <td>11100</td>\n",
       "      <td>MIL@PHI</td>\n",
       "      <td>MIL</td>\n",
       "      <td>PHI</td>\n",
       "      <td>IL</td>\n",
       "      <td>Undisclosed</td>\n",
       "      <td>NaN</td>\n",
       "      <td>NaN</td>\n",
       "      <td>0.0</td>\n",
       "      <td>P</td>\n",
       "    </tr>\n",
       "  </tbody>\n",
       "</table>\n",
       "</div>"
      ],
      "text/plain": [
       "            Id Position First Name       Nickname Last Name       FPPG  \\\n",
       "0  58417-52859        P      Jacob   Jacob deGrom    deGrom  61.600000   \n",
       "1  58417-16956        P     Gerrit    Gerrit Cole      Cole  54.166667   \n",
       "2  58417-82554        P      Shane   Shane Bieber    Bieber  53.428571   \n",
       "3   58417-5481        P        Max   Max Scherzer  Scherzer  42.166667   \n",
       "4  58417-82604        P     Corbin  Corbin Burnes    Burnes  49.600000   \n",
       "\n",
       "   Played  Salary     Game Team Opponent Injury Indicator Injury Details  \\\n",
       "0     5.0   12500  NYM@STL  NYM      STL              DTD            Lat   \n",
       "1     6.0   12300  HOU@NYY  NYY      HOU              NaN            NaN   \n",
       "2     7.0   12200   CLE@KC  CLE       KC              NaN            NaN   \n",
       "3     6.0   12000  ATL@WSH  WSH      ATL              NaN            NaN   \n",
       "4     5.0   11100  MIL@PHI  MIL      PHI               IL    Undisclosed   \n",
       "\n",
       "   Tier Probable Pitcher  Batting Order Roster Position  \n",
       "0   NaN              NaN            0.0               P  \n",
       "1   NaN              Yes            NaN               P  \n",
       "2   NaN              NaN            NaN               P  \n",
       "3   NaN              NaN            NaN               P  \n",
       "4   NaN              NaN            0.0               P  "
      ]
     },
     "execution_count": 3,
     "metadata": {},
     "output_type": "execute_result"
    }
   ],
   "source": [
    "# print first 5 rows of fd\n",
    "fd.head()"
   ]
  },
  {
   "cell_type": "markdown",
   "metadata": {},
   "source": [
    "only columns needed:\n",
    "- id - will need this later for template\n",
    "- Position\n",
    "- nickname - renamed to Name\n",
    "- salary\n",
    "- game\n",
    "- team\n",
    "- opponent\n",
    "- injury indicator\n",
    "- probable pitcher"
   ]
  },
  {
   "cell_type": "code",
   "execution_count": 4,
   "metadata": {},
   "outputs": [
    {
     "data": {
      "text/plain": [
       "Index(['Id', 'Position', 'First Name', 'Nickname', 'Last Name', 'FPPG',\n",
       "       'Played', 'Salary', 'Game', 'Team', 'Opponent', 'Injury Indicator',\n",
       "       'Injury Details', 'Tier', 'Probable Pitcher', 'Batting Order',\n",
       "       'Roster Position'],\n",
       "      dtype='object')"
      ]
     },
     "execution_count": 4,
     "metadata": {},
     "output_type": "execute_result"
    }
   ],
   "source": [
    "fd.columns"
   ]
  },
  {
   "cell_type": "code",
   "execution_count": 5,
   "metadata": {},
   "outputs": [],
   "source": [
    "# clean up fd to match column list above\n",
    "fd.drop(columns=['First Name', 'Last Name', 'FPPG', 'Played',\n",
    "                 'Injury Details', 'Tier', 'Batting Order', 'Roster Position'], inplace=True)"
   ]
  },
  {
   "cell_type": "markdown",
   "metadata": {},
   "source": [
    "Next step is fill nulls in probable pitcher and injury indicator"
   ]
  },
  {
   "cell_type": "code",
   "execution_count": 6,
   "metadata": {},
   "outputs": [],
   "source": [
    "# filling nulls for probable pitcher\n",
    "fd['Probable Pitcher'].fillna('No', inplace=True)"
   ]
  },
  {
   "cell_type": "code",
   "execution_count": 7,
   "metadata": {},
   "outputs": [],
   "source": [
    "# fill nulls for injury indicator\n",
    "fd['Injury Indicator'].fillna('Healthy', inplace=True)"
   ]
  },
  {
   "cell_type": "code",
   "execution_count": 8,
   "metadata": {},
   "outputs": [
    {
     "data": {
      "text/html": [
       "<div>\n",
       "<style scoped>\n",
       "    .dataframe tbody tr th:only-of-type {\n",
       "        vertical-align: middle;\n",
       "    }\n",
       "\n",
       "    .dataframe tbody tr th {\n",
       "        vertical-align: top;\n",
       "    }\n",
       "\n",
       "    .dataframe thead th {\n",
       "        text-align: right;\n",
       "    }\n",
       "</style>\n",
       "<table border=\"1\" class=\"dataframe\">\n",
       "  <thead>\n",
       "    <tr style=\"text-align: right;\">\n",
       "      <th></th>\n",
       "      <th>Id</th>\n",
       "      <th>Position</th>\n",
       "      <th>Nickname</th>\n",
       "      <th>Salary</th>\n",
       "      <th>Game</th>\n",
       "      <th>Team</th>\n",
       "      <th>Opponent</th>\n",
       "      <th>Injury Indicator</th>\n",
       "      <th>Probable Pitcher</th>\n",
       "    </tr>\n",
       "  </thead>\n",
       "  <tbody>\n",
       "    <tr>\n",
       "      <th>0</th>\n",
       "      <td>58417-52859</td>\n",
       "      <td>P</td>\n",
       "      <td>Jacob deGrom</td>\n",
       "      <td>12500</td>\n",
       "      <td>NYM@STL</td>\n",
       "      <td>NYM</td>\n",
       "      <td>STL</td>\n",
       "      <td>DTD</td>\n",
       "      <td>No</td>\n",
       "    </tr>\n",
       "    <tr>\n",
       "      <th>1</th>\n",
       "      <td>58417-16956</td>\n",
       "      <td>P</td>\n",
       "      <td>Gerrit Cole</td>\n",
       "      <td>12300</td>\n",
       "      <td>HOU@NYY</td>\n",
       "      <td>NYY</td>\n",
       "      <td>HOU</td>\n",
       "      <td>Healthy</td>\n",
       "      <td>Yes</td>\n",
       "    </tr>\n",
       "    <tr>\n",
       "      <th>2</th>\n",
       "      <td>58417-82554</td>\n",
       "      <td>P</td>\n",
       "      <td>Shane Bieber</td>\n",
       "      <td>12200</td>\n",
       "      <td>CLE@KC</td>\n",
       "      <td>CLE</td>\n",
       "      <td>KC</td>\n",
       "      <td>Healthy</td>\n",
       "      <td>No</td>\n",
       "    </tr>\n",
       "    <tr>\n",
       "      <th>3</th>\n",
       "      <td>58417-5481</td>\n",
       "      <td>P</td>\n",
       "      <td>Max Scherzer</td>\n",
       "      <td>12000</td>\n",
       "      <td>ATL@WSH</td>\n",
       "      <td>WSH</td>\n",
       "      <td>ATL</td>\n",
       "      <td>Healthy</td>\n",
       "      <td>No</td>\n",
       "    </tr>\n",
       "    <tr>\n",
       "      <th>4</th>\n",
       "      <td>58417-82604</td>\n",
       "      <td>P</td>\n",
       "      <td>Corbin Burnes</td>\n",
       "      <td>11100</td>\n",
       "      <td>MIL@PHI</td>\n",
       "      <td>MIL</td>\n",
       "      <td>PHI</td>\n",
       "      <td>IL</td>\n",
       "      <td>No</td>\n",
       "    </tr>\n",
       "  </tbody>\n",
       "</table>\n",
       "</div>"
      ],
      "text/plain": [
       "            Id Position       Nickname  Salary     Game Team Opponent  \\\n",
       "0  58417-52859        P   Jacob deGrom   12500  NYM@STL  NYM      STL   \n",
       "1  58417-16956        P    Gerrit Cole   12300  HOU@NYY  NYY      HOU   \n",
       "2  58417-82554        P   Shane Bieber   12200   CLE@KC  CLE       KC   \n",
       "3   58417-5481        P   Max Scherzer   12000  ATL@WSH  WSH      ATL   \n",
       "4  58417-82604        P  Corbin Burnes   11100  MIL@PHI  MIL      PHI   \n",
       "\n",
       "  Injury Indicator Probable Pitcher  \n",
       "0              DTD               No  \n",
       "1          Healthy              Yes  \n",
       "2          Healthy               No  \n",
       "3          Healthy               No  \n",
       "4               IL               No  "
      ]
     },
     "execution_count": 8,
     "metadata": {},
     "output_type": "execute_result"
    }
   ],
   "source": [
    "# review new cleaned df\n",
    "fd.head()"
   ]
  },
  {
   "cell_type": "code",
   "execution_count": 9,
   "metadata": {},
   "outputs": [
    {
     "name": "stdout",
     "output_type": "stream",
     "text": [
      "<class 'pandas.core.frame.DataFrame'>\n",
      "RangeIndex: 604 entries, 0 to 603\n",
      "Data columns (total 9 columns):\n",
      " #   Column            Non-Null Count  Dtype \n",
      "---  ------            --------------  ----- \n",
      " 0   Id                604 non-null    object\n",
      " 1   Position          604 non-null    object\n",
      " 2   Nickname          604 non-null    object\n",
      " 3   Salary            604 non-null    int64 \n",
      " 4   Game              604 non-null    object\n",
      " 5   Team              604 non-null    object\n",
      " 6   Opponent          604 non-null    object\n",
      " 7   Injury Indicator  604 non-null    object\n",
      " 8   Probable Pitcher  604 non-null    object\n",
      "dtypes: int64(1), object(8)\n",
      "memory usage: 42.6+ KB\n"
     ]
    }
   ],
   "source": [
    "fd.info()"
   ]
  },
  {
   "cell_type": "markdown",
   "metadata": {},
   "source": [
    "Next step rename Nickname to name"
   ]
  },
  {
   "cell_type": "code",
   "execution_count": 10,
   "metadata": {},
   "outputs": [],
   "source": [
    "# renaming nickname column\n",
    "fd.rename(columns={'Nickname': 'Name'}, inplace=True)"
   ]
  },
  {
   "cell_type": "markdown",
   "metadata": {},
   "source": [
    "Next step filter to only healthy players"
   ]
  },
  {
   "cell_type": "code",
   "execution_count": 11,
   "metadata": {},
   "outputs": [],
   "source": [
    "# fitler to only healthy players\n",
    "fd = fd.loc[fd['Injury Indicator'] == 'Healthy']"
   ]
  },
  {
   "cell_type": "code",
   "execution_count": 12,
   "metadata": {},
   "outputs": [
    {
     "data": {
      "text/html": [
       "<div>\n",
       "<style scoped>\n",
       "    .dataframe tbody tr th:only-of-type {\n",
       "        vertical-align: middle;\n",
       "    }\n",
       "\n",
       "    .dataframe tbody tr th {\n",
       "        vertical-align: top;\n",
       "    }\n",
       "\n",
       "    .dataframe thead th {\n",
       "        text-align: right;\n",
       "    }\n",
       "</style>\n",
       "<table border=\"1\" class=\"dataframe\">\n",
       "  <thead>\n",
       "    <tr style=\"text-align: right;\">\n",
       "      <th></th>\n",
       "      <th>Id</th>\n",
       "      <th>Position</th>\n",
       "      <th>Name</th>\n",
       "      <th>Salary</th>\n",
       "      <th>Game</th>\n",
       "      <th>Team</th>\n",
       "      <th>Opponent</th>\n",
       "      <th>Injury Indicator</th>\n",
       "      <th>Probable Pitcher</th>\n",
       "    </tr>\n",
       "  </thead>\n",
       "  <tbody>\n",
       "    <tr>\n",
       "      <th>1</th>\n",
       "      <td>58417-16956</td>\n",
       "      <td>P</td>\n",
       "      <td>Gerrit Cole</td>\n",
       "      <td>12300</td>\n",
       "      <td>HOU@NYY</td>\n",
       "      <td>NYY</td>\n",
       "      <td>HOU</td>\n",
       "      <td>Healthy</td>\n",
       "      <td>Yes</td>\n",
       "    </tr>\n",
       "    <tr>\n",
       "      <th>2</th>\n",
       "      <td>58417-82554</td>\n",
       "      <td>P</td>\n",
       "      <td>Shane Bieber</td>\n",
       "      <td>12200</td>\n",
       "      <td>CLE@KC</td>\n",
       "      <td>CLE</td>\n",
       "      <td>KC</td>\n",
       "      <td>Healthy</td>\n",
       "      <td>No</td>\n",
       "    </tr>\n",
       "    <tr>\n",
       "      <th>3</th>\n",
       "      <td>58417-5481</td>\n",
       "      <td>P</td>\n",
       "      <td>Max Scherzer</td>\n",
       "      <td>12000</td>\n",
       "      <td>ATL@WSH</td>\n",
       "      <td>WSH</td>\n",
       "      <td>ATL</td>\n",
       "      <td>Healthy</td>\n",
       "      <td>No</td>\n",
       "    </tr>\n",
       "    <tr>\n",
       "      <th>5</th>\n",
       "      <td>58417-13268</td>\n",
       "      <td>P</td>\n",
       "      <td>Danny Duffy</td>\n",
       "      <td>10700</td>\n",
       "      <td>CLE@KC</td>\n",
       "      <td>KC</td>\n",
       "      <td>CLE</td>\n",
       "      <td>Healthy</td>\n",
       "      <td>Yes</td>\n",
       "    </tr>\n",
       "    <tr>\n",
       "      <th>7</th>\n",
       "      <td>58417-80582</td>\n",
       "      <td>P</td>\n",
       "      <td>Brandon Woodruff</td>\n",
       "      <td>10100</td>\n",
       "      <td>MIL@PHI</td>\n",
       "      <td>MIL</td>\n",
       "      <td>PHI</td>\n",
       "      <td>Healthy</td>\n",
       "      <td>Yes</td>\n",
       "    </tr>\n",
       "  </tbody>\n",
       "</table>\n",
       "</div>"
      ],
      "text/plain": [
       "            Id Position              Name  Salary     Game Team Opponent  \\\n",
       "1  58417-16956        P       Gerrit Cole   12300  HOU@NYY  NYY      HOU   \n",
       "2  58417-82554        P      Shane Bieber   12200   CLE@KC  CLE       KC   \n",
       "3   58417-5481        P      Max Scherzer   12000  ATL@WSH  WSH      ATL   \n",
       "5  58417-13268        P       Danny Duffy   10700   CLE@KC   KC      CLE   \n",
       "7  58417-80582        P  Brandon Woodruff   10100  MIL@PHI  MIL      PHI   \n",
       "\n",
       "  Injury Indicator Probable Pitcher  \n",
       "1          Healthy              Yes  \n",
       "2          Healthy               No  \n",
       "3          Healthy               No  \n",
       "5          Healthy              Yes  \n",
       "7          Healthy              Yes  "
      ]
     },
     "execution_count": 12,
     "metadata": {},
     "output_type": "execute_result"
    }
   ],
   "source": [
    "# review dataframe\n",
    "fd.head()"
   ]
  },
  {
   "cell_type": "code",
   "execution_count": 13,
   "metadata": {},
   "outputs": [
    {
     "name": "stdout",
     "output_type": "stream",
     "text": [
      "<class 'pandas.core.frame.DataFrame'>\n",
      "Int64Index: 493 entries, 1 to 603\n",
      "Data columns (total 9 columns):\n",
      " #   Column            Non-Null Count  Dtype \n",
      "---  ------            --------------  ----- \n",
      " 0   Id                493 non-null    object\n",
      " 1   Position          493 non-null    object\n",
      " 2   Name              493 non-null    object\n",
      " 3   Salary            493 non-null    int64 \n",
      " 4   Game              493 non-null    object\n",
      " 5   Team              493 non-null    object\n",
      " 6   Opponent          493 non-null    object\n",
      " 7   Injury Indicator  493 non-null    object\n",
      " 8   Probable Pitcher  493 non-null    object\n",
      "dtypes: int64(1), object(8)\n",
      "memory usage: 38.5+ KB\n"
     ]
    }
   ],
   "source": [
    "fd.info()"
   ]
  },
  {
   "cell_type": "markdown",
   "metadata": {},
   "source": [
    "next step is to split into pithcers and batters"
   ]
  },
  {
   "cell_type": "code",
   "execution_count": 14,
   "metadata": {},
   "outputs": [],
   "source": [
    "# split using .loc by position and make new dataframe for pitchers\n",
    "pitchers = fd.loc[fd['Position']=='P']"
   ]
  },
  {
   "cell_type": "code",
   "execution_count": 15,
   "metadata": {},
   "outputs": [],
   "source": [
    "# split using .loc by position and make new dataframe for batters\n",
    "batters = fd.loc[fd['Position']!='P']"
   ]
  },
  {
   "cell_type": "markdown",
   "metadata": {},
   "source": [
    "Now we have cleaned dataframes for each group. Now lets focus on pitchers to get projections added to dataframe."
   ]
  },
  {
   "cell_type": "markdown",
   "metadata": {},
   "source": [
    "First step for pitchers is to get the probable pitchers first, we only care about the ones that will start."
   ]
  },
  {
   "cell_type": "code",
   "execution_count": 16,
   "metadata": {},
   "outputs": [],
   "source": [
    "# save pitchers df to only starting pitchers\n",
    "pitchers = pitchers.loc[pitchers['Probable Pitcher']=='Yes']"
   ]
  },
  {
   "cell_type": "code",
   "execution_count": 17,
   "metadata": {},
   "outputs": [
    {
     "name": "stdout",
     "output_type": "stream",
     "text": [
      "<class 'pandas.core.frame.DataFrame'>\n",
      "Int64Index: 15 entries, 1 to 123\n",
      "Data columns (total 9 columns):\n",
      " #   Column            Non-Null Count  Dtype \n",
      "---  ------            --------------  ----- \n",
      " 0   Id                15 non-null     object\n",
      " 1   Position          15 non-null     object\n",
      " 2   Name              15 non-null     object\n",
      " 3   Salary            15 non-null     int64 \n",
      " 4   Game              15 non-null     object\n",
      " 5   Team              15 non-null     object\n",
      " 6   Opponent          15 non-null     object\n",
      " 7   Injury Indicator  15 non-null     object\n",
      " 8   Probable Pitcher  15 non-null     object\n",
      "dtypes: int64(1), object(8)\n",
      "memory usage: 1.2+ KB\n"
     ]
    }
   ],
   "source": [
    "# review changes\n",
    "pitchers.info()"
   ]
  },
  {
   "cell_type": "markdown",
   "metadata": {},
   "source": [
    "Next step is to combine projections with 2021 stats.\n",
    "- import testing data with projections from model\n",
    "- merge the two data frames"
   ]
  },
  {
   "cell_type": "code",
   "execution_count": 88,
   "metadata": {},
   "outputs": [],
   "source": [
    "# read in pitcher projections\n",
    "pitcher_proj = pd.read_csv('../Projections/pitcher_projections_2021.csv')"
   ]
  },
  {
   "cell_type": "markdown",
   "metadata": {},
   "source": [
    "Next step merge."
   ]
  },
  {
   "cell_type": "code",
   "execution_count": 89,
   "metadata": {},
   "outputs": [],
   "source": [
    "# merge attempt\n",
    "pitcher_projections = pitchers.merge(pitcher_proj, how='left', on='Name')"
   ]
  },
  {
   "cell_type": "markdown",
   "metadata": {},
   "source": [
    "Next step is to drop nulls from this list.  Will need to handle this in previous processes for final product."
   ]
  },
  {
   "cell_type": "code",
   "execution_count": 90,
   "metadata": {},
   "outputs": [],
   "source": [
    "pitcher_projections.dropna(inplace=True)"
   ]
  },
  {
   "cell_type": "markdown",
   "metadata": {},
   "source": [
    "Next step is to clean up and only take what is needed from pitchers so that it can be merged with batters.\n",
    "Columns needed:\n",
    "- ID\n",
    "- Position\n",
    "- Name\n",
    "- Salary\n",
    "- Team\n",
    "- Opponent\n",
    "- Proj_FPPG"
   ]
  },
  {
   "cell_type": "code",
   "execution_count": 91,
   "metadata": {},
   "outputs": [],
   "source": [
    "# overwrite df with only the columns needed\n",
    "pitcher_projections = pitcher_projections[['Id', 'Position', 'Name', 'Salary', 'Team_x', 'Opponent', 'Proj_FPPG']]"
   ]
  },
  {
   "cell_type": "code",
   "execution_count": 92,
   "metadata": {},
   "outputs": [],
   "source": [
    "# rename team column\n",
    "pitcher_projections.rename(columns={'Team_x' : 'Team'}, inplace=True)"
   ]
  },
  {
   "cell_type": "markdown",
   "metadata": {},
   "source": [
    "Now we have a cleaned and organized df of our pitchers that are starting. Next is the batters."
   ]
  },
  {
   "cell_type": "code",
   "execution_count": 93,
   "metadata": {},
   "outputs": [
    {
     "data": {
      "text/html": [
       "<div>\n",
       "<style scoped>\n",
       "    .dataframe tbody tr th:only-of-type {\n",
       "        vertical-align: middle;\n",
       "    }\n",
       "\n",
       "    .dataframe tbody tr th {\n",
       "        vertical-align: top;\n",
       "    }\n",
       "\n",
       "    .dataframe thead th {\n",
       "        text-align: right;\n",
       "    }\n",
       "</style>\n",
       "<table border=\"1\" class=\"dataframe\">\n",
       "  <thead>\n",
       "    <tr style=\"text-align: right;\">\n",
       "      <th></th>\n",
       "      <th>Id</th>\n",
       "      <th>Position</th>\n",
       "      <th>Name</th>\n",
       "      <th>Salary</th>\n",
       "      <th>Team</th>\n",
       "      <th>Opponent</th>\n",
       "      <th>Proj_FPPG</th>\n",
       "    </tr>\n",
       "  </thead>\n",
       "  <tbody>\n",
       "    <tr>\n",
       "      <th>0</th>\n",
       "      <td>58417-16956</td>\n",
       "      <td>P</td>\n",
       "      <td>Gerrit Cole</td>\n",
       "      <td>12300</td>\n",
       "      <td>NYY</td>\n",
       "      <td>HOU</td>\n",
       "      <td>19.099635</td>\n",
       "    </tr>\n",
       "    <tr>\n",
       "      <th>1</th>\n",
       "      <td>58417-13268</td>\n",
       "      <td>P</td>\n",
       "      <td>Danny Duffy</td>\n",
       "      <td>10700</td>\n",
       "      <td>KC</td>\n",
       "      <td>CLE</td>\n",
       "      <td>22.782965</td>\n",
       "    </tr>\n",
       "    <tr>\n",
       "      <th>2</th>\n",
       "      <td>58417-80582</td>\n",
       "      <td>P</td>\n",
       "      <td>Brandon Woodruff</td>\n",
       "      <td>10100</td>\n",
       "      <td>MIL</td>\n",
       "      <td>PHI</td>\n",
       "      <td>22.728110</td>\n",
       "    </tr>\n",
       "    <tr>\n",
       "      <th>3</th>\n",
       "      <td>58417-16960</td>\n",
       "      <td>P</td>\n",
       "      <td>Zack Wheeler</td>\n",
       "      <td>9100</td>\n",
       "      <td>PHI</td>\n",
       "      <td>MIL</td>\n",
       "      <td>24.214464</td>\n",
       "    </tr>\n",
       "    <tr>\n",
       "      <th>4</th>\n",
       "      <td>58417-12864</td>\n",
       "      <td>P</td>\n",
       "      <td>Michael Pineda</td>\n",
       "      <td>8700</td>\n",
       "      <td>MIN</td>\n",
       "      <td>TEX</td>\n",
       "      <td>18.153077</td>\n",
       "    </tr>\n",
       "    <tr>\n",
       "      <th>5</th>\n",
       "      <td>58417-13233</td>\n",
       "      <td>P</td>\n",
       "      <td>Nathan Eovaldi</td>\n",
       "      <td>8600</td>\n",
       "      <td>BOS</td>\n",
       "      <td>DET</td>\n",
       "      <td>19.028299</td>\n",
       "    </tr>\n",
       "    <tr>\n",
       "      <th>6</th>\n",
       "      <td>58417-52159</td>\n",
       "      <td>P</td>\n",
       "      <td>Lance McCullers Jr.</td>\n",
       "      <td>8400</td>\n",
       "      <td>HOU</td>\n",
       "      <td>NYY</td>\n",
       "      <td>25.259407</td>\n",
       "    </tr>\n",
       "    <tr>\n",
       "      <th>7</th>\n",
       "      <td>58417-68518</td>\n",
       "      <td>P</td>\n",
       "      <td>Spencer Turnbull</td>\n",
       "      <td>7800</td>\n",
       "      <td>DET</td>\n",
       "      <td>BOS</td>\n",
       "      <td>14.464556</td>\n",
       "    </tr>\n",
       "    <tr>\n",
       "      <th>8</th>\n",
       "      <td>58417-21097</td>\n",
       "      <td>P</td>\n",
       "      <td>Taijuan Walker</td>\n",
       "      <td>7500</td>\n",
       "      <td>NYM</td>\n",
       "      <td>STL</td>\n",
       "      <td>25.634592</td>\n",
       "    </tr>\n",
       "    <tr>\n",
       "      <th>9</th>\n",
       "      <td>58417-68654</td>\n",
       "      <td>P</td>\n",
       "      <td>John Gant</td>\n",
       "      <td>7300</td>\n",
       "      <td>STL</td>\n",
       "      <td>NYM</td>\n",
       "      <td>28.366851</td>\n",
       "    </tr>\n",
       "    <tr>\n",
       "      <th>10</th>\n",
       "      <td>58417-5369</td>\n",
       "      <td>P</td>\n",
       "      <td>Jon Lester</td>\n",
       "      <td>7100</td>\n",
       "      <td>WSH</td>\n",
       "      <td>ATL</td>\n",
       "      <td>12.658526</td>\n",
       "    </tr>\n",
       "    <tr>\n",
       "      <th>11</th>\n",
       "      <td>58417-79118</td>\n",
       "      <td>P</td>\n",
       "      <td>Triston McKenzie</td>\n",
       "      <td>6900</td>\n",
       "      <td>CLE</td>\n",
       "      <td>KC</td>\n",
       "      <td>25.721327</td>\n",
       "    </tr>\n",
       "    <tr>\n",
       "      <th>12</th>\n",
       "      <td>58417-13444</td>\n",
       "      <td>P</td>\n",
       "      <td>Mike Fiers</td>\n",
       "      <td>6400</td>\n",
       "      <td>OAK</td>\n",
       "      <td>TOR</td>\n",
       "      <td>10.258812</td>\n",
       "    </tr>\n",
       "    <tr>\n",
       "      <th>13</th>\n",
       "      <td>58417-17087</td>\n",
       "      <td>P</td>\n",
       "      <td>Drew Smyly</td>\n",
       "      <td>6000</td>\n",
       "      <td>ATL</td>\n",
       "      <td>WSH</td>\n",
       "      <td>13.746733</td>\n",
       "    </tr>\n",
       "    <tr>\n",
       "      <th>14</th>\n",
       "      <td>58417-12929</td>\n",
       "      <td>P</td>\n",
       "      <td>Jordan Lyles</td>\n",
       "      <td>5800</td>\n",
       "      <td>TEX</td>\n",
       "      <td>MIN</td>\n",
       "      <td>15.866008</td>\n",
       "    </tr>\n",
       "  </tbody>\n",
       "</table>\n",
       "</div>"
      ],
      "text/plain": [
       "             Id Position                 Name  Salary Team Opponent  Proj_FPPG\n",
       "0   58417-16956        P          Gerrit Cole   12300  NYY      HOU  19.099635\n",
       "1   58417-13268        P          Danny Duffy   10700   KC      CLE  22.782965\n",
       "2   58417-80582        P     Brandon Woodruff   10100  MIL      PHI  22.728110\n",
       "3   58417-16960        P         Zack Wheeler    9100  PHI      MIL  24.214464\n",
       "4   58417-12864        P       Michael Pineda    8700  MIN      TEX  18.153077\n",
       "5   58417-13233        P       Nathan Eovaldi    8600  BOS      DET  19.028299\n",
       "6   58417-52159        P  Lance McCullers Jr.    8400  HOU      NYY  25.259407\n",
       "7   58417-68518        P     Spencer Turnbull    7800  DET      BOS  14.464556\n",
       "8   58417-21097        P       Taijuan Walker    7500  NYM      STL  25.634592\n",
       "9   58417-68654        P            John Gant    7300  STL      NYM  28.366851\n",
       "10   58417-5369        P           Jon Lester    7100  WSH      ATL  12.658526\n",
       "11  58417-79118        P     Triston McKenzie    6900  CLE       KC  25.721327\n",
       "12  58417-13444        P           Mike Fiers    6400  OAK      TOR  10.258812\n",
       "13  58417-17087        P           Drew Smyly    6000  ATL      WSH  13.746733\n",
       "14  58417-12929        P         Jordan Lyles    5800  TEX      MIN  15.866008"
      ]
     },
     "execution_count": 93,
     "metadata": {},
     "output_type": "execute_result"
    }
   ],
   "source": [
    "pitcher_projections"
   ]
  },
  {
   "cell_type": "markdown",
   "metadata": {},
   "source": [
    "---"
   ]
  },
  {
   "cell_type": "markdown",
   "metadata": {},
   "source": [
    "First step is to merge on projections."
   ]
  },
  {
   "cell_type": "code",
   "execution_count": 94,
   "metadata": {},
   "outputs": [],
   "source": [
    "# read in projections file\n",
    "batter_21 = pd.read_csv('../Projections/batter_projections_2021.csv')"
   ]
  },
  {
   "cell_type": "code",
   "execution_count": 95,
   "metadata": {},
   "outputs": [],
   "source": [
    "# merge projections with batter df, creating new df\n",
    "batters_projections = batters.merge(batter_21, how='left', on='Name')"
   ]
  },
  {
   "cell_type": "markdown",
   "metadata": {},
   "source": [
    "Will have to drop nulls for now, but need to figure out why there is no data for those batters."
   ]
  },
  {
   "cell_type": "code",
   "execution_count": 96,
   "metadata": {},
   "outputs": [],
   "source": [
    "# dropping batters with no projections\n",
    "batters_projections.dropna(inplace=True)"
   ]
  },
  {
   "cell_type": "code",
   "execution_count": 97,
   "metadata": {},
   "outputs": [],
   "source": [
    "# drop unneeded columns for merge with pitcher, overwrite current df\n",
    "batters_projections = batters_projections[['Id', 'Position', 'Name', 'Salary', 'Team', 'Opponent','Proj_FPPG']]"
   ]
  },
  {
   "cell_type": "markdown",
   "metadata": {},
   "source": [
    "Now there are two clean dataframes with the same columns, now we will determine optimal line up."
   ]
  },
  {
   "cell_type": "markdown",
   "metadata": {},
   "source": [
    "Steps to get optimal line up:\n",
    "1. set salary cap\n",
    "2. sort by fppg\n",
    "\n",
    "    a. choose pitcher - based on projected fppg; in final product need to incoporate stats with strong coefficient values\n",
    "    b. choose batters based on remaining salary and highest fppg; in final product need to incoporate stats with strong coefficient values\n",
    "    \n",
    "3. create list to append choices to\n",
    "4. save to one df for output\n",
    "5. take df and save to templet for export"
   ]
  },
  {
   "cell_type": "code",
   "execution_count": 98,
   "metadata": {},
   "outputs": [],
   "source": [
    "# set cap for fanduel\n",
    "salary_cap = 35_000"
   ]
  },
  {
   "cell_type": "code",
   "execution_count": 99,
   "metadata": {},
   "outputs": [],
   "source": [
    "# sort pitcher by fppg projections\n",
    "pitcher_projections.sort_values(by='Proj_FPPG', ascending=False, inplace=True, ignore_index=True)"
   ]
  },
  {
   "cell_type": "code",
   "execution_count": 100,
   "metadata": {},
   "outputs": [],
   "source": [
    "# create a player list to \n",
    "lineup = []\n",
    "lineup.append(pitcher_projections.values[0])"
   ]
  },
  {
   "cell_type": "code",
   "execution_count": 101,
   "metadata": {},
   "outputs": [],
   "source": [
    "# need to update remaining salary\n",
    "salary_cap -= pitcher_projections['Salary'][0]"
   ]
  },
  {
   "cell_type": "code",
   "execution_count": 102,
   "metadata": {},
   "outputs": [],
   "source": [
    "# with updated salary fill remaining roster based on position and highest fppg\n",
    "# create position list for remaining roster spots\n",
    "position_list = ['C', '1B', '2B', '3B', 'SS', 'OF', 'OF', 'OF']\n",
    "# sort batters by FPPG\n",
    "batters_projections.sort_values(by='Proj_FPPG', ascending=False, inplace=True, ignore_index=True)"
   ]
  },
  {
   "cell_type": "code",
   "execution_count": 103,
   "metadata": {},
   "outputs": [
    {
     "name": "stderr",
     "output_type": "stream",
     "text": [
      "<ipython-input-103-595d937b3060>:28: RuntimeWarning: divide by zero encountered in longlong_scalars\n",
      "  avg_sal = salary_cap/sal_count\n"
     ]
    }
   ],
   "source": [
    "# redo \n",
    "# create count based on remaining positions\n",
    "sal_count = 8\n",
    "\n",
    "# create average salary variable for remaining players\n",
    "avg_sal = salary_cap/sal_count\n",
    "\n",
    "# create for loop for each position in list to take highest fppg\n",
    "for pos in position_list:\n",
    "    # setting counter to increase if player is already in list\n",
    "    # this is inside the for loop beacuse it needs to be per position\n",
    "    counter = 0\n",
    "    # if salary greater than average move to next player\n",
    "    for salary in batters_projections.loc[batters_projections['Position'] == pos]['Salary']:\n",
    "        # test if salary is greater than average if it is increase counter\n",
    "        if batters_projections.loc[batters_projections['Position'] == pos]['Salary'].values[counter] > avg_sal:\n",
    "            counter += 1\n",
    "        else:\n",
    "            # if less than average add player to list\n",
    "            lineup.append(batters_projections.loc[batters_projections['Position'] == pos].values[counter])\n",
    "            # drop player so no duplicates are added\n",
    "            batters_projections.drop(batters_projections.loc[batters_projections['Position'] == pos].index.values[counter], inplace=True)\n",
    "            # decrease sal_count\n",
    "            sal_count -= 1\n",
    "            # decrease salary cap\n",
    "            salary_cap -= batters_projections.loc[batters_projections['Position'] == pos]['Salary'].values[counter]\n",
    "            # create new average salary\n",
    "            avg_sal = salary_cap/sal_count\n",
    "            break\n"
   ]
  },
  {
   "cell_type": "code",
   "execution_count": 104,
   "metadata": {},
   "outputs": [
    {
     "data": {
      "text/html": [
       "<div>\n",
       "<style scoped>\n",
       "    .dataframe tbody tr th:only-of-type {\n",
       "        vertical-align: middle;\n",
       "    }\n",
       "\n",
       "    .dataframe tbody tr th {\n",
       "        vertical-align: top;\n",
       "    }\n",
       "\n",
       "    .dataframe thead th {\n",
       "        text-align: right;\n",
       "    }\n",
       "</style>\n",
       "<table border=\"1\" class=\"dataframe\">\n",
       "  <thead>\n",
       "    <tr style=\"text-align: right;\">\n",
       "      <th></th>\n",
       "      <th>Id</th>\n",
       "      <th>Position</th>\n",
       "      <th>Name</th>\n",
       "      <th>Salary</th>\n",
       "      <th>Team</th>\n",
       "      <th>Opponent</th>\n",
       "      <th>Proj_FPPG</th>\n",
       "    </tr>\n",
       "  </thead>\n",
       "  <tbody>\n",
       "    <tr>\n",
       "      <th>0</th>\n",
       "      <td>58417-68654</td>\n",
       "      <td>P</td>\n",
       "      <td>John Gant</td>\n",
       "      <td>7300</td>\n",
       "      <td>STL</td>\n",
       "      <td>NYM</td>\n",
       "      <td>28.366851</td>\n",
       "    </tr>\n",
       "    <tr>\n",
       "      <th>1</th>\n",
       "      <td>58417-79174</td>\n",
       "      <td>C</td>\n",
       "      <td>Jacob Nottingham</td>\n",
       "      <td>2800</td>\n",
       "      <td>MIL</td>\n",
       "      <td>PHI</td>\n",
       "      <td>20.761754</td>\n",
       "    </tr>\n",
       "    <tr>\n",
       "      <th>2</th>\n",
       "      <td>58417-52175</td>\n",
       "      <td>1B</td>\n",
       "      <td>Matt Olson</td>\n",
       "      <td>3500</td>\n",
       "      <td>OAK</td>\n",
       "      <td>TOR</td>\n",
       "      <td>8.416243</td>\n",
       "    </tr>\n",
       "    <tr>\n",
       "      <th>3</th>\n",
       "      <td>58417-68587</td>\n",
       "      <td>2B</td>\n",
       "      <td>Ozzie Albies</td>\n",
       "      <td>3200</td>\n",
       "      <td>ATL</td>\n",
       "      <td>WSH</td>\n",
       "      <td>7.157615</td>\n",
       "    </tr>\n",
       "    <tr>\n",
       "      <th>4</th>\n",
       "      <td>58417-5104</td>\n",
       "      <td>3B</td>\n",
       "      <td>Pablo Sandoval</td>\n",
       "      <td>2000</td>\n",
       "      <td>ATL</td>\n",
       "      <td>WSH</td>\n",
       "      <td>8.426209</td>\n",
       "    </tr>\n",
       "    <tr>\n",
       "      <th>5</th>\n",
       "      <td>58417-37982</td>\n",
       "      <td>SS</td>\n",
       "      <td>Xander Bogaerts</td>\n",
       "      <td>3700</td>\n",
       "      <td>BOS</td>\n",
       "      <td>DET</td>\n",
       "      <td>7.656552</td>\n",
       "    </tr>\n",
       "    <tr>\n",
       "      <th>6</th>\n",
       "      <td>58417-5763</td>\n",
       "      <td>OF</td>\n",
       "      <td>Nelson Cruz</td>\n",
       "      <td>3900</td>\n",
       "      <td>MIN</td>\n",
       "      <td>TEX</td>\n",
       "      <td>8.714154</td>\n",
       "    </tr>\n",
       "    <tr>\n",
       "      <th>7</th>\n",
       "      <td>58417-60643</td>\n",
       "      <td>OF</td>\n",
       "      <td>Aaron Judge</td>\n",
       "      <td>3900</td>\n",
       "      <td>NYY</td>\n",
       "      <td>HOU</td>\n",
       "      <td>8.361619</td>\n",
       "    </tr>\n",
       "    <tr>\n",
       "      <th>8</th>\n",
       "      <td>58417-39086</td>\n",
       "      <td>OF</td>\n",
       "      <td>Byron Buxton</td>\n",
       "      <td>4400</td>\n",
       "      <td>MIN</td>\n",
       "      <td>TEX</td>\n",
       "      <td>10.177979</td>\n",
       "    </tr>\n",
       "  </tbody>\n",
       "</table>\n",
       "</div>"
      ],
      "text/plain": [
       "            Id Position              Name  Salary Team Opponent  Proj_FPPG\n",
       "0  58417-68654        P         John Gant    7300  STL      NYM  28.366851\n",
       "1  58417-79174        C  Jacob Nottingham    2800  MIL      PHI  20.761754\n",
       "2  58417-52175       1B        Matt Olson    3500  OAK      TOR   8.416243\n",
       "3  58417-68587       2B      Ozzie Albies    3200  ATL      WSH   7.157615\n",
       "4   58417-5104       3B    Pablo Sandoval    2000  ATL      WSH   8.426209\n",
       "5  58417-37982       SS   Xander Bogaerts    3700  BOS      DET   7.656552\n",
       "6   58417-5763       OF       Nelson Cruz    3900  MIN      TEX   8.714154\n",
       "7  58417-60643       OF       Aaron Judge    3900  NYY      HOU   8.361619\n",
       "8  58417-39086       OF      Byron Buxton    4400  MIN      TEX  10.177979"
      ]
     },
     "execution_count": 104,
     "metadata": {},
     "output_type": "execute_result"
    }
   ],
   "source": [
    "df = pd.DataFrame(lineup, columns=['Id', 'Position', 'Name', 'Salary', 'Team', 'Opponent','Proj_FPPG'])\n",
    "df"
   ]
  },
  {
   "cell_type": "code",
   "execution_count": 105,
   "metadata": {},
   "outputs": [
    {
     "data": {
      "text/plain": [
       "34700"
      ]
     },
     "execution_count": 105,
     "metadata": {},
     "output_type": "execute_result"
    }
   ],
   "source": [
    "df['Salary'].sum()"
   ]
  },
  {
   "cell_type": "code",
   "execution_count": null,
   "metadata": {},
   "outputs": [],
   "source": []
  }
 ],
 "metadata": {
  "kernelspec": {
   "display_name": "Python 3",
   "language": "python",
   "name": "python3"
  },
  "language_info": {
   "codemirror_mode": {
    "name": "ipython",
    "version": 3
   },
   "file_extension": ".py",
   "mimetype": "text/x-python",
   "name": "python",
   "nbconvert_exporter": "python",
   "pygments_lexer": "ipython3",
   "version": "3.8.5"
  }
 },
 "nbformat": 4,
 "nbformat_minor": 4
}
