{
 "cells": [
  {
   "cell_type": "markdown",
   "metadata": {},
   "source": [
    "The purpose of this notebook is to create a function that takes the imported player list:\n",
    "- clean to only needed information\n",
    "- seperate by pither and batter\n",
    "- merge each on player name to get projections from model\n",
    "- merge back pitcher and batter data \n",
    "- output df for now\n",
    "\n",
    "Next steps:\n",
    "- build line up based on salary"
   ]
  },
  {
   "cell_type": "code",
   "execution_count": 107,
   "metadata": {},
   "outputs": [],
   "source": [
    "# imports\n",
    "import pandas as pd\n",
    "import numpy as np"
   ]
  },
  {
   "cell_type": "code",
   "execution_count": 2,
   "metadata": {},
   "outputs": [],
   "source": [
    "# will need fanduel import\n",
    "fd = pd.read_csv('../CapStone_Data/FanDuel-MLB-2021 ET-05 ET-04 ET-58318-players-list.csv')"
   ]
  },
  {
   "cell_type": "code",
   "execution_count": 3,
   "metadata": {},
   "outputs": [
    {
     "data": {
      "text/html": [
       "<div>\n",
       "<style scoped>\n",
       "    .dataframe tbody tr th:only-of-type {\n",
       "        vertical-align: middle;\n",
       "    }\n",
       "\n",
       "    .dataframe tbody tr th {\n",
       "        vertical-align: top;\n",
       "    }\n",
       "\n",
       "    .dataframe thead th {\n",
       "        text-align: right;\n",
       "    }\n",
       "</style>\n",
       "<table border=\"1\" class=\"dataframe\">\n",
       "  <thead>\n",
       "    <tr style=\"text-align: right;\">\n",
       "      <th></th>\n",
       "      <th>Id</th>\n",
       "      <th>Position</th>\n",
       "      <th>First Name</th>\n",
       "      <th>Nickname</th>\n",
       "      <th>Last Name</th>\n",
       "      <th>FPPG</th>\n",
       "      <th>Played</th>\n",
       "      <th>Salary</th>\n",
       "      <th>Game</th>\n",
       "      <th>Team</th>\n",
       "      <th>Opponent</th>\n",
       "      <th>Injury Indicator</th>\n",
       "      <th>Injury Details</th>\n",
       "      <th>Tier</th>\n",
       "      <th>Probable Pitcher</th>\n",
       "      <th>Batting Order</th>\n",
       "      <th>Roster Position</th>\n",
       "    </tr>\n",
       "  </thead>\n",
       "  <tbody>\n",
       "    <tr>\n",
       "      <th>0</th>\n",
       "      <td>58318-52859</td>\n",
       "      <td>P</td>\n",
       "      <td>Jacob</td>\n",
       "      <td>Jacob deGrom</td>\n",
       "      <td>deGrom</td>\n",
       "      <td>61.600000</td>\n",
       "      <td>5.0</td>\n",
       "      <td>12500</td>\n",
       "      <td>NYM@STL</td>\n",
       "      <td>NYM</td>\n",
       "      <td>STL</td>\n",
       "      <td>NaN</td>\n",
       "      <td>NaN</td>\n",
       "      <td>NaN</td>\n",
       "      <td>Yes</td>\n",
       "      <td>NaN</td>\n",
       "      <td>P</td>\n",
       "    </tr>\n",
       "    <tr>\n",
       "      <th>1</th>\n",
       "      <td>58318-16956</td>\n",
       "      <td>P</td>\n",
       "      <td>Gerrit</td>\n",
       "      <td>Gerrit Cole</td>\n",
       "      <td>Cole</td>\n",
       "      <td>54.166667</td>\n",
       "      <td>6.0</td>\n",
       "      <td>12200</td>\n",
       "      <td>HOU@NYY</td>\n",
       "      <td>NYY</td>\n",
       "      <td>HOU</td>\n",
       "      <td>NaN</td>\n",
       "      <td>NaN</td>\n",
       "      <td>NaN</td>\n",
       "      <td>NaN</td>\n",
       "      <td>0.0</td>\n",
       "      <td>P</td>\n",
       "    </tr>\n",
       "    <tr>\n",
       "      <th>2</th>\n",
       "      <td>58318-82554</td>\n",
       "      <td>P</td>\n",
       "      <td>Shane</td>\n",
       "      <td>Shane Bieber</td>\n",
       "      <td>Bieber</td>\n",
       "      <td>55.666667</td>\n",
       "      <td>6.0</td>\n",
       "      <td>12000</td>\n",
       "      <td>CLE@KC</td>\n",
       "      <td>CLE</td>\n",
       "      <td>KC</td>\n",
       "      <td>NaN</td>\n",
       "      <td>NaN</td>\n",
       "      <td>NaN</td>\n",
       "      <td>NaN</td>\n",
       "      <td>NaN</td>\n",
       "      <td>P</td>\n",
       "    </tr>\n",
       "    <tr>\n",
       "      <th>3</th>\n",
       "      <td>58318-5481</td>\n",
       "      <td>P</td>\n",
       "      <td>Max</td>\n",
       "      <td>Max Scherzer</td>\n",
       "      <td>Scherzer</td>\n",
       "      <td>42.166667</td>\n",
       "      <td>6.0</td>\n",
       "      <td>12000</td>\n",
       "      <td>ATL@WSH</td>\n",
       "      <td>WSH</td>\n",
       "      <td>ATL</td>\n",
       "      <td>NaN</td>\n",
       "      <td>NaN</td>\n",
       "      <td>NaN</td>\n",
       "      <td>NaN</td>\n",
       "      <td>0.0</td>\n",
       "      <td>P</td>\n",
       "    </tr>\n",
       "    <tr>\n",
       "      <th>4</th>\n",
       "      <td>58318-82604</td>\n",
       "      <td>P</td>\n",
       "      <td>Corbin</td>\n",
       "      <td>Corbin Burnes</td>\n",
       "      <td>Burnes</td>\n",
       "      <td>49.600000</td>\n",
       "      <td>5.0</td>\n",
       "      <td>11100</td>\n",
       "      <td>MIL@PHI</td>\n",
       "      <td>MIL</td>\n",
       "      <td>PHI</td>\n",
       "      <td>IL</td>\n",
       "      <td>Undisclosed</td>\n",
       "      <td>NaN</td>\n",
       "      <td>NaN</td>\n",
       "      <td>0.0</td>\n",
       "      <td>P</td>\n",
       "    </tr>\n",
       "  </tbody>\n",
       "</table>\n",
       "</div>"
      ],
      "text/plain": [
       "            Id Position First Name       Nickname Last Name       FPPG  \\\n",
       "0  58318-52859        P      Jacob   Jacob deGrom    deGrom  61.600000   \n",
       "1  58318-16956        P     Gerrit    Gerrit Cole      Cole  54.166667   \n",
       "2  58318-82554        P      Shane   Shane Bieber    Bieber  55.666667   \n",
       "3   58318-5481        P        Max   Max Scherzer  Scherzer  42.166667   \n",
       "4  58318-82604        P     Corbin  Corbin Burnes    Burnes  49.600000   \n",
       "\n",
       "   Played  Salary     Game Team Opponent Injury Indicator Injury Details  \\\n",
       "0     5.0   12500  NYM@STL  NYM      STL              NaN            NaN   \n",
       "1     6.0   12200  HOU@NYY  NYY      HOU              NaN            NaN   \n",
       "2     6.0   12000   CLE@KC  CLE       KC              NaN            NaN   \n",
       "3     6.0   12000  ATL@WSH  WSH      ATL              NaN            NaN   \n",
       "4     5.0   11100  MIL@PHI  MIL      PHI               IL    Undisclosed   \n",
       "\n",
       "   Tier Probable Pitcher  Batting Order Roster Position  \n",
       "0   NaN              Yes            NaN               P  \n",
       "1   NaN              NaN            0.0               P  \n",
       "2   NaN              NaN            NaN               P  \n",
       "3   NaN              NaN            0.0               P  \n",
       "4   NaN              NaN            0.0               P  "
      ]
     },
     "execution_count": 3,
     "metadata": {},
     "output_type": "execute_result"
    }
   ],
   "source": [
    "# print first 5 rows of fd\n",
    "fd.head()"
   ]
  },
  {
   "cell_type": "markdown",
   "metadata": {},
   "source": [
    "only columns needed:\n",
    "- id - will need this later for template\n",
    "- Position\n",
    "- nickname - renamed to Name\n",
    "- salary\n",
    "- game\n",
    "- team\n",
    "- opponent\n",
    "- injury indicator\n",
    "- probable pitcher"
   ]
  },
  {
   "cell_type": "code",
   "execution_count": 4,
   "metadata": {},
   "outputs": [
    {
     "data": {
      "text/plain": [
       "Index(['Id', 'Position', 'First Name', 'Nickname', 'Last Name', 'FPPG',\n",
       "       'Played', 'Salary', 'Game', 'Team', 'Opponent', 'Injury Indicator',\n",
       "       'Injury Details', 'Tier', 'Probable Pitcher', 'Batting Order',\n",
       "       'Roster Position'],\n",
       "      dtype='object')"
      ]
     },
     "execution_count": 4,
     "metadata": {},
     "output_type": "execute_result"
    }
   ],
   "source": [
    "fd.columns"
   ]
  },
  {
   "cell_type": "code",
   "execution_count": 5,
   "metadata": {},
   "outputs": [],
   "source": [
    "# clean up fd to match column list above\n",
    "fd.drop(columns=['First Name', 'Last Name', 'FPPG', 'Played',\n",
    "                 'Injury Details', 'Tier', 'Batting Order', 'Roster Position'], inplace=True)"
   ]
  },
  {
   "cell_type": "markdown",
   "metadata": {},
   "source": [
    "Next step is fill nulls in probable pitcher and injury indicator"
   ]
  },
  {
   "cell_type": "code",
   "execution_count": 6,
   "metadata": {},
   "outputs": [],
   "source": [
    "# filling nulls for probable pitcher\n",
    "fd['Probable Pitcher'].fillna('No', inplace=True)"
   ]
  },
  {
   "cell_type": "code",
   "execution_count": 7,
   "metadata": {},
   "outputs": [],
   "source": [
    "# fill nulls for injury indicator\n",
    "fd['Injury Indicator'].fillna('Healthy', inplace=True)"
   ]
  },
  {
   "cell_type": "code",
   "execution_count": 8,
   "metadata": {},
   "outputs": [
    {
     "data": {
      "text/html": [
       "<div>\n",
       "<style scoped>\n",
       "    .dataframe tbody tr th:only-of-type {\n",
       "        vertical-align: middle;\n",
       "    }\n",
       "\n",
       "    .dataframe tbody tr th {\n",
       "        vertical-align: top;\n",
       "    }\n",
       "\n",
       "    .dataframe thead th {\n",
       "        text-align: right;\n",
       "    }\n",
       "</style>\n",
       "<table border=\"1\" class=\"dataframe\">\n",
       "  <thead>\n",
       "    <tr style=\"text-align: right;\">\n",
       "      <th></th>\n",
       "      <th>Id</th>\n",
       "      <th>Position</th>\n",
       "      <th>Nickname</th>\n",
       "      <th>Salary</th>\n",
       "      <th>Game</th>\n",
       "      <th>Team</th>\n",
       "      <th>Opponent</th>\n",
       "      <th>Injury Indicator</th>\n",
       "      <th>Probable Pitcher</th>\n",
       "    </tr>\n",
       "  </thead>\n",
       "  <tbody>\n",
       "    <tr>\n",
       "      <th>0</th>\n",
       "      <td>58318-52859</td>\n",
       "      <td>P</td>\n",
       "      <td>Jacob deGrom</td>\n",
       "      <td>12500</td>\n",
       "      <td>NYM@STL</td>\n",
       "      <td>NYM</td>\n",
       "      <td>STL</td>\n",
       "      <td>Healthy</td>\n",
       "      <td>Yes</td>\n",
       "    </tr>\n",
       "    <tr>\n",
       "      <th>1</th>\n",
       "      <td>58318-16956</td>\n",
       "      <td>P</td>\n",
       "      <td>Gerrit Cole</td>\n",
       "      <td>12200</td>\n",
       "      <td>HOU@NYY</td>\n",
       "      <td>NYY</td>\n",
       "      <td>HOU</td>\n",
       "      <td>Healthy</td>\n",
       "      <td>No</td>\n",
       "    </tr>\n",
       "    <tr>\n",
       "      <th>2</th>\n",
       "      <td>58318-82554</td>\n",
       "      <td>P</td>\n",
       "      <td>Shane Bieber</td>\n",
       "      <td>12000</td>\n",
       "      <td>CLE@KC</td>\n",
       "      <td>CLE</td>\n",
       "      <td>KC</td>\n",
       "      <td>Healthy</td>\n",
       "      <td>No</td>\n",
       "    </tr>\n",
       "    <tr>\n",
       "      <th>3</th>\n",
       "      <td>58318-5481</td>\n",
       "      <td>P</td>\n",
       "      <td>Max Scherzer</td>\n",
       "      <td>12000</td>\n",
       "      <td>ATL@WSH</td>\n",
       "      <td>WSH</td>\n",
       "      <td>ATL</td>\n",
       "      <td>Healthy</td>\n",
       "      <td>No</td>\n",
       "    </tr>\n",
       "    <tr>\n",
       "      <th>4</th>\n",
       "      <td>58318-82604</td>\n",
       "      <td>P</td>\n",
       "      <td>Corbin Burnes</td>\n",
       "      <td>11100</td>\n",
       "      <td>MIL@PHI</td>\n",
       "      <td>MIL</td>\n",
       "      <td>PHI</td>\n",
       "      <td>IL</td>\n",
       "      <td>No</td>\n",
       "    </tr>\n",
       "  </tbody>\n",
       "</table>\n",
       "</div>"
      ],
      "text/plain": [
       "            Id Position       Nickname  Salary     Game Team Opponent  \\\n",
       "0  58318-52859        P   Jacob deGrom   12500  NYM@STL  NYM      STL   \n",
       "1  58318-16956        P    Gerrit Cole   12200  HOU@NYY  NYY      HOU   \n",
       "2  58318-82554        P   Shane Bieber   12000   CLE@KC  CLE       KC   \n",
       "3   58318-5481        P   Max Scherzer   12000  ATL@WSH  WSH      ATL   \n",
       "4  58318-82604        P  Corbin Burnes   11100  MIL@PHI  MIL      PHI   \n",
       "\n",
       "  Injury Indicator Probable Pitcher  \n",
       "0          Healthy              Yes  \n",
       "1          Healthy               No  \n",
       "2          Healthy               No  \n",
       "3          Healthy               No  \n",
       "4               IL               No  "
      ]
     },
     "execution_count": 8,
     "metadata": {},
     "output_type": "execute_result"
    }
   ],
   "source": [
    "# review new cleaned df\n",
    "fd.head()"
   ]
  },
  {
   "cell_type": "code",
   "execution_count": 9,
   "metadata": {},
   "outputs": [
    {
     "name": "stdout",
     "output_type": "stream",
     "text": [
      "<class 'pandas.core.frame.DataFrame'>\n",
      "RangeIndex: 831 entries, 0 to 830\n",
      "Data columns (total 9 columns):\n",
      " #   Column            Non-Null Count  Dtype \n",
      "---  ------            --------------  ----- \n",
      " 0   Id                831 non-null    object\n",
      " 1   Position          831 non-null    object\n",
      " 2   Nickname          831 non-null    object\n",
      " 3   Salary            831 non-null    int64 \n",
      " 4   Game              831 non-null    object\n",
      " 5   Team              831 non-null    object\n",
      " 6   Opponent          831 non-null    object\n",
      " 7   Injury Indicator  831 non-null    object\n",
      " 8   Probable Pitcher  831 non-null    object\n",
      "dtypes: int64(1), object(8)\n",
      "memory usage: 58.6+ KB\n"
     ]
    }
   ],
   "source": [
    "fd.info()"
   ]
  },
  {
   "cell_type": "markdown",
   "metadata": {},
   "source": [
    "Next step rename Nickname to name"
   ]
  },
  {
   "cell_type": "code",
   "execution_count": 10,
   "metadata": {},
   "outputs": [],
   "source": [
    "# renaming nickname column\n",
    "fd.rename(columns={'Nickname': 'Name'}, inplace=True)"
   ]
  },
  {
   "cell_type": "markdown",
   "metadata": {},
   "source": [
    "Next step filter to only healthy players"
   ]
  },
  {
   "cell_type": "code",
   "execution_count": 11,
   "metadata": {},
   "outputs": [],
   "source": [
    "# fitler to only healthy players\n",
    "fd = fd.loc[fd['Injury Indicator'] == 'Healthy']"
   ]
  },
  {
   "cell_type": "code",
   "execution_count": 12,
   "metadata": {},
   "outputs": [
    {
     "data": {
      "text/html": [
       "<div>\n",
       "<style scoped>\n",
       "    .dataframe tbody tr th:only-of-type {\n",
       "        vertical-align: middle;\n",
       "    }\n",
       "\n",
       "    .dataframe tbody tr th {\n",
       "        vertical-align: top;\n",
       "    }\n",
       "\n",
       "    .dataframe thead th {\n",
       "        text-align: right;\n",
       "    }\n",
       "</style>\n",
       "<table border=\"1\" class=\"dataframe\">\n",
       "  <thead>\n",
       "    <tr style=\"text-align: right;\">\n",
       "      <th></th>\n",
       "      <th>Id</th>\n",
       "      <th>Position</th>\n",
       "      <th>Name</th>\n",
       "      <th>Salary</th>\n",
       "      <th>Game</th>\n",
       "      <th>Team</th>\n",
       "      <th>Opponent</th>\n",
       "      <th>Injury Indicator</th>\n",
       "      <th>Probable Pitcher</th>\n",
       "    </tr>\n",
       "  </thead>\n",
       "  <tbody>\n",
       "    <tr>\n",
       "      <th>0</th>\n",
       "      <td>58318-52859</td>\n",
       "      <td>P</td>\n",
       "      <td>Jacob deGrom</td>\n",
       "      <td>12500</td>\n",
       "      <td>NYM@STL</td>\n",
       "      <td>NYM</td>\n",
       "      <td>STL</td>\n",
       "      <td>Healthy</td>\n",
       "      <td>Yes</td>\n",
       "    </tr>\n",
       "    <tr>\n",
       "      <th>1</th>\n",
       "      <td>58318-16956</td>\n",
       "      <td>P</td>\n",
       "      <td>Gerrit Cole</td>\n",
       "      <td>12200</td>\n",
       "      <td>HOU@NYY</td>\n",
       "      <td>NYY</td>\n",
       "      <td>HOU</td>\n",
       "      <td>Healthy</td>\n",
       "      <td>No</td>\n",
       "    </tr>\n",
       "    <tr>\n",
       "      <th>2</th>\n",
       "      <td>58318-82554</td>\n",
       "      <td>P</td>\n",
       "      <td>Shane Bieber</td>\n",
       "      <td>12000</td>\n",
       "      <td>CLE@KC</td>\n",
       "      <td>CLE</td>\n",
       "      <td>KC</td>\n",
       "      <td>Healthy</td>\n",
       "      <td>No</td>\n",
       "    </tr>\n",
       "    <tr>\n",
       "      <th>3</th>\n",
       "      <td>58318-5481</td>\n",
       "      <td>P</td>\n",
       "      <td>Max Scherzer</td>\n",
       "      <td>12000</td>\n",
       "      <td>ATL@WSH</td>\n",
       "      <td>WSH</td>\n",
       "      <td>ATL</td>\n",
       "      <td>Healthy</td>\n",
       "      <td>No</td>\n",
       "    </tr>\n",
       "    <tr>\n",
       "      <th>5</th>\n",
       "      <td>58318-16931</td>\n",
       "      <td>P</td>\n",
       "      <td>Yu Darvish</td>\n",
       "      <td>11000</td>\n",
       "      <td>PIT@SD</td>\n",
       "      <td>SD</td>\n",
       "      <td>PIT</td>\n",
       "      <td>Healthy</td>\n",
       "      <td>No</td>\n",
       "    </tr>\n",
       "  </tbody>\n",
       "</table>\n",
       "</div>"
      ],
      "text/plain": [
       "            Id Position          Name  Salary     Game Team Opponent  \\\n",
       "0  58318-52859        P  Jacob deGrom   12500  NYM@STL  NYM      STL   \n",
       "1  58318-16956        P   Gerrit Cole   12200  HOU@NYY  NYY      HOU   \n",
       "2  58318-82554        P  Shane Bieber   12000   CLE@KC  CLE       KC   \n",
       "3   58318-5481        P  Max Scherzer   12000  ATL@WSH  WSH      ATL   \n",
       "5  58318-16931        P    Yu Darvish   11000   PIT@SD   SD      PIT   \n",
       "\n",
       "  Injury Indicator Probable Pitcher  \n",
       "0          Healthy              Yes  \n",
       "1          Healthy               No  \n",
       "2          Healthy               No  \n",
       "3          Healthy               No  \n",
       "5          Healthy               No  "
      ]
     },
     "execution_count": 12,
     "metadata": {},
     "output_type": "execute_result"
    }
   ],
   "source": [
    "# review dataframe\n",
    "fd.head()"
   ]
  },
  {
   "cell_type": "code",
   "execution_count": 13,
   "metadata": {},
   "outputs": [
    {
     "name": "stdout",
     "output_type": "stream",
     "text": [
      "<class 'pandas.core.frame.DataFrame'>\n",
      "Int64Index: 681 entries, 0 to 830\n",
      "Data columns (total 9 columns):\n",
      " #   Column            Non-Null Count  Dtype \n",
      "---  ------            --------------  ----- \n",
      " 0   Id                681 non-null    object\n",
      " 1   Position          681 non-null    object\n",
      " 2   Name              681 non-null    object\n",
      " 3   Salary            681 non-null    int64 \n",
      " 4   Game              681 non-null    object\n",
      " 5   Team              681 non-null    object\n",
      " 6   Opponent          681 non-null    object\n",
      " 7   Injury Indicator  681 non-null    object\n",
      " 8   Probable Pitcher  681 non-null    object\n",
      "dtypes: int64(1), object(8)\n",
      "memory usage: 53.2+ KB\n"
     ]
    }
   ],
   "source": [
    "fd.info()"
   ]
  },
  {
   "cell_type": "markdown",
   "metadata": {},
   "source": [
    "next step is to split into pithcers and batters"
   ]
  },
  {
   "cell_type": "code",
   "execution_count": 14,
   "metadata": {},
   "outputs": [],
   "source": [
    "# split using .loc by position and make new dataframe for pitchers\n",
    "pitchers = fd.loc[fd['Position']=='P']"
   ]
  },
  {
   "cell_type": "code",
   "execution_count": 15,
   "metadata": {},
   "outputs": [],
   "source": [
    "# split using .loc by position and make new dataframe for batters\n",
    "batters = fd.loc[fd['Position']!='P']"
   ]
  },
  {
   "cell_type": "markdown",
   "metadata": {},
   "source": [
    "Now we have cleaned dataframes for each group. Now lets focus on pitchers to get projections added to dataframe."
   ]
  },
  {
   "cell_type": "markdown",
   "metadata": {},
   "source": [
    "First step for pitchers is to get the probable pitchers first, we only care about the ones that will start."
   ]
  },
  {
   "cell_type": "code",
   "execution_count": 38,
   "metadata": {},
   "outputs": [],
   "source": [
    "# save pitchers df to only starting pitchers\n",
    "pitchers = pitchers.loc[pitchers['Probable Pitcher']=='Yes']"
   ]
  },
  {
   "cell_type": "code",
   "execution_count": 39,
   "metadata": {},
   "outputs": [
    {
     "name": "stdout",
     "output_type": "stream",
     "text": [
      "<class 'pandas.core.frame.DataFrame'>\n",
      "Int64Index: 21 entries, 0 to 398\n",
      "Data columns (total 9 columns):\n",
      " #   Column            Non-Null Count  Dtype \n",
      "---  ------            --------------  ----- \n",
      " 0   Id                21 non-null     object\n",
      " 1   Position          21 non-null     object\n",
      " 2   Name              21 non-null     object\n",
      " 3   Salary            21 non-null     int64 \n",
      " 4   Game              21 non-null     object\n",
      " 5   Team              21 non-null     object\n",
      " 6   Opponent          21 non-null     object\n",
      " 7   Injury Indicator  21 non-null     object\n",
      " 8   Probable Pitcher  21 non-null     object\n",
      "dtypes: int64(1), object(8)\n",
      "memory usage: 1.6+ KB\n"
     ]
    }
   ],
   "source": [
    "# review changes\n",
    "pitchers.info()"
   ]
  },
  {
   "cell_type": "markdown",
   "metadata": {},
   "source": [
    "Next step is to combine projections with 2021 stats.\n",
    "- import testing data with projections from model\n",
    "- merge the two data frames"
   ]
  },
  {
   "cell_type": "code",
   "execution_count": 40,
   "metadata": {},
   "outputs": [],
   "source": [
    "# read in pitcher projections\n",
    "pitcher_proj = pd.read_csv('../Projections/pitcher_projections_2021.csv')"
   ]
  },
  {
   "cell_type": "markdown",
   "metadata": {},
   "source": [
    "Next step merge."
   ]
  },
  {
   "cell_type": "code",
   "execution_count": 41,
   "metadata": {},
   "outputs": [],
   "source": [
    "# merge attempt\n",
    "pitcher_projections = pitchers.merge(pitcher_proj, how='left', on='Name')"
   ]
  },
  {
   "cell_type": "markdown",
   "metadata": {},
   "source": [
    "Next step is to drop nulls from this list.  Will need to handle this in previous processes for final product."
   ]
  },
  {
   "cell_type": "code",
   "execution_count": 42,
   "metadata": {},
   "outputs": [],
   "source": [
    "pitcher_projections.dropna(inplace=True)"
   ]
  },
  {
   "cell_type": "markdown",
   "metadata": {},
   "source": [
    "Next step is to clean up and only take what is needed from pitchers so that it can be merged with batters.\n",
    "Columns needed:\n",
    "- ID\n",
    "- Position\n",
    "- Name\n",
    "- Salary\n",
    "- Team\n",
    "- Opponent\n",
    "- Proj_FPPG"
   ]
  },
  {
   "cell_type": "code",
   "execution_count": 43,
   "metadata": {},
   "outputs": [],
   "source": [
    "# overwrite df with only the columns needed\n",
    "pitcher_projections = pitcher_projections[['Id', 'Position', 'Name', 'Salary', 'Team_x', 'Opponent', 'Proj_FPPG']]"
   ]
  },
  {
   "cell_type": "code",
   "execution_count": 44,
   "metadata": {},
   "outputs": [],
   "source": [
    "# rename team column\n",
    "pitcher_projections.rename(columns={'Team_x' : 'Team'}, inplace=True)"
   ]
  },
  {
   "cell_type": "markdown",
   "metadata": {},
   "source": [
    "Now we have a cleaned and organized df of our pitchers that are starting. Next is the batters."
   ]
  },
  {
   "cell_type": "markdown",
   "metadata": {},
   "source": [
    "---"
   ]
  },
  {
   "cell_type": "markdown",
   "metadata": {},
   "source": [
    "First step is to merge on projections."
   ]
  },
  {
   "cell_type": "code",
   "execution_count": 47,
   "metadata": {},
   "outputs": [],
   "source": [
    "# read in projections file\n",
    "batter_21 = pd.read_csv('../Projections/batter_projections_2021.csv')"
   ]
  },
  {
   "cell_type": "code",
   "execution_count": 50,
   "metadata": {},
   "outputs": [],
   "source": [
    "# merge projections with batter df, creating new df\n",
    "batters_projections = batters.merge(batter_21, how='left', on='Name')"
   ]
  },
  {
   "cell_type": "markdown",
   "metadata": {},
   "source": [
    "Will have to drop nulls for now, but need to figure out why there is no data for those batters."
   ]
  },
  {
   "cell_type": "code",
   "execution_count": 54,
   "metadata": {},
   "outputs": [],
   "source": [
    "# dropping batters with no projections\n",
    "batters_projections.dropna(inplace=True)"
   ]
  },
  {
   "cell_type": "code",
   "execution_count": 64,
   "metadata": {},
   "outputs": [],
   "source": [
    "# drop unneeded columns for merge with pitcher, overwrite current df\n",
    "batters_projections = batters_projections[['Id', 'Position', 'Name', 'Salary', 'Team', 'Opponent','Proj_FPPG']]"
   ]
  },
  {
   "cell_type": "markdown",
   "metadata": {},
   "source": [
    "Now there are two clean dataframes with the same columns, now we will determine optimal line up."
   ]
  },
  {
   "cell_type": "markdown",
   "metadata": {},
   "source": [
    "Steps to get optimal line up:\n",
    "1. set salary cap\n",
    "2. sort by fppg\n",
    "\n",
    "    a. choose pitcher - based on projected fppg; in final product need to incoporate stats with strong coefficient values\n",
    "    b. choose batters based on remaining salary and highest fppg; in final product need to incoporate stats with strong coefficient values\n",
    "    \n",
    "3. create list to append choices to\n",
    "4. save to one df for output\n",
    "5. take df and save to templet for export"
   ]
  },
  {
   "cell_type": "code",
   "execution_count": 68,
   "metadata": {},
   "outputs": [],
   "source": [
    "# set cap for fanduel\n",
    "salary_cap = 35_000"
   ]
  },
  {
   "cell_type": "code",
   "execution_count": 81,
   "metadata": {},
   "outputs": [],
   "source": [
    "# sort pitcher by fppg projections\n",
    "pitcher_projections.sort_values(by='Proj_FPPG', ascending=False, inplace=True, ignore_index=True)"
   ]
  },
  {
   "cell_type": "code",
   "execution_count": 102,
   "metadata": {},
   "outputs": [],
   "source": [
    "# create a player list to \n",
    "lineup = []\n",
    "lineup.append(pitcher_projections.values[0])"
   ]
  },
  {
   "cell_type": "code",
   "execution_count": 86,
   "metadata": {},
   "outputs": [],
   "source": [
    "# need to update remaining salary\n",
    "salary_cap -= pitcher_projections['Salary'][0]"
   ]
  },
  {
   "cell_type": "code",
   "execution_count": 96,
   "metadata": {
    "collapsed": true,
    "jupyter": {
     "outputs_hidden": true
    }
   },
   "outputs": [
    {
     "name": "stderr",
     "output_type": "stream",
     "text": [
      "<ipython-input-96-36e149c8ef92>:5: SettingWithCopyWarning: \n",
      "A value is trying to be set on a copy of a slice from a DataFrame\n",
      "\n",
      "See the caveats in the documentation: https://pandas.pydata.org/pandas-docs/stable/user_guide/indexing.html#returning-a-view-versus-a-copy\n",
      "  batters_projections.sort_values(by='Proj_FPPG', ascending=False, inplace=True, ignore_index=True)\n"
     ]
    }
   ],
   "source": [
    "# with updated salary fill remaining roster based on position and highest fppg\n",
    "# create position list for remaining roster spots\n",
    "position_list = ['C', '1B', '2B', '3B', 'SS', 'OF', 'OF', 'OF']\n",
    "# sort batters by FPPG\n",
    "batters_projections.sort_values(by='Proj_FPPG', ascending=False, inplace=True, ignore_index=True)"
   ]
  },
  {
   "cell_type": "code",
   "execution_count": 111,
   "metadata": {},
   "outputs": [
    {
     "name": "stdout",
     "output_type": "stream",
     "text": [
      "['58318-79174' 'C' 'Jacob Nottingham' 2500 'MIL' 'PHI' 23.84243805551742]\n",
      "['58318-104483' '1B' 'Jared Walsh' 3500 'LAA' 'TB' 9.26517900554932]\n",
      "['58318-68587' '2B' 'Ozzie Albies' 3300 'ATL' 'WSH' 7.6460846577038115]\n",
      "['58318-5104' '3B' 'Pablo Sandoval' 2000 'ATL' 'WSH' 8.927933337580752]\n",
      "['58318-79393' 'SS' 'Fernando Tatis Jr.' 4400 'SD' 'PIT' 9.31301982881544]\n",
      "['58318-12933' 'OF' 'Mike Trout' 4500 'LAA' 'TB' 11.491166229732436]\n",
      "['58318-12933' 'OF' 'Mike Trout' 4500 'LAA' 'TB' 11.491166229732436]\n",
      "['58318-12933' 'OF' 'Mike Trout' 4500 'LAA' 'TB' 11.491166229732436]\n"
     ]
    }
   ],
   "source": [
    "# create for loop for each position in list to take highest fppg\n",
    "for pos in position_list:\n",
    "    # setting counter to increase if player is already in list\n",
    "    # this is inside the for loop beacuse it needs to be per position\n",
    "    counter = 0\n",
    "    print(batters_projections.loc[batters_projections['Position'] == pos].values[counter])\n",
    "    \n",
    "    #lineup.append(batters_projections.loc[batters_projections['Position'] == pos].values[counter])"
   ]
  },
  {
   "cell_type": "code",
   "execution_count": 121,
   "metadata": {},
   "outputs": [
    {
     "data": {
      "text/plain": [
       "str"
      ]
     },
     "execution_count": 121,
     "metadata": {},
     "output_type": "execute_result"
    }
   ],
   "source": [
    "type(batters_projections.loc[batters_projections['Position'] == 'OF']['Name'].values[0])"
   ]
  },
  {
   "cell_type": "code",
   "execution_count": 119,
   "metadata": {},
   "outputs": [
    {
     "data": {
      "text/plain": [
       "[array(['58318-79951', 'P', 'Nick Pivetta', 8300, 'BOS', 'DET',\n",
       "        27.943867072751747], dtype=object),\n",
       " array(['58318-79174', 'C', 'Jacob Nottingham', 2500, 'MIL', 'PHI',\n",
       "        23.84243805551742], dtype=object),\n",
       " array(['58318-104483', '1B', 'Jared Walsh', 3500, 'LAA', 'TB',\n",
       "        9.26517900554932], dtype=object),\n",
       " array(['58318-68587', '2B', 'Ozzie Albies', 3300, 'ATL', 'WSH',\n",
       "        7.6460846577038115], dtype=object),\n",
       " array(['58318-5104', '3B', 'Pablo Sandoval', 2000, 'ATL', 'WSH',\n",
       "        8.927933337580752], dtype=object),\n",
       " array(['58318-79393', 'SS', 'Fernando Tatis Jr.', 4400, 'SD', 'PIT',\n",
       "        9.31301982881544], dtype=object),\n",
       " array(['58318-12933', 'OF', 'Mike Trout', 4500, 'LAA', 'TB',\n",
       "        11.491166229732436], dtype=object),\n",
       " array(['58318-12933', 'OF', 'Mike Trout', 4500, 'LAA', 'TB',\n",
       "        11.491166229732436], dtype=object),\n",
       " array(['58318-12933', 'OF', 'Mike Trout', 4500, 'LAA', 'TB',\n",
       "        11.491166229732436], dtype=object)]"
      ]
     },
     "execution_count": 119,
     "metadata": {},
     "output_type": "execute_result"
    }
   ],
   "source": [
    "lineup"
   ]
  },
  {
   "cell_type": "code",
   "execution_count": 131,
   "metadata": {},
   "outputs": [
    {
     "name": "stdout",
     "output_type": "stream",
     "text": [
      "y\n"
     ]
    }
   ],
   "source": [
    "if batters_projections.loc[batters_projections['Position'] == 'OF']['Name'].values[0] not in lineup[0]:\n",
    "    print('y')"
   ]
  },
  {
   "cell_type": "code",
   "execution_count": 130,
   "metadata": {},
   "outputs": [
    {
     "data": {
      "text/plain": [
       "[array(['58318-79951', 'P', 'Nick Pivetta', 8300, 'BOS', 'DET',\n",
       "        27.943867072751747], dtype=object),\n",
       " array(['58318-79174', 'C', 'Jacob Nottingham', 2500, 'MIL', 'PHI',\n",
       "        23.84243805551742], dtype=object),\n",
       " array(['58318-104483', '1B', 'Jared Walsh', 3500, 'LAA', 'TB',\n",
       "        9.26517900554932], dtype=object),\n",
       " array(['58318-68587', '2B', 'Ozzie Albies', 3300, 'ATL', 'WSH',\n",
       "        7.6460846577038115], dtype=object),\n",
       " array(['58318-5104', '3B', 'Pablo Sandoval', 2000, 'ATL', 'WSH',\n",
       "        8.927933337580752], dtype=object),\n",
       " array(['58318-79393', 'SS', 'Fernando Tatis Jr.', 4400, 'SD', 'PIT',\n",
       "        9.31301982881544], dtype=object),\n",
       " array(['58318-12933', 'OF', 'Mike Trout', 4500, 'LAA', 'TB',\n",
       "        11.491166229732436], dtype=object),\n",
       " array(['58318-12933', 'OF', 'Mike Trout', 4500, 'LAA', 'TB',\n",
       "        11.491166229732436], dtype=object),\n",
       " array(['58318-12933', 'OF', 'Mike Trout', 4500, 'LAA', 'TB',\n",
       "        11.491166229732436], dtype=object)]"
      ]
     },
     "execution_count": 130,
     "metadata": {},
     "output_type": "execute_result"
    }
   ],
   "source": [
    "lineup"
   ]
  },
  {
   "cell_type": "code",
   "execution_count": 169,
   "metadata": {},
   "outputs": [
    {
     "data": {
      "text/plain": [
       "2"
      ]
     },
     "execution_count": 169,
     "metadata": {},
     "output_type": "execute_result"
    }
   ],
   "source": [
    "batters_projections.loc[batters_projections['Position'] == 'OF'].index.values[0]\n",
    "#batters_projections.drop([0])"
   ]
  },
  {
   "cell_type": "code",
   "execution_count": 148,
   "metadata": {},
   "outputs": [
    {
     "data": {
      "text/html": [
       "<div>\n",
       "<style scoped>\n",
       "    .dataframe tbody tr th:only-of-type {\n",
       "        vertical-align: middle;\n",
       "    }\n",
       "\n",
       "    .dataframe tbody tr th {\n",
       "        vertical-align: top;\n",
       "    }\n",
       "\n",
       "    .dataframe thead th {\n",
       "        text-align: right;\n",
       "    }\n",
       "</style>\n",
       "<table border=\"1\" class=\"dataframe\">\n",
       "  <thead>\n",
       "    <tr style=\"text-align: right;\">\n",
       "      <th></th>\n",
       "      <th>Id</th>\n",
       "      <th>Position</th>\n",
       "      <th>Name</th>\n",
       "      <th>Salary</th>\n",
       "      <th>Team</th>\n",
       "      <th>Opponent</th>\n",
       "      <th>Proj_FPPG</th>\n",
       "    </tr>\n",
       "  </thead>\n",
       "  <tbody>\n",
       "    <tr>\n",
       "      <th>0</th>\n",
       "      <td>58318-79174</td>\n",
       "      <td>C</td>\n",
       "      <td>Jacob Nottingham</td>\n",
       "      <td>2500</td>\n",
       "      <td>MIL</td>\n",
       "      <td>PHI</td>\n",
       "      <td>23.842438</td>\n",
       "    </tr>\n",
       "    <tr>\n",
       "      <th>1</th>\n",
       "      <td>58318-102513</td>\n",
       "      <td>C</td>\n",
       "      <td>Mario Feliciano</td>\n",
       "      <td>2000</td>\n",
       "      <td>MIL</td>\n",
       "      <td>PHI</td>\n",
       "      <td>12.261206</td>\n",
       "    </tr>\n",
       "    <tr>\n",
       "      <th>2</th>\n",
       "      <td>58318-12933</td>\n",
       "      <td>OF</td>\n",
       "      <td>Mike Trout</td>\n",
       "      <td>4500</td>\n",
       "      <td>LAA</td>\n",
       "      <td>TB</td>\n",
       "      <td>11.491166</td>\n",
       "    </tr>\n",
       "    <tr>\n",
       "      <th>3</th>\n",
       "      <td>58318-39086</td>\n",
       "      <td>OF</td>\n",
       "      <td>Byron Buxton</td>\n",
       "      <td>4300</td>\n",
       "      <td>MIN</td>\n",
       "      <td>TEX</td>\n",
       "      <td>11.413326</td>\n",
       "    </tr>\n",
       "    <tr>\n",
       "      <th>4</th>\n",
       "      <td>58318-13540</td>\n",
       "      <td>OF</td>\n",
       "      <td>J.D. Martinez</td>\n",
       "      <td>4200</td>\n",
       "      <td>BOS</td>\n",
       "      <td>DET</td>\n",
       "      <td>10.688011</td>\n",
       "    </tr>\n",
       "    <tr>\n",
       "      <th>...</th>\n",
       "      <td>...</td>\n",
       "      <td>...</td>\n",
       "      <td>...</td>\n",
       "      <td>...</td>\n",
       "      <td>...</td>\n",
       "      <td>...</td>\n",
       "      <td>...</td>\n",
       "    </tr>\n",
       "    <tr>\n",
       "      <th>277</th>\n",
       "      <td>58318-80836</td>\n",
       "      <td>SS</td>\n",
       "      <td>Tzu-Wei Lin</td>\n",
       "      <td>2000</td>\n",
       "      <td>MIN</td>\n",
       "      <td>TEX</td>\n",
       "      <td>0.014872</td>\n",
       "    </tr>\n",
       "    <tr>\n",
       "      <th>278</th>\n",
       "      <td>58318-137070</td>\n",
       "      <td>C</td>\n",
       "      <td>Joseph Odom</td>\n",
       "      <td>2000</td>\n",
       "      <td>TB</td>\n",
       "      <td>LAA</td>\n",
       "      <td>0.005255</td>\n",
       "    </tr>\n",
       "    <tr>\n",
       "      <th>279</th>\n",
       "      <td>58318-60636</td>\n",
       "      <td>OF</td>\n",
       "      <td>Derek Hill</td>\n",
       "      <td>2000</td>\n",
       "      <td>DET</td>\n",
       "      <td>BOS</td>\n",
       "      <td>-0.011430</td>\n",
       "    </tr>\n",
       "    <tr>\n",
       "      <th>280</th>\n",
       "      <td>58318-149374</td>\n",
       "      <td>SS</td>\n",
       "      <td>Sean Kazmar Jr.</td>\n",
       "      <td>2000</td>\n",
       "      <td>ATL</td>\n",
       "      <td>WSH</td>\n",
       "      <td>-0.016745</td>\n",
       "    </tr>\n",
       "    <tr>\n",
       "      <th>281</th>\n",
       "      <td>58318-148547</td>\n",
       "      <td>OF</td>\n",
       "      <td>Scott Hurst</td>\n",
       "      <td>2000</td>\n",
       "      <td>STL</td>\n",
       "      <td>NYM</td>\n",
       "      <td>-0.186199</td>\n",
       "    </tr>\n",
       "  </tbody>\n",
       "</table>\n",
       "<p>282 rows × 7 columns</p>\n",
       "</div>"
      ],
      "text/plain": [
       "               Id Position              Name  Salary Team Opponent  Proj_FPPG\n",
       "0     58318-79174        C  Jacob Nottingham    2500  MIL      PHI  23.842438\n",
       "1    58318-102513        C   Mario Feliciano    2000  MIL      PHI  12.261206\n",
       "2     58318-12933       OF        Mike Trout    4500  LAA       TB  11.491166\n",
       "3     58318-39086       OF      Byron Buxton    4300  MIN      TEX  11.413326\n",
       "4     58318-13540       OF     J.D. Martinez    4200  BOS      DET  10.688011\n",
       "..            ...      ...               ...     ...  ...      ...        ...\n",
       "277   58318-80836       SS       Tzu-Wei Lin    2000  MIN      TEX   0.014872\n",
       "278  58318-137070        C       Joseph Odom    2000   TB      LAA   0.005255\n",
       "279   58318-60636       OF        Derek Hill    2000  DET      BOS  -0.011430\n",
       "280  58318-149374       SS   Sean Kazmar Jr.    2000  ATL      WSH  -0.016745\n",
       "281  58318-148547       OF       Scott Hurst    2000  STL      NYM  -0.186199\n",
       "\n",
       "[282 rows x 7 columns]"
      ]
     },
     "execution_count": 148,
     "metadata": {},
     "output_type": "execute_result"
    }
   ],
   "source": [
    "batters_projections"
   ]
  },
  {
   "cell_type": "code",
   "execution_count": null,
   "metadata": {},
   "outputs": [],
   "source": []
  }
 ],
 "metadata": {
  "kernelspec": {
   "display_name": "Python 3",
   "language": "python",
   "name": "python3"
  },
  "language_info": {
   "codemirror_mode": {
    "name": "ipython",
    "version": 3
   },
   "file_extension": ".py",
   "mimetype": "text/x-python",
   "name": "python",
   "nbconvert_exporter": "python",
   "pygments_lexer": "ipython3",
   "version": "3.8.5"
  }
 },
 "nbformat": 4,
 "nbformat_minor": 4
}
