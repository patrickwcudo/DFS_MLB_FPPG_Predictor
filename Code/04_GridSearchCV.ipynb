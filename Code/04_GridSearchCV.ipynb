{
 "cells": [
  {
   "cell_type": "markdown",
   "metadata": {},
   "source": [
    "# Batter Data"
   ]
  },
  {
   "cell_type": "code",
   "execution_count": 1,
   "metadata": {},
   "outputs": [],
   "source": [
    "# imports - basic\n",
    "import pandas as pd\n",
    "import numpy as np\n",
    "import matplotlib.pyplot as plt\n",
    "import seaborn as sns\n",
    "\n",
    "# imports - sklearn\n",
    "from sklearn.linear_model import LinearRegression\n",
    "from sklearn.preprocessing import StandardScaler\n",
    "from sklearn.metrics import mean_squared_error\n",
    "from sklearn.pipeline import Pipeline\n",
    "from sklearn.model_selection import GridSearchCV"
   ]
  },
  {
   "cell_type": "code",
   "execution_count": 2,
   "metadata": {},
   "outputs": [],
   "source": [
    "# read in batter training data\n",
    "batter_train = pd.read_csv('../Modeling_Data/batter_data_modeling.csv')\n",
    "# read in batter testing data\n",
    "batter_test = pd.read_csv('../Modeling_Data/batter_test_data.csv')"
   ]
  },
  {
   "cell_type": "code",
   "execution_count": 5,
   "metadata": {},
   "outputs": [],
   "source": [
    "# set up X and y from training data\n",
    "X = batter_train.drop(columns=['Name', 'Team', 'POS', 'PTS', 'FPPG'])\n",
    "y = batter_train['FPPG']"
   ]
  },
  {
   "cell_type": "code",
   "execution_count": 6,
   "metadata": {},
   "outputs": [],
   "source": [
    "# create pipeline\n",
    "pipe = Pipeline([\n",
    "    ('sc', StandardScaler()),\n",
    "    ('linreg', LinearRegression())\n",
    "])"
   ]
  },
  {
   "cell_type": "code",
   "execution_count": 13,
   "metadata": {},
   "outputs": [],
   "source": [
    "#create params for pipeline\n",
    "params = {'sc__with_mean': [True, False],\n",
    "          'sc__with_std' : [True, False],\n",
    "          'linreg__fit_intercept' : [True, False],\n",
    "          'linreg__normalize'   : [True, False],\n",
    "          'linreg__copy_X'    : [True, False],\n",
    "          'linreg__n_jobs'     : np.linspace(0, 1, 5),\n",
    "          'linreg__positive': [True, False]\n",
    "}"
   ]
  },
  {
   "cell_type": "code",
   "execution_count": 14,
   "metadata": {},
   "outputs": [],
   "source": [
    "# create grid search cv\n",
    "grid = GridSearchCV(pipe, params, cv=5)"
   ]
  },
  {
   "cell_type": "code",
   "execution_count": 15,
   "metadata": {},
   "outputs": [
    {
     "data": {
      "text/plain": [
       "GridSearchCV(cv=5,\n",
       "             estimator=Pipeline(steps=[('sc', StandardScaler()),\n",
       "                                       ('linreg', LinearRegression())]),\n",
       "             param_grid={'linreg__copy_X': [True, False],\n",
       "                         'linreg__fit_intercept': [True, False],\n",
       "                         'linreg__n_jobs': array([0.  , 0.25, 0.5 , 0.75, 1.  ]),\n",
       "                         'linreg__normalize': [True, False],\n",
       "                         'linreg__positive': [True, False],\n",
       "                         'sc__with_mean': [True, False],\n",
       "                         'sc__with_std': [True, False]})"
      ]
     },
     "execution_count": 15,
     "metadata": {},
     "output_type": "execute_result"
    }
   ],
   "source": [
    "# fit with training data\n",
    "grid.fit(X, y)"
   ]
  },
  {
   "cell_type": "code",
   "execution_count": 16,
   "metadata": {},
   "outputs": [
    {
     "data": {
      "text/plain": [
       "{'linreg__copy_X': True,\n",
       " 'linreg__fit_intercept': False,\n",
       " 'linreg__n_jobs': 0.0,\n",
       " 'linreg__normalize': True,\n",
       " 'linreg__positive': True,\n",
       " 'sc__with_mean': False,\n",
       " 'sc__with_std': False}"
      ]
     },
     "execution_count": 16,
     "metadata": {},
     "output_type": "execute_result"
    }
   ],
   "source": [
    "grid.best_params_"
   ]
  },
  {
   "cell_type": "code",
   "execution_count": 17,
   "metadata": {},
   "outputs": [
    {
     "data": {
      "text/plain": [
       "0.5385630383749813"
      ]
     },
     "execution_count": 17,
     "metadata": {},
     "output_type": "execute_result"
    }
   ],
   "source": [
    "grid.best_score_"
   ]
  },
  {
   "cell_type": "code",
   "execution_count": 22,
   "metadata": {},
   "outputs": [],
   "source": [
    "# generate predictions on testing data with grid\n",
    "# step 1, create testing df\n",
    "test_df = batter_test.drop(columns=['Name', 'Team', 'Pos', 'PTS', 'FPPG'])\n",
    "# step 2, generate predictions using testing df save to original testing data\n",
    "batter_test['Projected_FPPG'] = grid.predict(test_df)"
   ]
  },
  {
   "cell_type": "code",
   "execution_count": 23,
   "metadata": {},
   "outputs": [
    {
     "data": {
      "text/plain": [
       "3.2294011753072276"
      ]
     },
     "execution_count": 23,
     "metadata": {},
     "output_type": "execute_result"
    }
   ],
   "source": [
    "# score with RMSE\n",
    "mean_squared_error(y_true=batter_test['FPPG'], y_pred=batter_test['Projected_FPPG'], squared=False)"
   ]
  },
  {
   "cell_type": "code",
   "execution_count": 33,
   "metadata": {},
   "outputs": [
    {
     "data": {
      "image/png": "[encoded data removed]",
      "text/plain": [
       "<Figure size 576x360 with 1 Axes>"
      ]
     },
     "metadata": {
      "needs_background": "light"
     },
     "output_type": "display_data"
    }
   ],
   "source": [
    "# graph for visual\n",
    "plt.figure(figsize=(8,5))\n",
    "sns.scatterplot(data=batter_test, x='FPPG', y='Projected_FPPG')\n",
    "plt.title('FPPG vs Projected FPPG');"
   ]
  },
  {
   "cell_type": "markdown",
   "metadata": {},
   "source": [
    "# Note: \n",
    "The grid searched linear regression model actually performed worse than the default model.  With an inability to pull coefficient values out of the grid search model and higher RMSE score this model will not be used."
   ]
  },
  {
   "cell_type": "markdown",
   "metadata": {},
   "source": [
    "---"
   ]
  },
  {
   "cell_type": "markdown",
   "metadata": {},
   "source": [
    "# Pitcher Data"
   ]
  },
  {
   "cell_type": "code",
   "execution_count": 39,
   "metadata": {},
   "outputs": [],
   "source": [
    "# additional imports\n",
    "from sklearn.ensemble import RandomForestRegressor"
   ]
  },
  {
   "cell_type": "code",
   "execution_count": 35,
   "metadata": {},
   "outputs": [],
   "source": [
    "# import pitcher training data\n",
    "pitcher_train = pd.read_csv('../Modeling_Data/pitcher_data_modeling.csv')\n",
    "# import batter testing data\n",
    "pitcher_test = pd.read_csv('../Modeling_Data/pitcher_test_data.csv')"
   ]
  },
  {
   "cell_type": "code",
   "execution_count": 47,
   "metadata": {},
   "outputs": [],
   "source": [
    "# set x and y\n",
    "X = pitcher_train.drop(columns=['Name', 'Team', 'POS', 'PTS', 'FPPG'])\n",
    "y= pitcher_train['FPPG']"
   ]
  },
  {
   "cell_type": "code",
   "execution_count": 48,
   "metadata": {},
   "outputs": [],
   "source": [
    "# create pipeline\n",
    "pipe = Pipeline([\n",
    "    ('sc', StandardScaler()),\n",
    "    ('forest', RandomForestRegressor())\n",
    "])"
   ]
  },
  {
   "cell_type": "code",
   "execution_count": 49,
   "metadata": {},
   "outputs": [],
   "source": [
    "# create params\n",
    "params = {\n",
    "    'sc__with_mean': [True, False],\n",
    "    'sc__with_std' : [True, False],\n",
    "    'forest__max_depth': [2, 3, 5, 7],\n",
    "    'forest__min_samples_split': [5, 10, 15, 20],\n",
    "    'forest__min_samples_leaf': [2, 3, 4, 5, 6],\n",
    "}"
   ]
  },
  {
   "cell_type": "code",
   "execution_count": 50,
   "metadata": {},
   "outputs": [],
   "source": [
    "# create grid\n",
    "grid2 = GridSearchCV(pipe, params, cv=5)"
   ]
  },
  {
   "cell_type": "code",
   "execution_count": 51,
   "metadata": {},
   "outputs": [
    {
     "data": {
      "text/plain": [
       "GridSearchCV(cv=5,\n",
       "             estimator=Pipeline(steps=[('sc', StandardScaler()),\n",
       "                                       ('forest', RandomForestRegressor())]),\n",
       "             param_grid={'forest__max_depth': [2, 3, 5, 7],\n",
       "                         'forest__min_samples_leaf': [2, 3, 4, 5, 6],\n",
       "                         'forest__min_samples_split': [5, 10, 15, 20],\n",
       "                         'sc__with_mean': [True, False],\n",
       "                         'sc__with_std': [True, False]})"
      ]
     },
     "execution_count": 51,
     "metadata": {},
     "output_type": "execute_result"
    }
   ],
   "source": [
    "grid2.fit(X, y)"
   ]
  },
  {
   "cell_type": "code",
   "execution_count": 52,
   "metadata": {},
   "outputs": [
    {
     "data": {
      "text/plain": [
       "0.29278654486990663"
      ]
     },
     "execution_count": 52,
     "metadata": {},
     "output_type": "execute_result"
    }
   ],
   "source": [
    "grid2.best_score_"
   ]
  },
  {
   "cell_type": "code",
   "execution_count": 53,
   "metadata": {},
   "outputs": [
    {
     "data": {
      "text/plain": [
       "{'forest__max_depth': 7,\n",
       " 'forest__min_samples_leaf': 3,\n",
       " 'forest__min_samples_split': 5,\n",
       " 'sc__with_mean': True,\n",
       " 'sc__with_std': True}"
      ]
     },
     "execution_count": 53,
     "metadata": {},
     "output_type": "execute_result"
    }
   ],
   "source": [
    "grid2.best_params_"
   ]
  },
  {
   "cell_type": "code",
   "execution_count": 54,
   "metadata": {},
   "outputs": [],
   "source": [
    "# generate predictions on testing data with grid\n",
    "# step 1, create testing df\n",
    "test_df2 = pitcher_test.drop(columns=['Name', 'Team', 'Pos', 'PTS', 'FPPG'])\n",
    "# step 2, generate predictions using testing df save to original testing data\n",
    "pitcher_test['Projected_FPPG'] = grid2.predict(test_df2)"
   ]
  },
  {
   "cell_type": "code",
   "execution_count": 55,
   "metadata": {},
   "outputs": [
    {
     "data": {
      "text/plain": [
       "3.2294011753072276"
      ]
     },
     "execution_count": 55,
     "metadata": {},
     "output_type": "execute_result"
    }
   ],
   "source": [
    "# score with RMSE\n",
    "mean_squared_error(y_true=pitcher_test['FPPG'], y_pred=pitcher_test['Projected_FPPG'], squared=False)"
   ]
  },
  {
   "cell_type": "code",
   "execution_count": 56,
   "metadata": {},
   "outputs": [
    {
     "data": {
      "image/png": "[encoded data removed]",
      "text/plain": [
       "<Figure size 576x360 with 1 Axes>"
      ]
     },
     "metadata": {
      "needs_background": "light"
     },
     "output_type": "display_data"
    }
   ],
   "source": [
    "# graph for visual\n",
    "plt.figure(figsize=(8,5))\n",
    "sns.scatterplot(data=pitcher_test, x='FPPG', y='Projected_FPPG')\n",
    "plt.title('FPPG vs Projected FPPG');"
   ]
  },
  {
   "cell_type": "markdown",
   "metadata": {},
   "source": [
    "# Note: \n",
    "The random forest, similar to the batter data did not perform better than the default model.  The next step is to use the default models with scaled data.  The scaling process is important in the context of our model as the coefficient values help to identify important features."
   ]
  }
 ],
 "metadata": {
  "kernelspec": {
   "display_name": "Python 3",
   "language": "python",
   "name": "python3"
  },
  "language_info": {
   "codemirror_mode": {
    "name": "ipython",
    "version": 3
   },
   "file_extension": ".py",
   "mimetype": "text/x-python",
   "name": "python",
   "nbconvert_exporter": "python",
   "pygments_lexer": "ipython3",
   "version": "3.8.5"
  }
 },
 "nbformat": 4,
 "nbformat_minor": 4
}
