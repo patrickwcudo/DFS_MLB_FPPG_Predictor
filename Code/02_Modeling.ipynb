{
 "cells": [
  {
   "cell_type": "markdown",
   "metadata": {},
   "source": [
    "The purpose of this notebook is to model with scaled data for better interpertation of coefficient values.\n"
   ]
  },
  {
   "cell_type": "code",
   "execution_count": 1,
   "metadata": {},
   "outputs": [],
   "source": [
    "# IMPORTS\n",
    "import pandas as pd\n",
    "import numpy as np\n",
    "import matplotlib.pyplot as plt\n",
    "import seaborn as sns\n",
    "\n",
    "# import standardscaler\n",
    "from sklearn.preprocessing import StandardScaler\n",
    "\n",
    "# modeling function import\n",
    "from model import modeling_reg2\n",
    "\n",
    "# import metrics\n",
    "from sklearn.metrics import mean_squared_error\n",
    "\n",
    "# imports for classifier\n",
    "from sklearn.linear_model import LinearRegression\n",
    "from sklearn.neighbors import KNeighborsRegressor\n",
    "from sklearn.svm import SVR\n",
    "from sklearn.ensemble import RandomForestRegressor, AdaBoostRegressor, BaggingRegressor\n",
    "from sklearn.tree import DecisionTreeRegressor"
   ]
  },
  {
   "cell_type": "code",
   "execution_count": 2,
   "metadata": {},
   "outputs": [],
   "source": [
    "# read in batter training data\n",
    "batter_train = pd.read_csv('../Modeling_Data/batter_data_modeling.csv')\n",
    "# read in batter testing data\n",
    "batter_test = pd.read_csv('../Modeling_Data/batter_test_data.csv')"
   ]
  },
  {
   "cell_type": "code",
   "execution_count": 3,
   "metadata": {},
   "outputs": [],
   "source": [
    "# split data in TTS\n",
    "X_train = batter_train.drop(columns=['Name', 'Team', 'POS', 'PTS', 'FPPG'])\n",
    "y_train = batter_train['FPPG']\n",
    "# testing \n",
    "X_test = batter_test.drop(columns=['Name', 'Team', 'Pos', 'PTS', 'FPPG'])\n",
    "y_test = batter_test['FPPG']"
   ]
  },
  {
   "cell_type": "code",
   "execution_count": 4,
   "metadata": {},
   "outputs": [],
   "source": [
    "# scale data\n",
    "sc = StandardScaler()\n",
    "# fit and transform X\n",
    "X_train_sc = sc.fit_transform(X_train)\n",
    "X_test_sc = sc.transform(X_test)"
   ]
  },
  {
   "cell_type": "code",
   "execution_count": 5,
   "metadata": {},
   "outputs": [],
   "source": [
    "# instaniate all models\n",
    "linreg = LinearRegression()\n",
    "knn = KNeighborsRegressor()\n",
    "svc = SVR()\n",
    "forest = RandomForestRegressor()\n",
    "tree = DecisionTreeRegressor()\n",
    "abc = AdaBoostRegressor()\n",
    "bag = BaggingRegressor()"
   ]
  },
  {
   "cell_type": "code",
   "execution_count": 6,
   "metadata": {},
   "outputs": [],
   "source": [
    "# create list of classifiers\n",
    "class_list = [linreg, knn, svc, forest, tree, abc, bag]"
   ]
  },
  {
   "cell_type": "code",
   "execution_count": 7,
   "metadata": {},
   "outputs": [],
   "source": [
    "results1 = modeling_reg2(batter_train, X_train_sc, y_train, batter_test, X_test_sc, y_test, class_list)"
   ]
  },
  {
   "cell_type": "code",
   "execution_count": 8,
   "metadata": {},
   "outputs": [
    {
     "data": {
      "text/html": [
       "<div>\n",
       "<style scoped>\n",
       "    .dataframe tbody tr th:only-of-type {\n",
       "        vertical-align: middle;\n",
       "    }\n",
       "\n",
       "    .dataframe tbody tr th {\n",
       "        vertical-align: top;\n",
       "    }\n",
       "\n",
       "    .dataframe thead th {\n",
       "        text-align: right;\n",
       "    }\n",
       "</style>\n",
       "<table border=\"1\" class=\"dataframe\">\n",
       "  <thead>\n",
       "    <tr style=\"text-align: right;\">\n",
       "      <th></th>\n",
       "      <th>Baseline - RMSE</th>\n",
       "      <th>Model - RMSE</th>\n",
       "      <th>R2 Score - Train</th>\n",
       "      <th>R2 Score - Test</th>\n",
       "    </tr>\n",
       "  </thead>\n",
       "  <tbody>\n",
       "    <tr>\n",
       "      <th>LinearRegression()</th>\n",
       "      <td>3.078159</td>\n",
       "      <td>2.096171</td>\n",
       "      <td>0.930907</td>\n",
       "      <td>0.660084</td>\n",
       "    </tr>\n",
       "    <tr>\n",
       "      <th>KNeighborsRegressor()</th>\n",
       "      <td>3.078159</td>\n",
       "      <td>2.944000</td>\n",
       "      <td>0.926268</td>\n",
       "      <td>0.329508</td>\n",
       "    </tr>\n",
       "    <tr>\n",
       "      <th>SVR()</th>\n",
       "      <td>3.078159</td>\n",
       "      <td>2.605969</td>\n",
       "      <td>0.951551</td>\n",
       "      <td>0.474641</td>\n",
       "    </tr>\n",
       "    <tr>\n",
       "      <th>RandomForestRegressor()</th>\n",
       "      <td>3.078159</td>\n",
       "      <td>2.572256</td>\n",
       "      <td>0.988387</td>\n",
       "      <td>0.488145</td>\n",
       "    </tr>\n",
       "    <tr>\n",
       "      <th>DecisionTreeRegressor()</th>\n",
       "      <td>3.078159</td>\n",
       "      <td>2.672155</td>\n",
       "      <td>1.000000</td>\n",
       "      <td>0.447616</td>\n",
       "    </tr>\n",
       "    <tr>\n",
       "      <th>AdaBoostRegressor()</th>\n",
       "      <td>3.078159</td>\n",
       "      <td>2.793567</td>\n",
       "      <td>0.918574</td>\n",
       "      <td>0.396279</td>\n",
       "    </tr>\n",
       "    <tr>\n",
       "      <th>BaggingRegressor()</th>\n",
       "      <td>3.078159</td>\n",
       "      <td>2.613299</td>\n",
       "      <td>0.983888</td>\n",
       "      <td>0.471681</td>\n",
       "    </tr>\n",
       "  </tbody>\n",
       "</table>\n",
       "</div>"
      ],
      "text/plain": [
       "                         Baseline - RMSE  Model - RMSE  R2 Score - Train  \\\n",
       "LinearRegression()              3.078159      2.096171          0.930907   \n",
       "KNeighborsRegressor()           3.078159      2.944000          0.926268   \n",
       "SVR()                           3.078159      2.605969          0.951551   \n",
       "RandomForestRegressor()         3.078159      2.572256          0.988387   \n",
       "DecisionTreeRegressor()         3.078159      2.672155          1.000000   \n",
       "AdaBoostRegressor()             3.078159      2.793567          0.918574   \n",
       "BaggingRegressor()              3.078159      2.613299          0.983888   \n",
       "\n",
       "                         R2 Score - Test  \n",
       "LinearRegression()              0.660084  \n",
       "KNeighborsRegressor()           0.329508  \n",
       "SVR()                           0.474641  \n",
       "RandomForestRegressor()         0.488145  \n",
       "DecisionTreeRegressor()         0.447616  \n",
       "AdaBoostRegressor()             0.396279  \n",
       "BaggingRegressor()              0.471681  "
      ]
     },
     "execution_count": 8,
     "metadata": {},
     "output_type": "execute_result"
    }
   ],
   "source": [
    "results1"
   ]
  },
  {
   "cell_type": "markdown",
   "metadata": {},
   "source": [
    "The RMSE above shows a very large improvement from the baseline model."
   ]
  },
  {
   "cell_type": "code",
   "execution_count": 9,
   "metadata": {},
   "outputs": [],
   "source": [
    "# generate predictions on testing data with grid\n",
    "batter_test['Projected_FPPG'] = linreg.predict(X_test_sc)"
   ]
  },
  {
   "cell_type": "code",
   "execution_count": 34,
   "metadata": {},
   "outputs": [
    {
     "data": {
      "image/png": "[encoded data removed]",
      "text/plain": [
       "<Figure size 576x360 with 1 Axes>"
      ]
     },
     "metadata": {
      "needs_background": "light"
     },
     "output_type": "display_data"
    }
   ],
   "source": [
    "#### graph for visual\n",
    "plt.figure(figsize=(8,5))\n",
    "sns.scatterplot(data=batter_test, x='FPPG', y='Projected_FPPG', color='Green')\n",
    "plt.title('Figure 3')\n",
    "plt.savefig('../Images/batter_preds');"
   ]
  },
  {
   "cell_type": "code",
   "execution_count": 11,
   "metadata": {},
   "outputs": [],
   "source": [
    "# dataframe of coefs\n",
    "coef_df = pd.DataFrame(zip(X_train.columns, linreg.coef_), columns=['Feature', 'Coeficient'])\n",
    "coef_df.sort_values(by='Coeficient', inplace=True)"
   ]
  },
  {
   "cell_type": "code",
   "execution_count": 12,
   "metadata": {},
   "outputs": [
    {
     "data": {
      "text/html": [
       "<div>\n",
       "<style scoped>\n",
       "    .dataframe tbody tr th:only-of-type {\n",
       "        vertical-align: middle;\n",
       "    }\n",
       "\n",
       "    .dataframe tbody tr th {\n",
       "        vertical-align: top;\n",
       "    }\n",
       "\n",
       "    .dataframe thead th {\n",
       "        text-align: right;\n",
       "    }\n",
       "</style>\n",
       "<table border=\"1\" class=\"dataframe\">\n",
       "  <thead>\n",
       "    <tr style=\"text-align: right;\">\n",
       "      <th></th>\n",
       "      <th>Feature</th>\n",
       "      <th>Coeficient</th>\n",
       "    </tr>\n",
       "  </thead>\n",
       "  <tbody>\n",
       "    <tr>\n",
       "      <th>0</th>\n",
       "      <td>GMS</td>\n",
       "      <td>-3.086197</td>\n",
       "    </tr>\n",
       "    <tr>\n",
       "      <th>3</th>\n",
       "      <td>H</td>\n",
       "      <td>-0.888016</td>\n",
       "    </tr>\n",
       "    <tr>\n",
       "      <th>12</th>\n",
       "      <td>TB</td>\n",
       "      <td>-0.617851</td>\n",
       "    </tr>\n",
       "    <tr>\n",
       "      <th>6</th>\n",
       "      <td>HR</td>\n",
       "      <td>-0.277104</td>\n",
       "    </tr>\n",
       "    <tr>\n",
       "      <th>4</th>\n",
       "      <td>2B</td>\n",
       "      <td>-0.186493</td>\n",
       "    </tr>\n",
       "    <tr>\n",
       "      <th>5</th>\n",
       "      <td>3B</td>\n",
       "      <td>-0.075215</td>\n",
       "    </tr>\n",
       "    <tr>\n",
       "      <th>8</th>\n",
       "      <td>BB</td>\n",
       "      <td>-0.055341</td>\n",
       "    </tr>\n",
       "    <tr>\n",
       "      <th>13</th>\n",
       "      <td>AVG</td>\n",
       "      <td>-0.045605</td>\n",
       "    </tr>\n",
       "    <tr>\n",
       "      <th>11</th>\n",
       "      <td>CS</td>\n",
       "      <td>-0.028871</td>\n",
       "    </tr>\n",
       "    <tr>\n",
       "      <th>10</th>\n",
       "      <td>SB</td>\n",
       "      <td>0.277466</td>\n",
       "    </tr>\n",
       "    <tr>\n",
       "      <th>15</th>\n",
       "      <td>SLG</td>\n",
       "      <td>0.322836</td>\n",
       "    </tr>\n",
       "    <tr>\n",
       "      <th>9</th>\n",
       "      <td>SO</td>\n",
       "      <td>0.345692</td>\n",
       "    </tr>\n",
       "    <tr>\n",
       "      <th>16</th>\n",
       "      <td>OPS</td>\n",
       "      <td>0.437100</td>\n",
       "    </tr>\n",
       "    <tr>\n",
       "      <th>17</th>\n",
       "      <td>ISO</td>\n",
       "      <td>0.550156</td>\n",
       "    </tr>\n",
       "    <tr>\n",
       "      <th>14</th>\n",
       "      <td>OBP</td>\n",
       "      <td>0.589345</td>\n",
       "    </tr>\n",
       "    <tr>\n",
       "      <th>7</th>\n",
       "      <td>RBI</td>\n",
       "      <td>1.087161</td>\n",
       "    </tr>\n",
       "    <tr>\n",
       "      <th>2</th>\n",
       "      <td>R</td>\n",
       "      <td>1.137777</td>\n",
       "    </tr>\n",
       "    <tr>\n",
       "      <th>1</th>\n",
       "      <td>AB</td>\n",
       "      <td>3.883619</td>\n",
       "    </tr>\n",
       "  </tbody>\n",
       "</table>\n",
       "</div>"
      ],
      "text/plain": [
       "   Feature  Coeficient\n",
       "0      GMS   -3.086197\n",
       "3        H   -0.888016\n",
       "12      TB   -0.617851\n",
       "6       HR   -0.277104\n",
       "4       2B   -0.186493\n",
       "5       3B   -0.075215\n",
       "8       BB   -0.055341\n",
       "13     AVG   -0.045605\n",
       "11      CS   -0.028871\n",
       "10      SB    0.277466\n",
       "15     SLG    0.322836\n",
       "9       SO    0.345692\n",
       "16     OPS    0.437100\n",
       "17     ISO    0.550156\n",
       "14     OBP    0.589345\n",
       "7      RBI    1.087161\n",
       "2        R    1.137777\n",
       "1       AB    3.883619"
      ]
     },
     "execution_count": 12,
     "metadata": {},
     "output_type": "execute_result"
    }
   ],
   "source": [
    "coef_df"
   ]
  },
  {
   "cell_type": "code",
   "execution_count": 13,
   "metadata": {},
   "outputs": [],
   "source": [
    "# save projections to file \n",
    "batter_test.to_csv('../Projections/batter_projections_2021.csv', index=False)"
   ]
  },
  {
   "cell_type": "code",
   "execution_count": 31,
   "metadata": {},
   "outputs": [],
   "source": [
    "results1.to_csv('../Projections/results_batter.csv')"
   ]
  },
  {
   "cell_type": "markdown",
   "metadata": {},
   "source": [
    "---"
   ]
  },
  {
   "cell_type": "markdown",
   "metadata": {},
   "source": [
    "# Pitcher Data"
   ]
  },
  {
   "cell_type": "code",
   "execution_count": 15,
   "metadata": {},
   "outputs": [],
   "source": [
    "# read in pitcher training data\n",
    "pitcher_train = pd.read_csv('../Modeling_Data/pitcher_data_modeling.csv')\n",
    "# read in batter testing data\n",
    "pitcher_test = pd.read_csv('../Modeling_Data/pitcher_test_data.csv')"
   ]
  },
  {
   "cell_type": "code",
   "execution_count": 16,
   "metadata": {},
   "outputs": [],
   "source": [
    "# split data in TTS\n",
    "X_train = pitcher_train.drop(columns=['Name', 'Team', 'POS', 'PTS', 'AVG', 'FPPG'])\n",
    "y_train = pitcher_train['FPPG']\n",
    "# testing \n",
    "X_test = pitcher_test.drop(columns=['Name', 'Team', 'Pos', 'PTS', 'AVG', 'FPPG'])\n",
    "y_test = pitcher_test['FPPG']"
   ]
  },
  {
   "cell_type": "code",
   "execution_count": 17,
   "metadata": {},
   "outputs": [],
   "source": [
    "# scale data\n",
    "sc = StandardScaler()\n",
    "# fit and transform X\n",
    "X_train_sc = sc.fit_transform(X_train)\n",
    "X_test_sc = sc.transform(X_test)"
   ]
  },
  {
   "cell_type": "code",
   "execution_count": 18,
   "metadata": {},
   "outputs": [],
   "source": [
    "results = modeling_reg2(pitcher_train, X_train_sc, y_train, pitcher_test, X_test_sc, y_test, class_list)"
   ]
  },
  {
   "cell_type": "code",
   "execution_count": 19,
   "metadata": {},
   "outputs": [
    {
     "data": {
      "text/html": [
       "<div>\n",
       "<style scoped>\n",
       "    .dataframe tbody tr th:only-of-type {\n",
       "        vertical-align: middle;\n",
       "    }\n",
       "\n",
       "    .dataframe tbody tr th {\n",
       "        vertical-align: top;\n",
       "    }\n",
       "\n",
       "    .dataframe thead th {\n",
       "        text-align: right;\n",
       "    }\n",
       "</style>\n",
       "<table border=\"1\" class=\"dataframe\">\n",
       "  <thead>\n",
       "    <tr style=\"text-align: right;\">\n",
       "      <th></th>\n",
       "      <th>Baseline - RMSE</th>\n",
       "      <th>Model - RMSE</th>\n",
       "      <th>R2 Score - Train</th>\n",
       "      <th>R2 Score - Test</th>\n",
       "    </tr>\n",
       "  </thead>\n",
       "  <tbody>\n",
       "    <tr>\n",
       "      <th>LinearRegression()</th>\n",
       "      <td>9.344332</td>\n",
       "      <td>9.777567</td>\n",
       "      <td>0.887721</td>\n",
       "      <td>0.211404</td>\n",
       "    </tr>\n",
       "    <tr>\n",
       "      <th>KNeighborsRegressor()</th>\n",
       "      <td>9.344332</td>\n",
       "      <td>9.340354</td>\n",
       "      <td>0.939830</td>\n",
       "      <td>0.280353</td>\n",
       "    </tr>\n",
       "    <tr>\n",
       "      <th>SVR()</th>\n",
       "      <td>9.344332</td>\n",
       "      <td>10.359744</td>\n",
       "      <td>0.867597</td>\n",
       "      <td>0.114699</td>\n",
       "    </tr>\n",
       "    <tr>\n",
       "      <th>RandomForestRegressor()</th>\n",
       "      <td>9.344332</td>\n",
       "      <td>6.243273</td>\n",
       "      <td>0.991117</td>\n",
       "      <td>0.678473</td>\n",
       "    </tr>\n",
       "    <tr>\n",
       "      <th>DecisionTreeRegressor()</th>\n",
       "      <td>9.344332</td>\n",
       "      <td>12.935806</td>\n",
       "      <td>1.000000</td>\n",
       "      <td>-0.380321</td>\n",
       "    </tr>\n",
       "    <tr>\n",
       "      <th>AdaBoostRegressor()</th>\n",
       "      <td>9.344332</td>\n",
       "      <td>7.489096</td>\n",
       "      <td>0.914223</td>\n",
       "      <td>0.537351</td>\n",
       "    </tr>\n",
       "    <tr>\n",
       "      <th>BaggingRegressor()</th>\n",
       "      <td>9.344332</td>\n",
       "      <td>5.486293</td>\n",
       "      <td>0.987226</td>\n",
       "      <td>0.751715</td>\n",
       "    </tr>\n",
       "  </tbody>\n",
       "</table>\n",
       "</div>"
      ],
      "text/plain": [
       "                         Baseline - RMSE  Model - RMSE  R2 Score - Train  \\\n",
       "LinearRegression()              9.344332      9.777567          0.887721   \n",
       "KNeighborsRegressor()           9.344332      9.340354          0.939830   \n",
       "SVR()                           9.344332     10.359744          0.867597   \n",
       "RandomForestRegressor()         9.344332      6.243273          0.991117   \n",
       "DecisionTreeRegressor()         9.344332     12.935806          1.000000   \n",
       "AdaBoostRegressor()             9.344332      7.489096          0.914223   \n",
       "BaggingRegressor()              9.344332      5.486293          0.987226   \n",
       "\n",
       "                         R2 Score - Test  \n",
       "LinearRegression()              0.211404  \n",
       "KNeighborsRegressor()           0.280353  \n",
       "SVR()                           0.114699  \n",
       "RandomForestRegressor()         0.678473  \n",
       "DecisionTreeRegressor()        -0.380321  \n",
       "AdaBoostRegressor()             0.537351  \n",
       "BaggingRegressor()              0.751715  "
      ]
     },
     "execution_count": 19,
     "metadata": {},
     "output_type": "execute_result"
    }
   ],
   "source": [
    "results"
   ]
  },
  {
   "cell_type": "markdown",
   "metadata": {},
   "source": [
    "The RMSE above shows a very large improvement from the baseline model."
   ]
  },
  {
   "cell_type": "code",
   "execution_count": 20,
   "metadata": {},
   "outputs": [],
   "source": [
    "# generate predictions on testing data with grid\n",
    "pitcher_test['Projected_FPPG'] = linreg.predict(X_test_sc)"
   ]
  },
  {
   "cell_type": "code",
   "execution_count": 33,
   "metadata": {},
   "outputs": [
    {
     "data": {
      "image/png": "[encoded data removed]",
      "text/plain": [
       "<Figure size 576x360 with 1 Axes>"
      ]
     },
     "metadata": {
      "needs_background": "light"
     },
     "output_type": "display_data"
    }
   ],
   "source": [
    "#### graph for visual\n",
    "plt.figure(figsize=(8,5))\n",
    "sns.scatterplot(data=pitcher_test, x='FPPG', y='Projected_FPPG', color='Green')\n",
    "plt.title('Figure 5')\n",
    "plt.savefig('../Images/pitcher_preds');"
   ]
  },
  {
   "cell_type": "code",
   "execution_count": 22,
   "metadata": {},
   "outputs": [],
   "source": [
    "# dataframe of coefs\n",
    "coef_df = pd.DataFrame(zip(X_train.columns, linreg.coef_), columns=['Feature', 'Coeficient'])\n",
    "coef_df.sort_values(by='Coeficient', inplace=True)"
   ]
  },
  {
   "cell_type": "code",
   "execution_count": 23,
   "metadata": {},
   "outputs": [
    {
     "data": {
      "text/html": [
       "<div>\n",
       "<style scoped>\n",
       "    .dataframe tbody tr th:only-of-type {\n",
       "        vertical-align: middle;\n",
       "    }\n",
       "\n",
       "    .dataframe tbody tr th {\n",
       "        vertical-align: top;\n",
       "    }\n",
       "\n",
       "    .dataframe thead th {\n",
       "        text-align: right;\n",
       "    }\n",
       "</style>\n",
       "<table border=\"1\" class=\"dataframe\">\n",
       "  <thead>\n",
       "    <tr style=\"text-align: right;\">\n",
       "      <th></th>\n",
       "      <th>Feature</th>\n",
       "      <th>Coeficient</th>\n",
       "    </tr>\n",
       "  </thead>\n",
       "  <tbody>\n",
       "    <tr>\n",
       "      <th>13</th>\n",
       "      <td>WHIP</td>\n",
       "      <td>-31.130656</td>\n",
       "    </tr>\n",
       "    <tr>\n",
       "      <th>2</th>\n",
       "      <td>GMS</td>\n",
       "      <td>-4.012871</td>\n",
       "    </tr>\n",
       "    <tr>\n",
       "      <th>12</th>\n",
       "      <td>ERA</td>\n",
       "      <td>-1.133364</td>\n",
       "    </tr>\n",
       "    <tr>\n",
       "      <th>6</th>\n",
       "      <td>H</td>\n",
       "      <td>-0.723690</td>\n",
       "    </tr>\n",
       "    <tr>\n",
       "      <th>7</th>\n",
       "      <td>R</td>\n",
       "      <td>-0.619644</td>\n",
       "    </tr>\n",
       "    <tr>\n",
       "      <th>9</th>\n",
       "      <td>HR</td>\n",
       "      <td>-0.214696</td>\n",
       "    </tr>\n",
       "    <tr>\n",
       "      <th>4</th>\n",
       "      <td>SV</td>\n",
       "      <td>-0.019858</td>\n",
       "    </tr>\n",
       "    <tr>\n",
       "      <th>1</th>\n",
       "      <td>L</td>\n",
       "      <td>0.170519</td>\n",
       "    </tr>\n",
       "    <tr>\n",
       "      <th>8</th>\n",
       "      <td>ER</td>\n",
       "      <td>0.196460</td>\n",
       "    </tr>\n",
       "    <tr>\n",
       "      <th>0</th>\n",
       "      <td>W</td>\n",
       "      <td>0.980298</td>\n",
       "    </tr>\n",
       "    <tr>\n",
       "      <th>3</th>\n",
       "      <td>GS</td>\n",
       "      <td>2.418539</td>\n",
       "    </tr>\n",
       "    <tr>\n",
       "      <th>5</th>\n",
       "      <td>IP</td>\n",
       "      <td>2.764546</td>\n",
       "    </tr>\n",
       "    <tr>\n",
       "      <th>11</th>\n",
       "      <td>SO</td>\n",
       "      <td>4.359418</td>\n",
       "    </tr>\n",
       "    <tr>\n",
       "      <th>10</th>\n",
       "      <td>BB</td>\n",
       "      <td>30.869719</td>\n",
       "    </tr>\n",
       "  </tbody>\n",
       "</table>\n",
       "</div>"
      ],
      "text/plain": [
       "   Feature  Coeficient\n",
       "13    WHIP  -31.130656\n",
       "2      GMS   -4.012871\n",
       "12     ERA   -1.133364\n",
       "6        H   -0.723690\n",
       "7        R   -0.619644\n",
       "9       HR   -0.214696\n",
       "4       SV   -0.019858\n",
       "1        L    0.170519\n",
       "8       ER    0.196460\n",
       "0        W    0.980298\n",
       "3       GS    2.418539\n",
       "5       IP    2.764546\n",
       "11      SO    4.359418\n",
       "10      BB   30.869719"
      ]
     },
     "execution_count": 23,
     "metadata": {},
     "output_type": "execute_result"
    }
   ],
   "source": [
    "coef_df"
   ]
  },
  {
   "cell_type": "code",
   "execution_count": 24,
   "metadata": {},
   "outputs": [],
   "source": [
    "# save projections to file \n",
    "pitcher_test.to_csv('../Projections/pitcher_projections_2021.csv', index=False)"
   ]
  },
  {
   "cell_type": "code",
   "execution_count": 32,
   "metadata": {},
   "outputs": [],
   "source": [
    "# results to file\n",
    "results.to_csv('../Projections/results_pitcher.csv')"
   ]
  },
  {
   "cell_type": "markdown",
   "metadata": {},
   "source": [
    "---"
   ]
  }
 ],
 "metadata": {
  "kernelspec": {
   "display_name": "Python 3",
   "language": "python",
   "name": "python3"
  },
  "language_info": {
   "codemirror_mode": {
    "name": "ipython",
    "version": 3
   },
   "file_extension": ".py",
   "mimetype": "text/x-python",
   "name": "python",
   "nbconvert_exporter": "python",
   "pygments_lexer": "ipython3",
   "version": "3.8.5"
  }
 },
 "nbformat": 4,
 "nbformat_minor": 4
}
