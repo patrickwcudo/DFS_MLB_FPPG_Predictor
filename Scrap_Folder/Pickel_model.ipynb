{
 "cells": [
  {
   "cell_type": "markdown",
   "metadata": {},
   "source": [
    "An attempt to pickel both models."
   ]
  },
  {
   "cell_type": "code",
   "execution_count": 1,
   "metadata": {},
   "outputs": [],
   "source": [
    "# IMPORTS\n",
    "import pandas as pd\n",
    "import numpy as np\n",
    "import matplotlib.pyplot as plt\n",
    "import seaborn as sns\n",
    "\n",
    "# modeling function import\n",
    "from model import modeling_reg\n",
    "\n",
    "# import metrics\n",
    "from sklearn.model_selection import train_test_split, cross_val_score\n",
    "from sklearn.metrics import mean_squared_error\n",
    "\n",
    "# imports for classifier\n",
    "from sklearn.linear_model import LinearRegression\n",
    "from sklearn.neighbors import KNeighborsRegressor\n",
    "from sklearn.svm import SVR\n",
    "from sklearn.ensemble import RandomForestRegressor, AdaBoostRegressor, BaggingRegressor\n",
    "from sklearn.tree import DecisionTreeRegressor\n",
    "\n",
    "#import pickel\n",
    "import pickle\n",
    "\n",
    "#import lineup function\n",
    "from LineupBuilder import build_lineup"
   ]
  },
  {
   "cell_type": "code",
   "execution_count": 2,
   "metadata": {},
   "outputs": [],
   "source": [
    "# read in data for batters and pitchers\n",
    "batters = pd.read_csv('../Modeling_Data/batter_data_modeling.csv')"
   ]
  },
  {
   "cell_type": "code",
   "execution_count": 3,
   "metadata": {},
   "outputs": [],
   "source": [
    "# set X , y \n",
    "X = batters.drop(columns=['Name','Team','POS','FPPG', 'PTS'])\n",
    "y = batters['FPPG']"
   ]
  },
  {
   "cell_type": "code",
   "execution_count": 4,
   "metadata": {},
   "outputs": [],
   "source": [
    "# TTS\n",
    "X_train, X_test, y_train, y_test = train_test_split(X,y)"
   ]
  },
  {
   "cell_type": "code",
   "execution_count": 5,
   "metadata": {},
   "outputs": [],
   "source": [
    "# linear regression\n",
    "linreg = LinearRegression()"
   ]
  },
  {
   "cell_type": "code",
   "execution_count": 6,
   "metadata": {},
   "outputs": [
    {
     "data": {
      "text/plain": [
       "LinearRegression()"
      ]
     },
     "execution_count": 6,
     "metadata": {},
     "output_type": "execute_result"
    }
   ],
   "source": [
    "linreg.fit(X_train, y_train)"
   ]
  },
  {
   "cell_type": "code",
   "execution_count": 7,
   "metadata": {},
   "outputs": [],
   "source": [
    "# .dump to save model above to file model.p\n",
    "pickle.dump(linreg, open('model.p', 'wb'))"
   ]
  },
  {
   "cell_type": "code",
   "execution_count": 8,
   "metadata": {},
   "outputs": [
    {
     "name": "stdout",
     "output_type": "stream",
     "text": [
      "Score: 0.93\n",
      "Score: 0.93\n",
      "RMSE : 0.61673821984921\n"
     ]
    }
   ],
   "source": [
    "# check work\n",
    "pickled_model = pickle.load(open('model.p', 'rb'))\n",
    "# score\n",
    "print(f'Score: {pickled_model.score(X_train, y_train):.2f}')\n",
    "print(f'Score: {pickled_model.score(X_test, y_test):.2f}')\n",
    "print(f'RMSE : {mean_squared_error(y_test, pickled_model.predict(X_test))}')"
   ]
  },
  {
   "cell_type": "code",
   "execution_count": 9,
   "metadata": {},
   "outputs": [],
   "source": [
    "# try predictions\n",
    "testing = pd.read_csv('../CapStone_Data/FanDuel-MLB-2021 ET-05 ET-04 ET-58318-players-list.csv')"
   ]
  },
  {
   "cell_type": "code",
   "execution_count": 11,
   "metadata": {},
   "outputs": [
    {
     "name": "stderr",
     "output_type": "stream",
     "text": [
      "C:\\Users\\phill\\GitHub_Projects\\DFS_MLB_FPPG\\Code\\LineupBuilder.py:104: RuntimeWarning: divide by zero encountered in longlong_scalars\n",
      "  avg_sal = salary_cap/sal_count\n"
     ]
    },
    {
     "data": {
      "text/html": [
       "<div>\n",
       "<style scoped>\n",
       "    .dataframe tbody tr th:only-of-type {\n",
       "        vertical-align: middle;\n",
       "    }\n",
       "\n",
       "    .dataframe tbody tr th {\n",
       "        vertical-align: top;\n",
       "    }\n",
       "\n",
       "    .dataframe thead th {\n",
       "        text-align: right;\n",
       "    }\n",
       "</style>\n",
       "<table border=\"1\" class=\"dataframe\">\n",
       "  <thead>\n",
       "    <tr style=\"text-align: right;\">\n",
       "      <th></th>\n",
       "      <th>Id</th>\n",
       "      <th>Position</th>\n",
       "      <th>Name</th>\n",
       "      <th>Salary</th>\n",
       "      <th>Team</th>\n",
       "      <th>Opponent</th>\n",
       "      <th>Proj_FPPG</th>\n",
       "    </tr>\n",
       "  </thead>\n",
       "  <tbody>\n",
       "    <tr>\n",
       "      <th>0</th>\n",
       "      <td>58318-79951</td>\n",
       "      <td>P</td>\n",
       "      <td>Nick Pivetta</td>\n",
       "      <td>8300</td>\n",
       "      <td>BOS</td>\n",
       "      <td>DET</td>\n",
       "      <td>27.943867</td>\n",
       "    </tr>\n",
       "    <tr>\n",
       "      <th>1</th>\n",
       "      <td>58318-79174</td>\n",
       "      <td>C</td>\n",
       "      <td>Jacob Nottingham</td>\n",
       "      <td>2500</td>\n",
       "      <td>MIL</td>\n",
       "      <td>PHI</td>\n",
       "      <td>23.842438</td>\n",
       "    </tr>\n",
       "    <tr>\n",
       "      <th>2</th>\n",
       "      <td>58318-104483</td>\n",
       "      <td>1B</td>\n",
       "      <td>Jared Walsh</td>\n",
       "      <td>3500</td>\n",
       "      <td>LAA</td>\n",
       "      <td>TB</td>\n",
       "      <td>9.265179</td>\n",
       "    </tr>\n",
       "    <tr>\n",
       "      <th>3</th>\n",
       "      <td>58318-68587</td>\n",
       "      <td>2B</td>\n",
       "      <td>Ozzie Albies</td>\n",
       "      <td>3300</td>\n",
       "      <td>ATL</td>\n",
       "      <td>WSH</td>\n",
       "      <td>7.646085</td>\n",
       "    </tr>\n",
       "    <tr>\n",
       "      <th>4</th>\n",
       "      <td>58318-5104</td>\n",
       "      <td>3B</td>\n",
       "      <td>Pablo Sandoval</td>\n",
       "      <td>2000</td>\n",
       "      <td>ATL</td>\n",
       "      <td>WSH</td>\n",
       "      <td>8.927933</td>\n",
       "    </tr>\n",
       "    <tr>\n",
       "      <th>5</th>\n",
       "      <td>58318-37982</td>\n",
       "      <td>SS</td>\n",
       "      <td>Xander Bogaerts</td>\n",
       "      <td>3500</td>\n",
       "      <td>BOS</td>\n",
       "      <td>DET</td>\n",
       "      <td>8.415627</td>\n",
       "    </tr>\n",
       "    <tr>\n",
       "      <th>6</th>\n",
       "      <td>58318-5763</td>\n",
       "      <td>OF</td>\n",
       "      <td>Nelson Cruz</td>\n",
       "      <td>3900</td>\n",
       "      <td>MIN</td>\n",
       "      <td>TEX</td>\n",
       "      <td>9.506211</td>\n",
       "    </tr>\n",
       "    <tr>\n",
       "      <th>7</th>\n",
       "      <td>58318-60643</td>\n",
       "      <td>OF</td>\n",
       "      <td>Aaron Judge</td>\n",
       "      <td>3600</td>\n",
       "      <td>NYY</td>\n",
       "      <td>HOU</td>\n",
       "      <td>8.827579</td>\n",
       "    </tr>\n",
       "    <tr>\n",
       "      <th>8</th>\n",
       "      <td>58318-39086</td>\n",
       "      <td>OF</td>\n",
       "      <td>Byron Buxton</td>\n",
       "      <td>4300</td>\n",
       "      <td>MIN</td>\n",
       "      <td>TEX</td>\n",
       "      <td>11.413326</td>\n",
       "    </tr>\n",
       "  </tbody>\n",
       "</table>\n",
       "</div>"
      ],
      "text/plain": [
       "             Id Position              Name  Salary Team Opponent  Proj_FPPG\n",
       "0   58318-79951        P      Nick Pivetta    8300  BOS      DET  27.943867\n",
       "1   58318-79174        C  Jacob Nottingham    2500  MIL      PHI  23.842438\n",
       "2  58318-104483       1B       Jared Walsh    3500  LAA       TB   9.265179\n",
       "3   58318-68587       2B      Ozzie Albies    3300  ATL      WSH   7.646085\n",
       "4    58318-5104       3B    Pablo Sandoval    2000  ATL      WSH   8.927933\n",
       "5   58318-37982       SS   Xander Bogaerts    3500  BOS      DET   8.415627\n",
       "6    58318-5763       OF       Nelson Cruz    3900  MIN      TEX   9.506211\n",
       "7   58318-60643       OF       Aaron Judge    3600  NYY      HOU   8.827579\n",
       "8   58318-39086       OF      Byron Buxton    4300  MIN      TEX  11.413326"
      ]
     },
     "execution_count": 11,
     "metadata": {},
     "output_type": "execute_result"
    }
   ],
   "source": [
    "build_lineup(testing)"
   ]
  },
  {
   "cell_type": "markdown",
   "metadata": {},
   "source": [
    "## From here we need to merge this with the testing data, only information we need from this is the name, position, salary, team, game, etc\n",
    "## Need stats for predictions.\n",
    "## Use previous file "
   ]
  },
  {
   "cell_type": "markdown",
   "metadata": {},
   "source": [
    "Going to need to do some cleaning for this file, use one that user would import."
   ]
  },
  {
   "cell_type": "markdown",
   "metadata": {},
   "source": [
    "match template"
   ]
  },
  {
   "cell_type": "code",
   "execution_count": null,
   "metadata": {},
   "outputs": [],
   "source": []
  }
 ],
 "metadata": {
  "kernelspec": {
   "display_name": "Python 3",
   "language": "python",
   "name": "python3"
  },
  "language_info": {
   "codemirror_mode": {
    "name": "ipython",
    "version": 3
   },
   "file_extension": ".py",
   "mimetype": "text/x-python",
   "name": "python",
   "nbconvert_exporter": "python",
   "pygments_lexer": "ipython3",
   "version": "3.8.5"
  }
 },
 "nbformat": 4,
 "nbformat_minor": 4
}
