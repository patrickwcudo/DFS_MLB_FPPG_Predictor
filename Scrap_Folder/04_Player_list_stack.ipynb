{
 "cells": [
  {
   "cell_type": "markdown",
   "metadata": {},
   "source": [
    "The purpose of this notebook is to create a function that takes the imported player list:\n",
    "- clean to only needed information\n",
    "- seperate by pither and batter\n",
    "- merge each on player name to get projections from model\n",
    "- merge back pitcher and batter data \n",
    "- output df for now\n",
    "\n",
    "Next steps:\n",
    "- build line up based on salary"
   ]
  },
  {
   "cell_type": "code",
   "execution_count": 164,
   "metadata": {},
   "outputs": [],
   "source": [
    "# imports\n",
    "import pandas as pd\n",
    "import numpy as np"
   ]
  },
  {
   "cell_type": "code",
   "execution_count": 165,
   "metadata": {},
   "outputs": [],
   "source": [
    "# will need fanduel import\n",
    "fd = pd.read_csv('../../../Downloads/FanDuel-MLB-2021 ET-05 ET-14 ET-58874-players-list.csv')"
   ]
  },
  {
   "cell_type": "code",
   "execution_count": 166,
   "metadata": {},
   "outputs": [
    {
     "data": {
      "text/html": [
       "<div>\n",
       "<style scoped>\n",
       "    .dataframe tbody tr th:only-of-type {\n",
       "        vertical-align: middle;\n",
       "    }\n",
       "\n",
       "    .dataframe tbody tr th {\n",
       "        vertical-align: top;\n",
       "    }\n",
       "\n",
       "    .dataframe thead th {\n",
       "        text-align: right;\n",
       "    }\n",
       "</style>\n",
       "<table border=\"1\" class=\"dataframe\">\n",
       "  <thead>\n",
       "    <tr style=\"text-align: right;\">\n",
       "      <th></th>\n",
       "      <th>Id</th>\n",
       "      <th>Position</th>\n",
       "      <th>First Name</th>\n",
       "      <th>Nickname</th>\n",
       "      <th>Last Name</th>\n",
       "      <th>FPPG</th>\n",
       "      <th>Played</th>\n",
       "      <th>Salary</th>\n",
       "      <th>Game</th>\n",
       "      <th>Team</th>\n",
       "      <th>Opponent</th>\n",
       "      <th>Injury Indicator</th>\n",
       "      <th>Injury Details</th>\n",
       "      <th>Tier</th>\n",
       "      <th>Probable Pitcher</th>\n",
       "      <th>Batting Order</th>\n",
       "      <th>Roster Position</th>\n",
       "    </tr>\n",
       "  </thead>\n",
       "  <tbody>\n",
       "    <tr>\n",
       "      <th>0</th>\n",
       "      <td>58874-5481</td>\n",
       "      <td>P</td>\n",
       "      <td>Max</td>\n",
       "      <td>Max Scherzer</td>\n",
       "      <td>Scherzer</td>\n",
       "      <td>45.428571</td>\n",
       "      <td>7.0</td>\n",
       "      <td>12500</td>\n",
       "      <td>WSH@ARI</td>\n",
       "      <td>WSH</td>\n",
       "      <td>ARI</td>\n",
       "      <td>NaN</td>\n",
       "      <td>NaN</td>\n",
       "      <td>NaN</td>\n",
       "      <td>Yes</td>\n",
       "      <td>NaN</td>\n",
       "      <td>P</td>\n",
       "    </tr>\n",
       "    <tr>\n",
       "      <th>1</th>\n",
       "      <td>58874-52859</td>\n",
       "      <td>P</td>\n",
       "      <td>Jacob</td>\n",
       "      <td>Jacob deGrom</td>\n",
       "      <td>deGrom</td>\n",
       "      <td>57.333333</td>\n",
       "      <td>6.0</td>\n",
       "      <td>12500</td>\n",
       "      <td>NYM@TB</td>\n",
       "      <td>NYM</td>\n",
       "      <td>TB</td>\n",
       "      <td>IL</td>\n",
       "      <td>Side</td>\n",
       "      <td>NaN</td>\n",
       "      <td>NaN</td>\n",
       "      <td>0.0</td>\n",
       "      <td>P</td>\n",
       "    </tr>\n",
       "    <tr>\n",
       "      <th>2</th>\n",
       "      <td>58874-82554</td>\n",
       "      <td>P</td>\n",
       "      <td>Shane</td>\n",
       "      <td>Shane Bieber</td>\n",
       "      <td>Bieber</td>\n",
       "      <td>52.750000</td>\n",
       "      <td>8.0</td>\n",
       "      <td>12200</td>\n",
       "      <td>CLE@SEA</td>\n",
       "      <td>CLE</td>\n",
       "      <td>SEA</td>\n",
       "      <td>NaN</td>\n",
       "      <td>NaN</td>\n",
       "      <td>NaN</td>\n",
       "      <td>NaN</td>\n",
       "      <td>NaN</td>\n",
       "      <td>P</td>\n",
       "    </tr>\n",
       "    <tr>\n",
       "      <th>3</th>\n",
       "      <td>58874-16956</td>\n",
       "      <td>P</td>\n",
       "      <td>Gerrit</td>\n",
       "      <td>Gerrit Cole</td>\n",
       "      <td>Cole</td>\n",
       "      <td>53.250000</td>\n",
       "      <td>8.0</td>\n",
       "      <td>12000</td>\n",
       "      <td>NYY@BAL</td>\n",
       "      <td>NYY</td>\n",
       "      <td>BAL</td>\n",
       "      <td>NaN</td>\n",
       "      <td>NaN</td>\n",
       "      <td>NaN</td>\n",
       "      <td>NaN</td>\n",
       "      <td>NaN</td>\n",
       "      <td>P</td>\n",
       "    </tr>\n",
       "    <tr>\n",
       "      <th>4</th>\n",
       "      <td>58874-16959</td>\n",
       "      <td>P</td>\n",
       "      <td>Trevor</td>\n",
       "      <td>Trevor Bauer</td>\n",
       "      <td>Bauer</td>\n",
       "      <td>44.000000</td>\n",
       "      <td>8.0</td>\n",
       "      <td>11000</td>\n",
       "      <td>MIA@LAD</td>\n",
       "      <td>LAD</td>\n",
       "      <td>MIA</td>\n",
       "      <td>NaN</td>\n",
       "      <td>NaN</td>\n",
       "      <td>NaN</td>\n",
       "      <td>NaN</td>\n",
       "      <td>NaN</td>\n",
       "      <td>P</td>\n",
       "    </tr>\n",
       "  </tbody>\n",
       "</table>\n",
       "</div>"
      ],
      "text/plain": [
       "            Id Position First Name      Nickname Last Name       FPPG  Played  \\\n",
       "0   58874-5481        P        Max  Max Scherzer  Scherzer  45.428571     7.0   \n",
       "1  58874-52859        P      Jacob  Jacob deGrom    deGrom  57.333333     6.0   \n",
       "2  58874-82554        P      Shane  Shane Bieber    Bieber  52.750000     8.0   \n",
       "3  58874-16956        P     Gerrit   Gerrit Cole      Cole  53.250000     8.0   \n",
       "4  58874-16959        P     Trevor  Trevor Bauer     Bauer  44.000000     8.0   \n",
       "\n",
       "   Salary     Game Team Opponent Injury Indicator Injury Details  Tier  \\\n",
       "0   12500  WSH@ARI  WSH      ARI              NaN            NaN   NaN   \n",
       "1   12500   NYM@TB  NYM       TB               IL           Side   NaN   \n",
       "2   12200  CLE@SEA  CLE      SEA              NaN            NaN   NaN   \n",
       "3   12000  NYY@BAL  NYY      BAL              NaN            NaN   NaN   \n",
       "4   11000  MIA@LAD  LAD      MIA              NaN            NaN   NaN   \n",
       "\n",
       "  Probable Pitcher  Batting Order Roster Position  \n",
       "0              Yes            NaN               P  \n",
       "1              NaN            0.0               P  \n",
       "2              NaN            NaN               P  \n",
       "3              NaN            NaN               P  \n",
       "4              NaN            NaN               P  "
      ]
     },
     "execution_count": 166,
     "metadata": {},
     "output_type": "execute_result"
    }
   ],
   "source": [
    "# print first 5 rows of fd\n",
    "fd.head()"
   ]
  },
  {
   "cell_type": "markdown",
   "metadata": {},
   "source": [
    "only columns needed:\n",
    "- id - will need this later for template\n",
    "- Position\n",
    "- nickname - renamed to Name\n",
    "- salary\n",
    "- game\n",
    "- team\n",
    "- opponent\n",
    "- injury indicator\n",
    "- probable pitcher"
   ]
  },
  {
   "cell_type": "code",
   "execution_count": 167,
   "metadata": {},
   "outputs": [
    {
     "data": {
      "text/plain": [
       "Index(['Id', 'Position', 'First Name', 'Nickname', 'Last Name', 'FPPG',\n",
       "       'Played', 'Salary', 'Game', 'Team', 'Opponent', 'Injury Indicator',\n",
       "       'Injury Details', 'Tier', 'Probable Pitcher', 'Batting Order',\n",
       "       'Roster Position'],\n",
       "      dtype='object')"
      ]
     },
     "execution_count": 167,
     "metadata": {},
     "output_type": "execute_result"
    }
   ],
   "source": [
    "fd.columns"
   ]
  },
  {
   "cell_type": "code",
   "execution_count": 168,
   "metadata": {},
   "outputs": [],
   "source": [
    "# clean up fd to match column list above\n",
    "fd.drop(columns=['First Name', 'Last Name', 'FPPG', 'Played',\n",
    "                 'Injury Details', 'Tier', 'Batting Order', 'Roster Position'], inplace=True)"
   ]
  },
  {
   "cell_type": "markdown",
   "metadata": {},
   "source": [
    "Next step is fill nulls in probable pitcher and injury indicator"
   ]
  },
  {
   "cell_type": "code",
   "execution_count": 169,
   "metadata": {},
   "outputs": [],
   "source": [
    "# filling nulls for probable pitcher\n",
    "fd['Probable Pitcher'].fillna('No', inplace=True)"
   ]
  },
  {
   "cell_type": "code",
   "execution_count": 170,
   "metadata": {},
   "outputs": [],
   "source": [
    "# fill nulls for injury indicator\n",
    "fd['Injury Indicator'].fillna('Healthy', inplace=True)"
   ]
  },
  {
   "cell_type": "code",
   "execution_count": 171,
   "metadata": {},
   "outputs": [
    {
     "data": {
      "text/html": [
       "<div>\n",
       "<style scoped>\n",
       "    .dataframe tbody tr th:only-of-type {\n",
       "        vertical-align: middle;\n",
       "    }\n",
       "\n",
       "    .dataframe tbody tr th {\n",
       "        vertical-align: top;\n",
       "    }\n",
       "\n",
       "    .dataframe thead th {\n",
       "        text-align: right;\n",
       "    }\n",
       "</style>\n",
       "<table border=\"1\" class=\"dataframe\">\n",
       "  <thead>\n",
       "    <tr style=\"text-align: right;\">\n",
       "      <th></th>\n",
       "      <th>Id</th>\n",
       "      <th>Position</th>\n",
       "      <th>Nickname</th>\n",
       "      <th>Salary</th>\n",
       "      <th>Game</th>\n",
       "      <th>Team</th>\n",
       "      <th>Opponent</th>\n",
       "      <th>Injury Indicator</th>\n",
       "      <th>Probable Pitcher</th>\n",
       "    </tr>\n",
       "  </thead>\n",
       "  <tbody>\n",
       "    <tr>\n",
       "      <th>0</th>\n",
       "      <td>58874-5481</td>\n",
       "      <td>P</td>\n",
       "      <td>Max Scherzer</td>\n",
       "      <td>12500</td>\n",
       "      <td>WSH@ARI</td>\n",
       "      <td>WSH</td>\n",
       "      <td>ARI</td>\n",
       "      <td>Healthy</td>\n",
       "      <td>Yes</td>\n",
       "    </tr>\n",
       "    <tr>\n",
       "      <th>1</th>\n",
       "      <td>58874-52859</td>\n",
       "      <td>P</td>\n",
       "      <td>Jacob deGrom</td>\n",
       "      <td>12500</td>\n",
       "      <td>NYM@TB</td>\n",
       "      <td>NYM</td>\n",
       "      <td>TB</td>\n",
       "      <td>IL</td>\n",
       "      <td>No</td>\n",
       "    </tr>\n",
       "    <tr>\n",
       "      <th>2</th>\n",
       "      <td>58874-82554</td>\n",
       "      <td>P</td>\n",
       "      <td>Shane Bieber</td>\n",
       "      <td>12200</td>\n",
       "      <td>CLE@SEA</td>\n",
       "      <td>CLE</td>\n",
       "      <td>SEA</td>\n",
       "      <td>Healthy</td>\n",
       "      <td>No</td>\n",
       "    </tr>\n",
       "    <tr>\n",
       "      <th>3</th>\n",
       "      <td>58874-16956</td>\n",
       "      <td>P</td>\n",
       "      <td>Gerrit Cole</td>\n",
       "      <td>12000</td>\n",
       "      <td>NYY@BAL</td>\n",
       "      <td>NYY</td>\n",
       "      <td>BAL</td>\n",
       "      <td>Healthy</td>\n",
       "      <td>No</td>\n",
       "    </tr>\n",
       "    <tr>\n",
       "      <th>4</th>\n",
       "      <td>58874-16959</td>\n",
       "      <td>P</td>\n",
       "      <td>Trevor Bauer</td>\n",
       "      <td>11000</td>\n",
       "      <td>MIA@LAD</td>\n",
       "      <td>LAD</td>\n",
       "      <td>MIA</td>\n",
       "      <td>Healthy</td>\n",
       "      <td>No</td>\n",
       "    </tr>\n",
       "  </tbody>\n",
       "</table>\n",
       "</div>"
      ],
      "text/plain": [
       "            Id Position      Nickname  Salary     Game Team Opponent  \\\n",
       "0   58874-5481        P  Max Scherzer   12500  WSH@ARI  WSH      ARI   \n",
       "1  58874-52859        P  Jacob deGrom   12500   NYM@TB  NYM       TB   \n",
       "2  58874-82554        P  Shane Bieber   12200  CLE@SEA  CLE      SEA   \n",
       "3  58874-16956        P   Gerrit Cole   12000  NYY@BAL  NYY      BAL   \n",
       "4  58874-16959        P  Trevor Bauer   11000  MIA@LAD  LAD      MIA   \n",
       "\n",
       "  Injury Indicator Probable Pitcher  \n",
       "0          Healthy              Yes  \n",
       "1               IL               No  \n",
       "2          Healthy               No  \n",
       "3          Healthy               No  \n",
       "4          Healthy               No  "
      ]
     },
     "execution_count": 171,
     "metadata": {},
     "output_type": "execute_result"
    }
   ],
   "source": [
    "# review new cleaned df\n",
    "fd.head()"
   ]
  },
  {
   "cell_type": "code",
   "execution_count": 172,
   "metadata": {},
   "outputs": [
    {
     "name": "stdout",
     "output_type": "stream",
     "text": [
      "<class 'pandas.core.frame.DataFrame'>\n",
      "RangeIndex: 1022 entries, 0 to 1021\n",
      "Data columns (total 9 columns):\n",
      " #   Column            Non-Null Count  Dtype \n",
      "---  ------            --------------  ----- \n",
      " 0   Id                1022 non-null   object\n",
      " 1   Position          1022 non-null   object\n",
      " 2   Nickname          1022 non-null   object\n",
      " 3   Salary            1022 non-null   int64 \n",
      " 4   Game              1022 non-null   object\n",
      " 5   Team              1022 non-null   object\n",
      " 6   Opponent          1022 non-null   object\n",
      " 7   Injury Indicator  1022 non-null   object\n",
      " 8   Probable Pitcher  1022 non-null   object\n",
      "dtypes: int64(1), object(8)\n",
      "memory usage: 72.0+ KB\n"
     ]
    }
   ],
   "source": [
    "fd.info()"
   ]
  },
  {
   "cell_type": "markdown",
   "metadata": {},
   "source": [
    "Next step rename Nickname to name"
   ]
  },
  {
   "cell_type": "code",
   "execution_count": 173,
   "metadata": {},
   "outputs": [],
   "source": [
    "# renaming nickname column\n",
    "fd.rename(columns={'Nickname': 'Name'}, inplace=True)"
   ]
  },
  {
   "cell_type": "markdown",
   "metadata": {},
   "source": [
    "Next step filter to only healthy players"
   ]
  },
  {
   "cell_type": "code",
   "execution_count": 174,
   "metadata": {},
   "outputs": [],
   "source": [
    "# fitler to only healthy players\n",
    "fd = fd.loc[fd['Injury Indicator'] == 'Healthy']"
   ]
  },
  {
   "cell_type": "code",
   "execution_count": 175,
   "metadata": {},
   "outputs": [
    {
     "data": {
      "text/html": [
       "<div>\n",
       "<style scoped>\n",
       "    .dataframe tbody tr th:only-of-type {\n",
       "        vertical-align: middle;\n",
       "    }\n",
       "\n",
       "    .dataframe tbody tr th {\n",
       "        vertical-align: top;\n",
       "    }\n",
       "\n",
       "    .dataframe thead th {\n",
       "        text-align: right;\n",
       "    }\n",
       "</style>\n",
       "<table border=\"1\" class=\"dataframe\">\n",
       "  <thead>\n",
       "    <tr style=\"text-align: right;\">\n",
       "      <th></th>\n",
       "      <th>Id</th>\n",
       "      <th>Position</th>\n",
       "      <th>Name</th>\n",
       "      <th>Salary</th>\n",
       "      <th>Game</th>\n",
       "      <th>Team</th>\n",
       "      <th>Opponent</th>\n",
       "      <th>Injury Indicator</th>\n",
       "      <th>Probable Pitcher</th>\n",
       "    </tr>\n",
       "  </thead>\n",
       "  <tbody>\n",
       "    <tr>\n",
       "      <th>0</th>\n",
       "      <td>58874-5481</td>\n",
       "      <td>P</td>\n",
       "      <td>Max Scherzer</td>\n",
       "      <td>12500</td>\n",
       "      <td>WSH@ARI</td>\n",
       "      <td>WSH</td>\n",
       "      <td>ARI</td>\n",
       "      <td>Healthy</td>\n",
       "      <td>Yes</td>\n",
       "    </tr>\n",
       "    <tr>\n",
       "      <th>2</th>\n",
       "      <td>58874-82554</td>\n",
       "      <td>P</td>\n",
       "      <td>Shane Bieber</td>\n",
       "      <td>12200</td>\n",
       "      <td>CLE@SEA</td>\n",
       "      <td>CLE</td>\n",
       "      <td>SEA</td>\n",
       "      <td>Healthy</td>\n",
       "      <td>No</td>\n",
       "    </tr>\n",
       "    <tr>\n",
       "      <th>3</th>\n",
       "      <td>58874-16956</td>\n",
       "      <td>P</td>\n",
       "      <td>Gerrit Cole</td>\n",
       "      <td>12000</td>\n",
       "      <td>NYY@BAL</td>\n",
       "      <td>NYY</td>\n",
       "      <td>BAL</td>\n",
       "      <td>Healthy</td>\n",
       "      <td>No</td>\n",
       "    </tr>\n",
       "    <tr>\n",
       "      <th>4</th>\n",
       "      <td>58874-16959</td>\n",
       "      <td>P</td>\n",
       "      <td>Trevor Bauer</td>\n",
       "      <td>11000</td>\n",
       "      <td>MIA@LAD</td>\n",
       "      <td>LAD</td>\n",
       "      <td>MIA</td>\n",
       "      <td>Healthy</td>\n",
       "      <td>No</td>\n",
       "    </tr>\n",
       "    <tr>\n",
       "      <th>5</th>\n",
       "      <td>58874-97300</td>\n",
       "      <td>P</td>\n",
       "      <td>John Means</td>\n",
       "      <td>11000</td>\n",
       "      <td>NYY@BAL</td>\n",
       "      <td>BAL</td>\n",
       "      <td>NYY</td>\n",
       "      <td>Healthy</td>\n",
       "      <td>No</td>\n",
       "    </tr>\n",
       "  </tbody>\n",
       "</table>\n",
       "</div>"
      ],
      "text/plain": [
       "            Id Position          Name  Salary     Game Team Opponent  \\\n",
       "0   58874-5481        P  Max Scherzer   12500  WSH@ARI  WSH      ARI   \n",
       "2  58874-82554        P  Shane Bieber   12200  CLE@SEA  CLE      SEA   \n",
       "3  58874-16956        P   Gerrit Cole   12000  NYY@BAL  NYY      BAL   \n",
       "4  58874-16959        P  Trevor Bauer   11000  MIA@LAD  LAD      MIA   \n",
       "5  58874-97300        P    John Means   11000  NYY@BAL  BAL      NYY   \n",
       "\n",
       "  Injury Indicator Probable Pitcher  \n",
       "0          Healthy              Yes  \n",
       "2          Healthy               No  \n",
       "3          Healthy               No  \n",
       "4          Healthy               No  \n",
       "5          Healthy               No  "
      ]
     },
     "execution_count": 175,
     "metadata": {},
     "output_type": "execute_result"
    }
   ],
   "source": [
    "# review dataframe\n",
    "fd.head()"
   ]
  },
  {
   "cell_type": "code",
   "execution_count": 176,
   "metadata": {},
   "outputs": [
    {
     "name": "stdout",
     "output_type": "stream",
     "text": [
      "<class 'pandas.core.frame.DataFrame'>\n",
      "Int64Index: 809 entries, 0 to 1021\n",
      "Data columns (total 9 columns):\n",
      " #   Column            Non-Null Count  Dtype \n",
      "---  ------            --------------  ----- \n",
      " 0   Id                809 non-null    object\n",
      " 1   Position          809 non-null    object\n",
      " 2   Name              809 non-null    object\n",
      " 3   Salary            809 non-null    int64 \n",
      " 4   Game              809 non-null    object\n",
      " 5   Team              809 non-null    object\n",
      " 6   Opponent          809 non-null    object\n",
      " 7   Injury Indicator  809 non-null    object\n",
      " 8   Probable Pitcher  809 non-null    object\n",
      "dtypes: int64(1), object(8)\n",
      "memory usage: 63.2+ KB\n"
     ]
    }
   ],
   "source": [
    "fd.info()"
   ]
  },
  {
   "cell_type": "markdown",
   "metadata": {},
   "source": [
    "next step is to split into pithcers and batters"
   ]
  },
  {
   "cell_type": "code",
   "execution_count": 177,
   "metadata": {},
   "outputs": [],
   "source": [
    "# split using .loc by position and make new dataframe for pitchers\n",
    "pitchers = fd.loc[fd['Position']=='P']"
   ]
  },
  {
   "cell_type": "code",
   "execution_count": 178,
   "metadata": {},
   "outputs": [],
   "source": [
    "# split using .loc by position and make new dataframe for batters\n",
    "batters = fd.loc[fd['Position']!='P']"
   ]
  },
  {
   "cell_type": "markdown",
   "metadata": {},
   "source": [
    "Now we have cleaned dataframes for each group. Now lets focus on pitchers to get projections added to dataframe."
   ]
  },
  {
   "cell_type": "markdown",
   "metadata": {},
   "source": [
    "First step for pitchers is to get the probable pitchers first, we only care about the ones that will start."
   ]
  },
  {
   "cell_type": "code",
   "execution_count": 179,
   "metadata": {},
   "outputs": [],
   "source": [
    "# save pitchers df to only starting pitchers\n",
    "pitchers = pitchers.loc[pitchers['Probable Pitcher']=='Yes']"
   ]
  },
  {
   "cell_type": "code",
   "execution_count": 180,
   "metadata": {},
   "outputs": [
    {
     "name": "stdout",
     "output_type": "stream",
     "text": [
      "<class 'pandas.core.frame.DataFrame'>\n",
      "Int64Index: 26 entries, 0 to 226\n",
      "Data columns (total 9 columns):\n",
      " #   Column            Non-Null Count  Dtype \n",
      "---  ------            --------------  ----- \n",
      " 0   Id                26 non-null     object\n",
      " 1   Position          26 non-null     object\n",
      " 2   Name              26 non-null     object\n",
      " 3   Salary            26 non-null     int64 \n",
      " 4   Game              26 non-null     object\n",
      " 5   Team              26 non-null     object\n",
      " 6   Opponent          26 non-null     object\n",
      " 7   Injury Indicator  26 non-null     object\n",
      " 8   Probable Pitcher  26 non-null     object\n",
      "dtypes: int64(1), object(8)\n",
      "memory usage: 2.0+ KB\n"
     ]
    }
   ],
   "source": [
    "# review changes\n",
    "pitchers.info()"
   ]
  },
  {
   "cell_type": "markdown",
   "metadata": {},
   "source": [
    "Next step is to combine projections with 2021 stats.\n",
    "- import testing data with projections from model\n",
    "- merge the two data frames"
   ]
  },
  {
   "cell_type": "code",
   "execution_count": 181,
   "metadata": {},
   "outputs": [],
   "source": [
    "# read in pitcher projections\n",
    "pitcher_proj = pd.read_csv('../Projections/pitcher_projections_2021.csv')"
   ]
  },
  {
   "cell_type": "markdown",
   "metadata": {},
   "source": [
    "Next step merge."
   ]
  },
  {
   "cell_type": "code",
   "execution_count": 182,
   "metadata": {},
   "outputs": [],
   "source": [
    "# merge attempt\n",
    "pitcher_projections = pitchers.merge(pitcher_proj, how='left', on='Name')"
   ]
  },
  {
   "cell_type": "markdown",
   "metadata": {},
   "source": [
    "Next step is to drop nulls from this list.  Will need to handle this in previous processes for final product."
   ]
  },
  {
   "cell_type": "code",
   "execution_count": 183,
   "metadata": {},
   "outputs": [],
   "source": [
    "pitcher_projections.dropna(inplace=True)"
   ]
  },
  {
   "cell_type": "markdown",
   "metadata": {},
   "source": [
    "Next step is to clean up and only take what is needed from pitchers so that it can be merged with batters.\n",
    "Columns needed:\n",
    "- ID\n",
    "- Position\n",
    "- Name\n",
    "- Salary\n",
    "- Team\n",
    "- Opponent\n",
    "- Proj_FPPG"
   ]
  },
  {
   "cell_type": "code",
   "execution_count": 184,
   "metadata": {},
   "outputs": [],
   "source": [
    "# overwrite df with only the columns needed\n",
    "pitcher_projections = pitcher_projections[['Id', 'Position', 'Name', 'Salary', 'Team_x', 'Opponent', 'AVG', 'Projected_FPPG']]"
   ]
  },
  {
   "cell_type": "code",
   "execution_count": 185,
   "metadata": {},
   "outputs": [],
   "source": [
    "# rename team column\n",
    "pitcher_projections.rename(columns={'Team_x' : 'Team'}, inplace=True)"
   ]
  },
  {
   "cell_type": "markdown",
   "metadata": {},
   "source": [
    "Now we have a cleaned and organized df of our pitchers that are starting. Next is the batters."
   ]
  },
  {
   "cell_type": "markdown",
   "metadata": {},
   "source": [
    "---"
   ]
  },
  {
   "cell_type": "markdown",
   "metadata": {},
   "source": [
    "First step is to merge on projections."
   ]
  },
  {
   "cell_type": "code",
   "execution_count": 186,
   "metadata": {},
   "outputs": [],
   "source": [
    "# read in projections file\n",
    "batter_21 = pd.read_csv('../Projections/batter_projections_2021.csv')"
   ]
  },
  {
   "cell_type": "code",
   "execution_count": 187,
   "metadata": {},
   "outputs": [],
   "source": [
    "# merge projections with batter df, creating new df\n",
    "batters_projections = batters.merge(batter_21, how='left', on='Name')"
   ]
  },
  {
   "cell_type": "markdown",
   "metadata": {},
   "source": [
    "Will have to drop nulls for now, but need to figure out why there is no data for those batters."
   ]
  },
  {
   "cell_type": "code",
   "execution_count": 188,
   "metadata": {},
   "outputs": [],
   "source": [
    "# dropping batters with no projections\n",
    "batters_projections.dropna(inplace=True)"
   ]
  },
  {
   "cell_type": "code",
   "execution_count": 189,
   "metadata": {},
   "outputs": [
    {
     "data": {
      "text/html": [
       "<div>\n",
       "<style scoped>\n",
       "    .dataframe tbody tr th:only-of-type {\n",
       "        vertical-align: middle;\n",
       "    }\n",
       "\n",
       "    .dataframe tbody tr th {\n",
       "        vertical-align: top;\n",
       "    }\n",
       "\n",
       "    .dataframe thead th {\n",
       "        text-align: right;\n",
       "    }\n",
       "</style>\n",
       "<table border=\"1\" class=\"dataframe\">\n",
       "  <thead>\n",
       "    <tr style=\"text-align: right;\">\n",
       "      <th></th>\n",
       "      <th>Id</th>\n",
       "      <th>Position</th>\n",
       "      <th>Name</th>\n",
       "      <th>Salary</th>\n",
       "      <th>Game</th>\n",
       "      <th>Team_x</th>\n",
       "      <th>Opponent</th>\n",
       "      <th>Injury Indicator</th>\n",
       "      <th>Probable Pitcher</th>\n",
       "      <th>Team_y</th>\n",
       "      <th>...</th>\n",
       "      <th>CS</th>\n",
       "      <th>TB</th>\n",
       "      <th>AVG</th>\n",
       "      <th>OBP</th>\n",
       "      <th>SLG</th>\n",
       "      <th>OPS</th>\n",
       "      <th>ISO</th>\n",
       "      <th>PTS</th>\n",
       "      <th>FPPG</th>\n",
       "      <th>Projected_FPPG</th>\n",
       "    </tr>\n",
       "  </thead>\n",
       "  <tbody>\n",
       "    <tr>\n",
       "      <th>0</th>\n",
       "      <td>58874-38872</td>\n",
       "      <td>OF</td>\n",
       "      <td>Jesse Winker</td>\n",
       "      <td>4600</td>\n",
       "      <td>CIN@COL</td>\n",
       "      <td>CIN</td>\n",
       "      <td>COL</td>\n",
       "      <td>Healthy</td>\n",
       "      <td>No</td>\n",
       "      <td>CIN</td>\n",
       "      <td>...</td>\n",
       "      <td>0.0</td>\n",
       "      <td>65.0</td>\n",
       "      <td>0.359</td>\n",
       "      <td>0.421</td>\n",
       "      <td>0.631</td>\n",
       "      <td>1.052</td>\n",
       "      <td>0.272</td>\n",
       "      <td>361.1</td>\n",
       "      <td>13.888462</td>\n",
       "      <td>10.010649</td>\n",
       "    </tr>\n",
       "    <tr>\n",
       "      <th>1</th>\n",
       "      <td>58874-13342</td>\n",
       "      <td>OF</td>\n",
       "      <td>Nick Castellanos</td>\n",
       "      <td>4500</td>\n",
       "      <td>CIN@COL</td>\n",
       "      <td>CIN</td>\n",
       "      <td>COL</td>\n",
       "      <td>Healthy</td>\n",
       "      <td>No</td>\n",
       "      <td>CIN</td>\n",
       "      <td>...</td>\n",
       "      <td>0.0</td>\n",
       "      <td>74.0</td>\n",
       "      <td>0.314</td>\n",
       "      <td>0.357</td>\n",
       "      <td>0.627</td>\n",
       "      <td>0.984</td>\n",
       "      <td>0.313</td>\n",
       "      <td>405.8</td>\n",
       "      <td>13.993103</td>\n",
       "      <td>9.805777</td>\n",
       "    </tr>\n",
       "    <tr>\n",
       "      <th>2</th>\n",
       "      <td>58874-12933</td>\n",
       "      <td>OF</td>\n",
       "      <td>Mike Trout</td>\n",
       "      <td>4400</td>\n",
       "      <td>LAA@BOS</td>\n",
       "      <td>LAA</td>\n",
       "      <td>BOS</td>\n",
       "      <td>Healthy</td>\n",
       "      <td>No</td>\n",
       "      <td>LAA</td>\n",
       "      <td>...</td>\n",
       "      <td>0.0</td>\n",
       "      <td>72.0</td>\n",
       "      <td>0.365</td>\n",
       "      <td>0.484</td>\n",
       "      <td>0.692</td>\n",
       "      <td>1.176</td>\n",
       "      <td>0.327</td>\n",
       "      <td>433.4</td>\n",
       "      <td>13.980645</td>\n",
       "      <td>11.217342</td>\n",
       "    </tr>\n",
       "    <tr>\n",
       "      <th>3</th>\n",
       "      <td>58874-52158</td>\n",
       "      <td>SS</td>\n",
       "      <td>Trevor Story</td>\n",
       "      <td>4300</td>\n",
       "      <td>CIN@COL</td>\n",
       "      <td>COL</td>\n",
       "      <td>CIN</td>\n",
       "      <td>Healthy</td>\n",
       "      <td>No</td>\n",
       "      <td>COL</td>\n",
       "      <td>...</td>\n",
       "      <td>2.0</td>\n",
       "      <td>61.0</td>\n",
       "      <td>0.285</td>\n",
       "      <td>0.357</td>\n",
       "      <td>0.496</td>\n",
       "      <td>0.853</td>\n",
       "      <td>0.211</td>\n",
       "      <td>389.2</td>\n",
       "      <td>11.447059</td>\n",
       "      <td>8.355613</td>\n",
       "    </tr>\n",
       "    <tr>\n",
       "      <th>4</th>\n",
       "      <td>58874-82575</td>\n",
       "      <td>OF</td>\n",
       "      <td>Yordan Alvarez</td>\n",
       "      <td>4200</td>\n",
       "      <td>TEX@HOU</td>\n",
       "      <td>HOU</td>\n",
       "      <td>TEX</td>\n",
       "      <td>Healthy</td>\n",
       "      <td>No</td>\n",
       "      <td>HOU</td>\n",
       "      <td>...</td>\n",
       "      <td>0.0</td>\n",
       "      <td>67.0</td>\n",
       "      <td>0.345</td>\n",
       "      <td>0.378</td>\n",
       "      <td>0.609</td>\n",
       "      <td>0.987</td>\n",
       "      <td>0.264</td>\n",
       "      <td>362.7</td>\n",
       "      <td>12.953571</td>\n",
       "      <td>9.453620</td>\n",
       "    </tr>\n",
       "    <tr>\n",
       "      <th>...</th>\n",
       "      <td>...</td>\n",
       "      <td>...</td>\n",
       "      <td>...</td>\n",
       "      <td>...</td>\n",
       "      <td>...</td>\n",
       "      <td>...</td>\n",
       "      <td>...</td>\n",
       "      <td>...</td>\n",
       "      <td>...</td>\n",
       "      <td>...</td>\n",
       "      <td>...</td>\n",
       "      <td>...</td>\n",
       "      <td>...</td>\n",
       "      <td>...</td>\n",
       "      <td>...</td>\n",
       "      <td>...</td>\n",
       "      <td>...</td>\n",
       "      <td>...</td>\n",
       "      <td>...</td>\n",
       "      <td>...</td>\n",
       "      <td>...</td>\n",
       "    </tr>\n",
       "    <tr>\n",
       "      <th>364</th>\n",
       "      <td>58874-81869</td>\n",
       "      <td>C</td>\n",
       "      <td>Chad Wallach</td>\n",
       "      <td>2000</td>\n",
       "      <td>MIA@LAD</td>\n",
       "      <td>MIA</td>\n",
       "      <td>LAD</td>\n",
       "      <td>Healthy</td>\n",
       "      <td>No</td>\n",
       "      <td>MIA</td>\n",
       "      <td>...</td>\n",
       "      <td>0.0</td>\n",
       "      <td>16.0</td>\n",
       "      <td>0.255</td>\n",
       "      <td>0.275</td>\n",
       "      <td>0.340</td>\n",
       "      <td>0.615</td>\n",
       "      <td>0.085</td>\n",
       "      <td>77.9</td>\n",
       "      <td>4.582353</td>\n",
       "      <td>5.035409</td>\n",
       "    </tr>\n",
       "    <tr>\n",
       "      <th>365</th>\n",
       "      <td>58874-12237</td>\n",
       "      <td>C</td>\n",
       "      <td>Jonathan Lucroy</td>\n",
       "      <td>2000</td>\n",
       "      <td>WSH@ARI</td>\n",
       "      <td>WSH</td>\n",
       "      <td>ARI</td>\n",
       "      <td>Healthy</td>\n",
       "      <td>No</td>\n",
       "      <td>WSH</td>\n",
       "      <td>...</td>\n",
       "      <td>0.0</td>\n",
       "      <td>6.0</td>\n",
       "      <td>0.357</td>\n",
       "      <td>0.357</td>\n",
       "      <td>0.429</td>\n",
       "      <td>0.786</td>\n",
       "      <td>0.072</td>\n",
       "      <td>25.0</td>\n",
       "      <td>5.000000</td>\n",
       "      <td>6.212545</td>\n",
       "    </tr>\n",
       "    <tr>\n",
       "      <th>366</th>\n",
       "      <td>58874-102358</td>\n",
       "      <td>SS</td>\n",
       "      <td>Jose Devers</td>\n",
       "      <td>2000</td>\n",
       "      <td>MIA@LAD</td>\n",
       "      <td>MIA</td>\n",
       "      <td>LAD</td>\n",
       "      <td>Healthy</td>\n",
       "      <td>No</td>\n",
       "      <td>MIA</td>\n",
       "      <td>...</td>\n",
       "      <td>0.0</td>\n",
       "      <td>2.0</td>\n",
       "      <td>0.167</td>\n",
       "      <td>0.154</td>\n",
       "      <td>0.167</td>\n",
       "      <td>0.321</td>\n",
       "      <td>0.000</td>\n",
       "      <td>15.9</td>\n",
       "      <td>1.987500</td>\n",
       "      <td>2.197133</td>\n",
       "    </tr>\n",
       "    <tr>\n",
       "      <th>367</th>\n",
       "      <td>58874-102363</td>\n",
       "      <td>OF</td>\n",
       "      <td>Luke Raley</td>\n",
       "      <td>2000</td>\n",
       "      <td>MIA@LAD</td>\n",
       "      <td>LAD</td>\n",
       "      <td>MIA</td>\n",
       "      <td>Healthy</td>\n",
       "      <td>No</td>\n",
       "      <td>LAD</td>\n",
       "      <td>...</td>\n",
       "      <td>0.0</td>\n",
       "      <td>11.0</td>\n",
       "      <td>0.206</td>\n",
       "      <td>0.308</td>\n",
       "      <td>0.324</td>\n",
       "      <td>0.632</td>\n",
       "      <td>0.118</td>\n",
       "      <td>61.4</td>\n",
       "      <td>4.385714</td>\n",
       "      <td>5.508057</td>\n",
       "    </tr>\n",
       "    <tr>\n",
       "      <th>368</th>\n",
       "      <td>58874-102362</td>\n",
       "      <td>OF</td>\n",
       "      <td>Trevor Larnach</td>\n",
       "      <td>2000</td>\n",
       "      <td>OAK@MIN</td>\n",
       "      <td>MIN</td>\n",
       "      <td>OAK</td>\n",
       "      <td>Healthy</td>\n",
       "      <td>No</td>\n",
       "      <td>MIN</td>\n",
       "      <td>...</td>\n",
       "      <td>0.0</td>\n",
       "      <td>0.0</td>\n",
       "      <td>0.000</td>\n",
       "      <td>0.200</td>\n",
       "      <td>0.000</td>\n",
       "      <td>0.200</td>\n",
       "      <td>0.000</td>\n",
       "      <td>3.0</td>\n",
       "      <td>3.000000</td>\n",
       "      <td>2.113994</td>\n",
       "    </tr>\n",
       "  </tbody>\n",
       "</table>\n",
       "<p>314 rows × 32 columns</p>\n",
       "</div>"
      ],
      "text/plain": [
       "               Id Position              Name  Salary     Game Team_x Opponent  \\\n",
       "0     58874-38872       OF      Jesse Winker    4600  CIN@COL    CIN      COL   \n",
       "1     58874-13342       OF  Nick Castellanos    4500  CIN@COL    CIN      COL   \n",
       "2     58874-12933       OF        Mike Trout    4400  LAA@BOS    LAA      BOS   \n",
       "3     58874-52158       SS      Trevor Story    4300  CIN@COL    COL      CIN   \n",
       "4     58874-82575       OF    Yordan Alvarez    4200  TEX@HOU    HOU      TEX   \n",
       "..            ...      ...               ...     ...      ...    ...      ...   \n",
       "364   58874-81869        C      Chad Wallach    2000  MIA@LAD    MIA      LAD   \n",
       "365   58874-12237        C   Jonathan Lucroy    2000  WSH@ARI    WSH      ARI   \n",
       "366  58874-102358       SS       Jose Devers    2000  MIA@LAD    MIA      LAD   \n",
       "367  58874-102363       OF        Luke Raley    2000  MIA@LAD    LAD      MIA   \n",
       "368  58874-102362       OF    Trevor Larnach    2000  OAK@MIN    MIN      OAK   \n",
       "\n",
       "    Injury Indicator Probable Pitcher Team_y  ...   CS    TB    AVG    OBP  \\\n",
       "0            Healthy               No    CIN  ...  0.0  65.0  0.359  0.421   \n",
       "1            Healthy               No    CIN  ...  0.0  74.0  0.314  0.357   \n",
       "2            Healthy               No    LAA  ...  0.0  72.0  0.365  0.484   \n",
       "3            Healthy               No    COL  ...  2.0  61.0  0.285  0.357   \n",
       "4            Healthy               No    HOU  ...  0.0  67.0  0.345  0.378   \n",
       "..               ...              ...    ...  ...  ...   ...    ...    ...   \n",
       "364          Healthy               No    MIA  ...  0.0  16.0  0.255  0.275   \n",
       "365          Healthy               No    WSH  ...  0.0   6.0  0.357  0.357   \n",
       "366          Healthy               No    MIA  ...  0.0   2.0  0.167  0.154   \n",
       "367          Healthy               No    LAD  ...  0.0  11.0  0.206  0.308   \n",
       "368          Healthy               No    MIN  ...  0.0   0.0  0.000  0.200   \n",
       "\n",
       "       SLG    OPS    ISO    PTS       FPPG  Projected_FPPG  \n",
       "0    0.631  1.052  0.272  361.1  13.888462       10.010649  \n",
       "1    0.627  0.984  0.313  405.8  13.993103        9.805777  \n",
       "2    0.692  1.176  0.327  433.4  13.980645       11.217342  \n",
       "3    0.496  0.853  0.211  389.2  11.447059        8.355613  \n",
       "4    0.609  0.987  0.264  362.7  12.953571        9.453620  \n",
       "..     ...    ...    ...    ...        ...             ...  \n",
       "364  0.340  0.615  0.085   77.9   4.582353        5.035409  \n",
       "365  0.429  0.786  0.072   25.0   5.000000        6.212545  \n",
       "366  0.167  0.321  0.000   15.9   1.987500        2.197133  \n",
       "367  0.324  0.632  0.118   61.4   4.385714        5.508057  \n",
       "368  0.000  0.200  0.000    3.0   3.000000        2.113994  \n",
       "\n",
       "[314 rows x 32 columns]"
      ]
     },
     "execution_count": 189,
     "metadata": {},
     "output_type": "execute_result"
    }
   ],
   "source": [
    "batters_projections"
   ]
  },
  {
   "cell_type": "code",
   "execution_count": 190,
   "metadata": {},
   "outputs": [],
   "source": [
    "# drop unneeded columns for merge with pitcher, overwrite current df\n",
    "batters_projections = batters_projections[['Id', 'Position', 'Name', 'Salary', 'Team_x', 'Opponent','Projected_FPPG']]"
   ]
  },
  {
   "cell_type": "code",
   "execution_count": 191,
   "metadata": {},
   "outputs": [
    {
     "name": "stderr",
     "output_type": "stream",
     "text": [
      "C:\\Users\\phill\\anaconda3\\lib\\site-packages\\pandas\\core\\frame.py:4296: SettingWithCopyWarning: \n",
      "A value is trying to be set on a copy of a slice from a DataFrame\n",
      "\n",
      "See the caveats in the documentation: https://pandas.pydata.org/pandas-docs/stable/user_guide/indexing.html#returning-a-view-versus-a-copy\n",
      "  return super().rename(\n"
     ]
    }
   ],
   "source": [
    "# rename team column\n",
    "batters_projections.rename(columns={'Team_x' : 'Team'}, inplace=True)"
   ]
  },
  {
   "cell_type": "markdown",
   "metadata": {},
   "source": [
    "Now there are two clean dataframes with the same columns, now we will determine optimal line up."
   ]
  },
  {
   "cell_type": "markdown",
   "metadata": {},
   "source": [
    "Steps to get optimal line up:\n",
    "1. set salary cap\n",
    "2. sort by fppg\n",
    "\n",
    "    a. choose pitcher - based on projected fppg; in final product need to incoporate stats with strong coefficient values\n",
    "    b. choose batters based on remaining salary and highest fppg; in final product need to incoporate stats with strong coefficient values\n",
    "    \n",
    "3. create list to append choices to\n",
    "4. save to one df for output\n",
    "5. take df and save to templet for export"
   ]
  },
  {
   "cell_type": "code",
   "execution_count": 192,
   "metadata": {},
   "outputs": [],
   "source": [
    "# set cap for fanduel\n",
    "salary_cap = 35_000"
   ]
  },
  {
   "cell_type": "code",
   "execution_count": 193,
   "metadata": {},
   "outputs": [],
   "source": [
    "# sort by avg\n",
    "pitcher_projections.sort_values(by='AVG', ascending=False, inplace=True, ignore_index=True)"
   ]
  },
  {
   "cell_type": "code",
   "execution_count": 194,
   "metadata": {},
   "outputs": [],
   "source": [
    "# create list of teams to filter batters\n",
    "team_list = []\n",
    "for x in range(0,4):\n",
    "    team_list.append(pitcher_projections['Opponent'][x])"
   ]
  },
  {
   "cell_type": "code",
   "execution_count": 195,
   "metadata": {},
   "outputs": [],
   "source": [
    "# drop avg\n",
    "pitcher_projections.drop(columns='AVG', inplace=True)"
   ]
  },
  {
   "cell_type": "code",
   "execution_count": 196,
   "metadata": {},
   "outputs": [],
   "source": [
    "# create team filter \n",
    "team_filter = (batters_projections['Team'] == team_list[0]) | (batters_projections['Team'] == team_list[1]) |(batters_projections['Team'] == team_list[2]) |(batters_projections['Team'] == team_list[3])\n",
    "# new batter dataframe with team filter\n",
    "batters_projections = batters_projections[team_filter]\n",
    "# reset index\n",
    "batters_projections.reset_index(drop=True, inplace=True)"
   ]
  },
  {
   "cell_type": "code",
   "execution_count": 197,
   "metadata": {},
   "outputs": [],
   "source": [
    "# clean position\n",
    "pos_list = [pos[:2] for pos in batters_projections['Position']]\n",
    "batters_projections['Position'] = pos_list"
   ]
  },
  {
   "cell_type": "code",
   "execution_count": 198,
   "metadata": {},
   "outputs": [],
   "source": [
    "# sort pitcher by fppg projections\n",
    "pitcher_projections.sort_values(by='Projected_FPPG', ascending=False, inplace=True, ignore_index=True)"
   ]
  },
  {
   "cell_type": "code",
   "execution_count": 199,
   "metadata": {},
   "outputs": [],
   "source": [
    "# create a player list to \n",
    "lineup = []\n",
    "lineup.append(pitcher_projections.values[0])"
   ]
  },
  {
   "cell_type": "code",
   "execution_count": 200,
   "metadata": {},
   "outputs": [],
   "source": [
    "# need to update remaining salary\n",
    "salary_cap -= pitcher_projections['Salary'][0]"
   ]
  },
  {
   "cell_type": "code",
   "execution_count": 201,
   "metadata": {},
   "outputs": [],
   "source": [
    "# with updated salary fill remaining roster based on position and highest fppg\n",
    "# create position list for remaining roster spots\n",
    "position_list = ['C', '1B', '2B', '3B', 'SS', 'OF', 'OF', 'OF']\n",
    "# sort batters by FPPG\n",
    "batters_projections.sort_values(by='Projected_FPPG', ascending=False, inplace=True, ignore_index=True)"
   ]
  },
  {
   "cell_type": "code",
   "execution_count": 202,
   "metadata": {},
   "outputs": [
    {
     "name": "stderr",
     "output_type": "stream",
     "text": [
      "<ipython-input-202-a007c5386cdd>:28: RuntimeWarning: divide by zero encountered in longlong_scalars\n",
      "  avg_sal = salary_cap/sal_count\n"
     ]
    }
   ],
   "source": [
    "# redo \n",
    "# create count based on remaining positions\n",
    "sal_count = 8\n",
    "\n",
    "# create average salary variable for remaining players\n",
    "avg_sal = salary_cap/sal_count\n",
    "\n",
    "# create for loop for each position in list to take highest fppg\n",
    "for pos in position_list:\n",
    "    # setting counter to increase if player is already in list\n",
    "    # this is inside the for loop beacuse it needs to be per position\n",
    "    counter = 0\n",
    "    # if salary greater than average move to next player\n",
    "    for salary in batters_projections.loc[batters_projections['Position'] == pos]['Salary']:\n",
    "        # test if salary is greater than average if it is increase counter\n",
    "        if salary > avg_sal:\n",
    "            counter += 1\n",
    "        else:\n",
    "            # if less than average add player to list\n",
    "            lineup.append(batters_projections.loc[batters_projections['Position'] == pos].values[counter])\n",
    "            # drop player so no duplicates are added\n",
    "            batters_projections.drop(batters_projections.loc[batters_projections['Position'] == pos].index.values[counter], inplace=True)\n",
    "            # decrease sal_count\n",
    "            sal_count -= 1\n",
    "            # decrease salary cap\n",
    "            salary_cap -= batters_projections.loc[batters_projections['Position'] == pos]['Salary'].values[counter]\n",
    "            # create new average salary\n",
    "            avg_sal = salary_cap/sal_count\n",
    "            break\n"
   ]
  },
  {
   "cell_type": "code",
   "execution_count": 203,
   "metadata": {},
   "outputs": [
    {
     "data": {
      "text/html": [
       "<div>\n",
       "<style scoped>\n",
       "    .dataframe tbody tr th:only-of-type {\n",
       "        vertical-align: middle;\n",
       "    }\n",
       "\n",
       "    .dataframe tbody tr th {\n",
       "        vertical-align: top;\n",
       "    }\n",
       "\n",
       "    .dataframe thead th {\n",
       "        text-align: right;\n",
       "    }\n",
       "</style>\n",
       "<table border=\"1\" class=\"dataframe\">\n",
       "  <thead>\n",
       "    <tr style=\"text-align: right;\">\n",
       "      <th></th>\n",
       "      <th>Id</th>\n",
       "      <th>Position</th>\n",
       "      <th>Name</th>\n",
       "      <th>Salary</th>\n",
       "      <th>Team</th>\n",
       "      <th>Opponent</th>\n",
       "      <th>Proj_FPPG</th>\n",
       "    </tr>\n",
       "  </thead>\n",
       "  <tbody>\n",
       "    <tr>\n",
       "      <th>0</th>\n",
       "      <td>58874-79951</td>\n",
       "      <td>P</td>\n",
       "      <td>Nick Pivetta</td>\n",
       "      <td>8300</td>\n",
       "      <td>BOS</td>\n",
       "      <td>LAA</td>\n",
       "      <td>46.814891</td>\n",
       "    </tr>\n",
       "    <tr>\n",
       "      <th>1</th>\n",
       "      <td>58874-79918</td>\n",
       "      <td>C</td>\n",
       "      <td>Kyle Higashioka</td>\n",
       "      <td>2700</td>\n",
       "      <td>NYY</td>\n",
       "      <td>BAL</td>\n",
       "      <td>9.400274</td>\n",
       "    </tr>\n",
       "    <tr>\n",
       "      <th>2</th>\n",
       "      <td>58874-52175</td>\n",
       "      <td>1B</td>\n",
       "      <td>Matt Olson</td>\n",
       "      <td>3200</td>\n",
       "      <td>OAK</td>\n",
       "      <td>MIN</td>\n",
       "      <td>8.560223</td>\n",
       "    </tr>\n",
       "    <tr>\n",
       "      <th>3</th>\n",
       "      <td>58874-13771</td>\n",
       "      <td>2B</td>\n",
       "      <td>Josh Harrison</td>\n",
       "      <td>3100</td>\n",
       "      <td>WSH</td>\n",
       "      <td>ARI</td>\n",
       "      <td>7.543716</td>\n",
       "    </tr>\n",
       "    <tr>\n",
       "      <th>4</th>\n",
       "      <td>58874-68544</td>\n",
       "      <td>3B</td>\n",
       "      <td>Matt Chapman</td>\n",
       "      <td>2900</td>\n",
       "      <td>OAK</td>\n",
       "      <td>MIN</td>\n",
       "      <td>7.072461</td>\n",
       "    </tr>\n",
       "    <tr>\n",
       "      <th>5</th>\n",
       "      <td>58874-65881</td>\n",
       "      <td>SS</td>\n",
       "      <td>Trea Turner</td>\n",
       "      <td>4000</td>\n",
       "      <td>WSH</td>\n",
       "      <td>ARI</td>\n",
       "      <td>8.335203</td>\n",
       "    </tr>\n",
       "    <tr>\n",
       "      <th>6</th>\n",
       "      <td>58874-84133</td>\n",
       "      <td>OF</td>\n",
       "      <td>Franmil Reyes</td>\n",
       "      <td>3200</td>\n",
       "      <td>CLE</td>\n",
       "      <td>SEA</td>\n",
       "      <td>9.208146</td>\n",
       "    </tr>\n",
       "    <tr>\n",
       "      <th>7</th>\n",
       "      <td>58874-12302</td>\n",
       "      <td>OF</td>\n",
       "      <td>Giancarlo Stanton</td>\n",
       "      <td>3600</td>\n",
       "      <td>NYY</td>\n",
       "      <td>BAL</td>\n",
       "      <td>9.088541</td>\n",
       "    </tr>\n",
       "    <tr>\n",
       "      <th>8</th>\n",
       "      <td>58874-60643</td>\n",
       "      <td>OF</td>\n",
       "      <td>Aaron Judge</td>\n",
       "      <td>3300</td>\n",
       "      <td>NYY</td>\n",
       "      <td>BAL</td>\n",
       "      <td>8.133931</td>\n",
       "    </tr>\n",
       "  </tbody>\n",
       "</table>\n",
       "</div>"
      ],
      "text/plain": [
       "            Id Position               Name  Salary Team Opponent  Proj_FPPG\n",
       "0  58874-79951        P       Nick Pivetta    8300  BOS      LAA  46.814891\n",
       "1  58874-79918        C    Kyle Higashioka    2700  NYY      BAL   9.400274\n",
       "2  58874-52175       1B         Matt Olson    3200  OAK      MIN   8.560223\n",
       "3  58874-13771       2B      Josh Harrison    3100  WSH      ARI   7.543716\n",
       "4  58874-68544       3B       Matt Chapman    2900  OAK      MIN   7.072461\n",
       "5  58874-65881       SS        Trea Turner    4000  WSH      ARI   8.335203\n",
       "6  58874-84133       OF      Franmil Reyes    3200  CLE      SEA   9.208146\n",
       "7  58874-12302       OF  Giancarlo Stanton    3600  NYY      BAL   9.088541\n",
       "8  58874-60643       OF        Aaron Judge    3300  NYY      BAL   8.133931"
      ]
     },
     "execution_count": 203,
     "metadata": {},
     "output_type": "execute_result"
    }
   ],
   "source": [
    "df = pd.DataFrame(lineup, columns=['Id', 'Position', 'Name', 'Salary', 'Team', 'Opponent','Proj_FPPG'])\n",
    "df"
   ]
  }
 ],
 "metadata": {
  "kernelspec": {
   "display_name": "Python 3",
   "language": "python",
   "name": "python3"
  },
  "language_info": {
   "codemirror_mode": {
    "name": "ipython",
    "version": 3
   },
   "file_extension": ".py",
   "mimetype": "text/x-python",
   "name": "python",
   "nbconvert_exporter": "python",
   "pygments_lexer": "ipython3",
   "version": "3.8.5"
  }
 },
 "nbformat": 4,
 "nbformat_minor": 4
}
