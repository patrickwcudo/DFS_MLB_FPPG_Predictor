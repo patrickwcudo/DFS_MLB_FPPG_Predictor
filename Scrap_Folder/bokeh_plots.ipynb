{
 "cells": [
  {
   "cell_type": "code",
   "execution_count": 16,
   "metadata": {},
   "outputs": [],
   "source": [
    "# pandas\n",
    "import pandas as pd\n",
    "# bokeh\n",
    "from bokeh.io import push_notebook, show, output_notebook\n",
    "from bokeh.layouts import row\n",
    "from bokeh.plotting import figure\n",
    "from bokeh.transform import factor_cmap\n",
    "from bokeh.models import LabelSet, Label, ColumnDataSource, Range1d"
   ]
  },
  {
   "cell_type": "code",
   "execution_count": 94,
   "metadata": {},
   "outputs": [],
   "source": [
    "# read in projections\n",
    "# batters\n",
    "batter = pd.read_csv('../Projections/batter_projections_2021.csv')\n",
    "# pitchers\n",
    "pitcher = pd.read_csv('../Projections/pitcher_projections_2021.csv')"
   ]
  },
  {
   "cell_type": "code",
   "execution_count": 21,
   "metadata": {},
   "outputs": [],
   "source": [
    "# scatter plot with position hue\n",
    "batter_cmap = factor_cmap('Pos', palette=['green', 'red', 'blue', 'yellow', 'orange', 'black'],\n",
    "                         factors=sorted(batter['Pos'].unique()))"
   ]
  },
  {
   "cell_type": "code",
   "execution_count": 22,
   "metadata": {},
   "outputs": [
    {
     "name": "stderr",
     "output_type": "stream",
     "text": [
      "BokehDeprecationWarning: 'legend' keyword is deprecated, use explicit 'legend_label', 'legend_field', or 'legend_group' keywords instead\n"
     ]
    }
   ],
   "source": [
    "batter_plot = figure(plot_width=900, plot_height=600, title='FPPG vs Projected FPPG by Position')\n",
    "batter_plot.scatter('Projected_FPPG', 'FPPG', source=batter, fill_alpha=0.6, fill_color=batter_cmap,\n",
    "                   size=10, legend='Pos')\n",
    "batter_plot.xaxis.axis_label = 'Projected FPPG'\n",
    "batter_plot.yaxis.axis_label = 'Actual FPPG'\n",
    "batter_plot.legend.location = 'top_left'"
   ]
  },
  {
   "cell_type": "code",
   "execution_count": 23,
   "metadata": {},
   "outputs": [],
   "source": [
    "show(batter_plot)"
   ]
  },
  {
   "cell_type": "code",
   "execution_count": 69,
   "metadata": {},
   "outputs": [
    {
     "name": "stdin",
     "output_type": "stream",
     "text": [
      "Enter a Position:  1b\n"
     ]
    }
   ],
   "source": [
    "# create user input function\n",
    "pos_input = input('Enter a Position: ')"
   ]
  },
  {
   "cell_type": "code",
   "execution_count": 80,
   "metadata": {},
   "outputs": [],
   "source": [
    "# create series based on user input\n",
    "pos_series = batter.loc[batter['Pos']==pos_input.upper()]"
   ]
  },
  {
   "cell_type": "code",
   "execution_count": 81,
   "metadata": {},
   "outputs": [],
   "source": [
    "pos_source = ColumnDataSource(data=pos_series)"
   ]
  },
  {
   "cell_type": "code",
   "execution_count": 82,
   "metadata": {},
   "outputs": [],
   "source": [
    "# retry\n",
    "pos_plot = figure(plot_width=900, plot_height=600, title=f'{pos_input.upper()}: FPPG vs Projected FPPG')\n",
    "pos_plot.scatter('Projected_FPPG', 'FPPG', source=pos_source, fill_alpha=0.6, size=10)\n",
    "pos_plot.xaxis.axis_label = 'Projected FPPG'\n",
    "pos_plot.yaxis.axis_label = 'Actual FPPG'\n",
    "# create labels\n",
    "labels = LabelSet(x='Projected_FPPG', y='FPPG', text='Name', \n",
    "                  text_font_size='7pt', text_color='blue', x_offset=5, y_offset=5,\n",
    "                  source=pos_source, render_mode='canvas')\n",
    "pos_plot.add_layout(labels)"
   ]
  },
  {
   "cell_type": "code",
   "execution_count": 83,
   "metadata": {},
   "outputs": [],
   "source": [
    "show(pos_plot)"
   ]
  },
  {
   "cell_type": "code",
   "execution_count": 97,
   "metadata": {},
   "outputs": [],
   "source": [
    "# concat both batters and pitchers\n",
    "all_players = pd.concat(objs=[batter,pitcher])"
   ]
  },
  {
   "cell_type": "code",
   "execution_count": 104,
   "metadata": {},
   "outputs": [],
   "source": [
    "all_players = all_players.loc[all_players['Pos'] != 'RP']"
   ]
  },
  {
   "cell_type": "code",
   "execution_count": 105,
   "metadata": {},
   "outputs": [
    {
     "data": {
      "text/plain": [
       "SP    248\n",
       "OF    183\n",
       "C      89\n",
       "SS     63\n",
       "3B     63\n",
       "2B     61\n",
       "1B     44\n",
       "Name: Pos, dtype: int64"
      ]
     },
     "execution_count": 105,
     "metadata": {},
     "output_type": "execute_result"
    }
   ],
   "source": [
    "all_players['Pos'].value_counts()"
   ]
  },
  {
   "cell_type": "code",
   "execution_count": 106,
   "metadata": {},
   "outputs": [],
   "source": [
    "# scatter plot with position hue\n",
    "pos_cmap = factor_cmap('Pos', palette=['green', 'red', 'blue', 'yellow', 'orange', 'black', 'grey', 'purple'],\n",
    "                         factors=sorted(all_players['Pos'].unique()))"
   ]
  },
  {
   "cell_type": "code",
   "execution_count": 107,
   "metadata": {},
   "outputs": [
    {
     "name": "stderr",
     "output_type": "stream",
     "text": [
      "BokehDeprecationWarning: 'legend' keyword is deprecated, use explicit 'legend_label', 'legend_field', or 'legend_group' keywords instead\n"
     ]
    }
   ],
   "source": [
    "all_plot = figure(plot_width=900, plot_height=600, title='FPPG vs Projected FPPG by Position')\n",
    "all_plot.scatter('Projected_FPPG', 'FPPG', source=all_players, fill_alpha=0.6, fill_color=pos_cmap,\n",
    "                   size=10, legend='Pos')\n",
    "all_plot.xaxis.axis_label = 'Projected FPPG'\n",
    "all_plot.yaxis.axis_label = 'Actual FPPG'\n",
    "all_plot.legend.location = 'top_left'"
   ]
  },
  {
   "cell_type": "code",
   "execution_count": 111,
   "metadata": {},
   "outputs": [],
   "source": [
    "show(all_plot)"
   ]
  },
  {
   "cell_type": "code",
   "execution_count": 110,
   "metadata": {},
   "outputs": [],
   "source": [
    "# save all players to projections\n",
    "all_players.to_csv('../Projections/all_players.csv', index=False)"
   ]
  },
  {
   "cell_type": "code",
   "execution_count": null,
   "metadata": {},
   "outputs": [],
   "source": []
  }
 ],
 "metadata": {
  "kernelspec": {
   "display_name": "Python 3",
   "language": "python",
   "name": "python3"
  },
  "language_info": {
   "codemirror_mode": {
    "name": "ipython",
    "version": 3
   },
   "file_extension": ".py",
   "mimetype": "text/x-python",
   "name": "python",
   "nbconvert_exporter": "python",
   "pygments_lexer": "ipython3",
   "version": "3.8.5"
  }
 },
 "nbformat": 4,
 "nbformat_minor": 4
}
