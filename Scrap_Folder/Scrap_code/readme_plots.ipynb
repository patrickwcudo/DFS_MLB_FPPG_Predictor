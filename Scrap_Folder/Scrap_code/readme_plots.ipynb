{
 "cells": [
  {
   "cell_type": "code",
   "execution_count": 10,
   "metadata": {},
   "outputs": [],
   "source": [
    "import pandas as pd\n",
    "import matplotlib.pyplot as plt\n",
    "import seaborn as sns\n",
    "import numpy as np"
   ]
  },
  {
   "cell_type": "code",
   "execution_count": 11,
   "metadata": {},
   "outputs": [],
   "source": [
    "# plot baseline \n",
    "dfb = pd.read_csv('../../Projections/results_batter.csv')"
   ]
  },
  {
   "cell_type": "code",
   "execution_count": 12,
   "metadata": {},
   "outputs": [],
   "source": [
    "dfb.rename(columns={'Unnamed: 0':'Model'}, inplace=True)"
   ]
  },
  {
   "cell_type": "code",
   "execution_count": 13,
   "metadata": {},
   "outputs": [],
   "source": [
    "dfb.set_index(dfb['Model'], inplace=True)"
   ]
  },
  {
   "cell_type": "code",
   "execution_count": 14,
   "metadata": {},
   "outputs": [],
   "source": [
    "dfb.drop(columns=['Model'], inplace=True)"
   ]
  },
  {
   "cell_type": "code",
   "execution_count": 15,
   "metadata": {
    "collapsed": true,
    "jupyter": {
     "outputs_hidden": true
    }
   },
   "outputs": [
    {
     "data": {
      "text/plain": [
       "Text(0.5, 1.0, 'Figure 2')"
      ]
     },
     "execution_count": 15,
     "metadata": {},
     "output_type": "execute_result"
    },
    {
     "data": {
      "image/png": "[encoded data removed]",
      "text/plain": [
       "<Figure size 1152x432 with 1 Axes>"
      ]
     },
     "metadata": {
      "needs_background": "light"
     },
     "output_type": "display_data"
    }
   ],
   "source": [
    "plt.figure(figsize=(16,6))\n",
    "sns.barplot(data=dfb, x=dfb.index, y='Model - RMSE')\n",
    "plt.plot(dfb['Baseline - RMSE'], color='red', label='Baseline RMSE')\n",
    "plt.legend()\n",
    "plt.title('Figure 2')\n",
    "#plt.savefig('../Images/batter_baseline');"
   ]
  },
  {
   "cell_type": "code",
   "execution_count": 34,
   "metadata": {},
   "outputs": [
    {
     "data": {
      "text/html": [
       "<div>\n",
       "<style scoped>\n",
       "    .dataframe tbody tr th:only-of-type {\n",
       "        vertical-align: middle;\n",
       "    }\n",
       "\n",
       "    .dataframe tbody tr th {\n",
       "        vertical-align: top;\n",
       "    }\n",
       "\n",
       "    .dataframe thead th {\n",
       "        text-align: right;\n",
       "    }\n",
       "</style>\n",
       "<table border=\"1\" class=\"dataframe\">\n",
       "  <thead>\n",
       "    <tr style=\"text-align: right;\">\n",
       "      <th></th>\n",
       "      <th>Baseline - RMSE</th>\n",
       "      <th>Model - RMSE</th>\n",
       "      <th>R2 Score - Train</th>\n",
       "      <th>R2 Score - Test</th>\n",
       "    </tr>\n",
       "    <tr>\n",
       "      <th>Model</th>\n",
       "      <th></th>\n",
       "      <th></th>\n",
       "      <th></th>\n",
       "      <th></th>\n",
       "    </tr>\n",
       "  </thead>\n",
       "  <tbody>\n",
       "    <tr>\n",
       "      <th>LinearRegression()</th>\n",
       "      <td>3.078159</td>\n",
       "      <td>2.096171</td>\n",
       "      <td>0.930907</td>\n",
       "      <td>0.660084</td>\n",
       "    </tr>\n",
       "    <tr>\n",
       "      <th>KNeighborsRegressor()</th>\n",
       "      <td>3.078159</td>\n",
       "      <td>2.944000</td>\n",
       "      <td>0.926268</td>\n",
       "      <td>0.329508</td>\n",
       "    </tr>\n",
       "    <tr>\n",
       "      <th>SVR()</th>\n",
       "      <td>3.078159</td>\n",
       "      <td>2.605969</td>\n",
       "      <td>0.951551</td>\n",
       "      <td>0.474641</td>\n",
       "    </tr>\n",
       "    <tr>\n",
       "      <th>RandomForestRegressor()</th>\n",
       "      <td>3.078159</td>\n",
       "      <td>2.667530</td>\n",
       "      <td>0.988162</td>\n",
       "      <td>0.449526</td>\n",
       "    </tr>\n",
       "    <tr>\n",
       "      <th>DecisionTreeRegressor()</th>\n",
       "      <td>3.078159</td>\n",
       "      <td>2.701446</td>\n",
       "      <td>1.000000</td>\n",
       "      <td>0.435439</td>\n",
       "    </tr>\n",
       "    <tr>\n",
       "      <th>AdaBoostRegressor()</th>\n",
       "      <td>3.078159</td>\n",
       "      <td>2.814524</td>\n",
       "      <td>0.914882</td>\n",
       "      <td>0.387187</td>\n",
       "    </tr>\n",
       "    <tr>\n",
       "      <th>BaggingRegressor()</th>\n",
       "      <td>3.078159</td>\n",
       "      <td>2.573038</td>\n",
       "      <td>0.982447</td>\n",
       "      <td>0.487834</td>\n",
       "    </tr>\n",
       "  </tbody>\n",
       "</table>\n",
       "</div>"
      ],
      "text/plain": [
       "                         Baseline - RMSE  Model - RMSE  R2 Score - Train  \\\n",
       "Model                                                                      \n",
       "LinearRegression()              3.078159      2.096171          0.930907   \n",
       "KNeighborsRegressor()           3.078159      2.944000          0.926268   \n",
       "SVR()                           3.078159      2.605969          0.951551   \n",
       "RandomForestRegressor()         3.078159      2.667530          0.988162   \n",
       "DecisionTreeRegressor()         3.078159      2.701446          1.000000   \n",
       "AdaBoostRegressor()             3.078159      2.814524          0.914882   \n",
       "BaggingRegressor()              3.078159      2.573038          0.982447   \n",
       "\n",
       "                         R2 Score - Test  \n",
       "Model                                     \n",
       "LinearRegression()              0.660084  \n",
       "KNeighborsRegressor()           0.329508  \n",
       "SVR()                           0.474641  \n",
       "RandomForestRegressor()         0.449526  \n",
       "DecisionTreeRegressor()         0.435439  \n",
       "AdaBoostRegressor()             0.387187  \n",
       "BaggingRegressor()              0.487834  "
      ]
     },
     "execution_count": 34,
     "metadata": {},
     "output_type": "execute_result"
    }
   ],
   "source": []
  },
  {
   "cell_type": "code",
   "execution_count": null,
   "metadata": {},
   "outputs": [],
   "source": []
  },
  {
   "cell_type": "code",
   "execution_count": null,
   "metadata": {},
   "outputs": [],
   "source": []
  },
  {
   "cell_type": "code",
   "execution_count": 139,
   "metadata": {},
   "outputs": [],
   "source": [
    "value = [row for row in dfb['Model - RMSE']]"
   ]
  },
  {
   "cell_type": "code",
   "execution_count": 140,
   "metadata": {},
   "outputs": [],
   "source": [
    "x_data = [x for x in dfb.index]"
   ]
  },
  {
   "cell_type": "code",
   "execution_count": 141,
   "metadata": {},
   "outputs": [],
   "source": [
    "base = [row for row in dfb['Baseline - RMSE']]"
   ]
  },
  {
   "cell_type": "code",
   "execution_count": 142,
   "metadata": {},
   "outputs": [
    {
     "name": "stderr",
     "output_type": "stream",
     "text": [
      "BokehDeprecationWarning: 'legend' keyword is deprecated, use explicit 'legend_label', 'legend_field', or 'legend_group' keywords instead\n"
     ]
    }
   ],
   "source": [
    "p = figure(x_range=x_data, plot_height=450, plot_width=975,title='Figure 2: Batter Baseline RMSE vs Model RMSE')\n",
    "p.vbar(x=x_data, top=value, width=.9, fill_alpha=.65)\n",
    "p.line(x=x_data, y=base, line_width=5, line_color='orange', legend='Baseline', line_alpha=.65)\n",
    "p.legend.location = 'center_right'"
   ]
  },
  {
   "cell_type": "code",
   "execution_count": 143,
   "metadata": {},
   "outputs": [],
   "source": [
    "show(p)"
   ]
  },
  {
   "cell_type": "code",
   "execution_count": null,
   "metadata": {},
   "outputs": [],
   "source": []
  },
  {
   "cell_type": "code",
   "execution_count": null,
   "metadata": {},
   "outputs": [],
   "source": []
  },
  {
   "cell_type": "code",
   "execution_count": null,
   "metadata": {},
   "outputs": [],
   "source": []
  },
  {
   "cell_type": "code",
   "execution_count": null,
   "metadata": {},
   "outputs": [],
   "source": []
  },
  {
   "cell_type": "code",
   "execution_count": 16,
   "metadata": {},
   "outputs": [],
   "source": [
    "# plot baseline \n",
    "dfb1 = pd.read_csv('../../Projections/results_pitcher.csv')"
   ]
  },
  {
   "cell_type": "code",
   "execution_count": 17,
   "metadata": {},
   "outputs": [],
   "source": [
    "dfb1.rename(columns={'Unnamed: 0':'Model'}, inplace=True)"
   ]
  },
  {
   "cell_type": "code",
   "execution_count": 18,
   "metadata": {},
   "outputs": [],
   "source": [
    "dfb1.set_index(dfb1['Model'], inplace=True)"
   ]
  },
  {
   "cell_type": "code",
   "execution_count": 19,
   "metadata": {},
   "outputs": [],
   "source": [
    "dfb1.drop(columns=['Model'], inplace=True)"
   ]
  },
  {
   "cell_type": "code",
   "execution_count": 20,
   "metadata": {},
   "outputs": [
    {
     "data": {
      "text/plain": [
       "Text(0.5, 1.0, 'Figure 4')"
      ]
     },
     "execution_count": 20,
     "metadata": {},
     "output_type": "execute_result"
    },
    {
     "data": {
      "image/png": "[encoded data removed]",
      "text/plain": [
       "<Figure size 1152x432 with 1 Axes>"
      ]
     },
     "metadata": {
      "needs_background": "light"
     },
     "output_type": "display_data"
    }
   ],
   "source": [
    "plt.figure(figsize=(16,6))\n",
    "sns.barplot(data=dfb1, x=dfb1.index, y='Model - RMSE')\n",
    "plt.plot(dfb1['Baseline - RMSE'], color='red', label='Baseline RMSE')\n",
    "plt.legend()\n",
    "plt.title('Figure 4')\n",
    "#plt.savefig('../Images/pitcher_baseline');"
   ]
  },
  {
   "cell_type": "code",
   "execution_count": null,
   "metadata": {},
   "outputs": [],
   "source": []
  },
  {
   "cell_type": "code",
   "execution_count": 144,
   "metadata": {},
   "outputs": [],
   "source": [
    "value = [row for row in dfb1['Model - RMSE']]"
   ]
  },
  {
   "cell_type": "code",
   "execution_count": 145,
   "metadata": {},
   "outputs": [],
   "source": [
    "x_data = [x for x in dfb1.index]"
   ]
  },
  {
   "cell_type": "code",
   "execution_count": 146,
   "metadata": {},
   "outputs": [],
   "source": [
    "base = [row for row in dfb1['Baseline - RMSE']]"
   ]
  },
  {
   "cell_type": "code",
   "execution_count": 149,
   "metadata": {},
   "outputs": [
    {
     "name": "stderr",
     "output_type": "stream",
     "text": [
      "BokehDeprecationWarning: 'legend' keyword is deprecated, use explicit 'legend_label', 'legend_field', or 'legend_group' keywords instead\n"
     ]
    }
   ],
   "source": [
    "p = figure(x_range=x_data, plot_height=450, plot_width=975,title='Figure 4: Pitcher Baseline RMSE vs Model RMSE')\n",
    "p.vbar(x=x_data, top=value, width=.9, fill_alpha=.65)\n",
    "p.line(x=x_data, y=base, line_width=5, line_color='orange', legend='Baseline', line_alpha=.65)\n",
    "p.legend.location = 'center_right'"
   ]
  },
  {
   "cell_type": "code",
   "execution_count": 150,
   "metadata": {},
   "outputs": [],
   "source": [
    "show(p)"
   ]
  },
  {
   "cell_type": "code",
   "execution_count": null,
   "metadata": {},
   "outputs": [],
   "source": []
  },
  {
   "cell_type": "code",
   "execution_count": 21,
   "metadata": {},
   "outputs": [],
   "source": [
    "batter = pd.read_csv('../../Modeling_Data/batter_data_modeling.csv')"
   ]
  },
  {
   "cell_type": "code",
   "execution_count": 22,
   "metadata": {},
   "outputs": [
    {
     "data": {
      "text/plain": [
       "7.087898762039455"
      ]
     },
     "execution_count": 22,
     "metadata": {},
     "output_type": "execute_result"
    }
   ],
   "source": [
    "batter['FPPG'].mean()"
   ]
  },
  {
   "cell_type": "code",
   "execution_count": 23,
   "metadata": {},
   "outputs": [],
   "source": [
    "pitcher = pd.read_csv('../../Modeling_Data/pitcher_data_modeling.csv')"
   ]
  },
  {
   "cell_type": "code",
   "execution_count": 24,
   "metadata": {},
   "outputs": [
    {
     "data": {
      "text/plain": [
       "10.664786996731523"
      ]
     },
     "execution_count": 24,
     "metadata": {},
     "output_type": "execute_result"
    }
   ],
   "source": [
    "pitcher['FPPG'].mean()"
   ]
  },
  {
   "cell_type": "code",
   "execution_count": 25,
   "metadata": {},
   "outputs": [],
   "source": [
    "means = [batter['FPPG'].mean(), pitcher['FPPG'].mean()]"
   ]
  },
  {
   "cell_type": "code",
   "execution_count": 26,
   "metadata": {},
   "outputs": [],
   "source": [
    "rmse_base = [dfb['Baseline - RMSE'][0], dfb1['Baseline - RMSE'][0]]"
   ]
  },
  {
   "cell_type": "code",
   "execution_count": 27,
   "metadata": {},
   "outputs": [
    {
     "data": {
      "text/plain": [
       "[3.0781594336221785, 9.344332308850891]"
      ]
     },
     "execution_count": 27,
     "metadata": {},
     "output_type": "execute_result"
    }
   ],
   "source": [
    "rmse_base"
   ]
  },
  {
   "cell_type": "code",
   "execution_count": 28,
   "metadata": {},
   "outputs": [],
   "source": [
    "baseline = pd.DataFrame(data=[means, rmse_base], columns=['Batters', 'Pitchers'], index=['Avg_FPPG', 'Baseline_RMSE'])"
   ]
  },
  {
   "cell_type": "code",
   "execution_count": 29,
   "metadata": {},
   "outputs": [
    {
     "data": {
      "text/plain": [
       "Text(0.5, 1.0, 'Figure 1')"
      ]
     },
     "execution_count": 29,
     "metadata": {},
     "output_type": "execute_result"
    },
    {
     "data": {
      "image/png": "[encoded data removed]",
      "text/plain": [
       "<Figure size 504x360 with 1 Axes>"
      ]
     },
     "metadata": {
      "needs_background": "light"
     },
     "output_type": "display_data"
    }
   ],
   "source": [
    "baseline.plot(figsize=(7,5), kind='barh')\n",
    "plt.title('Figure 1')\n",
    "#plt.savefig('../Images/rmse_baseline.jpg');"
   ]
  },
  {
   "cell_type": "code",
   "execution_count": 30,
   "metadata": {},
   "outputs": [],
   "source": [
    "baseline.reset_index(drop=True, inplace=True)"
   ]
  },
  {
   "cell_type": "code",
   "execution_count": 31,
   "metadata": {},
   "outputs": [
    {
     "data": {
      "text/html": [
       "<div>\n",
       "<style scoped>\n",
       "    .dataframe tbody tr th:only-of-type {\n",
       "        vertical-align: middle;\n",
       "    }\n",
       "\n",
       "    .dataframe tbody tr th {\n",
       "        vertical-align: top;\n",
       "    }\n",
       "\n",
       "    .dataframe thead th {\n",
       "        text-align: right;\n",
       "    }\n",
       "</style>\n",
       "<table border=\"1\" class=\"dataframe\">\n",
       "  <thead>\n",
       "    <tr style=\"text-align: right;\">\n",
       "      <th></th>\n",
       "      <th>Batters</th>\n",
       "      <th>Pitchers</th>\n",
       "    </tr>\n",
       "  </thead>\n",
       "  <tbody>\n",
       "    <tr>\n",
       "      <th>0</th>\n",
       "      <td>7.087899</td>\n",
       "      <td>10.664787</td>\n",
       "    </tr>\n",
       "    <tr>\n",
       "      <th>1</th>\n",
       "      <td>3.078159</td>\n",
       "      <td>9.344332</td>\n",
       "    </tr>\n",
       "  </tbody>\n",
       "</table>\n",
       "</div>"
      ],
      "text/plain": [
       "    Batters   Pitchers\n",
       "0  7.087899  10.664787\n",
       "1  3.078159   9.344332"
      ]
     },
     "execution_count": 31,
     "metadata": {},
     "output_type": "execute_result"
    }
   ],
   "source": [
    "baseline"
   ]
  },
  {
   "cell_type": "code",
   "execution_count": 32,
   "metadata": {},
   "outputs": [],
   "source": [
    "from bokeh.io import output_file, show\n",
    "from bokeh.models import ColumnDataSource\n",
    "from bokeh.palettes import Spectral6\n",
    "from bokeh.plotting import figure\n",
    "from bokeh.transform import dodge"
   ]
  },
  {
   "cell_type": "code",
   "execution_count": 135,
   "metadata": {},
   "outputs": [],
   "source": [
    "pos = ['Pitchers', 'Batters']\n",
    "nums = ['FPPG Average', 'RMSE Baseline']\n",
    "\n",
    "data = {'Position' : pos,\n",
    "        'FPPG Average'   : [10.664787, 7.087899],\n",
    "        'RMSE Baseline'   : [9.344332, 3.078159]}\n",
    "\n",
    "source = ColumnDataSource(data=data)\n",
    "\n",
    "p = figure(x_range=pos, y_range=(0, 15), plot_height=250, title=\"Figure 1: Baseline RMSE and FPPG Average\")\n",
    "\n",
    "p.vbar(x=dodge('Position', -0.25, range=p.x_range), top='FPPG Average', width=0.2, source=source,\n",
    "       color='orange', legend_label=\"FPPG Average\", fill_alpha=.8)\n",
    "\n",
    "p.vbar(x=dodge('Position',  0.0,  range=p.x_range), top='RMSE Baseline', width=0.2, source=source,\n",
    "       legend_label=\"RMSE Baseline\", fill_alpha=.8)\n",
    "\n",
    "p.x_range.range_padding = 0.1\n",
    "p.xgrid.grid_line_color = None\n",
    "p.legend.location = \"top_left\"\n",
    "p.legend.orientation = \"horizontal\"\n",
    "\n",
    "show(p)"
   ]
  },
  {
   "cell_type": "code",
   "execution_count": null,
   "metadata": {},
   "outputs": [],
   "source": []
  },
  {
   "cell_type": "code",
   "execution_count": 151,
   "metadata": {},
   "outputs": [],
   "source": [
    "# scatter plots\n",
    "# batters\n",
    "batter = pd.read_csv('../../Projections/batter_projections_2021.csv')\n",
    "# pitchers\n",
    "pitcher = pd.read_csv('../../Projections/pitcher_projections_2021.csv')"
   ]
  },
  {
   "cell_type": "code",
   "execution_count": 164,
   "metadata": {},
   "outputs": [],
   "source": [
    "batter_plot = figure(plot_width=975, plot_height=450, title='Figure 3: Batter FPPG vs Projected FPPG ')\n",
    "batter_plot.scatter('Projected_FPPG', 'FPPG', source=batter, fill_alpha=0.65,\n",
    "                   size=7)\n",
    "batter_plot.xaxis.axis_label = 'Projected FPPG'\n",
    "batter_plot.yaxis.axis_label = 'Actual FPPG'"
   ]
  },
  {
   "cell_type": "code",
   "execution_count": 165,
   "metadata": {},
   "outputs": [],
   "source": [
    "show(batter_plot)"
   ]
  },
  {
   "cell_type": "code",
   "execution_count": null,
   "metadata": {},
   "outputs": [],
   "source": []
  },
  {
   "cell_type": "code",
   "execution_count": 166,
   "metadata": {},
   "outputs": [],
   "source": [
    "pitcher_plot = figure(plot_width=975, plot_height=450, title='Figure 5: Pitcher FPPG vs Projected FPPG ')\n",
    "pitcher_plot.scatter('Projected_FPPG', 'FPPG', source=pitcher, fill_alpha=0.65,\n",
    "                   size=7)\n",
    "pitcher_plot.xaxis.axis_label = 'Projected FPPG'\n",
    "pitcher_plot.yaxis.axis_label = 'Actual FPPG'"
   ]
  },
  {
   "cell_type": "code",
   "execution_count": 167,
   "metadata": {},
   "outputs": [],
   "source": [
    "show(pitcher_plot)"
   ]
  },
  {
   "cell_type": "code",
   "execution_count": null,
   "metadata": {},
   "outputs": [],
   "source": []
  }
 ],
 "metadata": {
  "kernelspec": {
   "display_name": "Python 3",
   "language": "python",
   "name": "python3"
  },
  "language_info": {
   "codemirror_mode": {
    "name": "ipython",
    "version": 3
   },
   "file_extension": ".py",
   "mimetype": "text/x-python",
   "name": "python",
   "nbconvert_exporter": "python",
   "pygments_lexer": "ipython3",
   "version": "3.8.5"
  }
 },
 "nbformat": 4,
 "nbformat_minor": 4
}
