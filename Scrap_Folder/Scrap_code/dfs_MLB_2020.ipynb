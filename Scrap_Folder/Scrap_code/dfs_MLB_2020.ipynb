{
 "cells": [
  {
   "cell_type": "markdown",
   "metadata": {},
   "source": [
    "# Batting: ISO > .170 , wOBA .340"
   ]
  },
  {
   "cell_type": "markdown",
   "metadata": {},
   "source": [
    "# Pitching: K% > 22 , ML > -150"
   ]
  },
  {
   "cell_type": "markdown",
   "metadata": {},
   "source": [
    "## define function to pass df's to and splits out pitchers sorted by era\n",
    "* different functions for yahoo and fanduel\n",
    "1. read in 2020 data for pitchers and batters\n",
    "2. define pitcher function that takes uses pitcher df and input df and splits out proable pitchers and stats, sorted by ERA.\n",
    "3. create function for batters to output iso and woba\n",
    "4. create function to imput 4 teams and nes hitter df and print hitters sorted by iso and woba"
   ]
  },
  {
   "cell_type": "code",
   "execution_count": 1,
   "metadata": {},
   "outputs": [],
   "source": [
    "import pandas as pd"
   ]
  },
  {
   "cell_type": "markdown",
   "metadata": {},
   "source": [
    "### Only thing to download here, daily data from fanduel or yahoo."
   ]
  },
  {
   "cell_type": "code",
   "execution_count": 2,
   "metadata": {},
   "outputs": [],
   "source": [
    "# will need fanduel import\n",
    "fd = pd.read_csv('../CapStone_Data/FanDuel-MLB-2021 ET-05 ET-04 ET-58318-players-list.csv')"
   ]
  },
  {
   "cell_type": "code",
   "execution_count": 11,
   "metadata": {},
   "outputs": [],
   "source": [
    "# pitcher data\n",
    "pitchers = pd.read_csv('../../Modeling_Data/pitcher_test_data.csv')"
   ]
  },
  {
   "cell_type": "code",
   "execution_count": 12,
   "metadata": {},
   "outputs": [],
   "source": [
    "# batter data\n",
    "batters = pd.read_csv('../../Modeling_Data/batter_test_data.csv')"
   ]
  },
  {
   "cell_type": "code",
   "execution_count": 7,
   "metadata": {},
   "outputs": [],
   "source": [
    "def fd_pitcher(fd,pitchers):    \n",
    "    # create filter for probable pitchers\n",
    "    prob = fd['Probable Pitcher'] == 'Yes'\n",
    "    # create new df\n",
    "    dfp = fd[prob]\n",
    "    # rename nickname to name\n",
    "    dfp.rename(columns={'Nickname':'Name'}, inplace=True)\n",
    "    # merge pitchers and dfp\n",
    "    dfp = dfp.merge(pitchers, how='left', on='Name')\n",
    "    # sort by ERA and include ks and stuff\n",
    "    dfp.sort_values(by='ERA', inplace=True, ignore_index=True)\n",
    "    return dfp[['Name', 'Team_x','Position', \"FPPG\", 'IP', 'ERA','K/9', 'Salary', 'Game']]"
   ]
  },
  {
   "cell_type": "code",
   "execution_count": 8,
   "metadata": {},
   "outputs": [
    {
     "name": "stderr",
     "output_type": "stream",
     "text": [
      "C:\\Users\\phill\\anaconda3\\lib\\site-packages\\pandas\\core\\frame.py:4296: SettingWithCopyWarning: \n",
      "A value is trying to be set on a copy of a slice from a DataFrame\n",
      "\n",
      "See the caveats in the documentation: https://pandas.pydata.org/pandas-docs/stable/user_guide/indexing.html#returning-a-view-versus-a-copy\n",
      "  return super().rename(\n"
     ]
    }
   ],
   "source": [
    "fdp = fd_pitcher(fd, pitchers)"
   ]
  },
  {
   "cell_type": "code",
   "execution_count": 9,
   "metadata": {},
   "outputs": [
    {
     "data": {
      "text/html": [
       "<div>\n",
       "<style scoped>\n",
       "    .dataframe tbody tr th:only-of-type {\n",
       "        vertical-align: middle;\n",
       "    }\n",
       "\n",
       "    .dataframe tbody tr th {\n",
       "        vertical-align: top;\n",
       "    }\n",
       "\n",
       "    .dataframe thead th {\n",
       "        text-align: right;\n",
       "    }\n",
       "</style>\n",
       "<table border=\"1\" class=\"dataframe\">\n",
       "  <thead>\n",
       "    <tr style=\"text-align: right;\">\n",
       "      <th></th>\n",
       "      <th>Name</th>\n",
       "      <th>Team_x</th>\n",
       "      <th>Position</th>\n",
       "      <th>FPPG</th>\n",
       "      <th>IP</th>\n",
       "      <th>ERA</th>\n",
       "      <th>K/9</th>\n",
       "      <th>Salary</th>\n",
       "      <th>Game</th>\n",
       "    </tr>\n",
       "  </thead>\n",
       "  <tbody>\n",
       "    <tr>\n",
       "      <th>0</th>\n",
       "      <td>Jacob deGrom</td>\n",
       "      <td>NYM</td>\n",
       "      <td>P</td>\n",
       "      <td>61.600000</td>\n",
       "      <td>35.0</td>\n",
       "      <td>0.51</td>\n",
       "      <td>15.17</td>\n",
       "      <td>12500</td>\n",
       "      <td>NYM@STL</td>\n",
       "    </tr>\n",
       "    <tr>\n",
       "      <th>1</th>\n",
       "      <td>J.A. Happ</td>\n",
       "      <td>MIN</td>\n",
       "      <td>P</td>\n",
       "      <td>28.250000</td>\n",
       "      <td>23.0</td>\n",
       "      <td>1.96</td>\n",
       "      <td>5.09</td>\n",
       "      <td>7900</td>\n",
       "      <td>TEX@MIN</td>\n",
       "    </tr>\n",
       "    <tr>\n",
       "      <th>2</th>\n",
       "      <td>Kyle Gibson</td>\n",
       "      <td>TEX</td>\n",
       "      <td>P</td>\n",
       "      <td>32.500000</td>\n",
       "      <td>27.1</td>\n",
       "      <td>2.30</td>\n",
       "      <td>7.57</td>\n",
       "      <td>8600</td>\n",
       "      <td>TEX@MIN</td>\n",
       "    </tr>\n",
       "    <tr>\n",
       "      <th>3</th>\n",
       "      <td>Nick Pivetta</td>\n",
       "      <td>BOS</td>\n",
       "      <td>P</td>\n",
       "      <td>30.000000</td>\n",
       "      <td>25.2</td>\n",
       "      <td>2.81</td>\n",
       "      <td>8.77</td>\n",
       "      <td>8300</td>\n",
       "      <td>DET@BOS</td>\n",
       "    </tr>\n",
       "    <tr>\n",
       "      <th>4</th>\n",
       "      <td>Aaron Nola</td>\n",
       "      <td>PHI</td>\n",
       "      <td>P</td>\n",
       "      <td>35.833333</td>\n",
       "      <td>31.2</td>\n",
       "      <td>2.84</td>\n",
       "      <td>9.09</td>\n",
       "      <td>9200</td>\n",
       "      <td>MIL@PHI</td>\n",
       "    </tr>\n",
       "    <tr>\n",
       "      <th>5</th>\n",
       "      <td>Huascar Ynoa</td>\n",
       "      <td>ATL</td>\n",
       "      <td>P</td>\n",
       "      <td>29.500000</td>\n",
       "      <td>27.1</td>\n",
       "      <td>2.96</td>\n",
       "      <td>11.20</td>\n",
       "      <td>8000</td>\n",
       "      <td>ATL@WSH</td>\n",
       "    </tr>\n",
       "    <tr>\n",
       "      <th>6</th>\n",
       "      <td>Zack Greinke</td>\n",
       "      <td>HOU</td>\n",
       "      <td>P</td>\n",
       "      <td>29.500000</td>\n",
       "      <td>36.2</td>\n",
       "      <td>3.44</td>\n",
       "      <td>6.63</td>\n",
       "      <td>8400</td>\n",
       "      <td>HOU@NYY</td>\n",
       "    </tr>\n",
       "    <tr>\n",
       "      <th>7</th>\n",
       "      <td>Cole Irvin</td>\n",
       "      <td>OAK</td>\n",
       "      <td>P</td>\n",
       "      <td>28.600000</td>\n",
       "      <td>27.0</td>\n",
       "      <td>3.67</td>\n",
       "      <td>8.33</td>\n",
       "      <td>7700</td>\n",
       "      <td>TOR@OAK</td>\n",
       "    </tr>\n",
       "    <tr>\n",
       "      <th>8</th>\n",
       "      <td>Joe Ross</td>\n",
       "      <td>WSH</td>\n",
       "      <td>P</td>\n",
       "      <td>26.250000</td>\n",
       "      <td>21.1</td>\n",
       "      <td>4.64</td>\n",
       "      <td>7.59</td>\n",
       "      <td>7000</td>\n",
       "      <td>ATL@WSH</td>\n",
       "    </tr>\n",
       "    <tr>\n",
       "      <th>9</th>\n",
       "      <td>Mike Minor</td>\n",
       "      <td>KC</td>\n",
       "      <td>P</td>\n",
       "      <td>25.000000</td>\n",
       "      <td>25.2</td>\n",
       "      <td>5.26</td>\n",
       "      <td>9.47</td>\n",
       "      <td>6900</td>\n",
       "      <td>CLE@KC</td>\n",
       "    </tr>\n",
       "    <tr>\n",
       "      <th>10</th>\n",
       "      <td>Alex Cobb</td>\n",
       "      <td>LAA</td>\n",
       "      <td>P</td>\n",
       "      <td>22.250000</td>\n",
       "      <td>NaN</td>\n",
       "      <td>NaN</td>\n",
       "      <td>NaN</td>\n",
       "      <td>8000</td>\n",
       "      <td>TB@LAA</td>\n",
       "    </tr>\n",
       "    <tr>\n",
       "      <th>11</th>\n",
       "      <td>Domingo German</td>\n",
       "      <td>NYY</td>\n",
       "      <td>P</td>\n",
       "      <td>27.500000</td>\n",
       "      <td>NaN</td>\n",
       "      <td>NaN</td>\n",
       "      <td>NaN</td>\n",
       "      <td>7200</td>\n",
       "      <td>HOU@NYY</td>\n",
       "    </tr>\n",
       "    <tr>\n",
       "      <th>12</th>\n",
       "      <td>Eric Lauer</td>\n",
       "      <td>MIL</td>\n",
       "      <td>P</td>\n",
       "      <td>30.000000</td>\n",
       "      <td>NaN</td>\n",
       "      <td>NaN</td>\n",
       "      <td>NaN</td>\n",
       "      <td>6800</td>\n",
       "      <td>MIL@PHI</td>\n",
       "    </tr>\n",
       "    <tr>\n",
       "      <th>13</th>\n",
       "      <td>Johan Oviedo</td>\n",
       "      <td>STL</td>\n",
       "      <td>P</td>\n",
       "      <td>26.500000</td>\n",
       "      <td>NaN</td>\n",
       "      <td>NaN</td>\n",
       "      <td>NaN</td>\n",
       "      <td>6500</td>\n",
       "      <td>NYM@STL</td>\n",
       "    </tr>\n",
       "    <tr>\n",
       "      <th>14</th>\n",
       "      <td>Justin Dunn</td>\n",
       "      <td>SEA</td>\n",
       "      <td>P</td>\n",
       "      <td>22.000000</td>\n",
       "      <td>NaN</td>\n",
       "      <td>NaN</td>\n",
       "      <td>NaN</td>\n",
       "      <td>6500</td>\n",
       "      <td>BAL@SEA</td>\n",
       "    </tr>\n",
       "    <tr>\n",
       "      <th>15</th>\n",
       "      <td>Jorge Lopez</td>\n",
       "      <td>BAL</td>\n",
       "      <td>P</td>\n",
       "      <td>16.000000</td>\n",
       "      <td>NaN</td>\n",
       "      <td>NaN</td>\n",
       "      <td>NaN</td>\n",
       "      <td>6100</td>\n",
       "      <td>BAL@SEA</td>\n",
       "    </tr>\n",
       "    <tr>\n",
       "      <th>16</th>\n",
       "      <td>Anthony Kay</td>\n",
       "      <td>TOR</td>\n",
       "      <td>P</td>\n",
       "      <td>7.000000</td>\n",
       "      <td>NaN</td>\n",
       "      <td>NaN</td>\n",
       "      <td>NaN</td>\n",
       "      <td>6000</td>\n",
       "      <td>TOR@OAK</td>\n",
       "    </tr>\n",
       "    <tr>\n",
       "      <th>17</th>\n",
       "      <td>Mitch Keller</td>\n",
       "      <td>PIT</td>\n",
       "      <td>P</td>\n",
       "      <td>13.600000</td>\n",
       "      <td>NaN</td>\n",
       "      <td>NaN</td>\n",
       "      <td>NaN</td>\n",
       "      <td>6000</td>\n",
       "      <td>PIT@SD</td>\n",
       "    </tr>\n",
       "    <tr>\n",
       "      <th>18</th>\n",
       "      <td>Michael Fulmer</td>\n",
       "      <td>DET</td>\n",
       "      <td>P</td>\n",
       "      <td>14.571429</td>\n",
       "      <td>NaN</td>\n",
       "      <td>NaN</td>\n",
       "      <td>NaN</td>\n",
       "      <td>5800</td>\n",
       "      <td>DET@BOS</td>\n",
       "    </tr>\n",
       "    <tr>\n",
       "      <th>19</th>\n",
       "      <td>Shane McClanahan</td>\n",
       "      <td>TB</td>\n",
       "      <td>P</td>\n",
       "      <td>21.000000</td>\n",
       "      <td>NaN</td>\n",
       "      <td>NaN</td>\n",
       "      <td>NaN</td>\n",
       "      <td>5700</td>\n",
       "      <td>TB@LAA</td>\n",
       "    </tr>\n",
       "    <tr>\n",
       "      <th>20</th>\n",
       "      <td>Sam Hentges</td>\n",
       "      <td>CLE</td>\n",
       "      <td>P</td>\n",
       "      <td>10.666667</td>\n",
       "      <td>NaN</td>\n",
       "      <td>NaN</td>\n",
       "      <td>NaN</td>\n",
       "      <td>5500</td>\n",
       "      <td>CLE@KC</td>\n",
       "    </tr>\n",
       "  </tbody>\n",
       "</table>\n",
       "</div>"
      ],
      "text/plain": [
       "                Name Team_x Position       FPPG    IP   ERA    K/9  Salary  \\\n",
       "0       Jacob deGrom    NYM        P  61.600000  35.0  0.51  15.17   12500   \n",
       "1          J.A. Happ    MIN        P  28.250000  23.0  1.96   5.09    7900   \n",
       "2        Kyle Gibson    TEX        P  32.500000  27.1  2.30   7.57    8600   \n",
       "3       Nick Pivetta    BOS        P  30.000000  25.2  2.81   8.77    8300   \n",
       "4         Aaron Nola    PHI        P  35.833333  31.2  2.84   9.09    9200   \n",
       "5       Huascar Ynoa    ATL        P  29.500000  27.1  2.96  11.20    8000   \n",
       "6       Zack Greinke    HOU        P  29.500000  36.2  3.44   6.63    8400   \n",
       "7         Cole Irvin    OAK        P  28.600000  27.0  3.67   8.33    7700   \n",
       "8           Joe Ross    WSH        P  26.250000  21.1  4.64   7.59    7000   \n",
       "9         Mike Minor     KC        P  25.000000  25.2  5.26   9.47    6900   \n",
       "10         Alex Cobb    LAA        P  22.250000   NaN   NaN    NaN    8000   \n",
       "11    Domingo German    NYY        P  27.500000   NaN   NaN    NaN    7200   \n",
       "12        Eric Lauer    MIL        P  30.000000   NaN   NaN    NaN    6800   \n",
       "13      Johan Oviedo    STL        P  26.500000   NaN   NaN    NaN    6500   \n",
       "14       Justin Dunn    SEA        P  22.000000   NaN   NaN    NaN    6500   \n",
       "15       Jorge Lopez    BAL        P  16.000000   NaN   NaN    NaN    6100   \n",
       "16       Anthony Kay    TOR        P   7.000000   NaN   NaN    NaN    6000   \n",
       "17      Mitch Keller    PIT        P  13.600000   NaN   NaN    NaN    6000   \n",
       "18    Michael Fulmer    DET        P  14.571429   NaN   NaN    NaN    5800   \n",
       "19  Shane McClanahan     TB        P  21.000000   NaN   NaN    NaN    5700   \n",
       "20       Sam Hentges    CLE        P  10.666667   NaN   NaN    NaN    5500   \n",
       "\n",
       "       Game  \n",
       "0   NYM@STL  \n",
       "1   TEX@MIN  \n",
       "2   TEX@MIN  \n",
       "3   DET@BOS  \n",
       "4   MIL@PHI  \n",
       "5   ATL@WSH  \n",
       "6   HOU@NYY  \n",
       "7   TOR@OAK  \n",
       "8   ATL@WSH  \n",
       "9    CLE@KC  \n",
       "10   TB@LAA  \n",
       "11  HOU@NYY  \n",
       "12  MIL@PHI  \n",
       "13  NYM@STL  \n",
       "14  BAL@SEA  \n",
       "15  BAL@SEA  \n",
       "16  TOR@OAK  \n",
       "17   PIT@SD  \n",
       "18  DET@BOS  \n",
       "19   TB@LAA  \n",
       "20   CLE@KC  "
      ]
     },
     "execution_count": 9,
     "metadata": {},
     "output_type": "execute_result"
    }
   ],
   "source": [
    "fdp"
   ]
  },
  {
   "cell_type": "code",
   "execution_count": 10,
   "metadata": {},
   "outputs": [],
   "source": [
    "# create list for fitler, use teams that are facing bad pitcher\n",
    "team_list = ['CHC', 'BOS', 'ARI', 'COL']"
   ]
  },
  {
   "cell_type": "code",
   "execution_count": 11,
   "metadata": {},
   "outputs": [],
   "source": [
    "def fd_batters(fd, batters):\n",
    "    # filter to just hitters\n",
    "    hits = fd['Position'] != 'P'\n",
    "    #overwrite df\n",
    "    fd = fd[hits]\n",
    "    # change nick name to name\n",
    "    fd.rename(columns={'Nickname':'Name'}, inplace=True)\n",
    "    # merge \n",
    "    dfb = fd.merge(batters, how='left', on='Name')\n",
    "    return dfb"
   ]
  },
  {
   "cell_type": "code",
   "execution_count": 12,
   "metadata": {},
   "outputs": [
    {
     "name": "stderr",
     "output_type": "stream",
     "text": [
      "C:\\Users\\phill\\anaconda3\\lib\\site-packages\\pandas\\core\\frame.py:4296: SettingWithCopyWarning: \n",
      "A value is trying to be set on a copy of a slice from a DataFrame\n",
      "\n",
      "See the caveats in the documentation: https://pandas.pydata.org/pandas-docs/stable/user_guide/indexing.html#returning-a-view-versus-a-copy\n",
      "  return super().rename(\n"
     ]
    }
   ],
   "source": [
    "dfb = fd_batters(fd,batters)"
   ]
  },
  {
   "cell_type": "code",
   "execution_count": 13,
   "metadata": {},
   "outputs": [],
   "source": [
    "def team_batter(team_list, dfb):\n",
    "    # create filter with list\n",
    "    team_filter = (dfb['Team_x'] == team_list[0]) | (dfb['Team_x'] == team_list[1]) |(dfb['Team_x'] == team_list[2]) |(dfb['Team_x'] == team_list[3])\n",
    "    # new df with filter\n",
    "    dfb2 = dfb[team_filter]\n",
    "    # sort values by iso\n",
    "    dfb2.sort_values(by=['ISO', 'wOBA'], inplace=True, ascending=False, ignore_index=True)\n",
    "    # handle injuries\n",
    "    #dfb2['Injury Indicator'].fillna(0, inplace=True)\n",
    "    # filter by injury = 0, overwrite existing dfb2\n",
    "    #dfb2 = dfb2[dfb2['Injury Indicator'] == 0]\n",
    "    # output just those values and salary\n",
    "    return dfb2[['Name', 'Team_x', 'Position','FPPG', 'ISO', 'wOBA', 'Salary']]"
   ]
  },
  {
   "cell_type": "code",
   "execution_count": 14,
   "metadata": {},
   "outputs": [
    {
     "name": "stderr",
     "output_type": "stream",
     "text": [
      "<ipython-input-13-9a2e44087087>:7: SettingWithCopyWarning: \n",
      "A value is trying to be set on a copy of a slice from a DataFrame\n",
      "\n",
      "See the caveats in the documentation: https://pandas.pydata.org/pandas-docs/stable/user_guide/indexing.html#returning-a-view-versus-a-copy\n",
      "  dfb2.sort_values(by=['ISO', 'wOBA'], inplace=True, ascending=False, ignore_index=True)\n"
     ]
    },
    {
     "data": {
      "text/html": [
       "<div>\n",
       "<style scoped>\n",
       "    .dataframe tbody tr th:only-of-type {\n",
       "        vertical-align: middle;\n",
       "    }\n",
       "\n",
       "    .dataframe tbody tr th {\n",
       "        vertical-align: top;\n",
       "    }\n",
       "\n",
       "    .dataframe thead th {\n",
       "        text-align: right;\n",
       "    }\n",
       "</style>\n",
       "<table border=\"1\" class=\"dataframe\">\n",
       "  <thead>\n",
       "    <tr style=\"text-align: right;\">\n",
       "      <th></th>\n",
       "      <th>Name</th>\n",
       "      <th>Team_x</th>\n",
       "      <th>Position</th>\n",
       "      <th>FPPG</th>\n",
       "      <th>ISO</th>\n",
       "      <th>wOBA</th>\n",
       "      <th>Salary</th>\n",
       "    </tr>\n",
       "  </thead>\n",
       "  <tbody>\n",
       "    <tr>\n",
       "      <th>0</th>\n",
       "      <td>J.D. Martinez</td>\n",
       "      <td>BOS</td>\n",
       "      <td>OF</td>\n",
       "      <td>15.525926</td>\n",
       "      <td>0.348</td>\n",
       "      <td>0.462</td>\n",
       "      <td>4200</td>\n",
       "    </tr>\n",
       "    <tr>\n",
       "      <th>1</th>\n",
       "      <td>Rafael Devers</td>\n",
       "      <td>BOS</td>\n",
       "      <td>3B</td>\n",
       "      <td>12.618519</td>\n",
       "      <td>0.271</td>\n",
       "      <td>0.396</td>\n",
       "      <td>3700</td>\n",
       "    </tr>\n",
       "    <tr>\n",
       "      <th>2</th>\n",
       "      <td>Alex Verdugo</td>\n",
       "      <td>BOS</td>\n",
       "      <td>OF</td>\n",
       "      <td>11.055556</td>\n",
       "      <td>0.205</td>\n",
       "      <td>0.374</td>\n",
       "      <td>3400</td>\n",
       "    </tr>\n",
       "    <tr>\n",
       "      <th>3</th>\n",
       "      <td>Xander Bogaerts</td>\n",
       "      <td>BOS</td>\n",
       "      <td>SS</td>\n",
       "      <td>11.603703</td>\n",
       "      <td>0.202</td>\n",
       "      <td>0.402</td>\n",
       "      <td>3500</td>\n",
       "    </tr>\n",
       "    <tr>\n",
       "      <th>4</th>\n",
       "      <td>Christian Vazquez</td>\n",
       "      <td>BOS</td>\n",
       "      <td>C</td>\n",
       "      <td>8.275000</td>\n",
       "      <td>0.132</td>\n",
       "      <td>0.298</td>\n",
       "      <td>2400</td>\n",
       "    </tr>\n",
       "    <tr>\n",
       "      <th>5</th>\n",
       "      <td>Marwin Gonzalez</td>\n",
       "      <td>BOS</td>\n",
       "      <td>1B/OF</td>\n",
       "      <td>7.391304</td>\n",
       "      <td>0.091</td>\n",
       "      <td>0.291</td>\n",
       "      <td>2300</td>\n",
       "    </tr>\n",
       "    <tr>\n",
       "      <th>6</th>\n",
       "      <td>Kike Hernandez</td>\n",
       "      <td>BOS</td>\n",
       "      <td>2B/OF</td>\n",
       "      <td>8.396296</td>\n",
       "      <td>NaN</td>\n",
       "      <td>NaN</td>\n",
       "      <td>2700</td>\n",
       "    </tr>\n",
       "    <tr>\n",
       "      <th>7</th>\n",
       "      <td>Hunter Renfroe</td>\n",
       "      <td>BOS</td>\n",
       "      <td>OF</td>\n",
       "      <td>7.061905</td>\n",
       "      <td>NaN</td>\n",
       "      <td>NaN</td>\n",
       "      <td>2400</td>\n",
       "    </tr>\n",
       "    <tr>\n",
       "      <th>8</th>\n",
       "      <td>Christian Arroyo</td>\n",
       "      <td>BOS</td>\n",
       "      <td>2B</td>\n",
       "      <td>6.930000</td>\n",
       "      <td>NaN</td>\n",
       "      <td>NaN</td>\n",
       "      <td>2200</td>\n",
       "    </tr>\n",
       "    <tr>\n",
       "      <th>9</th>\n",
       "      <td>Bobby Dalbec</td>\n",
       "      <td>BOS</td>\n",
       "      <td>1B/3B</td>\n",
       "      <td>5.243478</td>\n",
       "      <td>NaN</td>\n",
       "      <td>NaN</td>\n",
       "      <td>2100</td>\n",
       "    </tr>\n",
       "    <tr>\n",
       "      <th>10</th>\n",
       "      <td>Franchy Cordero</td>\n",
       "      <td>BOS</td>\n",
       "      <td>OF</td>\n",
       "      <td>3.695455</td>\n",
       "      <td>NaN</td>\n",
       "      <td>NaN</td>\n",
       "      <td>2000</td>\n",
       "    </tr>\n",
       "    <tr>\n",
       "      <th>11</th>\n",
       "      <td>Kevin Plawecki</td>\n",
       "      <td>BOS</td>\n",
       "      <td>C</td>\n",
       "      <td>4.066666</td>\n",
       "      <td>NaN</td>\n",
       "      <td>NaN</td>\n",
       "      <td>2000</td>\n",
       "    </tr>\n",
       "    <tr>\n",
       "      <th>12</th>\n",
       "      <td>Michael Chavis</td>\n",
       "      <td>BOS</td>\n",
       "      <td>1B/2B</td>\n",
       "      <td>3.200000</td>\n",
       "      <td>NaN</td>\n",
       "      <td>NaN</td>\n",
       "      <td>2000</td>\n",
       "    </tr>\n",
       "  </tbody>\n",
       "</table>\n",
       "</div>"
      ],
      "text/plain": [
       "                 Name Team_x Position       FPPG    ISO   wOBA  Salary\n",
       "0       J.D. Martinez    BOS       OF  15.525926  0.348  0.462    4200\n",
       "1       Rafael Devers    BOS       3B  12.618519  0.271  0.396    3700\n",
       "2        Alex Verdugo    BOS       OF  11.055556  0.205  0.374    3400\n",
       "3     Xander Bogaerts    BOS       SS  11.603703  0.202  0.402    3500\n",
       "4   Christian Vazquez    BOS        C   8.275000  0.132  0.298    2400\n",
       "5     Marwin Gonzalez    BOS    1B/OF   7.391304  0.091  0.291    2300\n",
       "6      Kike Hernandez    BOS    2B/OF   8.396296    NaN    NaN    2700\n",
       "7      Hunter Renfroe    BOS       OF   7.061905    NaN    NaN    2400\n",
       "8    Christian Arroyo    BOS       2B   6.930000    NaN    NaN    2200\n",
       "9        Bobby Dalbec    BOS    1B/3B   5.243478    NaN    NaN    2100\n",
       "10    Franchy Cordero    BOS       OF   3.695455    NaN    NaN    2000\n",
       "11     Kevin Plawecki    BOS        C   4.066666    NaN    NaN    2000\n",
       "12     Michael Chavis    BOS    1B/2B   3.200000    NaN    NaN    2000"
      ]
     },
     "execution_count": 14,
     "metadata": {},
     "output_type": "execute_result"
    }
   ],
   "source": [
    "pd.set_option('display.max_rows', 100)\n",
    "dfb2 = team_batter(team_list, dfb)\n",
    "dfb2"
   ]
  },
  {
   "cell_type": "markdown",
   "metadata": {},
   "source": [
    "# 35K fanduel salary"
   ]
  },
  {
   "cell_type": "code",
   "execution_count": 15,
   "metadata": {},
   "outputs": [],
   "source": [
    "# create lineup \n",
    "cap = 35_000\n",
    "# list of players\n",
    "players = []\n",
    "# pick pitcher, then add batters list?\n",
    "players.append(fdp.loc[fdp['Position'] == 'P'].values[0])"
   ]
  },
  {
   "cell_type": "code",
   "execution_count": 16,
   "metadata": {},
   "outputs": [
    {
     "data": {
      "text/plain": [
       "array(['Jacob deGrom', 'NYM', 'P', 61.6, 35.0, 0.51, 15.17, 12500,\n",
       "       'NYM@STL'], dtype=object)"
      ]
     },
     "execution_count": 16,
     "metadata": {},
     "output_type": "execute_result"
    }
   ],
   "source": [
    "players[0]"
   ]
  },
  {
   "cell_type": "code",
   "execution_count": 17,
   "metadata": {},
   "outputs": [
    {
     "data": {
      "text/plain": [
       "array(['OF', '3B', 'SS', 'C', '1B/OF', '2B/OF', '2B', '1B/3B', '1B/2B'],\n",
       "      dtype=object)"
      ]
     },
     "execution_count": 17,
     "metadata": {},
     "output_type": "execute_result"
    }
   ],
   "source": [
    "# try for batters \n",
    "# position list then iterate through list and grap positions\n",
    "position_list = ['1B', '2B', '3B', 'SS', 'OF', 'OF', 'OF']\n",
    "dfb2['Position'].unique()"
   ]
  },
  {
   "cell_type": "code",
   "execution_count": 18,
   "metadata": {},
   "outputs": [
    {
     "ename": "IndexError",
     "evalue": "index 0 is out of bounds for axis 0 with size 0",
     "output_type": "error",
     "traceback": [
      "\u001b[1;31m---------------------------------------------------------------------------\u001b[0m",
      "\u001b[1;31mIndexError\u001b[0m                                Traceback (most recent call last)",
      "\u001b[1;32m<ipython-input-18-2343a772e520>\u001b[0m in \u001b[0;36m<module>\u001b[1;34m\u001b[0m\n\u001b[1;32m----> 1\u001b[1;33m \u001b[0mdfb2\u001b[0m\u001b[1;33m.\u001b[0m\u001b[0mloc\u001b[0m\u001b[1;33m[\u001b[0m\u001b[0mdfb2\u001b[0m\u001b[1;33m[\u001b[0m\u001b[1;34m'Position'\u001b[0m\u001b[1;33m]\u001b[0m \u001b[1;33m==\u001b[0m \u001b[1;34m'1B'\u001b[0m\u001b[1;33m]\u001b[0m\u001b[1;33m.\u001b[0m\u001b[0mvalues\u001b[0m\u001b[1;33m[\u001b[0m\u001b[1;36m0\u001b[0m\u001b[1;33m]\u001b[0m\u001b[1;33m\u001b[0m\u001b[1;33m\u001b[0m\u001b[0m\n\u001b[0m",
      "\u001b[1;31mIndexError\u001b[0m: index 0 is out of bounds for axis 0 with size 0"
     ]
    }
   ],
   "source": [
    "dfb2.loc[dfb2['Position'] == '1B'].values[0]"
   ]
  },
  {
   "cell_type": "code",
   "execution_count": 19,
   "metadata": {},
   "outputs": [
    {
     "ename": "IndexError",
     "evalue": "index 0 is out of bounds for axis 0 with size 0",
     "output_type": "error",
     "traceback": [
      "\u001b[1;31m---------------------------------------------------------------------------\u001b[0m",
      "\u001b[1;31mIndexError\u001b[0m                                Traceback (most recent call last)",
      "\u001b[1;32m<ipython-input-19-c34abd8fee3d>\u001b[0m in \u001b[0;36m<module>\u001b[1;34m\u001b[0m\n\u001b[0;32m      1\u001b[0m \u001b[1;32mfor\u001b[0m \u001b[0mpos\u001b[0m \u001b[1;32min\u001b[0m \u001b[0mposition_list\u001b[0m\u001b[1;33m:\u001b[0m\u001b[1;33m\u001b[0m\u001b[1;33m\u001b[0m\u001b[0m\n\u001b[1;32m----> 2\u001b[1;33m     \u001b[0mplayers\u001b[0m\u001b[1;33m.\u001b[0m\u001b[0mappend\u001b[0m\u001b[1;33m(\u001b[0m\u001b[0mdfb2\u001b[0m\u001b[1;33m.\u001b[0m\u001b[0mloc\u001b[0m\u001b[1;33m[\u001b[0m\u001b[0mdfb2\u001b[0m\u001b[1;33m[\u001b[0m\u001b[1;34m'Position'\u001b[0m\u001b[1;33m]\u001b[0m \u001b[1;33m==\u001b[0m \u001b[0mpos\u001b[0m\u001b[1;33m]\u001b[0m\u001b[1;33m.\u001b[0m\u001b[0mvalues\u001b[0m\u001b[1;33m[\u001b[0m\u001b[1;36m0\u001b[0m\u001b[1;33m]\u001b[0m\u001b[1;33m)\u001b[0m\u001b[1;33m\u001b[0m\u001b[1;33m\u001b[0m\u001b[0m\n\u001b[0m",
      "\u001b[1;31mIndexError\u001b[0m: index 0 is out of bounds for axis 0 with size 0"
     ]
    }
   ],
   "source": [
    "for pos in position_list:\n",
    "    players.append(dfb2.loc[dfb2['Position'] == pos].values[0])"
   ]
  },
  {
   "cell_type": "code",
   "execution_count": 20,
   "metadata": {},
   "outputs": [
    {
     "data": {
      "text/plain": [
       "[array(['Jacob deGrom', 'NYM', 'P', 61.6, 35.0, 0.51, 15.17, 12500,\n",
       "        'NYM@STL'], dtype=object)]"
      ]
     },
     "execution_count": 20,
     "metadata": {},
     "output_type": "execute_result"
    }
   ],
   "source": [
    "players"
   ]
  },
  {
   "cell_type": "code",
   "execution_count": 21,
   "metadata": {},
   "outputs": [
    {
     "data": {
      "text/html": [
       "<div>\n",
       "<style scoped>\n",
       "    .dataframe tbody tr th:only-of-type {\n",
       "        vertical-align: middle;\n",
       "    }\n",
       "\n",
       "    .dataframe tbody tr th {\n",
       "        vertical-align: top;\n",
       "    }\n",
       "\n",
       "    .dataframe thead th {\n",
       "        text-align: right;\n",
       "    }\n",
       "</style>\n",
       "<table border=\"1\" class=\"dataframe\">\n",
       "  <thead>\n",
       "    <tr style=\"text-align: right;\">\n",
       "      <th></th>\n",
       "      <th>0</th>\n",
       "      <th>1</th>\n",
       "      <th>2</th>\n",
       "      <th>3</th>\n",
       "      <th>4</th>\n",
       "      <th>5</th>\n",
       "      <th>6</th>\n",
       "      <th>7</th>\n",
       "      <th>8</th>\n",
       "    </tr>\n",
       "  </thead>\n",
       "  <tbody>\n",
       "    <tr>\n",
       "      <th>0</th>\n",
       "      <td>Jacob deGrom</td>\n",
       "      <td>NYM</td>\n",
       "      <td>P</td>\n",
       "      <td>61.6</td>\n",
       "      <td>35.0</td>\n",
       "      <td>0.51</td>\n",
       "      <td>15.17</td>\n",
       "      <td>12500</td>\n",
       "      <td>NYM@STL</td>\n",
       "    </tr>\n",
       "  </tbody>\n",
       "</table>\n",
       "</div>"
      ],
      "text/plain": [
       "              0    1  2     3     4     5      6      7        8\n",
       "0  Jacob deGrom  NYM  P  61.6  35.0  0.51  15.17  12500  NYM@STL"
      ]
     },
     "execution_count": 21,
     "metadata": {},
     "output_type": "execute_result"
    }
   ],
   "source": [
    "# try df\n",
    "pd.DataFrame(players)"
   ]
  },
  {
   "cell_type": "code",
   "execution_count": 20,
   "metadata": {},
   "outputs": [],
   "source": [
    "# next to do is clean pitchers df to only show player team position fppg salary game and do same for batter then throw it in this\n",
    "# figure out a way to handle dups\n",
    "# second line up is just next position in .values()\n",
    "# salary test"
   ]
  },
  {
   "cell_type": "code",
   "execution_count": null,
   "metadata": {},
   "outputs": [],
   "source": []
  },
  {
   "cell_type": "code",
   "execution_count": null,
   "metadata": {},
   "outputs": [],
   "source": []
  },
  {
   "cell_type": "markdown",
   "metadata": {},
   "source": [
    "# yahoo"
   ]
  },
  {
   "cell_type": "code",
   "execution_count": 3,
   "metadata": {},
   "outputs": [],
   "source": [
    "# yahoo \n",
    "yahoo = pd.read_csv('../../../../Downloads/Yahoo_DF_player_export (8).csv')"
   ]
  },
  {
   "cell_type": "code",
   "execution_count": 4,
   "metadata": {},
   "outputs": [
    {
     "name": "stdout",
     "output_type": "stream",
     "text": [
      "<class 'pandas.core.frame.DataFrame'>\n",
      "RangeIndex: 499 entries, 0 to 498\n",
      "Data columns (total 13 columns):\n",
      " #   Column            Non-Null Count  Dtype  \n",
      "---  ------            --------------  -----  \n",
      " 0   ID                499 non-null    object \n",
      " 1   First Name        499 non-null    object \n",
      " 2   Last Name         499 non-null    object \n",
      " 3   Position          499 non-null    object \n",
      " 4   Team              499 non-null    object \n",
      " 5   Opponent          499 non-null    object \n",
      " 6   Game              499 non-null    object \n",
      " 7   Time              499 non-null    object \n",
      " 8   Salary            499 non-null    int64  \n",
      " 9   FPPG              499 non-null    float64\n",
      " 10  Probable Pitcher  499 non-null    object \n",
      " 11  Injury Status     499 non-null    object \n",
      " 12  Starting          499 non-null    object \n",
      "dtypes: float64(1), int64(1), object(11)\n",
      "memory usage: 50.8+ KB\n"
     ]
    }
   ],
   "source": [
    "yahoo.info()"
   ]
  },
  {
   "cell_type": "code",
   "execution_count": 5,
   "metadata": {},
   "outputs": [
    {
     "data": {
      "text/plain": [
       "No     260\n",
       "       225\n",
       "Yes     14\n",
       "Name: Probable Pitcher, dtype: int64"
      ]
     },
     "execution_count": 5,
     "metadata": {},
     "output_type": "execute_result"
    }
   ],
   "source": [
    "yahoo['Probable Pitcher'].value_counts()"
   ]
  },
  {
   "cell_type": "code",
   "execution_count": 6,
   "metadata": {},
   "outputs": [],
   "source": [
    "# yahoo naming function\n",
    "def yahoo_name(yahoo):\n",
    "    # create empty list for names\n",
    "    player_list = []\n",
    "    # for each row concat names and append to list \n",
    "    for row in yahoo.index:\n",
    "        player_list.append(yahoo['First Name'][row] + ' ' + yahoo['Last Name'][row])\n",
    "        # make new column for name\n",
    "    yahoo['Player'] = player_list\n",
    "    return yahoo"
   ]
  },
  {
   "cell_type": "code",
   "execution_count": 7,
   "metadata": {},
   "outputs": [],
   "source": [
    "yahoo = yahoo_name(yahoo)"
   ]
  },
  {
   "cell_type": "code",
   "execution_count": 8,
   "metadata": {},
   "outputs": [],
   "source": [
    "def yahoo_pitcher(df,pitchers):    \n",
    "    # create filter for probable pitchers\n",
    "    prob = df['Starting'] == 'Yes'\n",
    "    # create new df\n",
    "    dfp = df[prob]\n",
    "    # rename nickname to name\n",
    "    dfp.rename(columns={'Player':'Name'}, inplace=True)\n",
    "    # merge pitchers and dfp\n",
    "    dfp = dfp.merge(pitchers, how='left', on='Name')\n",
    "    # sort by ERA and include ks and stuff\n",
    "    dfp.sort_values(by=['ERA'], inplace=True)\n",
    "    return dfp[['Name','Team_x', 'FPPG_x', 'IP', 'ERA', 'Salary', 'Game']]"
   ]
  },
  {
   "cell_type": "code",
   "execution_count": 13,
   "metadata": {},
   "outputs": [
    {
     "name": "stderr",
     "output_type": "stream",
     "text": [
      "C:\\Users\\phill\\anaconda3\\lib\\site-packages\\pandas\\core\\frame.py:4296: SettingWithCopyWarning: \n",
      "A value is trying to be set on a copy of a slice from a DataFrame\n",
      "\n",
      "See the caveats in the documentation: https://pandas.pydata.org/pandas-docs/stable/user_guide/indexing.html#returning-a-view-versus-a-copy\n",
      "  return super().rename(\n"
     ]
    },
    {
     "data": {
      "text/html": [
       "<div>\n",
       "<style scoped>\n",
       "    .dataframe tbody tr th:only-of-type {\n",
       "        vertical-align: middle;\n",
       "    }\n",
       "\n",
       "    .dataframe tbody tr th {\n",
       "        vertical-align: top;\n",
       "    }\n",
       "\n",
       "    .dataframe thead th {\n",
       "        text-align: right;\n",
       "    }\n",
       "</style>\n",
       "<table border=\"1\" class=\"dataframe\">\n",
       "  <thead>\n",
       "    <tr style=\"text-align: right;\">\n",
       "      <th></th>\n",
       "      <th>Name</th>\n",
       "      <th>Team_x</th>\n",
       "      <th>FPPG_x</th>\n",
       "      <th>IP</th>\n",
       "      <th>ERA</th>\n",
       "      <th>Salary</th>\n",
       "      <th>Game</th>\n",
       "    </tr>\n",
       "  </thead>\n",
       "  <tbody>\n",
       "    <tr>\n",
       "      <th>10</th>\n",
       "      <td>Danny Duffy</td>\n",
       "      <td>KC</td>\n",
       "      <td>18.0</td>\n",
       "      <td>41.2</td>\n",
       "      <td>1.94</td>\n",
       "      <td>32</td>\n",
       "      <td>KC@CLE</td>\n",
       "    </tr>\n",
       "    <tr>\n",
       "      <th>5</th>\n",
       "      <td>Taijuan Walker</td>\n",
       "      <td>NYM</td>\n",
       "      <td>22.1</td>\n",
       "      <td>54.0</td>\n",
       "      <td>2.17</td>\n",
       "      <td>48</td>\n",
       "      <td>PIT@NYM</td>\n",
       "    </tr>\n",
       "    <tr>\n",
       "      <th>8</th>\n",
       "      <td>Max Scherzer</td>\n",
       "      <td>WAS</td>\n",
       "      <td>27.8</td>\n",
       "      <td>77.0</td>\n",
       "      <td>2.22</td>\n",
       "      <td>52</td>\n",
       "      <td>WAS@SD</td>\n",
       "    </tr>\n",
       "    <tr>\n",
       "      <th>9</th>\n",
       "      <td>Yu Darvish</td>\n",
       "      <td>SD</td>\n",
       "      <td>25.1</td>\n",
       "      <td>72.0</td>\n",
       "      <td>2.25</td>\n",
       "      <td>51</td>\n",
       "      <td>WAS@SD</td>\n",
       "    </tr>\n",
       "    <tr>\n",
       "      <th>2</th>\n",
       "      <td>Tyler Mahle</td>\n",
       "      <td>CIN</td>\n",
       "      <td>20.6</td>\n",
       "      <td>62.1</td>\n",
       "      <td>3.32</td>\n",
       "      <td>44</td>\n",
       "      <td>CIN@MIL</td>\n",
       "    </tr>\n",
       "    <tr>\n",
       "      <th>7</th>\n",
       "      <td>Keegan Akin</td>\n",
       "      <td>BAL</td>\n",
       "      <td>6.3</td>\n",
       "      <td>20.0</td>\n",
       "      <td>3.60</td>\n",
       "      <td>25</td>\n",
       "      <td>TOR@BAL</td>\n",
       "    </tr>\n",
       "    <tr>\n",
       "      <th>3</th>\n",
       "      <td>Adrian Houser</td>\n",
       "      <td>MIL</td>\n",
       "      <td>14.0</td>\n",
       "      <td>59.0</td>\n",
       "      <td>3.66</td>\n",
       "      <td>29</td>\n",
       "      <td>CIN@MIL</td>\n",
       "    </tr>\n",
       "    <tr>\n",
       "      <th>6</th>\n",
       "      <td>Alek Manoah</td>\n",
       "      <td>TOR</td>\n",
       "      <td>21.0</td>\n",
       "      <td>9.1</td>\n",
       "      <td>3.86</td>\n",
       "      <td>41</td>\n",
       "      <td>TOR@BAL</td>\n",
       "    </tr>\n",
       "    <tr>\n",
       "      <th>4</th>\n",
       "      <td>JT Brubaker</td>\n",
       "      <td>PIT</td>\n",
       "      <td>17.4</td>\n",
       "      <td>60.0</td>\n",
       "      <td>3.90</td>\n",
       "      <td>36</td>\n",
       "      <td>PIT@NYM</td>\n",
       "    </tr>\n",
       "    <tr>\n",
       "      <th>1</th>\n",
       "      <td>Adbert Alzolay</td>\n",
       "      <td>CHC</td>\n",
       "      <td>17.1</td>\n",
       "      <td>57.2</td>\n",
       "      <td>4.06</td>\n",
       "      <td>34</td>\n",
       "      <td>PHI@CHC</td>\n",
       "    </tr>\n",
       "    <tr>\n",
       "      <th>0</th>\n",
       "      <td>Zach Eflin</td>\n",
       "      <td>PHI</td>\n",
       "      <td>17.6</td>\n",
       "      <td>68.0</td>\n",
       "      <td>4.10</td>\n",
       "      <td>35</td>\n",
       "      <td>PHI@CHC</td>\n",
       "    </tr>\n",
       "    <tr>\n",
       "      <th>11</th>\n",
       "      <td>Zach Plesac</td>\n",
       "      <td>CLE</td>\n",
       "      <td>15.9</td>\n",
       "      <td>58.2</td>\n",
       "      <td>4.14</td>\n",
       "      <td>38</td>\n",
       "      <td>KC@CLE</td>\n",
       "    </tr>\n",
       "    <tr>\n",
       "      <th>12</th>\n",
       "      <td>Tarik Skubal</td>\n",
       "      <td>DET</td>\n",
       "      <td>16.5</td>\n",
       "      <td>54.0</td>\n",
       "      <td>4.33</td>\n",
       "      <td>39</td>\n",
       "      <td>DET@MIN</td>\n",
       "    </tr>\n",
       "    <tr>\n",
       "      <th>13</th>\n",
       "      <td>J.A. Happ</td>\n",
       "      <td>MIN</td>\n",
       "      <td>10.2</td>\n",
       "      <td>51.1</td>\n",
       "      <td>5.61</td>\n",
       "      <td>29</td>\n",
       "      <td>DET@MIN</td>\n",
       "    </tr>\n",
       "  </tbody>\n",
       "</table>\n",
       "</div>"
      ],
      "text/plain": [
       "              Name Team_x  FPPG_x    IP   ERA  Salary     Game\n",
       "10     Danny Duffy     KC    18.0  41.2  1.94      32   KC@CLE\n",
       "5   Taijuan Walker    NYM    22.1  54.0  2.17      48  PIT@NYM\n",
       "8     Max Scherzer    WAS    27.8  77.0  2.22      52   WAS@SD\n",
       "9       Yu Darvish     SD    25.1  72.0  2.25      51   WAS@SD\n",
       "2      Tyler Mahle    CIN    20.6  62.1  3.32      44  CIN@MIL\n",
       "7      Keegan Akin    BAL     6.3  20.0  3.60      25  TOR@BAL\n",
       "3    Adrian Houser    MIL    14.0  59.0  3.66      29  CIN@MIL\n",
       "6      Alek Manoah    TOR    21.0   9.1  3.86      41  TOR@BAL\n",
       "4      JT Brubaker    PIT    17.4  60.0  3.90      36  PIT@NYM\n",
       "1   Adbert Alzolay    CHC    17.1  57.2  4.06      34  PHI@CHC\n",
       "0       Zach Eflin    PHI    17.6  68.0  4.10      35  PHI@CHC\n",
       "11     Zach Plesac    CLE    15.9  58.2  4.14      38   KC@CLE\n",
       "12    Tarik Skubal    DET    16.5  54.0  4.33      39  DET@MIN\n",
       "13       J.A. Happ    MIN    10.2  51.1  5.61      29  DET@MIN"
      ]
     },
     "execution_count": 13,
     "metadata": {},
     "output_type": "execute_result"
    }
   ],
   "source": [
    "yahoo_pitcher(yahoo, pitchers)"
   ]
  },
  {
   "cell_type": "code",
   "execution_count": 14,
   "metadata": {},
   "outputs": [],
   "source": [
    "def yahoo_batters(df, batters):\n",
    "    # filter to just hitters\n",
    "    hits = df['Position'] != 'P'\n",
    "    #overwrite df\n",
    "    df = df[hits]\n",
    "    # change nick name to name\n",
    "    df.rename(columns={'Player':'Name'}, inplace=True)\n",
    "    # merge \n",
    "    dfb = df.merge(batters, how='left', on='Name')\n",
    "    return dfb"
   ]
  },
  {
   "cell_type": "code",
   "execution_count": 15,
   "metadata": {},
   "outputs": [],
   "source": [
    "# create list for fitler, use teams that are facing bad pitcher\n",
    "team_list = ['NYY', 'CWS', 'DET', 'OAK']"
   ]
  },
  {
   "cell_type": "code",
   "execution_count": 16,
   "metadata": {},
   "outputs": [],
   "source": [
    "def team_batter2(team_list, dfb):\n",
    "    # create filter with list\n",
    "    team_filter = (dfb['Team'] == team_list[0]) | (dfb['Team'] == team_list[1]) |(dfb['Team'] == team_list[2]) |(dfb['Team'] == team_list[3])\n",
    "    # new df with filter\n",
    "    dfb2 = dfb[team_filter]\n",
    "    # sort values by iso\n",
    "    dfb2.sort_values(by=['SLG'], inplace=True, ascending=False, ignore_index=True)\n",
    "    # handle injuries\n",
    "    #dfb2['Injury Indicator'].fillna(0, inplace=True)\n",
    "    # filter by injury = 0, overwrite existing dfb2\n",
    "    #dfb2 = dfb2[dfb2['Injury Indicator'] == 0]\n",
    "    # output just those values and salary\n",
    "    return dfb2[['Name', 'Team', 'Position','FPPG_x', 'SLG',  'Salary']]"
   ]
  },
  {
   "cell_type": "code",
   "execution_count": 17,
   "metadata": {},
   "outputs": [
    {
     "name": "stderr",
     "output_type": "stream",
     "text": [
      "C:\\Users\\phill\\anaconda3\\lib\\site-packages\\pandas\\core\\frame.py:4296: SettingWithCopyWarning: \n",
      "A value is trying to be set on a copy of a slice from a DataFrame\n",
      "\n",
      "See the caveats in the documentation: https://pandas.pydata.org/pandas-docs/stable/user_guide/indexing.html#returning-a-view-versus-a-copy\n",
      "  return super().rename(\n"
     ]
    },
    {
     "ename": "KeyError",
     "evalue": "'Team'",
     "output_type": "error",
     "traceback": [
      "\u001b[1;31m---------------------------------------------------------------------------\u001b[0m",
      "\u001b[1;31mKeyError\u001b[0m                                  Traceback (most recent call last)",
      "\u001b[1;32m~\\anaconda3\\lib\\site-packages\\pandas\\core\\indexes\\base.py\u001b[0m in \u001b[0;36mget_loc\u001b[1;34m(self, key, method, tolerance)\u001b[0m\n\u001b[0;32m   2894\u001b[0m             \u001b[1;32mtry\u001b[0m\u001b[1;33m:\u001b[0m\u001b[1;33m\u001b[0m\u001b[1;33m\u001b[0m\u001b[0m\n\u001b[1;32m-> 2895\u001b[1;33m                 \u001b[1;32mreturn\u001b[0m \u001b[0mself\u001b[0m\u001b[1;33m.\u001b[0m\u001b[0m_engine\u001b[0m\u001b[1;33m.\u001b[0m\u001b[0mget_loc\u001b[0m\u001b[1;33m(\u001b[0m\u001b[0mcasted_key\u001b[0m\u001b[1;33m)\u001b[0m\u001b[1;33m\u001b[0m\u001b[1;33m\u001b[0m\u001b[0m\n\u001b[0m\u001b[0;32m   2896\u001b[0m             \u001b[1;32mexcept\u001b[0m \u001b[0mKeyError\u001b[0m \u001b[1;32mas\u001b[0m \u001b[0merr\u001b[0m\u001b[1;33m:\u001b[0m\u001b[1;33m\u001b[0m\u001b[1;33m\u001b[0m\u001b[0m\n",
      "\u001b[1;32mpandas\\_libs\\index.pyx\u001b[0m in \u001b[0;36mpandas._libs.index.IndexEngine.get_loc\u001b[1;34m()\u001b[0m\n",
      "\u001b[1;32mpandas\\_libs\\index.pyx\u001b[0m in \u001b[0;36mpandas._libs.index.IndexEngine.get_loc\u001b[1;34m()\u001b[0m\n",
      "\u001b[1;32mpandas\\_libs\\hashtable_class_helper.pxi\u001b[0m in \u001b[0;36mpandas._libs.hashtable.PyObjectHashTable.get_item\u001b[1;34m()\u001b[0m\n",
      "\u001b[1;32mpandas\\_libs\\hashtable_class_helper.pxi\u001b[0m in \u001b[0;36mpandas._libs.hashtable.PyObjectHashTable.get_item\u001b[1;34m()\u001b[0m\n",
      "\u001b[1;31mKeyError\u001b[0m: 'Team'",
      "\nThe above exception was the direct cause of the following exception:\n",
      "\u001b[1;31mKeyError\u001b[0m                                  Traceback (most recent call last)",
      "\u001b[1;32m<ipython-input-17-054c2c3e2bd1>\u001b[0m in \u001b[0;36m<module>\u001b[1;34m\u001b[0m\n\u001b[1;32m----> 1\u001b[1;33m \u001b[0mteam_batter2\u001b[0m\u001b[1;33m(\u001b[0m\u001b[0mteam_list\u001b[0m\u001b[1;33m,\u001b[0m\u001b[0myahoo_batters\u001b[0m\u001b[1;33m(\u001b[0m\u001b[0myahoo\u001b[0m\u001b[1;33m,\u001b[0m \u001b[0mbatters\u001b[0m\u001b[1;33m)\u001b[0m\u001b[1;33m)\u001b[0m\u001b[1;33m\u001b[0m\u001b[1;33m\u001b[0m\u001b[0m\n\u001b[0m",
      "\u001b[1;32m<ipython-input-16-61d41b150821>\u001b[0m in \u001b[0;36mteam_batter2\u001b[1;34m(team_list, dfb)\u001b[0m\n\u001b[0;32m      1\u001b[0m \u001b[1;32mdef\u001b[0m \u001b[0mteam_batter2\u001b[0m\u001b[1;33m(\u001b[0m\u001b[0mteam_list\u001b[0m\u001b[1;33m,\u001b[0m \u001b[0mdfb\u001b[0m\u001b[1;33m)\u001b[0m\u001b[1;33m:\u001b[0m\u001b[1;33m\u001b[0m\u001b[1;33m\u001b[0m\u001b[0m\n\u001b[0;32m      2\u001b[0m     \u001b[1;31m# create filter with list\u001b[0m\u001b[1;33m\u001b[0m\u001b[1;33m\u001b[0m\u001b[1;33m\u001b[0m\u001b[0m\n\u001b[1;32m----> 3\u001b[1;33m     \u001b[0mteam_filter\u001b[0m \u001b[1;33m=\u001b[0m \u001b[1;33m(\u001b[0m\u001b[0mdfb\u001b[0m\u001b[1;33m[\u001b[0m\u001b[1;34m'Team'\u001b[0m\u001b[1;33m]\u001b[0m \u001b[1;33m==\u001b[0m \u001b[0mteam_list\u001b[0m\u001b[1;33m[\u001b[0m\u001b[1;36m0\u001b[0m\u001b[1;33m]\u001b[0m\u001b[1;33m)\u001b[0m \u001b[1;33m|\u001b[0m \u001b[1;33m(\u001b[0m\u001b[0mdfb\u001b[0m\u001b[1;33m[\u001b[0m\u001b[1;34m'Team'\u001b[0m\u001b[1;33m]\u001b[0m \u001b[1;33m==\u001b[0m \u001b[0mteam_list\u001b[0m\u001b[1;33m[\u001b[0m\u001b[1;36m1\u001b[0m\u001b[1;33m]\u001b[0m\u001b[1;33m)\u001b[0m \u001b[1;33m|\u001b[0m\u001b[1;33m(\u001b[0m\u001b[0mdfb\u001b[0m\u001b[1;33m[\u001b[0m\u001b[1;34m'Team'\u001b[0m\u001b[1;33m]\u001b[0m \u001b[1;33m==\u001b[0m \u001b[0mteam_list\u001b[0m\u001b[1;33m[\u001b[0m\u001b[1;36m2\u001b[0m\u001b[1;33m]\u001b[0m\u001b[1;33m)\u001b[0m \u001b[1;33m|\u001b[0m\u001b[1;33m(\u001b[0m\u001b[0mdfb\u001b[0m\u001b[1;33m[\u001b[0m\u001b[1;34m'Team'\u001b[0m\u001b[1;33m]\u001b[0m \u001b[1;33m==\u001b[0m \u001b[0mteam_list\u001b[0m\u001b[1;33m[\u001b[0m\u001b[1;36m3\u001b[0m\u001b[1;33m]\u001b[0m\u001b[1;33m)\u001b[0m\u001b[1;33m\u001b[0m\u001b[1;33m\u001b[0m\u001b[0m\n\u001b[0m\u001b[0;32m      4\u001b[0m     \u001b[1;31m# new df with filter\u001b[0m\u001b[1;33m\u001b[0m\u001b[1;33m\u001b[0m\u001b[1;33m\u001b[0m\u001b[0m\n\u001b[0;32m      5\u001b[0m     \u001b[0mdfb2\u001b[0m \u001b[1;33m=\u001b[0m \u001b[0mdfb\u001b[0m\u001b[1;33m[\u001b[0m\u001b[0mteam_filter\u001b[0m\u001b[1;33m]\u001b[0m\u001b[1;33m\u001b[0m\u001b[1;33m\u001b[0m\u001b[0m\n",
      "\u001b[1;32m~\\anaconda3\\lib\\site-packages\\pandas\\core\\frame.py\u001b[0m in \u001b[0;36m__getitem__\u001b[1;34m(self, key)\u001b[0m\n\u001b[0;32m   2900\u001b[0m             \u001b[1;32mif\u001b[0m \u001b[0mself\u001b[0m\u001b[1;33m.\u001b[0m\u001b[0mcolumns\u001b[0m\u001b[1;33m.\u001b[0m\u001b[0mnlevels\u001b[0m \u001b[1;33m>\u001b[0m \u001b[1;36m1\u001b[0m\u001b[1;33m:\u001b[0m\u001b[1;33m\u001b[0m\u001b[1;33m\u001b[0m\u001b[0m\n\u001b[0;32m   2901\u001b[0m                 \u001b[1;32mreturn\u001b[0m \u001b[0mself\u001b[0m\u001b[1;33m.\u001b[0m\u001b[0m_getitem_multilevel\u001b[0m\u001b[1;33m(\u001b[0m\u001b[0mkey\u001b[0m\u001b[1;33m)\u001b[0m\u001b[1;33m\u001b[0m\u001b[1;33m\u001b[0m\u001b[0m\n\u001b[1;32m-> 2902\u001b[1;33m             \u001b[0mindexer\u001b[0m \u001b[1;33m=\u001b[0m \u001b[0mself\u001b[0m\u001b[1;33m.\u001b[0m\u001b[0mcolumns\u001b[0m\u001b[1;33m.\u001b[0m\u001b[0mget_loc\u001b[0m\u001b[1;33m(\u001b[0m\u001b[0mkey\u001b[0m\u001b[1;33m)\u001b[0m\u001b[1;33m\u001b[0m\u001b[1;33m\u001b[0m\u001b[0m\n\u001b[0m\u001b[0;32m   2903\u001b[0m             \u001b[1;32mif\u001b[0m \u001b[0mis_integer\u001b[0m\u001b[1;33m(\u001b[0m\u001b[0mindexer\u001b[0m\u001b[1;33m)\u001b[0m\u001b[1;33m:\u001b[0m\u001b[1;33m\u001b[0m\u001b[1;33m\u001b[0m\u001b[0m\n\u001b[0;32m   2904\u001b[0m                 \u001b[0mindexer\u001b[0m \u001b[1;33m=\u001b[0m \u001b[1;33m[\u001b[0m\u001b[0mindexer\u001b[0m\u001b[1;33m]\u001b[0m\u001b[1;33m\u001b[0m\u001b[1;33m\u001b[0m\u001b[0m\n",
      "\u001b[1;32m~\\anaconda3\\lib\\site-packages\\pandas\\core\\indexes\\base.py\u001b[0m in \u001b[0;36mget_loc\u001b[1;34m(self, key, method, tolerance)\u001b[0m\n\u001b[0;32m   2895\u001b[0m                 \u001b[1;32mreturn\u001b[0m \u001b[0mself\u001b[0m\u001b[1;33m.\u001b[0m\u001b[0m_engine\u001b[0m\u001b[1;33m.\u001b[0m\u001b[0mget_loc\u001b[0m\u001b[1;33m(\u001b[0m\u001b[0mcasted_key\u001b[0m\u001b[1;33m)\u001b[0m\u001b[1;33m\u001b[0m\u001b[1;33m\u001b[0m\u001b[0m\n\u001b[0;32m   2896\u001b[0m             \u001b[1;32mexcept\u001b[0m \u001b[0mKeyError\u001b[0m \u001b[1;32mas\u001b[0m \u001b[0merr\u001b[0m\u001b[1;33m:\u001b[0m\u001b[1;33m\u001b[0m\u001b[1;33m\u001b[0m\u001b[0m\n\u001b[1;32m-> 2897\u001b[1;33m                 \u001b[1;32mraise\u001b[0m \u001b[0mKeyError\u001b[0m\u001b[1;33m(\u001b[0m\u001b[0mkey\u001b[0m\u001b[1;33m)\u001b[0m \u001b[1;32mfrom\u001b[0m \u001b[0merr\u001b[0m\u001b[1;33m\u001b[0m\u001b[1;33m\u001b[0m\u001b[0m\n\u001b[0m\u001b[0;32m   2898\u001b[0m \u001b[1;33m\u001b[0m\u001b[0m\n\u001b[0;32m   2899\u001b[0m         \u001b[1;32mif\u001b[0m \u001b[0mtolerance\u001b[0m \u001b[1;32mis\u001b[0m \u001b[1;32mnot\u001b[0m \u001b[1;32mNone\u001b[0m\u001b[1;33m:\u001b[0m\u001b[1;33m\u001b[0m\u001b[1;33m\u001b[0m\u001b[0m\n",
      "\u001b[1;31mKeyError\u001b[0m: 'Team'"
     ]
    }
   ],
   "source": [
    "team_batter2(team_list,yahoo_batters(yahoo, batters))"
   ]
  },
  {
   "cell_type": "code",
   "execution_count": null,
   "metadata": {},
   "outputs": [],
   "source": []
  }
 ],
 "metadata": {
  "kernelspec": {
   "display_name": "Python 3",
   "language": "python",
   "name": "python3"
  },
  "language_info": {
   "codemirror_mode": {
    "name": "ipython",
    "version": 3
   },
   "file_extension": ".py",
   "mimetype": "text/x-python",
   "name": "python",
   "nbconvert_exporter": "python",
   "pygments_lexer": "ipython3",
   "version": "3.8.5"
  }
 },
 "nbformat": 4,
 "nbformat_minor": 4
}
